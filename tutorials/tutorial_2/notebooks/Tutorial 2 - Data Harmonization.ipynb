{
 "cells": [
  {
   "cell_type": "markdown",
   "metadata": {},
   "source": [
    "# Tutorial 2 - Multi-cohort Data Harmonization"
   ]
  },
  {
   "cell_type": "markdown",
   "metadata": {},
   "source": [
    "Demonstrate how to script out data harmonization, cohort import, and reusable ETLs with the Rhino Health Python SDK"
   ]
  },
  {
   "cell_type": "markdown",
   "metadata": {},
   "source": [
    "### 1. Install the Rhino Health Python SDK"
   ]
  },
  {
   "cell_type": "code",
   "execution_count": null,
   "metadata": {},
   "outputs": [],
   "source": [
    "from IPython.display import display, HTML\n",
    "display(HTML(\"<style>.container { width:100% !important; }</style>\"))\n",
    "! pip install rhino_health"
   ]
  },
  {
   "cell_type": "markdown",
   "metadata": {},
   "source": [
    "### 2. Initialization and Login"
   ]
  },
  {
   "cell_type": "code",
   "execution_count": null,
   "metadata": {},
   "outputs": [],
   "source": [
    "import pandas as pd\n",
    "from datetime import datetime\n",
    "import os\n",
    "import sys\n",
    "from pathlib import Path\n",
    "import getpass\n",
    "\n",
    "import rhino_health as rh\n",
    "from rhino_health.lib.endpoints.cohort.cohort_dataclass import CohortCreateInput\n",
    "from rhino_health.lib.endpoints.aimodel.aimodel_dataclass import (\n",
    "    AIModel,\n",
    "    AIModelCreateInput,\n",
    "    ModelTypes,\n",
    "    AIModelRunInput,\n",
    ")"
   ]
  },
  {
   "cell_type": "markdown",
   "metadata": {},
   "source": [
    "#### Replace the Values with the following Variables below\n",
    "1. my_nusername - This should be your username that you use to log into the Rhino Health Platform\n",
    "2. my_password - This should be your password that you use to log into the Rhino Health Platform\n",
    "3. ecr_base_url - Remove your ECR workgroup from the URL you were given and put that value here. It should be of the form `XXXXXXXXXXXXXX.dkr.ecr.<aws-region>.amazonaws.com` where aws-region might be us-east-1 or something similar\n",
    "4. project_uid - Copy the UID from the project you just created in the UI by navigating to the homepage, pressing on the three verticle dot button in your project's square and then selecting the button _Copy UID_."
   ]
  },
  {
   "cell_type": "code",
   "execution_count": null,
   "metadata": {},
   "outputs": [],
   "source": [
    "my_username = 'USERNAME'\n",
    "ecr_base_uri = \"XXXXXXXXXXXX.dkr.ecr.us-east-1.amazonaws.com\"\n",
    "project_uid = \"XXXXXXXXX-XXXX-XXXX-XXXX-XXXXXXXXXXXX\" # Paste your project uid here as a string\n",
    "\n",
    "print(\"Logging In\")\n",
    "session = rh.login(username=my_username, password=getpass.getpass())\n",
    "print(\"Logged In\")"
   ]
  },
  {
   "cell_type": "markdown",
   "metadata": {},
   "source": [
    "### 3. Import Cohorts:"
   ]
  },
  {
   "cell_type": "markdown",
   "metadata": {},
   "source": [
    "#### Collect all Necessary Parameters for Importing your cohort:"
   ]
  },
  {
   "cell_type": "code",
   "execution_count": null,
   "metadata": {},
   "outputs": [],
   "source": [
    "workgroup = session.project.get_collaborating_workgroups(project_uid)[0]\n",
    "dataschema = session.project.get_data_schemas(project_uid)[0]\n",
    "print(f\"Loaded dataschema '{dataschema.name}' with uid '{dataschema.uid}'\")\n",
    "\n",
    "# Change these paths according to where you placed the files on your client\n",
    "cohort1_path = \"/rhino_data/tutorial_2/cohorts/site1_part1_cohort_data.csv\"\n",
    "cohort2_path = \"/rhino_data/tutorial_2/cohorts/site2_part1_cohort_data.csv\"\n",
    "cohort3_path = \"/rhino_data/tutorial_2/cohorts/site3_part1_cohort_data.csv\""
   ]
  },
  {
   "cell_type": "markdown",
   "metadata": {},
   "source": [
    "#### Trigger cohort import"
   ]
  },
  {
   "cell_type": "code",
   "execution_count": null,
   "metadata": {},
   "outputs": [],
   "source": [
    "cohort_creation_params = CohortCreateInput(\n",
    "    name=\"Site 1 Cohort\",\n",
    "    description=\"Diabetes cohort for site 1\",\n",
    "    project_uid=project_uid, \n",
    "    workgroup_uid=workgroup.uid,\n",
    "    data_schema_uid=dataschema.uid,\n",
    "    csv_filesystem_location=cohort1_path,\n",
    "    is_data_deidentified=True,\n",
    "    method=\"filesystem\",\n",
    ")\n",
    "\n",
    "site1_cohort = session.cohort.add_cohort(cohort_creation_params)\n",
    "print(f\"Created new cohort '{site1_cohort.name}' with uid '{site1_cohort.uid}'\")\n",
    "\n",
    "cohort_creation_params = CohortCreateInput(\n",
    "    name=\"Site 2 Cohort\",\n",
    "    description=\"Diabetes cohort for site 2\",\n",
    "    project_uid=project_uid, \n",
    "    workgroup_uid=workgroup.uid,\n",
    "    data_schema_uid=dataschema.uid,\n",
    "    csv_filesystem_location=cohort2_path,\n",
    "    is_data_deidentified=True,\n",
    "    method=\"filesystem\",\n",
    ")\n",
    "\n",
    "site2_cohort = session.cohort.add_cohort(cohort_creation_params)\n",
    "print(f\"Created new cohort '{site2_cohort.name}' with uid '{site2_cohort.uid}'\")\n",
    "\n",
    "cohort_creation_params = CohortCreateInput(\n",
    "    name=\"Site 3 Cohort\",\n",
    "    description=\"Diabetes cohort for site 3\",\n",
    "    project_uid=project_uid, \n",
    "    workgroup_uid=workgroup.uid,\n",
    "    data_schema_uid=dataschema.uid,\n",
    "    csv_filesystem_location=cohort3_path,\n",
    "    is_data_deidentified=True,\n",
    "    method=\"filesystem\",\n",
    ")\n",
    "\n",
    "site3_cohort = session.cohort.add_cohort(cohort_creation_params)\n",
    "print(f\"Created new cohort '{site3_cohort.name}' with uid '{site3_cohort.uid}'\")\n",
    "print(\"You should now have 3 new cohorts in the project within the GUI. Feel free to take a look!\")"
   ]
  },
  {
   "cell_type": "markdown",
   "metadata": {},
   "source": [
    "### 4. Harmonize Cohorts Using Containerless GC\n",
    "By reviewing the cohort analytics on the GUI, you can see several inconsistencies across the 3 cohorts (specifically for 'Outcome', 'Weight', 'Height' and 'SkinThickness'). These kinds of inconsistencies can often occur when collecting data from multiple sources. \n",
    "\n",
    "In this next part, you will use simple pandas operations to produce harmonized versions of these cohorts. "
   ]
  },
  {
   "cell_type": "markdown",
   "metadata": {},
   "source": [
    "#### 4.1 Define harmonization code for each cohort"
   ]
  },
  {
   "cell_type": "code",
   "execution_count": null,
   "metadata": {},
   "outputs": [],
   "source": [
    "site_1_code = \"df.replace({'Outcome': { 'Positive': 1, 'Negative': 0}}, inplace=True)\\ndf.Weight = round(df.Weight*0.453592, 0).astype(int)\"\n",
    "site_2_code = \"df['SkinThickness'] = df['SkinThickness']*100\\ndf['Height'] = df['Height']/100\"\n",
    "site_3_code = \"df.replace({'Outcome': { 'Positive': 1, 'Negative': 0}},inplace=True)\\ndf['Pregnancies'].replace('None', 0, inplace=True)\""
   ]
  },
  {
   "cell_type": "markdown",
   "metadata": {},
   "source": [
    "#### 4.3 Site 1 Data Harmonization by Defining a Run of Our AI Model"
   ]
  },
  {
   "cell_type": "code",
   "execution_count": null,
   "metadata": {},
   "outputs": [],
   "source": [
    "print(\"Starting to run harmonization on site 1 data\")\n",
    "output_cohort, run_results = site1_cohort.run_code(site_1_code, output_data_schema_uid=dataschema.uid, output_cohort_names_suffix=\" Fixed\")\n",
    "print(\"Finished running harmonization on site 1 data\")\n",
    "\n",
    "print(\"You can now see a new cohort in the GUI named 'Site 1 Cohort Fixed'\")\n",
    "print(\"View the Results below\")\n",
    "run_results.raw_response().json()"
   ]
  },
  {
   "cell_type": "markdown",
   "metadata": {},
   "source": [
    "#### 4.4 Site 2 Data Harmonization"
   ]
  },
  {
   "cell_type": "code",
   "execution_count": null,
   "metadata": {},
   "outputs": [],
   "source": [
    "print(\"Starting to run harmonization on site 2 data\")\n",
    "output_cohort, run_results = site2_cohort.run_code(site_2_code, output_data_schema_uid=dataschema.uid, output_cohort_names_suffix=\" Fixed\")\n",
    "print(\"Finished running harmonization on site 2 data\")\n",
    "\n",
    "print(\"You can now see a new cohort in the GUI named 'Site 2 Cohort Fixed'\")\n",
    "print(\"View the Results below\")\n",
    "run_results.raw_response().json()"
   ]
  },
  {
   "cell_type": "markdown",
   "metadata": {},
   "source": [
    "#### 4.5 Site 3 Data Harmonization"
   ]
  },
  {
   "cell_type": "code",
   "execution_count": null,
   "metadata": {},
   "outputs": [],
   "source": [
    "print(\"Starting to run harmonization on site 3 data\")\n",
    "output_cohort, run_results = site3_cohort.run_code(site_3_code, output_data_schema_uid=dataschema.uid, output_cohort_names_suffix=\" Fixed\")\n",
    "print(\"Finished running harmonization on site 3 data\")\n",
    "\n",
    "print(\"You can now see a new cohort in the GUI named 'Site 3 Cohort Fixed'\")\n",
    "print(\"View the Results below\")\n",
    "run_results.raw_response().json()"
   ]
  },
  {
   "cell_type": "markdown",
   "metadata": {},
   "source": [
    "### 5. Import updated cohorts\n",
    "\n",
    "Now let's imagine you have some updated data (*_part_2.csv files). That you would like to harmonize in a similar fashion. Making simple modifications to the code above we can harmonize the new data with little effort.\n",
    "\n",
    "First let's import the updated data as new cohorts."
   ]
  },
  {
   "cell_type": "code",
   "execution_count": null,
   "metadata": {},
   "outputs": [],
   "source": [
    "# Replace the paths here according to where you placed the files on you client\n",
    "cohort1_part2_path = \"/rhino_data/tutorial_2/cohorts/site1_part2_cohort_data.csv\"\n",
    "cohort2_part2_path = \"/rhino_data/tutorial_2/cohorts/site2_part2_cohort_data.csv\"\n",
    "cohort3_part2_path = \"/rhino_data/tutorial_2/cohorts/site3_part2_cohort_data.csv\""
   ]
  },
  {
   "cell_type": "code",
   "execution_count": null,
   "metadata": {},
   "outputs": [],
   "source": [
    "cohort_creation_params = CohortCreateInput(\n",
    "    name=\"Site 1 Cohort - Part 2\",\n",
    "    description=\"Updated diabetes cohort for site 1 - part 2\",\n",
    "    project_uid=project_uid, \n",
    "    workgroup_uid=workgroup.uid,\n",
    "    data_schema_uid=dataschema.uid,\n",
    "    csv_filesystem_location=cohort1_part2_path,\n",
    "    is_data_deidentified=True,\n",
    "    method=\"filesystem\",\n",
    ")\n",
    "site1_part2_cohort = session.cohort.add_cohort(cohort_creation_params)\n",
    "print(f\"Created new cohort '{site1_part2_cohort.name}' with uid '{site1_part2_cohort.uid}'\")\n",
    "\n",
    "cohort_creation_params = CohortCreateInput(\n",
    "    name=\"Site 2 Cohort - Part 2\",\n",
    "    description=\"Updated diabetes cohort for site 2 - part 2\",\n",
    "    project_uid=project_uid, \n",
    "    workgroup_uid=workgroup.uid,\n",
    "    data_schema_uid=dataschema.uid,\n",
    "    csv_filesystem_location=cohort2_part2_path,\n",
    "    is_data_deidentified=True,\n",
    "    method=\"filesystem\",\n",
    ")\n",
    "site2_part2_cohort = session.cohort.add_cohort(cohort_creation_params)\n",
    "print(f\"Created new cohort '{site2_part2_cohort.name}' with uid '{site2_part2_cohort.uid}'\")\n",
    "\n",
    "cohort_creation_params = CohortCreateInput(\n",
    "    name=\"Site 3 Cohort - Part 2\",\n",
    "    description=\"Updated diabetes cohort for site 3 - part 2\",\n",
    "    project_uid=project_uid, \n",
    "    workgroup_uid=workgroup.uid,\n",
    "    data_schema_uid=dataschema.uid,\n",
    "    csv_filesystem_location=cohort3_part2_path,\n",
    "    is_data_deidentified=True,\n",
    "    method=\"filesystem\",\n",
    ")\n",
    "site3_part2_cohort = session.cohort.add_cohort(cohort_creation_params)\n",
    "print(f\"Created new cohort '{site3_part2_cohort.name}' with uid '{site3_part2_cohort.uid}'\")"
   ]
  },
  {
   "cell_type": "markdown",
   "metadata": {},
   "source": [
    "### 6. Harmonize data reusing the previous harmonization code\n",
    "The new Part 2 cohorts suffer from the same inconsistencies as the Part 1 cohorts.\n",
    "You can easily fix this by running the same preprocessing code you have defined eariler:"
   ]
  },
  {
   "cell_type": "code",
   "execution_count": null,
   "metadata": {},
   "outputs": [],
   "source": [
    "# Site 1\n",
    "print(\"Starting to run harmonization on site 1 - part 2 data\")\n",
    "output_cohort, run_results = site1_part2_cohort.run_code(site_1_code, output_data_schema_uid=dataschema.uid, output_cohort_names_suffix=\" Fixed\")\n",
    "print(\"Finished running harmonization on site 1 - part 2 data\")\n",
    "print(\"You can now see a new cohort in the GUI named 'Site 1 Cohort - Part 2 Fixed'\")\n",
    "\n",
    "# Site 2\n",
    "print(\"Starting to run harmonization on site 2 - part 2 data\")\n",
    "output_cohort, run_results = site2_part2_cohort.run_code(site_1_code, output_data_schema_uid=dataschema.uid, output_cohort_names_suffix=\" Fixed\")\n",
    "print(\"Finished running harmonization on site 2 - part 2 data\")\n",
    "print(\"You can now see a new cohort in the GUI named 'Site 2 Cohort - Part 2 Fixed'\")\n",
    "\n",
    "# Site 3\n",
    "print(\"Starting to run harmonization on site 3 - part 2 data\")\n",
    "output_cohort, run_results = site3_part2_cohort.run_code(site_1_code, output_data_schema_uid=dataschema.uid, output_cohort_names_suffix=\" Fixed\")\n",
    "print(\"Finished running harmonization on site 3 - part 2 data\")\n",
    "print(\"You can now see a new cohort in the GUI named 'Site 3 Cohort - Part 2 Fixed'\")"
   ]
  },
  {
   "cell_type": "markdown",
   "metadata": {},
   "source": [
    "#### Your datasets are now harmonized! Use the filters on the Cohort Analytics tab in the GUI to visualize the results.\n",
    "# End of tutorial 2! "
   ]
  }
 ],
 "metadata": {
  "interpreter": {
   "hash": "ea36e90180f06760986bd6fecd67145628b34e1a47c899363f0c1bc3723b58f0"
  },
  "kernelspec": {
   "display_name": "Python 3 (ipykernel)",
   "language": "python",
   "name": "python3"
  },
  "language_info": {
   "codemirror_mode": {
    "name": "ipython",
    "version": 3
   },
   "file_extension": ".py",
   "mimetype": "text/x-python",
   "name": "python",
   "nbconvert_exporter": "python",
   "pygments_lexer": "ipython3",
   "version": "3.9.13"
  }
 },
 "nbformat": 4,
 "nbformat_minor": 2
}
