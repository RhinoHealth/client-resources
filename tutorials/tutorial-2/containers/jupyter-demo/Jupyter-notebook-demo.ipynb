{
 "cells": [
  {
   "cell_type": "markdown",
   "id": "6a6543d6",
   "metadata": {},
   "source": [
    "### Import dependencies"
   ]
  },
  {
   "cell_type": "code",
   "execution_count": 1,
   "id": "c65e3b9d",
   "metadata": {},
   "outputs": [],
   "source": [
    "import pandas as pd\n",
    "import numpy as np\n",
    "import seaborn as sns\n",
    "import matplotlib.pyplot as plt\n",
    "from sklearn.preprocessing import StandardScaler\n",
    "from sklearn.cluster import KMeans\n",
    "from sklearn.decomposition import PCA"
   ]
  },
  {
   "cell_type": "markdown",
   "id": "377e2b2d",
   "metadata": {},
   "source": [
    "### Load data"
   ]
  },
  {
   "cell_type": "code",
   "execution_count": null,
   "id": "fcc36ade",
   "metadata": {},
   "outputs": [],
   "source": [
    "df = pd.read_csv('/input/cohort_data.csv')"
   ]
  },
  {
   "cell_type": "markdown",
   "id": "912cf9c5",
   "metadata": {},
   "source": [
    "### Exploratory Data Analysis"
   ]
  },
  {
   "cell_type": "code",
   "execution_count": null,
   "id": "865c4b55",
   "metadata": {},
   "outputs": [],
   "source": [
    "df.head()"
   ]
  },
  {
   "cell_type": "code",
   "execution_count": null,
   "id": "b44ba76b",
   "metadata": {},
   "outputs": [],
   "source": [
    "df.describe()"
   ]
  },
  {
   "cell_type": "code",
   "execution_count": null,
   "id": "92f2cf92",
   "metadata": {},
   "outputs": [],
   "source": [
    "sns.jointplot(x=df.Weight, y=df.BloodPressure, hue=df.Outcome)"
   ]
  },
  {
   "cell_type": "code",
   "execution_count": null,
   "id": "57227d5a",
   "metadata": {},
   "outputs": [],
   "source": [
    "X = df.drop('Outcome', axis=1)\n",
    "scaler = StandardScaler()\n",
    "X_scaled = scaler.fit_transform(X)\n",
    "pca = PCA(n_components=2).fit(X_scaled)\n",
    "pca_coordinates = pca.transform(X_scaled)\n",
    "kmeans = KMeans(n_clusters=3, n_init=1).fit(pca_coordinates)\n",
    "\n",
    "df_pca_kmeans = pd.concat([df.reset_index(drop = True), pd.DataFrame(pca_coordinates)], axis = 1)\n",
    "df_pca_kmeans.columns.values[-2:] = ['Component 1', 'Component 2']"
   ]
  },
  {
   "cell_type": "code",
   "execution_count": null,
   "id": "cab68de2",
   "metadata": {},
   "outputs": [],
   "source": [
    "x_axis = df_pca_kmeans['Component 1']\n",
    "y_axis = df_pca_kmeans['Component 2']\n",
    "\n",
    "plt.figure(figsize=(10, 8))\n",
    "sns.scatterplot(x=x_axis, y=y_axis, hue=df.Outcome)"
   ]
  }
 ],
 "metadata": {
  "kernelspec": {
   "display_name": "Python 3 (ipykernel)",
   "language": "python",
   "name": "python3"
  },
  "language_info": {
   "codemirror_mode": {
    "name": "ipython",
    "version": 3
   },
   "file_extension": ".py",
   "mimetype": "text/x-python",
   "name": "python",
   "nbconvert_exporter": "python",
   "pygments_lexer": "ipython3",
   "version": "3.9.7"
  }
 },
 "nbformat": 4,
 "nbformat_minor": 5
}
