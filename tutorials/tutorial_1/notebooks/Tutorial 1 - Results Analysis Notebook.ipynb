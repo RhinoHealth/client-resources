{
 "cells": [
  {
   "cell_type": "markdown",
   "metadata": {
    "id": "ipvdCHH-debS"
   },
   "source": [
    "# Tutorial 1 Pneumonia Model - ROC Analysis\n",
    "\n",
    "### Load all necessary libraries, including 'rhino_health'"
   ]
  },
  {
   "cell_type": "code",
   "execution_count": null,
   "metadata": {
    "id": "3331eV13debU"
   },
   "outputs": [],
   "source": [
    "import pandas as pd\n",
    "import numpy as np\n",
    "import matplotlib.axes\n",
    "import matplotlib.figure\n",
    "import matplotlib.pyplot as plt\n",
    "from PIL import Image\n",
    "import os\n",
    "import sys\n",
    "import getpass\n",
    "import json\n",
    "import io\n",
    "import base64\n",
    "\n",
    "import rhino_health as rh\n",
    "from rhino_health.lib.metrics import RocAuc, RocAucWithCI\n",
    "\n"
   ]
  },
  {
   "cell_type": "markdown",
   "metadata": {
    "id": "w7KzH5kpdebU"
   },
   "source": [
    "### Log in to the Rhino Health Platform\n",
    "\n",
    "**Replace the Values with the following Variables below**\n",
    "\n",
    "1. my_nusername - This should be your username that you use to log into the Rhino Health Platform\n",
    "2. my_password - This should be your password that you use to log into the Rhino Health Platform\n",
    "3. ecr_base_url - Remove your ECR workgroup from the URL you were given and put that value here. It should be of the form XXXXXXXXXXXXXX.dkr.ecr.<aws-region>.amazonaws.com where aws-region might be us-east-1 or something similar"
   ]
  },
  {
   "cell_type": "code",
   "execution_count": null,
   "metadata": {
    "id": "VRIHRqXjdebV"
   },
   "outputs": [],
   "source": [
    "my_username = 'USERNAME' \n",
    "my_password = getpass.getpass()\n",
    "rhino_api_url = rh.lib.constants.ApiEnvironment.PROD_API_URL\n",
    "ecr_base_uri = \"XXXXXXXXXXXX.dkr.ecr.us-east-1.amazonaws.com\"\n",
    "\n",
    "print(\"Logging In\")\n",
    "session = rh.login(username=my_username, password=my_password, rhino_api_url=rhino_api_url)\n",
    "print(\"Logged In\")"
   ]
  },
  {
   "cell_type": "markdown",
   "metadata": {
    "id": "IJhfm_ZEdebV"
   },
   "source": [
    "### Load the results cohort from the project \n",
    "Start by getting your results cohort uid from the UI and pasting it below"
   ]
  },
  {
   "cell_type": "code",
   "execution_count": null,
   "metadata": {
    "id": "OHfVAO83debV",
    "scrolled": false
   },
   "outputs": [],
   "source": [
    "site1_results_cohort = \"XXXXXXXXX-XXXX-XXXX-XXXX-XXXXXXXXXXXX\" # Replace with your cohort UID here as string\n",
    "cohort = session.cohort.get_cohort(site1_results_cohort)\n",
    "print(f\"Loaded cohort '{cohort.name}'\")"
   ]
  },
  {
   "cell_type": "markdown",
   "metadata": {
    "id": "YjYc43AvdebV"
   },
   "source": [
    "### Calculate ROC (underlying results data stays on-prem)"
   ]
  },
  {
   "cell_type": "code",
   "execution_count": null,
   "metadata": {
    "id": "6Tnb9u25debV"
   },
   "outputs": [],
   "source": [
    "metric_configuration = RocAuc(y_true_variable=\"Pneumonia\", y_pred_variable=\"Model Score\")\n",
    "results = cohort.get_metric(metric_configuration)"
   ]
  },
  {
   "cell_type": "markdown",
   "metadata": {
    "id": "4qA1gREkdebW"
   },
   "source": [
    "### Plot the ROC with your favorite plotting tool"
   ]
  },
  {
   "cell_type": "code",
   "execution_count": null,
   "metadata": {
    "id": "xtUVnTBVdebW",
    "scrolled": false
   },
   "outputs": [],
   "source": [
    "roc_metrics = results.output\n",
    "\n",
    "colors = plt.rcParams['axes.prop_cycle'].by_key()['color']\n",
    "linestyle_cycle = ['-', '--']\n",
    "fig, ax = plt.subplots(figsize=[6, 4], dpi=200)\n",
    "color = colors[0]\n",
    "linestyle = linestyle_cycle[0]\n",
    "ax.plot(roc_metrics['fpr'], roc_metrics['tpr'], color=color, linestyle=linestyle)\n",
    "ax.title.set_text('Overall ROC')\n",
    "ax.set_xlabel('1 - Specificity')\n",
    "ax.set_ylabel('Sensitivity')\n",
    "ax.grid(True)\n",
    "ax.set_xlim([0, 1])\n",
    "ax.set_ylim([0, 1])\n",
    "\n",
    "fig.canvas.draw()\n",
    "image_to_store = Image.frombytes('RGB', fig.canvas.get_width_height(), fig.canvas.tostring_rgb())\n",
    "image_to_store.save(\"Overall_ROC.png\", format='png', optimize=True, quality=100)"
   ]
  },
  {
   "cell_type": "markdown",
   "metadata": {
    "id": "1Hv1NGytdebW"
   },
   "source": [
    "### Calculate and plot ROC with a Confidence Interval"
   ]
  },
  {
   "cell_type": "code",
   "execution_count": null,
   "metadata": {
    "id": "I43NIixVdebW",
    "scrolled": true
   },
   "outputs": [],
   "source": [
    "metric_configuration = RocAucWithCI(\n",
    "   timeout_seconds = 30.0,\n",
    "    y_true_variable=\"Pneumonia\",\n",
    "    y_pred_variable=\"Model Score\",\n",
    "    confidence_interval=95\n",
    ")\n",
    "results = cohort.get_metric(metric_configuration)"
   ]
  },
  {
   "cell_type": "code",
   "execution_count": null,
   "metadata": {
    "id": "D3BT56W1debW",
    "scrolled": true
   },
   "outputs": [],
   "source": [
    "roc_metrics = results.output\n",
    "\n",
    "colors = plt.rcParams['axes.prop_cycle'].by_key()['color']\n",
    "linestyle_cycle = ['-', '--']\n",
    "fig, ax = plt.subplots(figsize=[6, 4], dpi=200)\n",
    "color = colors[0]\n",
    "linestyle = linestyle_cycle[0]\n",
    "tpr_ci = roc_metrics['tpr_ci']\n",
    "ax.fill_between(roc_metrics['fpr'], tpr_ci[0], tpr_ci[1], alpha=0.33, label='_nolegend_', color=color)\n",
    "ax.plot(roc_metrics['fpr'], roc_metrics['tpr'], color=color, linestyle=linestyle)\n",
    "ax.title.set_text('Overall ROC with Confidence Interval')\n",
    "ax.set_xlabel('1 - Specificity')\n",
    "ax.set_ylabel('Sensitivity')\n",
    "ax.grid(True)\n",
    "ax.set_xlim([0, 1])\n",
    "ax.set_ylim([0, 1])\n",
    "fig.canvas.draw()\n",
    "image_to_store = Image.frombytes('RGB', \n",
    "fig.canvas.get_width_height(),fig.canvas.tostring_rgb())\n",
    "image_to_store.save(\"Overall_ROC_CI.png\", format='png', optimize=True, quality=100)"
   ]
  },
  {
   "cell_type": "markdown",
   "metadata": {
    "id": "scgpUz-qdebX"
   },
   "source": [
    "### Calculate and plot ROC grouped by Gender"
   ]
  },
  {
   "cell_type": "code",
   "execution_count": null,
   "metadata": {
    "id": "AMImXgsIdebX"
   },
   "outputs": [],
   "source": [
    "metric_configuration = RocAuc(y_true_variable=\"Pneumonia\", y_pred_variable=\"Model Score\", group_by={'groupings': ['Gender']})\n",
    "results = cohort.get_metric(metric_configuration)"
   ]
  },
  {
   "cell_type": "code",
   "execution_count": null,
   "metadata": {
    "id": "xG-o2AxjdebX"
   },
   "outputs": [],
   "source": [
    "for group in results.output.keys():\n",
    "    roc_metrics= results.output[group]\n",
    "    colors = plt.rcParams['axes.prop_cycle'].by_key()['color']\n",
    "    linestyle_cycle = ['-', '--']\n",
    "    fig, ax = plt.subplots(figsize=[6, 4], dpi=200)\n",
    "    color = colors[0]\n",
    "    linestyle = linestyle_cycle[0]\n",
    "    ax.plot(roc_metrics['fpr'], roc_metrics['tpr'], color=color, linestyle=linestyle)\n",
    "    ax.title.set_text(group)\n",
    "    ax.set_xlabel('1 - Specificity')\n",
    "    ax.set_ylabel('Sensitivity')\n",
    "    ax.grid(True)\n",
    "    ax.set_xlim([0, 1])\n",
    "    ax.set_ylim([0, 1])\n",
    "    fig.canvas.draw()\n",
    "    image_to_store = Image.frombytes('RGB', fig.canvas.get_width_height(),fig.canvas.tostring_rgb())\n",
    "    image_to_store.save(f\"Gender_ROC_{group}.png\", format='png', optimize=True, quality=100)"
   ]
  },
  {
   "cell_type": "markdown",
   "metadata": {
    "id": "nyDJlOf9debX"
   },
   "source": [
    "### Plot the ROC by Gender on a single chart"
   ]
  },
  {
   "cell_type": "code",
   "execution_count": null,
   "metadata": {
    "id": "TJ5VBNvMdebX",
    "scrolled": false
   },
   "outputs": [],
   "source": [
    "colors = plt.rcParams['axes.prop_cycle'].by_key()['color']\n",
    "linestyle_cycle = ['-', '--']\n",
    "fig, ax =plt.subplots(figsize=[6, 4], dpi=200)\n",
    "\n",
    "linestyle = linestyle_cycle[0]\n",
    "for group,color in zip(results.output.keys(),colors):\n",
    "    roc_metrics= results.output[group]\n",
    "    ax.plot(roc_metrics['fpr'], roc_metrics['tpr'], color=color, linestyle=linestyle,label = group)\n",
    "    ax.legend(loc='lower right')\n",
    "ax.title.set_text('ROC by Gender')\n",
    "ax.set_xlabel('1 - Specificity')\n",
    "ax.set_ylabel('Sensitivity')\n",
    "ax.grid(True)\n",
    "ax.set_xlim([0, 1])\n",
    "ax.set_ylim([0, 1])\n",
    "\n",
    "fig.canvas.draw()\n",
    "image_to_store = Image.frombytes('RGB', fig.canvas.get_width_height(),fig.canvas.tostring_rgb())\n",
    "image_to_store.save(\"Gender_ROC.png\", format='png', optimize=True, quality=100)"
   ]
  },
  {
   "cell_type": "markdown",
   "metadata": {
    "id": "hHu_udZSdebY"
   },
   "source": [
    "### Upload the visualizations to the Rhino Health Platform"
   ]
  },
  {
   "cell_type": "code",
   "execution_count": null,
   "metadata": {
    "id": "v7qG4V52debY"
   },
   "outputs": [],
   "source": [
    "model_result_uid = \"XXXXXXXXX-XXXX-XXXX-XXXX-XXXXXXXXXXXX\" # Paste the UID of the model results object for your NVFlare model - look for the (V) icon"
   ]
  },
  {
   "cell_type": "code",
   "execution_count": null,
   "metadata": {
    "id": "QXKo5pqRdebY"
   },
   "outputs": [],
   "source": [
    "print(\"Sending visualizations to the Cloud\")\n",
    "\n",
    "def add_images_to_report(report_data, image_files):\n",
    "    for image_file in image_files:\n",
    "        with open(image_file, \"rb\") as temp_image:\n",
    "            base_64_image = base64.b64encode(temp_image.read()).decode(\"utf-8\")\n",
    "            report_data.append(\n",
    "              {\n",
    "                 \"type\": \"Image\",\n",
    "                 \"data\": {\n",
    "                     \"image_filename\": image_file,\n",
    "                     \"image_base64\": base_64_image,\n",
    "                 },\n",
    "                 \"width\": 100 / len(image_files)\n",
    "              }\n",
    "           )\n",
    "\n",
    "roc_image_files = ('Overall_ROC.png', 'Overall_ROC_CI.png')\n",
    "gender_image_files = ('Gender_ROC_M.png', 'Gender_ROC_F.png', 'Gender_ROC.png')\n",
    "\n",
    "report_data = []\n",
    "report_data.append({\"type\": \"Title\", \"data\": \"Overall ROC\"})\n",
    "add_images_to_report(report_data, roc_image_files)\n",
    "report_data.append({\"type\": \"Title\", \"data\": \"ROC by Gender\"})\n",
    "add_images_to_report(report_data, gender_image_files)\n",
    "    \n",
    "\n",
    "result = session.post(f\"federatedmodelactions/{model_result_uid}/set_report/\", \n",
    "                      data={\"report_data\": json.dumps(report_data)})\n",
    "print('Done')"
   ]
  }
 ],
 "metadata": {
  "colab": {
   "provenance": []
  },
  "interpreter": {
   "hash": "ea36e90180f06760986bd6fecd67145628b34e1a47c899363f0c1bc3723b58f0"
  },
  "kernelspec": {
   "display_name": "Python 3 (ipykernel)",
   "language": "python",
   "name": "python3"
  },
  "language_info": {
   "codemirror_mode": {
    "name": "ipython",
    "version": 3
   },
   "file_extension": ".py",
   "mimetype": "text/x-python",
   "name": "python",
   "nbconvert_exporter": "python",
   "pygments_lexer": "ipython3",
   "version": "3.8.17"
  }
 },
 "nbformat": 4,
 "nbformat_minor": 1
}
