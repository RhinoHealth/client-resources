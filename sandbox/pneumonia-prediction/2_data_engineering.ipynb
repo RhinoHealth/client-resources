{
 "cells": [
  {
   "cell_type": "markdown",
   "id": "c69d61a4",
   "metadata": {},
   "source": [
    "# Notebook #2: Federated Data Engineering\n",
    "In this notebook, we'll convert CXR DICOM to JPG files and apply the conversion code to multiple sites."
   ]
  },
  {
   "cell_type": "markdown",
   "id": "5224695d-b02b-41ea-a5d6-ad71c4799ac8",
   "metadata": {},
   "source": [
    "### Install the Rhino Health Python SDK, Load All Necessary Libraries and Login to the Rhino FCP"
   ]
  },
  {
   "cell_type": "code",
   "execution_count": null,
   "id": "52c80562-63c0-4d01-a650-34094fd2b333",
   "metadata": {},
   "outputs": [],
   "source": [
    "# pip install --upgrade rhino_health"
   ]
  },
  {
   "cell_type": "code",
   "execution_count": 1,
   "id": "1114292d",
   "metadata": {},
   "outputs": [
    {
     "name": "stderr",
     "output_type": "stream",
     "text": [
      "/Users/drewafromsky/Library/Python/3.9/lib/python/site-packages/urllib3/__init__.py:35: NotOpenSSLWarning: urllib3 v2 only supports OpenSSL 1.1.1+, currently the 'ssl' module is compiled with 'LibreSSL 2.8.3'. See: https://github.com/urllib3/urllib3/issues/3020\n",
      "  warnings.warn(\n"
     ]
    }
   ],
   "source": [
    "import getpass\n",
    "import rhino_health as rh\n",
    "from rhino_health.lib.endpoints.code_object.code_object_dataclass import (\n",
    "    CodeObject,\n",
    "    CodeObjectCreateInput,\n",
    "    CodeObjectRunInput,\n",
    "    CodeTypes,\n",
    ")"
   ]
  },
  {
   "cell_type": "code",
   "execution_count": 2,
   "id": "7084c9f3-cac9-4b22-8da3-1415d51a7d16",
   "metadata": {},
   "outputs": [
    {
     "name": "stdout",
     "output_type": "stream",
     "text": [
      "Logging In\n"
     ]
    },
    {
     "name": "stdin",
     "output_type": "stream",
     "text": [
      " ········\n"
     ]
    },
    {
     "name": "stdout",
     "output_type": "stream",
     "text": [
      "Logged In\n"
     ]
    }
   ],
   "source": [
    "my_username = \"drew@rhinohealth.com\"\n",
    "\n",
    "print(\"Logging In\")\n",
    "session = rh.login(\n",
    "    username=my_username, \n",
    "    password=getpass.getpass(), \n",
    "    show_traceback=True,\n",
    "    rhino_api_url='https://dev.rhinohealth.com/api/'\n",
    ")\n",
    "print(\"Logged In\")"
   ]
  },
  {
   "cell_type": "markdown",
   "id": "c22aa633",
   "metadata": {},
   "source": [
    "### Retrieve Project and Cohort Information"
   ]
  },
  {
   "cell_type": "code",
   "execution_count": 51,
   "id": "7b5aae86-1b18-4088-88e3-d4edd2cf9549",
   "metadata": {},
   "outputs": [
    {
     "name": "stdout",
     "output_type": "stream",
     "text": [
      "Federated Datasets and Predictive Modeling (Setup Project + Collab) - drew@ \n",
      "\n",
      "Project session=<rhino_health.lib.rhino_session.RhinoSession object at 0x106cc1fd0> creator_uid='e50f2461-3d7a-4fe0-b457-b2fe45d05532' created_at='2024-02-29T16:32:14.440680Z' name='Federated Datasets and Predictive Modeling (Setup Project + Collab) - drew@' description='Example Project for end-to-end Federated Modeling (project creation,                  add collaborator (invite + accept), Data Ext/Eng, Stat Analysis, training, and evaluation' type='Validation' primary_workgroup_uid='97d7456b-baef-4d88-bfb1-afd4975eaff2' permissions=None uid='1752fb63-c36c-4221-85a4-f979c5e921bb' slack_channel='' collaborating_workgroup_uids=['97d7456b-baef-4d88-bfb1-afd4975eaff2', '33cf1db0-de14-472a-8dcb-8d83de22d946', '48cb366f-b05f-4ca2-8e1d-6dfc336cd344'] \n",
      "\n"
     ]
    },
    {
     "data": {
      "text/plain": [
       "'1752fb63-c36c-4221-85a4-f979c5e921bb'"
      ]
     },
     "execution_count": 51,
     "metadata": {},
     "output_type": "execute_result"
    }
   ],
   "source": [
    "project_name = \"Federated Datasets and Predictive Modeling (Setup Project + Collab) - drew@\"\n",
    "\n",
    "# Confirm project creation by listing all projects for the user\n",
    "for project in session.project.get_projects():\n",
    "    if project.name == project_name:\n",
    "        print(project.name,\"\\n\")\n",
    "        print(project,\"\\n\")\n",
    "        project_uid = project.uid\n",
    "\n",
    "project_uid"
   ]
  },
  {
   "cell_type": "code",
   "execution_count": 4,
   "id": "c80e1d1e-11e8-4c0e-8707-a3017b5c8215",
   "metadata": {},
   "outputs": [
    {
     "name": "stdout",
     "output_type": "stream",
     "text": [
      "Loaded dataschema 'mimic_ehr_demo_dev schema' with uid '35ae63d7-146d-4990-b788-cb204568c9b6'\n",
      "Loaded dataschema 'mimic_ehr_obs_dev schema' with uid 'e333b639-87ea-4860-b202-96bb4c1d09cd'\n",
      "Loaded dataschema 'mimic_cxr_dev schema' with uid '44a33417-767b-4357-86c0-8e05d195672e'\n"
     ]
    }
   ],
   "source": [
    "data_schemas = session.project.get_data_schemas(project_uid)\n",
    "data_schema_mimic_ehr_demo_dev = session.project.get_data_schemas(project_uid)[0]\n",
    "data_schema_mimic_ehr_obs_dev = session.project.get_data_schemas(project_uid)[1]\n",
    "data_schema_mimic_cxr_dev = session.project.get_data_schemas(project_uid)[2]\n",
    "\n",
    "print(f\"Loaded dataschema '{data_schema_mimic_ehr_demo_dev.name}' with uid '{data_schema_mimic_ehr_demo_dev.uid}'\")\n",
    "print(f\"Loaded dataschema '{data_schema_mimic_ehr_obs_dev.name}' with uid '{data_schema_mimic_ehr_obs_dev.uid}'\")\n",
    "print(f\"Loaded dataschema '{data_schema_mimic_cxr_dev.name}' with uid '{data_schema_mimic_cxr_dev.uid}'\")"
   ]
  },
  {
   "cell_type": "code",
   "execution_count": 5,
   "id": "b756f753-7b98-40fd-9f2b-0a505fe64b6b",
   "metadata": {},
   "outputs": [
    {
     "name": "stdout",
     "output_type": "stream",
     "text": [
      "35ae63d7-146d-4990-b788-cb204568c9b6\n",
      "e333b639-87ea-4860-b202-96bb4c1d09cd\n",
      "44a33417-767b-4357-86c0-8e05d195672e\n"
     ]
    }
   ],
   "source": [
    "cxr_schema_mimic_ehr_demo_dev = session.project.get_data_schema_by_name(data_schema_mimic_ehr_demo_dev.name, project_uid=project_uid)\n",
    "cxr_schema_uid_mimic_ehr_demo_dev = cxr_schema_mimic_ehr_demo_dev.uid\n",
    "print(cxr_schema_uid_mimic_ehr_demo_dev)\n",
    "\n",
    "cxr_schema_mimic_ehr_obs_dev = session.project.get_data_schema_by_name(data_schema_mimic_ehr_obs_dev.name, project_uid=project_uid)\n",
    "cxr_schema_uid_mimic_ehr_obs_dev = cxr_schema_mimic_ehr_obs_dev.uid\n",
    "print(cxr_schema_uid_mimic_ehr_obs_dev)\n",
    "\n",
    "cxr_schema_mimic_cxr_dev = session.project.get_data_schema_by_name(data_schema_mimic_cxr_dev.name, project_uid=project_uid)\n",
    "cxr_schema_uid_mimic_cxr_dev = cxr_schema_mimic_cxr_dev.uid\n",
    "print(cxr_schema_uid_mimic_cxr_dev)"
   ]
  },
  {
   "cell_type": "code",
   "execution_count": 6,
   "id": "d4024827-a2a9-429a-9314-e8774834eaa9",
   "metadata": {},
   "outputs": [],
   "source": [
    "collaborators = session.project.get_collaborating_workgroups(project_uid)\n",
    "\n",
    "workgroups_by_name = {x.name: x for x in collaborators}\n",
    "workgroups_by_uid = {x.uid: x for x in collaborators}"
   ]
  },
  {
   "cell_type": "code",
   "execution_count": 54,
   "id": "647aa284-9fb1-4504-b3f3-6667c209dd57",
   "metadata": {},
   "outputs": [
    {
     "data": {
      "text/plain": [
       "{'Rhino Health Test': Workgroup(session=<rhino_health.lib.rhino_session.RhinoSession object at 0x106cc1fd0>, uid='97d7456b-baef-4d88-bfb1-afd4975eaff2', name='Rhino Health Test', org_name='Rhino Health Test'),\n",
       " 'rhino-sandbox-aidev': Workgroup(session=<rhino_health.lib.rhino_session.RhinoSession object at 0x106cc1fd0>, uid='33cf1db0-de14-472a-8dcb-8d83de22d946', name='rhino-sandbox-aidev', org_name='Rhino Sandbox'),\n",
       " 'rhino-sandbox-hco': Workgroup(session=<rhino_health.lib.rhino_session.RhinoSession object at 0x106cc1fd0>, uid='48cb366f-b05f-4ca2-8e1d-6dfc336cd344', name='rhino-sandbox-hco', org_name='Rhino Sandbox')}"
      ]
     },
     "execution_count": 54,
     "metadata": {},
     "output_type": "execute_result"
    }
   ],
   "source": [
    "workgroups_by_name"
   ]
  },
  {
   "cell_type": "code",
   "execution_count": 56,
   "id": "66c7c804-63a3-4881-8ddc-e8ebaebbd280",
   "metadata": {},
   "outputs": [
    {
     "name": "stdout",
     "output_type": "stream",
     "text": [
      "Rhino Health Test: Workgroup session=<rhino_health.lib.rhino_session.RhinoSession object at 0x106cc1fd0> uid='97d7456b-baef-4d88-bfb1-afd4975eaff2' name='Rhino Health Test' org_name='Rhino Health Test' \n",
      "\n",
      "rhino-sandbox-aidev: Workgroup session=<rhino_health.lib.rhino_session.RhinoSession object at 0x106cc1fd0> uid='33cf1db0-de14-472a-8dcb-8d83de22d946' name='rhino-sandbox-aidev' org_name='Rhino Sandbox' \n",
      "\n",
      "rhino-sandbox-hco: Workgroup session=<rhino_health.lib.rhino_session.RhinoSession object at 0x106cc1fd0> uid='48cb366f-b05f-4ca2-8e1d-6dfc336cd344' name='rhino-sandbox-hco' org_name='Rhino Sandbox' \n",
      "\n"
     ]
    }
   ],
   "source": [
    "for k,v in workgroups_by_name.items():\n",
    "    print(f\"{k}: {v}\", \"\\n\")"
   ]
  },
  {
   "cell_type": "code",
   "execution_count": 8,
   "id": "405fe28c-de37-4d23-9e0c-c22d5a7d073b",
   "metadata": {},
   "outputs": [
    {
     "data": {
      "text/plain": [
       "{'97d7456b-baef-4d88-bfb1-afd4975eaff2': Workgroup(session=<rhino_health.lib.rhino_session.RhinoSession object at 0x106cc1fd0>, uid='97d7456b-baef-4d88-bfb1-afd4975eaff2', name='Rhino Health Test', org_name='Rhino Health Test'),\n",
       " '33cf1db0-de14-472a-8dcb-8d83de22d946': Workgroup(session=<rhino_health.lib.rhino_session.RhinoSession object at 0x106cc1fd0>, uid='33cf1db0-de14-472a-8dcb-8d83de22d946', name='rhino-sandbox-aidev', org_name='Rhino Sandbox'),\n",
       " '48cb366f-b05f-4ca2-8e1d-6dfc336cd344': Workgroup(session=<rhino_health.lib.rhino_session.RhinoSession object at 0x106cc1fd0>, uid='48cb366f-b05f-4ca2-8e1d-6dfc336cd344', name='rhino-sandbox-hco', org_name='Rhino Sandbox')}"
      ]
     },
     "execution_count": 8,
     "metadata": {},
     "output_type": "execute_result"
    }
   ],
   "source": [
    "workgroups_by_uid"
   ]
  },
  {
   "cell_type": "code",
   "execution_count": 57,
   "id": "ddfde5b7-65c7-4346-b577-198d9a8d88bf",
   "metadata": {},
   "outputs": [
    {
     "name": "stdout",
     "output_type": "stream",
     "text": [
      "97d7456b-baef-4d88-bfb1-afd4975eaff2: Workgroup session=<rhino_health.lib.rhino_session.RhinoSession object at 0x106cc1fd0> uid='97d7456b-baef-4d88-bfb1-afd4975eaff2' name='Rhino Health Test' org_name='Rhino Health Test' \n",
      "\n",
      "33cf1db0-de14-472a-8dcb-8d83de22d946: Workgroup session=<rhino_health.lib.rhino_session.RhinoSession object at 0x106cc1fd0> uid='33cf1db0-de14-472a-8dcb-8d83de22d946' name='rhino-sandbox-aidev' org_name='Rhino Sandbox' \n",
      "\n",
      "48cb366f-b05f-4ca2-8e1d-6dfc336cd344: Workgroup session=<rhino_health.lib.rhino_session.RhinoSession object at 0x106cc1fd0> uid='48cb366f-b05f-4ca2-8e1d-6dfc336cd344' name='rhino-sandbox-hco' org_name='Rhino Sandbox' \n",
      "\n"
     ]
    }
   ],
   "source": [
    "for k,v in workgroups_by_uid.items():\n",
    "    print(f\"{k}: {v}\", \"\\n\")"
   ]
  },
  {
   "cell_type": "code",
   "execution_count": 9,
   "id": "d2d5d73b-24d1-4d7f-a77b-4fe537f66535",
   "metadata": {},
   "outputs": [
    {
     "name": "stdout",
     "output_type": "stream",
     "text": [
      "Found workgroups 'rhino-sandbox-aidev' and collaborators 'rhino-sandbox-hco'\n"
     ]
    }
   ],
   "source": [
    "hco_workgroup = workgroups_by_name[\"rhino-sandbox-hco\"]\n",
    "aidev_workgroup = workgroups_by_name[\"rhino-sandbox-aidev\"]\n",
    "\n",
    "print(f\"Found workgroups '{aidev_workgroup.name}' and collaborators '{hco_workgroup.name}'\")"
   ]
  },
  {
   "cell_type": "markdown",
   "id": "303b52e4-ca0c-4542-859e-3d1f3159b2bc",
   "metadata": {},
   "source": [
    "### Get the CXR Cohorts From Both Sites"
   ]
  },
  {
   "cell_type": "code",
   "execution_count": 59,
   "id": "2f9e3b65-5db5-4fb0-84b7-26bc5c731dc1",
   "metadata": {},
   "outputs": [
    {
     "name": "stdout",
     "output_type": "stream",
     "text": [
      "[Dataset(session=<rhino_health.lib.rhino_session.RhinoSession object at 0x106cc1fd0>, creator_uid='e50f2461-3d7a-4fe0-b457-b2fe45d05532', created_at='2024-03-04T19:56:16.819244Z', name='mimic_ehr_demo_dev', description='', base_version_uid='0d2fa03c-52ff-499e-9ffc-3dd758c0005d', project_uid='1752fb63-c36c-4221-85a4-f979c5e921bb', workgroup_uid='97d7456b-baef-4d88-bfb1-afd4975eaff2', data_schema_uid='35ae63d7-146d-4990-b788-cb204568c9b6', uid='854a8cc9-afe6-4363-95d2-5bfee7c531af', version=1, num_cases=1679, import_status='Complete'), Dataset(session=<rhino_health.lib.rhino_session.RhinoSession object at 0x106cc1fd0>, creator_uid='e50f2461-3d7a-4fe0-b457-b2fe45d05532', created_at='2024-03-04T19:57:40.953639Z', name='mimic_ehr_obs_dev', description='', base_version_uid='d1a796e7-f73a-4d70-9450-84224ab37685', project_uid='1752fb63-c36c-4221-85a4-f979c5e921bb', workgroup_uid='97d7456b-baef-4d88-bfb1-afd4975eaff2', data_schema_uid='e333b639-87ea-4860-b202-96bb4c1d09cd', uid='d1a796e7-f73a-4d70-9450-84224ab37685', version=0, num_cases=1679, import_status='Complete'), Dataset(session=<rhino_health.lib.rhino_session.RhinoSession object at 0x106cc1fd0>, creator_uid='e50f2461-3d7a-4fe0-b457-b2fe45d05532', created_at='2024-03-04T20:14:33.913781Z', name='mimic_cxr_dev', description='mimic_cxr_dev', base_version_uid='a45aabb1-bc58-4233-a2f1-65dc1a151178', project_uid='1752fb63-c36c-4221-85a4-f979c5e921bb', workgroup_uid='97d7456b-baef-4d88-bfb1-afd4975eaff2', data_schema_uid='44a33417-767b-4357-86c0-8e05d195672e', uid='a45aabb1-bc58-4233-a2f1-65dc1a151178', version=0, num_cases=76, import_status='Complete')]\n"
     ]
    }
   ],
   "source": [
    "cohorts = session.project.get_datasets(project_uid)\n",
    "print(cohorts)"
   ]
  },
  {
   "cell_type": "code",
   "execution_count": 60,
   "id": "5ed65ad3-12fd-43ed-8887-a8b83848737c",
   "metadata": {},
   "outputs": [
    {
     "data": {
      "text/plain": [
       "Dataset(session=<rhino_health.lib.rhino_session.RhinoSession object at 0x106cc1fd0>, creator_uid='e50f2461-3d7a-4fe0-b457-b2fe45d05532', created_at='2024-03-04T19:56:16.819244Z', name='mimic_ehr_demo_dev', description='', base_version_uid='0d2fa03c-52ff-499e-9ffc-3dd758c0005d', project_uid='1752fb63-c36c-4221-85a4-f979c5e921bb', workgroup_uid='97d7456b-baef-4d88-bfb1-afd4975eaff2', data_schema_uid='35ae63d7-146d-4990-b788-cb204568c9b6', uid='854a8cc9-afe6-4363-95d2-5bfee7c531af', version=1, num_cases=1679, import_status='Complete')"
      ]
     },
     "execution_count": 60,
     "metadata": {},
     "output_type": "execute_result"
    }
   ],
   "source": [
    "cohorts[0]"
   ]
  },
  {
   "cell_type": "code",
   "execution_count": 61,
   "id": "b03f0fd0-42ab-4237-8eec-2d5d333af103",
   "metadata": {},
   "outputs": [
    {
     "data": {
      "text/plain": [
       "Dataset(session=<rhino_health.lib.rhino_session.RhinoSession object at 0x106cc1fd0>, creator_uid='e50f2461-3d7a-4fe0-b457-b2fe45d05532', created_at='2024-03-04T19:57:40.953639Z', name='mimic_ehr_obs_dev', description='', base_version_uid='d1a796e7-f73a-4d70-9450-84224ab37685', project_uid='1752fb63-c36c-4221-85a4-f979c5e921bb', workgroup_uid='97d7456b-baef-4d88-bfb1-afd4975eaff2', data_schema_uid='e333b639-87ea-4860-b202-96bb4c1d09cd', uid='d1a796e7-f73a-4d70-9450-84224ab37685', version=0, num_cases=1679, import_status='Complete')"
      ]
     },
     "execution_count": 61,
     "metadata": {},
     "output_type": "execute_result"
    }
   ],
   "source": [
    "cohorts[1]"
   ]
  },
  {
   "cell_type": "code",
   "execution_count": 62,
   "id": "0c5be7c5-1800-4d77-8144-0d17ed7e8ed6",
   "metadata": {},
   "outputs": [
    {
     "data": {
      "text/plain": [
       "Dataset(session=<rhino_health.lib.rhino_session.RhinoSession object at 0x106cc1fd0>, creator_uid='e50f2461-3d7a-4fe0-b457-b2fe45d05532', created_at='2024-03-04T20:14:33.913781Z', name='mimic_cxr_dev', description='mimic_cxr_dev', base_version_uid='a45aabb1-bc58-4233-a2f1-65dc1a151178', project_uid='1752fb63-c36c-4221-85a4-f979c5e921bb', workgroup_uid='97d7456b-baef-4d88-bfb1-afd4975eaff2', data_schema_uid='44a33417-767b-4357-86c0-8e05d195672e', uid='a45aabb1-bc58-4233-a2f1-65dc1a151178', version=0, num_cases=76, import_status='Complete')"
      ]
     },
     "execution_count": 62,
     "metadata": {},
     "output_type": "execute_result"
    }
   ],
   "source": [
    "cohorts[2]"
   ]
  },
  {
   "cell_type": "code",
   "execution_count": 63,
   "id": "269288b5-af1b-4809-a4ae-7baf4a84ef24",
   "metadata": {},
   "outputs": [
    {
     "data": {
      "text/plain": [
       "{'Rhino Health Test': Dataset(session=<rhino_health.lib.rhino_session.RhinoSession object at 0x106cc1fd0>, creator_uid='e50f2461-3d7a-4fe0-b457-b2fe45d05532', created_at='2024-03-04T20:14:33.913781Z', name='mimic_cxr_dev', description='mimic_cxr_dev', base_version_uid='a45aabb1-bc58-4233-a2f1-65dc1a151178', project_uid='1752fb63-c36c-4221-85a4-f979c5e921bb', workgroup_uid='97d7456b-baef-4d88-bfb1-afd4975eaff2', data_schema_uid='44a33417-767b-4357-86c0-8e05d195672e', uid='a45aabb1-bc58-4233-a2f1-65dc1a151178', version=0, num_cases=76, import_status='Complete')}"
      ]
     },
     "execution_count": 63,
     "metadata": {},
     "output_type": "execute_result"
    }
   ],
   "source": [
    "cohorts_by_workgroup = {\n",
    "    workgroups_by_uid[x.workgroup_uid].name: x for x in cohorts\n",
    "}\n",
    "cohorts_by_workgroup"
   ]
  },
  {
   "cell_type": "code",
   "execution_count": 70,
   "id": "135f3fc5-ad71-48c5-89f6-fe5d17b04b3b",
   "metadata": {
    "scrolled": true
   },
   "outputs": [
    {
     "name": "stdout",
     "output_type": "stream",
     "text": [
      "mimic_ehr_demo_dev\n",
      "mimic_ehr_obs_dev\n",
      "mimic_cxr_dev\n"
     ]
    }
   ],
   "source": [
    "def get_dataset_names(project_uid: str):\n",
    "    dataset_names = session.project.get_datasets(project_uid)\n",
    "    for dataset in dataset_names:\n",
    "        print(dataset.name)\n",
    "\n",
    "get_dataset_names(project_uid)"
   ]
  },
  {
   "cell_type": "code",
   "execution_count": 21,
   "id": "0494195a-812f-4ad2-b20e-42276e35a11e",
   "metadata": {},
   "outputs": [
    {
     "name": "stdout",
     "output_type": "stream",
     "text": [
      "Logging In\n"
     ]
    },
    {
     "name": "stdin",
     "output_type": "stream",
     "text": [
      " ········\n"
     ]
    },
    {
     "name": "stdout",
     "output_type": "stream",
     "text": [
      "Logged In\n"
     ]
    }
   ],
   "source": [
    "# HCO\n",
    "my_username_hco = \"adrish+2@rhinohealth.com\"\n",
    "\n",
    "print(\"Logging In\")\n",
    "session_hco = rh.login(\n",
    "    username=my_username_hco, \n",
    "    password=getpass.getpass(), \n",
    "    show_traceback=True,\n",
    "    rhino_api_url='https://dev.rhinohealth.com/api/'\n",
    ")\n",
    "print(\"Logged In\")"
   ]
  },
  {
   "cell_type": "code",
   "execution_count": 71,
   "id": "c98ca7c9-e306-46e0-8d06-b63cee8a01c4",
   "metadata": {},
   "outputs": [
    {
     "name": "stdout",
     "output_type": "stream",
     "text": [
      "Loaded CXR cohorts 'b3321c41-85f1-492b-b56f-a6fa99c5c79e', 'a45aabb1-bc58-4233-a2f1-65dc1a151178'\n"
     ]
    }
   ],
   "source": [
    "# hco collaborator needs to upload the data to their rhino client (i.e. via UI/SDK)\n",
    "hco_cxr_cohort = session_hco.project.get_dataset_by_name(\"mimic_cxr_hco\")\n",
    "hco_cxr_cohort_uid = hco_cxr_cohort.uid\n",
    "\n",
    "aidev_cxr_cohort = session.project.get_dataset_by_name(\"mimic_cxr_dev\")\n",
    "aidev_cxr_cohort_uid = aidev_cxr_cohort.uid\n",
    "\n",
    "print(f\"Loaded CXR cohorts '{hco_cxr_cohort.uid}', '{aidev_cxr_cohort.uid}'\")"
   ]
  },
  {
   "cell_type": "markdown",
   "id": "11f28226-17a6-4f80-9d9e-bf18ebaa6ef5",
   "metadata": {
    "jupyter": {
     "source_hidden": true
    }
   },
   "source": [
    "### We will use a Pre-defined Container Image with our Model"
   ]
  },
  {
   "cell_type": "markdown",
   "id": "62b431d5-e830-4ac4-8c4b-201499e11d88",
   "metadata": {
    "jupyter": {
     "source_hidden": true
    }
   },
   "source": [
    "### Define the Generalized Compute Model that will Convert DICOM Images to JPG Files"
   ]
  },
  {
   "cell_type": "markdown",
   "id": "b1ee76b9-2f53-46ea-9a32-4438b85a8262",
   "metadata": {
    "jupyter": {
     "source_hidden": true
    }
   },
   "source": [
    "```python\n",
    "cxr_image_uri= \"913123821419.dkr.ecr.us-east-1.amazonaws.com/rhino-gc-workgroup-rhino-sandbox-decode-health:data-prep-sb-1\"\n",
    "\n",
    "compute_params = CodeObjectCreateInput(\n",
    "    session=session,\n",
    "    name=\"DICOM to JPG Transformation Code\",\n",
    "    description=\"CXR JPG transformation the AI dev and Health System datasets\",\n",
    "    input_data_schema_uids = [cxr_schema_uid_mimic_cxr_dev],\n",
    "    output_data_schema_uids = [None], # Auto-Generating the Output Data Schema for the Model\n",
    "    project=project_uid,\n",
    "    type=CodeTypes.GENERALIZED_COMPUTE,\n",
    "    config={\n",
    "        \"container_image_uri\": cxr_image_uri\n",
    "    }\n",
    ")\n",
    "compute_model = session.code_object.create_code_object(compute_params)\n",
    "\n",
    "print(f\"Got aimodel/code object '{compute_model.name}' with uid {compute_model.uid}\")\n",
    "```"
   ]
  },
  {
   "cell_type": "code",
   "execution_count": 72,
   "id": "ac12a616-1732-4c70-ae86-bbcb9a3437d7",
   "metadata": {},
   "outputs": [],
   "source": [
    "python_code = \"\"\"\n",
    "import pandas as pd\n",
    "import os\n",
    "import pydicom\n",
    "import numpy as np\n",
    "from PIL import Image\n",
    "from sklearn.impute import SimpleImputer\n",
    "import glob\n",
    "\n",
    "\n",
    "def convert_dcm_image_to_jpg(name):\n",
    "\tdcm = pydicom.dcmread(name)\n",
    "\timg = dcm.pixel_array.astype(float)\n",
    "\trescaled_image = (np.maximum(img, 0) / img.max()) * 255  # float pixels\n",
    "\tfinal_image = np.uint8(rescaled_image)  # integers pixels\n",
    "\tfinal_image = Image.fromarray(final_image)\n",
    "\treturn final_image\n",
    "\n",
    "\n",
    "def dataset_dcm_to_jpg(dataset_df):\n",
    "\tinput_dir = '/input/dicom_data/'\n",
    "\toutput_dir = '/output/file_data/'\n",
    "\tdcm_list = glob.glob(input_dir + '/*/*.dcm')\n",
    "\n",
    "\tdataset_df['JPG_file'] = 'Nan'\n",
    "\tfor dcm_file in dcm_list:\n",
    "\t\timage = convert_dcm_image_to_jpg(dcm_file)\n",
    "\t\tjpg_file_name = dcm_file.split('/')[-1].split('.dcm')[0] + '.jpg'\n",
    "\t\tds = pydicom.dcmread(dcm_file)\n",
    "\t\tidx = dataset_df['Pneumonia'][dataset_df.SeriesUID == ds.SeriesInstanceUID].index[0]\n",
    "\t\tground_truth = '1' if dataset_df.loc[idx, 'Pneumonia'] else '0'\n",
    "\t\tclass_folder = output_dir + ground_truth\n",
    "\t\tif not os.path.exists(class_folder):\n",
    "\t\t\tos.makedirs(class_folder)\n",
    "\t\timage.save('/'.join([class_folder, jpg_file_name]))\n",
    "\t\tdataset_df.loc[idx, 'JPG file'] = '/'.join([ground_truth, jpg_file_name])\n",
    "\n",
    "\treturn dataset_df\n",
    "\n",
    "\n",
    "if __name__ == '__main__':\n",
    "\t# Read dataset from /input\n",
    "\tdataset = pd.read_csv('/input/dataset.csv')\n",
    "\n",
    "\t# Convert DICOM to JPG\n",
    "\tdataset = dataset_dcm_to_jpg(dataset)\n",
    "\n",
    "\t# Write dataset to /output\n",
    "\tdataset.to_csv('/output/dataset.csv', index=False)\n",
    " \"\"\"\n"
   ]
  },
  {
   "cell_type": "code",
   "execution_count": 73,
   "id": "83dad9ef-1e5a-4405-9850-01035914d071",
   "metadata": {},
   "outputs": [
    {
     "name": "stdout",
     "output_type": "stream",
     "text": [
      "Got Code Object 'DICOM to JPG Transformation Code' with uid 47510df7-8fc6-4e13-af5b-7553e7abacab\n"
     ]
    }
   ],
   "source": [
    "code_object_params = CodeObjectCreateInput(\n",
    "    name=\"DICOM to JPG Transformation Code\",\n",
    "    description=\"CXR JPG transformation the AI dev and Health System datasets\",\n",
    "    input_data_schema_uids = [cxr_schema_uid_mimic_cxr_dev],\n",
    "    output_data_schema_uids = [None], # a schema will be automatically generated\n",
    "    project_uid = project_uid,\n",
    "    code_type = CodeTypes.PYTHON_CODE,\n",
    "    code_execution_mode = 'AUTO_CONTAINER_SNIPPET',\n",
    "    requirements_mode = 'PYTHON_PIP',\n",
    "    config = {\n",
    "\t\t   \"python_code\": python_code,\n",
    "           \"requirements\" : [\"pandas == 1.3.4\", \"numpy == 1.21.3\",\"sklearn==0.0\", \"sklearn-pandas==1.8.0\", \"scikit-learn==1.0.2\",\"pydicom==2.2.0\",\"Pillow==8.4.0\"],\n",
    "    }\n",
    ")\n",
    "\n",
    "data_code_object = session.code_object.create_code_object(code_object_params)\n",
    "print(f\"Got Code Object '{data_code_object.name}' with uid {data_code_object.uid}\")"
   ]
  },
  {
   "cell_type": "code",
   "execution_count": 74,
   "id": "b2800f76-bd3d-4f0b-839d-a197393e11dd",
   "metadata": {},
   "outputs": [
    {
     "data": {
      "text/plain": [
       "CodeObjectCreateInput(session=None, name='DICOM to JPG Transformation Code', description='CXR JPG transformation the AI dev and Health System datasets', input_data_schema_uids=['44a33417-767b-4357-86c0-8e05d195672e'], output_data_schema_uids=[None], project_uid='1752fb63-c36c-4221-85a4-f979c5e921bb', code_type='Python Code', base_version_uid='', config={'python_code': \"\\nimport pandas as pd\\nimport os\\nimport pydicom\\nimport numpy as np\\nfrom PIL import Image\\nfrom sklearn.impute import SimpleImputer\\nimport glob\\n\\n\\ndef convert_dcm_image_to_jpg(name):\\n\\tdcm = pydicom.dcmread(name)\\n\\timg = dcm.pixel_array.astype(float)\\n\\trescaled_image = (np.maximum(img, 0) / img.max()) * 255  # float pixels\\n\\tfinal_image = np.uint8(rescaled_image)  # integers pixels\\n\\tfinal_image = Image.fromarray(final_image)\\n\\treturn final_image\\n\\n\\ndef dataset_dcm_to_jpg(dataset_df):\\n\\tinput_dir = '/input/dicom_data/'\\n\\toutput_dir = '/output/file_data/'\\n\\tdcm_list = glob.glob(input_dir + '/*/*.dcm')\\n\\n\\tdataset_df['JPG_file'] = 'Nan'\\n\\tfor dcm_file in dcm_list:\\n\\t\\timage = convert_dcm_image_to_jpg(dcm_file)\\n\\t\\tjpg_file_name = dcm_file.split('/')[-1].split('.dcm')[0] + '.jpg'\\n\\t\\tds = pydicom.dcmread(dcm_file)\\n\\t\\tidx = dataset_df['Pneumonia'][dataset_df.SeriesUID == ds.SeriesInstanceUID].index[0]\\n\\t\\tground_truth = '1' if dataset_df.loc[idx, 'Pneumonia'] else '0'\\n\\t\\tclass_folder = output_dir + ground_truth\\n\\t\\tif not os.path.exists(class_folder):\\n\\t\\t\\tos.makedirs(class_folder)\\n\\t\\timage.save('/'.join([class_folder, jpg_file_name]))\\n\\t\\tdataset_df.loc[idx, 'JPG file'] = '/'.join([ground_truth, jpg_file_name])\\n\\n\\treturn dataset_df\\n\\n\\nif __name__ == '__main__':\\n\\t# Read dataset from /input\\n\\tdataset = pd.read_csv('/input/dataset.csv')\\n\\n\\t# Convert DICOM to JPG\\n\\tdataset = dataset_dcm_to_jpg(dataset)\\n\\n\\t# Write dataset to /output\\n\\tdataset.to_csv('/output/dataset.csv', index=False)\\n \", 'requirements': ['pandas == 1.3.4', 'numpy == 1.21.3', 'sklearn==0.0', 'sklearn-pandas==1.8.0', 'scikit-learn==1.0.2', 'pydicom==2.2.0', 'Pillow==8.4.0']})"
      ]
     },
     "execution_count": 74,
     "metadata": {},
     "output_type": "execute_result"
    }
   ],
   "source": [
    "code_object_params"
   ]
  },
  {
   "cell_type": "code",
   "execution_count": 75,
   "id": "e425b443-78e6-44ab-b5c3-156454980685",
   "metadata": {},
   "outputs": [
    {
     "data": {
      "text/plain": [
       "CodeObject(session=<rhino_health.lib.rhino_session.RhinoSession object at 0x106cc1fd0>, creator_uid='e50f2461-3d7a-4fe0-b457-b2fe45d05532', created_at='2024-03-04T20:35:31.649690Z', name='DICOM to JPG Transformation Code', description='CXR JPG transformation the AI dev and Health System datasets', input_data_schema_uids=['44a33417-767b-4357-86c0-8e05d195672e'], output_data_schema_uids=[None], project_uid='1752fb63-c36c-4221-85a4-f979c5e921bb', code_type='Generalized Compute', base_version_uid='47510df7-8fc6-4e13-af5b-7553e7abacab', config={'container_image_uri': '913123821419.dkr.ecr.us-east-1.amazonaws.com/rhino-gc-workgroup-rhino-sandbox-decode-health:data-prep-sb-1', 'container_base_type': 'base_image', 'base_image_uri': 'public.ecr.aws/u7h0g2s9/rhinohealth/instant_containers/python:3.9.7-slim-bullseye', 'requirements_mode': 'python_pip', 'requirements': ['numpy == 1.22.*', 'pandas ~= 1.4.2'], 'code_location': 'single_non_binary_file', 'code_execution_mode': 'snippet'}, uid='47510df7-8fc6-4e13-af5b-7553e7abacab', version=0, build_status=<CodeObjectBuildStatus.COMPLETE: 'Complete'>, build_errors=None)"
      ]
     },
     "execution_count": 75,
     "metadata": {},
     "output_type": "execute_result"
    }
   ],
   "source": [
    "code_object = session.code_object.get_code_object_by_name(\"DICOM to JPG Transformation Code\", project_uid=project_uid)\n",
    "code_object"
   ]
  },
  {
   "cell_type": "code",
   "execution_count": 76,
   "id": "797c490d-7201-4687-8459-e9dfe5aeb2b3",
   "metadata": {},
   "outputs": [
    {
     "name": "stderr",
     "output_type": "stream",
     "text": [
      "/Users/drewafromsky/Library/Python/3.9/lib/python/site-packages/rhino_health/lib/endpoints/code_object/code_object_dataclass.py:311: RuntimeWarning: output_dataset_names_suffix is deprecated and will be removed very soon, please use output_dataset_naming_templates instead\n",
      "  warn(\n"
     ]
    }
   ],
   "source": [
    "code_object_params = CodeObjectRunInput(\n",
    "  code_object_uid = code_object.uid,\n",
    "  input_dataset_uids = [[aidev_cxr_cohort_uid],[hco_cxr_cohort_uid]],\n",
    "  output_dataset_names_suffix = \"_conv\",\n",
    "  timeout_seconds = 600\n",
    ")"
   ]
  },
  {
   "cell_type": "code",
   "execution_count": 77,
   "id": "e499b8ca-2877-4402-9ea9-8b95941a8f02",
   "metadata": {
    "collapsed": true,
    "jupyter": {
     "outputs_hidden": true
    }
   },
   "outputs": [
    {
     "ename": "Exception",
     "evalue": "Failed to make request\nStatus is 400, Error: , Content is b'\\n<!doctype html>\\n<html lang=\"en\">\\n<head>\\n  <title>Bad Request (400)</title>\\n</head>\\n<body>\\n  <h1>Bad Request (400)</h1><p></p>\\n</body>\\n</html>\\n'\n",
     "output_type": "error",
     "traceback": [
      "\u001b[0;31m---------------------------------------------------------------------------\u001b[0m",
      "\u001b[0;31mException\u001b[0m                                 Traceback (most recent call last)",
      "File \u001b[0;32m~/Library/Python/3.9/lib/python/site-packages/rhino_health/lib/utils.py:71\u001b[0m, in \u001b[0;36mrhino_error_wrapper.<locals>.wrapper_func\u001b[0;34m(*args, **kwargs)\u001b[0m\n\u001b[1;32m     70\u001b[0m \u001b[38;5;28;01mtry\u001b[39;00m:\n\u001b[0;32m---> 71\u001b[0m     \u001b[38;5;28;01mreturn\u001b[39;00m \u001b[43mfunc\u001b[49m\u001b[43m(\u001b[49m\u001b[38;5;241;43m*\u001b[39;49m\u001b[43margs\u001b[49m\u001b[43m,\u001b[49m\u001b[43m \u001b[49m\u001b[38;5;241;43m*\u001b[39;49m\u001b[38;5;241;43m*\u001b[39;49m\u001b[43mkwargs\u001b[49m\u001b[43m)\u001b[49m\n\u001b[1;32m     72\u001b[0m \u001b[38;5;28;01mexcept\u001b[39;00m \u001b[38;5;167;01mException\u001b[39;00m \u001b[38;5;28;01mas\u001b[39;00m e:\n",
      "File \u001b[0;32m~/Library/Python/3.9/lib/python/site-packages/rhino_health/lib/rhino_session.py:153\u001b[0m, in \u001b[0;36mRhinoSession.post\u001b[0;34m(self, url, data, params, adapter_kwargs)\u001b[0m\n\u001b[1;32m    117\u001b[0m \u001b[38;5;250m\u001b[39m\u001b[38;5;124;03m\"\"\"\u001b[39;00m\n\u001b[1;32m    118\u001b[0m \u001b[38;5;124;03m@autoapi False\u001b[39;00m\n\u001b[1;32m    119\u001b[0m \u001b[38;5;124;03mLow level interface for submitting a REST POST request.\u001b[39;00m\n\u001b[0;32m   (...)\u001b[0m\n\u001b[1;32m    151\u001b[0m \u001b[38;5;124;03mrhino_health.lib.rest_api.api_response.APIResponse: Response object\u001b[39;00m\n\u001b[1;32m    152\u001b[0m \u001b[38;5;124;03m\"\"\"\u001b[39;00m\n\u001b[0;32m--> 153\u001b[0m \u001b[38;5;28;01mreturn\u001b[39;00m \u001b[38;5;28;43mself\u001b[39;49m\u001b[38;5;241;43m.\u001b[39;49m\u001b[43mrest_adapter\u001b[49m\u001b[38;5;241;43m.\u001b[39;49m\u001b[43mpost\u001b[49m\u001b[43m(\u001b[49m\n\u001b[1;32m    154\u001b[0m \u001b[43m    \u001b[49m\u001b[43murl\u001b[49m\u001b[38;5;241;43m=\u001b[39;49m\u001b[43murl\u001b[49m\u001b[43m,\u001b[49m\n\u001b[1;32m    155\u001b[0m \u001b[43m    \u001b[49m\u001b[43mdata\u001b[49m\u001b[38;5;241;43m=\u001b[39;49m\u001b[43mdata\u001b[49m\u001b[43m,\u001b[49m\n\u001b[1;32m    156\u001b[0m \u001b[43m    \u001b[49m\u001b[43mparams\u001b[49m\u001b[38;5;241;43m=\u001b[39;49m\u001b[43mparams\u001b[49m\u001b[43m,\u001b[49m\n\u001b[1;32m    157\u001b[0m \u001b[43m    \u001b[49m\u001b[43madapter_kwargs\u001b[49m\u001b[38;5;241;43m=\u001b[39;49m\u001b[43madapter_kwargs\u001b[49m\u001b[43m,\u001b[49m\n\u001b[1;32m    158\u001b[0m \u001b[43m\u001b[49m\u001b[43m)\u001b[49m\n",
      "File \u001b[0;32m~/Library/Python/3.9/lib/python/site-packages/rhino_health/lib/rest_handler.py:50\u001b[0m, in \u001b[0;36mRestHandler.post\u001b[0;34m(self, url, data, params, adapter_kwargs)\u001b[0m\n\u001b[1;32m     43\u001b[0m \u001b[38;5;28;01mdef\u001b[39;00m \u001b[38;5;21mpost\u001b[39m(\n\u001b[1;32m     44\u001b[0m     \u001b[38;5;28mself\u001b[39m,\n\u001b[1;32m     45\u001b[0m     url: \u001b[38;5;28mstr\u001b[39m,\n\u001b[0;32m   (...)\u001b[0m\n\u001b[1;32m     48\u001b[0m     adapter_kwargs: Optional[\u001b[38;5;28mdict\u001b[39m] \u001b[38;5;241m=\u001b[39m \u001b[38;5;28;01mNone\u001b[39;00m,\n\u001b[1;32m     49\u001b[0m ) \u001b[38;5;241m-\u001b[39m\u001b[38;5;241m>\u001b[39m APIResponse:\n\u001b[0;32m---> 50\u001b[0m     \u001b[38;5;28;01mreturn\u001b[39;00m \u001b[38;5;28;43mself\u001b[39;49m\u001b[38;5;241;43m.\u001b[39;49m\u001b[43m_make_request\u001b[49m\u001b[43m(\u001b[49m\n\u001b[1;32m     51\u001b[0m \u001b[43m        \u001b[49m\u001b[43mmethod\u001b[49m\u001b[38;5;241;43m=\u001b[39;49m\u001b[38;5;124;43m\"\u001b[39;49m\u001b[38;5;124;43mpost\u001b[39;49m\u001b[38;5;124;43m\"\u001b[39;49m\u001b[43m,\u001b[49m\n\u001b[1;32m     52\u001b[0m \u001b[43m        \u001b[49m\u001b[43mbase_url\u001b[49m\u001b[38;5;241;43m=\u001b[39;49m\u001b[38;5;28;43mself\u001b[39;49m\u001b[38;5;241;43m.\u001b[39;49m\u001b[43mbase_url\u001b[49m\u001b[43m,\u001b[49m\n\u001b[1;32m     53\u001b[0m \u001b[43m        \u001b[49m\u001b[43murl\u001b[49m\u001b[38;5;241;43m=\u001b[39;49m\u001b[43murl\u001b[49m\u001b[43m,\u001b[49m\n\u001b[1;32m     54\u001b[0m \u001b[43m        \u001b[49m\u001b[43mparams\u001b[49m\u001b[38;5;241;43m=\u001b[39;49m\u001b[43mparams\u001b[49m\u001b[43m,\u001b[49m\n\u001b[1;32m     55\u001b[0m \u001b[43m        \u001b[49m\u001b[43mdata\u001b[49m\u001b[38;5;241;43m=\u001b[39;49m\u001b[43mdata\u001b[49m\u001b[43m,\u001b[49m\n\u001b[1;32m     56\u001b[0m \u001b[43m        \u001b[49m\u001b[43madapter_kwargs\u001b[49m\u001b[38;5;241;43m=\u001b[39;49m\u001b[43madapter_kwargs\u001b[49m\u001b[43m,\u001b[49m\n\u001b[1;32m     57\u001b[0m \u001b[43m    \u001b[49m\u001b[43m)\u001b[49m\n",
      "File \u001b[0;32m~/Library/Python/3.9/lib/python/site-packages/backoff/_sync.py:105\u001b[0m, in \u001b[0;36mretry_exception.<locals>.retry\u001b[0;34m(*args, **kwargs)\u001b[0m\n\u001b[1;32m    104\u001b[0m \u001b[38;5;28;01mtry\u001b[39;00m:\n\u001b[0;32m--> 105\u001b[0m     ret \u001b[38;5;241m=\u001b[39m \u001b[43mtarget\u001b[49m\u001b[43m(\u001b[49m\u001b[38;5;241;43m*\u001b[39;49m\u001b[43margs\u001b[49m\u001b[43m,\u001b[49m\u001b[43m \u001b[49m\u001b[38;5;241;43m*\u001b[39;49m\u001b[38;5;241;43m*\u001b[39;49m\u001b[43mkwargs\u001b[49m\u001b[43m)\u001b[49m\n\u001b[1;32m    106\u001b[0m \u001b[38;5;28;01mexcept\u001b[39;00m exception \u001b[38;5;28;01mas\u001b[39;00m e:\n",
      "File \u001b[0;32m~/Library/Python/3.9/lib/python/site-packages/ratelimit/decorators.py:80\u001b[0m, in \u001b[0;36mRateLimitDecorator.__call__.<locals>.wrapper\u001b[0;34m(*args, **kargs)\u001b[0m\n\u001b[1;32m     78\u001b[0m         \u001b[38;5;28;01mreturn\u001b[39;00m\n\u001b[0;32m---> 80\u001b[0m \u001b[38;5;28;01mreturn\u001b[39;00m \u001b[43mfunc\u001b[49m\u001b[43m(\u001b[49m\u001b[38;5;241;43m*\u001b[39;49m\u001b[43margs\u001b[49m\u001b[43m,\u001b[49m\u001b[43m \u001b[49m\u001b[38;5;241;43m*\u001b[39;49m\u001b[38;5;241;43m*\u001b[39;49m\u001b[43mkargs\u001b[49m\u001b[43m)\u001b[49m\n",
      "File \u001b[0;32m~/Library/Python/3.9/lib/python/site-packages/rhino_health/lib/rest_handler.py:94\u001b[0m, in \u001b[0;36mRestHandler._make_request\u001b[0;34m(self, method, base_url, url, params, data, adapter_kwargs)\u001b[0m\n\u001b[1;32m     93\u001b[0m         adapter\u001b[38;5;241m.\u001b[39mafter_request(request, response, adapter_kwargs)\n\u001b[0;32m---> 94\u001b[0m \u001b[38;5;28;01mreturn\u001b[39;00m \u001b[43mresponse\u001b[49m\u001b[38;5;241;43m.\u001b[39;49m\u001b[43m_response\u001b[49m\u001b[43m(\u001b[49m\u001b[43m)\u001b[49m\n",
      "File \u001b[0;32m~/Library/Python/3.9/lib/python/site-packages/rhino_health/lib/rest_api/api_response.py:64\u001b[0m, in \u001b[0;36mAPIResponse._response\u001b[0;34m(self)\u001b[0m\n\u001b[1;32m     63\u001b[0m \u001b[38;5;28;01mif\u001b[39;00m \u001b[38;5;28mself\u001b[39m\u001b[38;5;241m.\u001b[39m_request_failed():\n\u001b[0;32m---> 64\u001b[0m     \u001b[38;5;28;43mself\u001b[39;49m\u001b[38;5;241;43m.\u001b[39;49m\u001b[43mparse_and_raise_exception\u001b[49m\u001b[43m(\u001b[49m\u001b[38;5;28;43;01mNone\u001b[39;49;00m\u001b[43m)\u001b[49m\n\u001b[1;32m     65\u001b[0m \u001b[38;5;28;01mreturn\u001b[39;00m \u001b[38;5;28mself\u001b[39m\n",
      "File \u001b[0;32m~/Library/Python/3.9/lib/python/site-packages/rhino_health/lib/rest_api/api_response.py:134\u001b[0m, in \u001b[0;36mAPIResponse.parse_and_raise_exception\u001b[0;34m(self, e)\u001b[0m\n\u001b[1;32m    133\u001b[0m message \u001b[38;5;241m=\u001b[39m \u001b[38;5;28mself\u001b[39m\u001b[38;5;241m.\u001b[39m_get_error_message()\n\u001b[0;32m--> 134\u001b[0m \u001b[38;5;28;01mraise\u001b[39;00m \u001b[38;5;167;01mException\u001b[39;00m(\n\u001b[1;32m    135\u001b[0m     \u001b[38;5;124mf\u001b[39m\u001b[38;5;124m\"\u001b[39m\u001b[38;5;124mFailed to make request\u001b[39m\u001b[38;5;130;01m\\n\u001b[39;00m\u001b[38;5;124mStatus is \u001b[39m\u001b[38;5;132;01m{\u001b[39;00m\u001b[38;5;28mself\u001b[39m\u001b[38;5;241m.\u001b[39mraw_response\u001b[38;5;241m.\u001b[39mstatus_code\u001b[38;5;132;01m}\u001b[39;00m\u001b[38;5;124m, Error: \u001b[39m\u001b[38;5;132;01m{\u001b[39;00mmessage\u001b[38;5;132;01m}\u001b[39;00m\u001b[38;5;124m, Content is \u001b[39m\u001b[38;5;132;01m{\u001b[39;00m\u001b[38;5;28mself\u001b[39m\u001b[38;5;241m.\u001b[39mraw_response\u001b[38;5;241m.\u001b[39mcontent\u001b[38;5;132;01m}\u001b[39;00m\u001b[38;5;130;01m\\n\u001b[39;00m\u001b[38;5;132;01m{\u001b[39;00m\u001b[38;5;124m'\u001b[39m\u001b[38;5;124m'\u001b[39m\u001b[38;5;250m \u001b[39m\u001b[38;5;28;01mif\u001b[39;00m\u001b[38;5;250m \u001b[39me\u001b[38;5;250m \u001b[39m\u001b[38;5;129;01mis\u001b[39;00m\u001b[38;5;250m \u001b[39m\u001b[38;5;28;01mNone\u001b[39;00m\u001b[38;5;250m \u001b[39m\u001b[38;5;28;01melse\u001b[39;00m\u001b[38;5;250m \u001b[39m\u001b[38;5;124m'\u001b[39m\u001b[38;5;124mException is\u001b[39m\u001b[38;5;124m'\u001b[39m\u001b[38;5;250m \u001b[39m\u001b[38;5;241m+\u001b[39m\u001b[38;5;250m \u001b[39m\u001b[38;5;28mstr\u001b[39m(e)\u001b[38;5;132;01m}\u001b[39;00m\u001b[38;5;124m\"\u001b[39m\n\u001b[1;32m    136\u001b[0m )\n",
      "\u001b[0;31mException\u001b[0m: Failed to make request\nStatus is 400, Error: , Content is b'\\n<!doctype html>\\n<html lang=\"en\">\\n<head>\\n  <title>Bad Request (400)</title>\\n</head>\\n<body>\\n  <h1>Bad Request (400)</h1><p></p>\\n</body>\\n</html>\\n'\n",
      "\nThe above exception was the direct cause of the following exception:\n",
      "\u001b[0;31mException\u001b[0m                                 Traceback (most recent call last)",
      "Cell \u001b[0;32mIn[77], line 1\u001b[0m\n\u001b[0;32m----> 1\u001b[0m code_run \u001b[38;5;241m=\u001b[39m \u001b[43msession\u001b[49m\u001b[38;5;241;43m.\u001b[39;49m\u001b[43mcode_object\u001b[49m\u001b[38;5;241;43m.\u001b[39;49m\u001b[43mrun_code_object\u001b[49m\u001b[43m(\u001b[49m\u001b[43mcode_object_params\u001b[49m\u001b[43m)\u001b[49m\n",
      "File \u001b[0;32m~/Library/Python/3.9/lib/python/site-packages/rhino_health/lib/utils.py:71\u001b[0m, in \u001b[0;36mrhino_error_wrapper.<locals>.wrapper_func\u001b[0;34m(*args, **kwargs)\u001b[0m\n\u001b[1;32m     68\u001b[0m \u001b[38;5;129m@functools\u001b[39m\u001b[38;5;241m.\u001b[39mwraps(func)\n\u001b[1;32m     69\u001b[0m \u001b[38;5;28;01mdef\u001b[39;00m \u001b[38;5;21mwrapper_func\u001b[39m(\u001b[38;5;241m*\u001b[39margs, \u001b[38;5;241m*\u001b[39m\u001b[38;5;241m*\u001b[39mkwargs):\n\u001b[1;32m     70\u001b[0m     \u001b[38;5;28;01mtry\u001b[39;00m:\n\u001b[0;32m---> 71\u001b[0m         \u001b[38;5;28;01mreturn\u001b[39;00m \u001b[43mfunc\u001b[49m\u001b[43m(\u001b[49m\u001b[38;5;241;43m*\u001b[39;49m\u001b[43margs\u001b[49m\u001b[43m,\u001b[49m\u001b[43m \u001b[49m\u001b[38;5;241;43m*\u001b[39;49m\u001b[38;5;241;43m*\u001b[39;49m\u001b[43mkwargs\u001b[49m\u001b[43m)\u001b[49m\n\u001b[1;32m     72\u001b[0m     \u001b[38;5;28;01mexcept\u001b[39;00m \u001b[38;5;167;01mException\u001b[39;00m \u001b[38;5;28;01mas\u001b[39;00m e:\n\u001b[1;32m     73\u001b[0m         \u001b[38;5;28;01mif\u001b[39;00m \u001b[38;5;28misinstance\u001b[39m(e, RhinoSDKException):\n",
      "File \u001b[0;32m~/Library/Python/3.9/lib/python/site-packages/rhino_health/lib/endpoints/code_object/code_object_endpoints.py:201\u001b[0m, in \u001b[0;36mCodeObjectEndpoints.run_code_object\u001b[0;34m(self, code_object)\u001b[0m\n\u001b[1;32m    170\u001b[0m \u001b[38;5;250m\u001b[39m\u001b[38;5;124;03m\"\"\"\u001b[39;00m\n\u001b[1;32m    171\u001b[0m \u001b[38;5;124;03m@autoapi True\u001b[39;00m\n\u001b[1;32m    172\u001b[0m \u001b[38;5;124;03mReturns the result of starting a CodeRun\u001b[39;00m\n\u001b[0;32m   (...)\u001b[0m\n\u001b[1;32m    196\u001b[0m \u001b[38;5;124;03mrhino_health.lib.endpoints.code_object.code_object_dataclass.CodeObjectRunAsyncResponse : CodeObjectRunAsyncResponse Dataclass\u001b[39;00m\n\u001b[1;32m    197\u001b[0m \u001b[38;5;124;03m\"\"\"\u001b[39;00m\n\u001b[1;32m    198\u001b[0m output_dataclass \u001b[38;5;241m=\u001b[39m (\n\u001b[1;32m    199\u001b[0m     CodeObjectRunSyncResponse \u001b[38;5;28;01mif\u001b[39;00m code_object\u001b[38;5;241m.\u001b[39msync \u001b[38;5;28;01melse\u001b[39;00m CodeObjectRunAsyncResponse\n\u001b[1;32m    200\u001b[0m )\n\u001b[0;32m--> 201\u001b[0m \u001b[38;5;28;01mreturn\u001b[39;00m \u001b[38;5;28;43mself\u001b[39;49m\u001b[38;5;241;43m.\u001b[39;49m\u001b[43msession\u001b[49m\u001b[38;5;241;43m.\u001b[39;49m\u001b[43mpost\u001b[49m\u001b[43m(\u001b[49m\n\u001b[1;32m    202\u001b[0m \u001b[43m    \u001b[49m\u001b[38;5;124;43mf\u001b[39;49m\u001b[38;5;124;43m\"\u001b[39;49m\u001b[38;5;124;43m/code_objects/\u001b[39;49m\u001b[38;5;132;43;01m{\u001b[39;49;00m\u001b[43mcode_object\u001b[49m\u001b[38;5;241;43m.\u001b[39;49m\u001b[43mcode_object_uid\u001b[49m\u001b[38;5;132;43;01m}\u001b[39;49;00m\u001b[38;5;124;43m/run\u001b[39;49m\u001b[38;5;124;43m\"\u001b[39;49m\u001b[43m,\u001b[49m\n\u001b[1;32m    203\u001b[0m \u001b[43m    \u001b[49m\u001b[43mdata\u001b[49m\u001b[38;5;241;43m=\u001b[39;49m\u001b[43mcode_object\u001b[49m\u001b[38;5;241;43m.\u001b[39;49m\u001b[43mdict\u001b[49m\u001b[43m(\u001b[49m\u001b[43mby_alias\u001b[49m\u001b[38;5;241;43m=\u001b[39;49m\u001b[38;5;28;43;01mTrue\u001b[39;49;00m\u001b[43m,\u001b[49m\u001b[43m \u001b[49m\u001b[43mexclude_unset\u001b[49m\u001b[38;5;241;43m=\u001b[39;49m\u001b[38;5;28;43;01mTrue\u001b[39;49;00m\u001b[43m)\u001b[49m\u001b[43m,\u001b[49m\n\u001b[1;32m    204\u001b[0m \u001b[43m    \u001b[49m\u001b[43madapter_kwargs\u001b[49m\u001b[38;5;241;43m=\u001b[39;49m\u001b[43m{\u001b[49m\u001b[38;5;124;43m\"\u001b[39;49m\u001b[38;5;124;43mdata_as_json\u001b[39;49m\u001b[38;5;124;43m\"\u001b[39;49m\u001b[43m:\u001b[49m\u001b[43m \u001b[49m\u001b[38;5;28;43;01mTrue\u001b[39;49;00m\u001b[43m}\u001b[49m\u001b[43m,\u001b[49m\n\u001b[1;32m    205\u001b[0m \u001b[43m\u001b[49m\u001b[43m)\u001b[49m\u001b[38;5;241m.\u001b[39mto_dataclass(output_dataclass)\n",
      "File \u001b[0;32m~/Library/Python/3.9/lib/python/site-packages/rhino_health/lib/utils.py:75\u001b[0m, in \u001b[0;36mrhino_error_wrapper.<locals>.wrapper_func\u001b[0;34m(*args, **kwargs)\u001b[0m\n\u001b[1;32m     73\u001b[0m \u001b[38;5;28;01mif\u001b[39;00m \u001b[38;5;28misinstance\u001b[39m(e, RhinoSDKException):\n\u001b[1;32m     74\u001b[0m     \u001b[38;5;28;01mraise\u001b[39;00m\n\u001b[0;32m---> 75\u001b[0m \u001b[38;5;28;01mraise\u001b[39;00m RhinoSDKException(e) \u001b[38;5;28;01mfrom\u001b[39;00m \u001b[38;5;21;01me\u001b[39;00m\n",
      "\u001b[0;31mException\u001b[0m: Failed to make request\nStatus is 400, Error: , Content is b'\\n<!doctype html>\\n<html lang=\"en\">\\n<head>\\n  <title>Bad Request (400)</title>\\n</head>\\n<body>\\n  <h1>Bad Request (400)</h1><p></p>\\n</body>\\n</html>\\n'\n"
     ]
    }
   ],
   "source": [
    "# NOTE: This step has been verified already, but failing due to collaborator that hasn't accepted the permissions policy.\n",
    "\n",
    "code_run = session.code_object.run_code_object(code_object_params)"
   ]
  },
  {
   "cell_type": "code",
   "execution_count": null,
   "id": "7384d111-6c63-465e-8d5b-a1c0746f1ddd",
   "metadata": {
    "collapsed": true,
    "jupyter": {
     "outputs_hidden": true
    }
   },
   "outputs": [
    {
     "ename": "Exception",
     "evalue": "Failed to make request\nStatus is 400, Error: , Content is b'\\n<!doctype html>\\n<html lang=\"en\">\\n<head>\\n  <title>Bad Request (400)</title>\\n</head>\\n<body>\\n  <h1>Bad Request (400)</h1><p></p>\\n</body>\\n</html>\\n'\n",
     "output_type": "error",
     "traceback": [
      "\u001b[0;31m---------------------------------------------------------------------------\u001b[0m",
      "\u001b[0;31mException\u001b[0m                                 Traceback (most recent call last)",
      "File \u001b[0;32m~/Library/Python/3.9/lib/python/site-packages/rhino_health/lib/utils.py:71\u001b[0m, in \u001b[0;36mrhino_error_wrapper.<locals>.wrapper_func\u001b[0;34m(*args, **kwargs)\u001b[0m\n\u001b[1;32m     70\u001b[0m \u001b[38;5;28;01mtry\u001b[39;00m:\n\u001b[0;32m---> 71\u001b[0m     \u001b[38;5;28;01mreturn\u001b[39;00m \u001b[43mfunc\u001b[49m\u001b[43m(\u001b[49m\u001b[38;5;241;43m*\u001b[39;49m\u001b[43margs\u001b[49m\u001b[43m,\u001b[49m\u001b[43m \u001b[49m\u001b[38;5;241;43m*\u001b[39;49m\u001b[38;5;241;43m*\u001b[39;49m\u001b[43mkwargs\u001b[49m\u001b[43m)\u001b[49m\n\u001b[1;32m     72\u001b[0m \u001b[38;5;28;01mexcept\u001b[39;00m \u001b[38;5;167;01mException\u001b[39;00m \u001b[38;5;28;01mas\u001b[39;00m e:\n",
      "File \u001b[0;32m~/Library/Python/3.9/lib/python/site-packages/rhino_health/lib/rhino_session.py:153\u001b[0m, in \u001b[0;36mRhinoSession.post\u001b[0;34m(self, url, data, params, adapter_kwargs)\u001b[0m\n\u001b[1;32m    117\u001b[0m \u001b[38;5;250m\u001b[39m\u001b[38;5;124;03m\"\"\"\u001b[39;00m\n\u001b[1;32m    118\u001b[0m \u001b[38;5;124;03m@autoapi False\u001b[39;00m\n\u001b[1;32m    119\u001b[0m \u001b[38;5;124;03mLow level interface for submitting a REST POST request.\u001b[39;00m\n\u001b[0;32m   (...)\u001b[0m\n\u001b[1;32m    151\u001b[0m \u001b[38;5;124;03mrhino_health.lib.rest_api.api_response.APIResponse: Response object\u001b[39;00m\n\u001b[1;32m    152\u001b[0m \u001b[38;5;124;03m\"\"\"\u001b[39;00m\n\u001b[0;32m--> 153\u001b[0m \u001b[38;5;28;01mreturn\u001b[39;00m \u001b[38;5;28;43mself\u001b[39;49m\u001b[38;5;241;43m.\u001b[39;49m\u001b[43mrest_adapter\u001b[49m\u001b[38;5;241;43m.\u001b[39;49m\u001b[43mpost\u001b[49m\u001b[43m(\u001b[49m\n\u001b[1;32m    154\u001b[0m \u001b[43m    \u001b[49m\u001b[43murl\u001b[49m\u001b[38;5;241;43m=\u001b[39;49m\u001b[43murl\u001b[49m\u001b[43m,\u001b[49m\n\u001b[1;32m    155\u001b[0m \u001b[43m    \u001b[49m\u001b[43mdata\u001b[49m\u001b[38;5;241;43m=\u001b[39;49m\u001b[43mdata\u001b[49m\u001b[43m,\u001b[49m\n\u001b[1;32m    156\u001b[0m \u001b[43m    \u001b[49m\u001b[43mparams\u001b[49m\u001b[38;5;241;43m=\u001b[39;49m\u001b[43mparams\u001b[49m\u001b[43m,\u001b[49m\n\u001b[1;32m    157\u001b[0m \u001b[43m    \u001b[49m\u001b[43madapter_kwargs\u001b[49m\u001b[38;5;241;43m=\u001b[39;49m\u001b[43madapter_kwargs\u001b[49m\u001b[43m,\u001b[49m\n\u001b[1;32m    158\u001b[0m \u001b[43m\u001b[49m\u001b[43m)\u001b[49m\n",
      "File \u001b[0;32m~/Library/Python/3.9/lib/python/site-packages/rhino_health/lib/rest_handler.py:50\u001b[0m, in \u001b[0;36mRestHandler.post\u001b[0;34m(self, url, data, params, adapter_kwargs)\u001b[0m\n\u001b[1;32m     43\u001b[0m \u001b[38;5;28;01mdef\u001b[39;00m \u001b[38;5;21mpost\u001b[39m(\n\u001b[1;32m     44\u001b[0m     \u001b[38;5;28mself\u001b[39m,\n\u001b[1;32m     45\u001b[0m     url: \u001b[38;5;28mstr\u001b[39m,\n\u001b[0;32m   (...)\u001b[0m\n\u001b[1;32m     48\u001b[0m     adapter_kwargs: Optional[\u001b[38;5;28mdict\u001b[39m] \u001b[38;5;241m=\u001b[39m \u001b[38;5;28;01mNone\u001b[39;00m,\n\u001b[1;32m     49\u001b[0m ) \u001b[38;5;241m-\u001b[39m\u001b[38;5;241m>\u001b[39m APIResponse:\n\u001b[0;32m---> 50\u001b[0m     \u001b[38;5;28;01mreturn\u001b[39;00m \u001b[38;5;28;43mself\u001b[39;49m\u001b[38;5;241;43m.\u001b[39;49m\u001b[43m_make_request\u001b[49m\u001b[43m(\u001b[49m\n\u001b[1;32m     51\u001b[0m \u001b[43m        \u001b[49m\u001b[43mmethod\u001b[49m\u001b[38;5;241;43m=\u001b[39;49m\u001b[38;5;124;43m\"\u001b[39;49m\u001b[38;5;124;43mpost\u001b[39;49m\u001b[38;5;124;43m\"\u001b[39;49m\u001b[43m,\u001b[49m\n\u001b[1;32m     52\u001b[0m \u001b[43m        \u001b[49m\u001b[43mbase_url\u001b[49m\u001b[38;5;241;43m=\u001b[39;49m\u001b[38;5;28;43mself\u001b[39;49m\u001b[38;5;241;43m.\u001b[39;49m\u001b[43mbase_url\u001b[49m\u001b[43m,\u001b[49m\n\u001b[1;32m     53\u001b[0m \u001b[43m        \u001b[49m\u001b[43murl\u001b[49m\u001b[38;5;241;43m=\u001b[39;49m\u001b[43murl\u001b[49m\u001b[43m,\u001b[49m\n\u001b[1;32m     54\u001b[0m \u001b[43m        \u001b[49m\u001b[43mparams\u001b[49m\u001b[38;5;241;43m=\u001b[39;49m\u001b[43mparams\u001b[49m\u001b[43m,\u001b[49m\n\u001b[1;32m     55\u001b[0m \u001b[43m        \u001b[49m\u001b[43mdata\u001b[49m\u001b[38;5;241;43m=\u001b[39;49m\u001b[43mdata\u001b[49m\u001b[43m,\u001b[49m\n\u001b[1;32m     56\u001b[0m \u001b[43m        \u001b[49m\u001b[43madapter_kwargs\u001b[49m\u001b[38;5;241;43m=\u001b[39;49m\u001b[43madapter_kwargs\u001b[49m\u001b[43m,\u001b[49m\n\u001b[1;32m     57\u001b[0m \u001b[43m    \u001b[49m\u001b[43m)\u001b[49m\n",
      "File \u001b[0;32m~/Library/Python/3.9/lib/python/site-packages/backoff/_sync.py:105\u001b[0m, in \u001b[0;36mretry_exception.<locals>.retry\u001b[0;34m(*args, **kwargs)\u001b[0m\n\u001b[1;32m    104\u001b[0m \u001b[38;5;28;01mtry\u001b[39;00m:\n\u001b[0;32m--> 105\u001b[0m     ret \u001b[38;5;241m=\u001b[39m \u001b[43mtarget\u001b[49m\u001b[43m(\u001b[49m\u001b[38;5;241;43m*\u001b[39;49m\u001b[43margs\u001b[49m\u001b[43m,\u001b[49m\u001b[43m \u001b[49m\u001b[38;5;241;43m*\u001b[39;49m\u001b[38;5;241;43m*\u001b[39;49m\u001b[43mkwargs\u001b[49m\u001b[43m)\u001b[49m\n\u001b[1;32m    106\u001b[0m \u001b[38;5;28;01mexcept\u001b[39;00m exception \u001b[38;5;28;01mas\u001b[39;00m e:\n",
      "File \u001b[0;32m~/Library/Python/3.9/lib/python/site-packages/ratelimit/decorators.py:80\u001b[0m, in \u001b[0;36mRateLimitDecorator.__call__.<locals>.wrapper\u001b[0;34m(*args, **kargs)\u001b[0m\n\u001b[1;32m     78\u001b[0m         \u001b[38;5;28;01mreturn\u001b[39;00m\n\u001b[0;32m---> 80\u001b[0m \u001b[38;5;28;01mreturn\u001b[39;00m \u001b[43mfunc\u001b[49m\u001b[43m(\u001b[49m\u001b[38;5;241;43m*\u001b[39;49m\u001b[43margs\u001b[49m\u001b[43m,\u001b[49m\u001b[43m \u001b[49m\u001b[38;5;241;43m*\u001b[39;49m\u001b[38;5;241;43m*\u001b[39;49m\u001b[43mkargs\u001b[49m\u001b[43m)\u001b[49m\n",
      "File \u001b[0;32m~/Library/Python/3.9/lib/python/site-packages/rhino_health/lib/rest_handler.py:94\u001b[0m, in \u001b[0;36mRestHandler._make_request\u001b[0;34m(self, method, base_url, url, params, data, adapter_kwargs)\u001b[0m\n\u001b[1;32m     93\u001b[0m         adapter\u001b[38;5;241m.\u001b[39mafter_request(request, response, adapter_kwargs)\n\u001b[0;32m---> 94\u001b[0m \u001b[38;5;28;01mreturn\u001b[39;00m \u001b[43mresponse\u001b[49m\u001b[38;5;241;43m.\u001b[39;49m\u001b[43m_response\u001b[49m\u001b[43m(\u001b[49m\u001b[43m)\u001b[49m\n",
      "File \u001b[0;32m~/Library/Python/3.9/lib/python/site-packages/rhino_health/lib/rest_api/api_response.py:64\u001b[0m, in \u001b[0;36mAPIResponse._response\u001b[0;34m(self)\u001b[0m\n\u001b[1;32m     63\u001b[0m \u001b[38;5;28;01mif\u001b[39;00m \u001b[38;5;28mself\u001b[39m\u001b[38;5;241m.\u001b[39m_request_failed():\n\u001b[0;32m---> 64\u001b[0m     \u001b[38;5;28;43mself\u001b[39;49m\u001b[38;5;241;43m.\u001b[39;49m\u001b[43mparse_and_raise_exception\u001b[49m\u001b[43m(\u001b[49m\u001b[38;5;28;43;01mNone\u001b[39;49;00m\u001b[43m)\u001b[49m\n\u001b[1;32m     65\u001b[0m \u001b[38;5;28;01mreturn\u001b[39;00m \u001b[38;5;28mself\u001b[39m\n",
      "File \u001b[0;32m~/Library/Python/3.9/lib/python/site-packages/rhino_health/lib/rest_api/api_response.py:134\u001b[0m, in \u001b[0;36mAPIResponse.parse_and_raise_exception\u001b[0;34m(self, e)\u001b[0m\n\u001b[1;32m    133\u001b[0m message \u001b[38;5;241m=\u001b[39m \u001b[38;5;28mself\u001b[39m\u001b[38;5;241m.\u001b[39m_get_error_message()\n\u001b[0;32m--> 134\u001b[0m \u001b[38;5;28;01mraise\u001b[39;00m \u001b[38;5;167;01mException\u001b[39;00m(\n\u001b[1;32m    135\u001b[0m     \u001b[38;5;124mf\u001b[39m\u001b[38;5;124m\"\u001b[39m\u001b[38;5;124mFailed to make request\u001b[39m\u001b[38;5;130;01m\\n\u001b[39;00m\u001b[38;5;124mStatus is \u001b[39m\u001b[38;5;132;01m{\u001b[39;00m\u001b[38;5;28mself\u001b[39m\u001b[38;5;241m.\u001b[39mraw_response\u001b[38;5;241m.\u001b[39mstatus_code\u001b[38;5;132;01m}\u001b[39;00m\u001b[38;5;124m, Error: \u001b[39m\u001b[38;5;132;01m{\u001b[39;00mmessage\u001b[38;5;132;01m}\u001b[39;00m\u001b[38;5;124m, Content is \u001b[39m\u001b[38;5;132;01m{\u001b[39;00m\u001b[38;5;28mself\u001b[39m\u001b[38;5;241m.\u001b[39mraw_response\u001b[38;5;241m.\u001b[39mcontent\u001b[38;5;132;01m}\u001b[39;00m\u001b[38;5;130;01m\\n\u001b[39;00m\u001b[38;5;132;01m{\u001b[39;00m\u001b[38;5;124m'\u001b[39m\u001b[38;5;124m'\u001b[39m\u001b[38;5;250m \u001b[39m\u001b[38;5;28;01mif\u001b[39;00m\u001b[38;5;250m \u001b[39me\u001b[38;5;250m \u001b[39m\u001b[38;5;129;01mis\u001b[39;00m\u001b[38;5;250m \u001b[39m\u001b[38;5;28;01mNone\u001b[39;00m\u001b[38;5;250m \u001b[39m\u001b[38;5;28;01melse\u001b[39;00m\u001b[38;5;250m \u001b[39m\u001b[38;5;124m'\u001b[39m\u001b[38;5;124mException is\u001b[39m\u001b[38;5;124m'\u001b[39m\u001b[38;5;250m \u001b[39m\u001b[38;5;241m+\u001b[39m\u001b[38;5;250m \u001b[39m\u001b[38;5;28mstr\u001b[39m(e)\u001b[38;5;132;01m}\u001b[39;00m\u001b[38;5;124m\"\u001b[39m\n\u001b[1;32m    136\u001b[0m )\n",
      "\u001b[0;31mException\u001b[0m: Failed to make request\nStatus is 400, Error: , Content is b'\\n<!doctype html>\\n<html lang=\"en\">\\n<head>\\n  <title>Bad Request (400)</title>\\n</head>\\n<body>\\n  <h1>Bad Request (400)</h1><p></p>\\n</body>\\n</html>\\n'\n",
      "\nThe above exception was the direct cause of the following exception:\n",
      "\u001b[0;31mException\u001b[0m                                 Traceback (most recent call last)",
      "Cell \u001b[0;32mIn[31], line 9\u001b[0m\n\u001b[1;32m      1\u001b[0m code_object \u001b[38;5;241m=\u001b[39m session\u001b[38;5;241m.\u001b[39mcode_object\u001b[38;5;241m.\u001b[39mget_code_object_by_name(\u001b[38;5;124m\"\u001b[39m\u001b[38;5;124mDICOM to JPG Transformation Code\u001b[39m\u001b[38;5;124m\"\u001b[39m, project_uid\u001b[38;5;241m=\u001b[39mproject_uid)\n\u001b[1;32m      3\u001b[0m code_object_params \u001b[38;5;241m=\u001b[39m CodeObjectRunInput(\n\u001b[1;32m      4\u001b[0m   code_object_uid \u001b[38;5;241m=\u001b[39m code_object\u001b[38;5;241m.\u001b[39muid,\n\u001b[1;32m      5\u001b[0m   input_dataset_uids \u001b[38;5;241m=\u001b[39m [[aidev_cxr_cohort_uid],[hco_cxr_cohort_uid]],\n\u001b[1;32m      6\u001b[0m   output_dataset_names_suffix \u001b[38;5;241m=\u001b[39m \u001b[38;5;124m\"\u001b[39m\u001b[38;5;124m_conv\u001b[39m\u001b[38;5;124m\"\u001b[39m,\n\u001b[1;32m      7\u001b[0m   timeout_seconds \u001b[38;5;241m=\u001b[39m \u001b[38;5;241m600\u001b[39m\n\u001b[1;32m      8\u001b[0m )\n\u001b[0;32m----> 9\u001b[0m code_run \u001b[38;5;241m=\u001b[39m \u001b[43msession\u001b[49m\u001b[38;5;241;43m.\u001b[39;49m\u001b[43mcode_object\u001b[49m\u001b[38;5;241;43m.\u001b[39;49m\u001b[43mrun_code_object\u001b[49m\u001b[43m(\u001b[49m\u001b[43mcode_object_params\u001b[49m\u001b[43m)\u001b[49m\n\u001b[1;32m     10\u001b[0m run_result \u001b[38;5;241m=\u001b[39m code_run\u001b[38;5;241m.\u001b[39mwait_for_completion()\n\u001b[1;32m     11\u001b[0m \u001b[38;5;28mprint\u001b[39m(\u001b[38;5;124mf\u001b[39m\u001b[38;5;124m\"\u001b[39m\u001b[38;5;124mFinished running \u001b[39m\u001b[38;5;132;01m{\u001b[39;00mcode_object\u001b[38;5;241m.\u001b[39mname\u001b[38;5;132;01m}\u001b[39;00m\u001b[38;5;124m\"\u001b[39m)\n",
      "File \u001b[0;32m~/Library/Python/3.9/lib/python/site-packages/rhino_health/lib/utils.py:71\u001b[0m, in \u001b[0;36mrhino_error_wrapper.<locals>.wrapper_func\u001b[0;34m(*args, **kwargs)\u001b[0m\n\u001b[1;32m     68\u001b[0m \u001b[38;5;129m@functools\u001b[39m\u001b[38;5;241m.\u001b[39mwraps(func)\n\u001b[1;32m     69\u001b[0m \u001b[38;5;28;01mdef\u001b[39;00m \u001b[38;5;21mwrapper_func\u001b[39m(\u001b[38;5;241m*\u001b[39margs, \u001b[38;5;241m*\u001b[39m\u001b[38;5;241m*\u001b[39mkwargs):\n\u001b[1;32m     70\u001b[0m     \u001b[38;5;28;01mtry\u001b[39;00m:\n\u001b[0;32m---> 71\u001b[0m         \u001b[38;5;28;01mreturn\u001b[39;00m \u001b[43mfunc\u001b[49m\u001b[43m(\u001b[49m\u001b[38;5;241;43m*\u001b[39;49m\u001b[43margs\u001b[49m\u001b[43m,\u001b[49m\u001b[43m \u001b[49m\u001b[38;5;241;43m*\u001b[39;49m\u001b[38;5;241;43m*\u001b[39;49m\u001b[43mkwargs\u001b[49m\u001b[43m)\u001b[49m\n\u001b[1;32m     72\u001b[0m     \u001b[38;5;28;01mexcept\u001b[39;00m \u001b[38;5;167;01mException\u001b[39;00m \u001b[38;5;28;01mas\u001b[39;00m e:\n\u001b[1;32m     73\u001b[0m         \u001b[38;5;28;01mif\u001b[39;00m \u001b[38;5;28misinstance\u001b[39m(e, RhinoSDKException):\n",
      "File \u001b[0;32m~/Library/Python/3.9/lib/python/site-packages/rhino_health/lib/endpoints/code_object/code_object_endpoints.py:201\u001b[0m, in \u001b[0;36mCodeObjectEndpoints.run_code_object\u001b[0;34m(self, code_object)\u001b[0m\n\u001b[1;32m    170\u001b[0m \u001b[38;5;250m\u001b[39m\u001b[38;5;124;03m\"\"\"\u001b[39;00m\n\u001b[1;32m    171\u001b[0m \u001b[38;5;124;03m@autoapi True\u001b[39;00m\n\u001b[1;32m    172\u001b[0m \u001b[38;5;124;03mReturns the result of starting a CodeRun\u001b[39;00m\n\u001b[0;32m   (...)\u001b[0m\n\u001b[1;32m    196\u001b[0m \u001b[38;5;124;03mrhino_health.lib.endpoints.code_object.code_object_dataclass.CodeObjectRunAsyncResponse : CodeObjectRunAsyncResponse Dataclass\u001b[39;00m\n\u001b[1;32m    197\u001b[0m \u001b[38;5;124;03m\"\"\"\u001b[39;00m\n\u001b[1;32m    198\u001b[0m output_dataclass \u001b[38;5;241m=\u001b[39m (\n\u001b[1;32m    199\u001b[0m     CodeObjectRunSyncResponse \u001b[38;5;28;01mif\u001b[39;00m code_object\u001b[38;5;241m.\u001b[39msync \u001b[38;5;28;01melse\u001b[39;00m CodeObjectRunAsyncResponse\n\u001b[1;32m    200\u001b[0m )\n\u001b[0;32m--> 201\u001b[0m \u001b[38;5;28;01mreturn\u001b[39;00m \u001b[38;5;28;43mself\u001b[39;49m\u001b[38;5;241;43m.\u001b[39;49m\u001b[43msession\u001b[49m\u001b[38;5;241;43m.\u001b[39;49m\u001b[43mpost\u001b[49m\u001b[43m(\u001b[49m\n\u001b[1;32m    202\u001b[0m \u001b[43m    \u001b[49m\u001b[38;5;124;43mf\u001b[39;49m\u001b[38;5;124;43m\"\u001b[39;49m\u001b[38;5;124;43m/code_objects/\u001b[39;49m\u001b[38;5;132;43;01m{\u001b[39;49;00m\u001b[43mcode_object\u001b[49m\u001b[38;5;241;43m.\u001b[39;49m\u001b[43mcode_object_uid\u001b[49m\u001b[38;5;132;43;01m}\u001b[39;49;00m\u001b[38;5;124;43m/run\u001b[39;49m\u001b[38;5;124;43m\"\u001b[39;49m\u001b[43m,\u001b[49m\n\u001b[1;32m    203\u001b[0m \u001b[43m    \u001b[49m\u001b[43mdata\u001b[49m\u001b[38;5;241;43m=\u001b[39;49m\u001b[43mcode_object\u001b[49m\u001b[38;5;241;43m.\u001b[39;49m\u001b[43mdict\u001b[49m\u001b[43m(\u001b[49m\u001b[43mby_alias\u001b[49m\u001b[38;5;241;43m=\u001b[39;49m\u001b[38;5;28;43;01mTrue\u001b[39;49;00m\u001b[43m,\u001b[49m\u001b[43m \u001b[49m\u001b[43mexclude_unset\u001b[49m\u001b[38;5;241;43m=\u001b[39;49m\u001b[38;5;28;43;01mTrue\u001b[39;49;00m\u001b[43m)\u001b[49m\u001b[43m,\u001b[49m\n\u001b[1;32m    204\u001b[0m \u001b[43m    \u001b[49m\u001b[43madapter_kwargs\u001b[49m\u001b[38;5;241;43m=\u001b[39;49m\u001b[43m{\u001b[49m\u001b[38;5;124;43m\"\u001b[39;49m\u001b[38;5;124;43mdata_as_json\u001b[39;49m\u001b[38;5;124;43m\"\u001b[39;49m\u001b[43m:\u001b[49m\u001b[43m \u001b[49m\u001b[38;5;28;43;01mTrue\u001b[39;49;00m\u001b[43m}\u001b[49m\u001b[43m,\u001b[49m\n\u001b[1;32m    205\u001b[0m \u001b[43m\u001b[49m\u001b[43m)\u001b[49m\u001b[38;5;241m.\u001b[39mto_dataclass(output_dataclass)\n",
      "File \u001b[0;32m~/Library/Python/3.9/lib/python/site-packages/rhino_health/lib/utils.py:75\u001b[0m, in \u001b[0;36mrhino_error_wrapper.<locals>.wrapper_func\u001b[0;34m(*args, **kwargs)\u001b[0m\n\u001b[1;32m     73\u001b[0m \u001b[38;5;28;01mif\u001b[39;00m \u001b[38;5;28misinstance\u001b[39m(e, RhinoSDKException):\n\u001b[1;32m     74\u001b[0m     \u001b[38;5;28;01mraise\u001b[39;00m\n\u001b[0;32m---> 75\u001b[0m \u001b[38;5;28;01mraise\u001b[39;00m RhinoSDKException(e) \u001b[38;5;28;01mfrom\u001b[39;00m \u001b[38;5;21;01me\u001b[39;00m\n",
      "\u001b[0;31mException\u001b[0m: Failed to make request\nStatus is 400, Error: , Content is b'\\n<!doctype html>\\n<html lang=\"en\">\\n<head>\\n  <title>Bad Request (400)</title>\\n</head>\\n<body>\\n  <h1>Bad Request (400)</h1><p></p>\\n</body>\\n</html>\\n'\n"
     ]
    }
   ],
   "source": [
    "# NOTE: This step has been verified already, but failing due to collaborator that hasn't accepted the permissions policy.\n",
    "\n",
    "run_result = code_run.wait_for_completion()\n",
    "print(f\"Finished running {code_object.name}\")\n",
    "print(f\"Result status is '{run_result.status.value}', errors={run_result.result_info.get('errors') if run_result.result_info else None}\")"
   ]
  },
  {
   "cell_type": "code",
   "execution_count": null,
   "id": "ebedd33d-e6c8-429f-879a-3662dafdc5a3",
   "metadata": {},
   "outputs": [],
   "source": []
  },
  {
   "cell_type": "code",
   "execution_count": null,
   "id": "a6495db3-4f4d-4a03-a71f-22428bb69135",
   "metadata": {},
   "outputs": [],
   "source": []
  },
  {
   "cell_type": "code",
   "execution_count": null,
   "id": "0f0126df-5b6e-4e94-afe2-480f9f14913e",
   "metadata": {},
   "outputs": [],
   "source": []
  }
 ],
 "metadata": {
  "kernelspec": {
   "display_name": "Python 3 (ipykernel)",
   "language": "python",
   "name": "python3"
  },
  "language_info": {
   "codemirror_mode": {
    "name": "ipython",
    "version": 3
   },
   "file_extension": ".py",
   "mimetype": "text/x-python",
   "name": "python",
   "nbconvert_exporter": "python",
   "pygments_lexer": "ipython3",
   "version": "3.9.6"
  }
 },
 "nbformat": 4,
 "nbformat_minor": 5
}
