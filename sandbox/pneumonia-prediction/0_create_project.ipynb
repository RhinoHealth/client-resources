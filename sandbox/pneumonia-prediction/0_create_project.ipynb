{
 "cells": [
  {
   "cell_type": "markdown",
   "id": "ec1c2f93-3841-423e-a5dc-3cb1628a84bb",
   "metadata": {},
   "source": [
    "# Imports"
   ]
  },
  {
   "cell_type": "code",
   "execution_count": 1,
   "id": "d4eafa85-5262-4978-a7c7-b6c11167d536",
   "metadata": {},
   "outputs": [
    {
     "name": "stderr",
     "output_type": "stream",
     "text": [
      "/Users/drewafromsky/Library/Python/3.9/lib/python/site-packages/urllib3/__init__.py:35: NotOpenSSLWarning: urllib3 v2 only supports OpenSSL 1.1.1+, currently the 'ssl' module is compiled with 'LibreSSL 2.8.3'. See: https://github.com/urllib3/urllib3/issues/3020\n",
      "  warnings.warn(\n"
     ]
    }
   ],
   "source": [
    "import getpass\n",
    "from pprint import pprint\n",
    "\n",
    "import rhino_health as rh\n",
    "from rhino_health.lib.endpoints.code_object.code_object_dataclass import (\n",
    "    CodeObject,\n",
    "    CodeObjectCreateInput,\n",
    "    CodeObjectRunInput,\n",
    "    CodeTypes\n",
    ")\n",
    "from rhino_health.lib.endpoints.sql_query.sql_query_dataclass import (\n",
    "    SQLQueryImportInput,\n",
    "    SQLQueryInput,\n",
    "    SQLServerTypes,\n",
    "    ConnectionDetails\n",
    ")\n",
    "from rhino_health.lib.endpoints.project.project_dataclass import ProjectCreateInput, \n",
    "from rhino_health.lib.endpoints.dataset.dataset_dataclass import DatasetCreateInput\n",
    "from rhino_health.lib.endpoints.data_schema.data_schema_dataclass import DataSchemaCreateInput"
   ]
  },
  {
   "cell_type": "markdown",
   "id": "b8f48c6f-34e1-41c3-bbdd-edffa9ba0612",
   "metadata": {},
   "source": [
    "# Login and Create a Rhino Session\n",
    "- Allows access to various endpoints directly from the RhinoSession\n",
    "- Access endpoints at the following levels: `code_object`, `code_run`,`dataset`,`data_schema`,`federated_dataset`,`project`,`sql_query`,`user`, `workgroup`"
   ]
  },
  {
   "cell_type": "code",
   "execution_count": 3,
   "id": "474e990f-c8a0-471d-825f-74d63231cd5d",
   "metadata": {},
   "outputs": [
    {
     "name": "stdout",
     "output_type": "stream",
     "text": [
      "Logging In\n"
     ]
    },
    {
     "name": "stdin",
     "output_type": "stream",
     "text": [
      " ········\n"
     ]
    },
    {
     "name": "stdout",
     "output_type": "stream",
     "text": [
      "Logged In\n"
     ]
    }
   ],
   "source": [
    "my_username='drew@rhinohealth.com'\n",
    "\n",
    "print(\"Logging In\")\n",
    "session = rh.login(\n",
    "    username=my_username, \n",
    "    password=getpass.getpass(), \n",
    "    show_traceback=True,\n",
    "    rhino_api_url='https://dev.rhinohealth.com/api/'\n",
    ")\n",
    "print(\"Logged In\")"
   ]
  },
  {
   "cell_type": "markdown",
   "id": "faa5ca62-ce20-407c-8001-56248322ada8",
   "metadata": {},
   "source": [
    "# Create a New Project"
   ]
  },
  {
   "cell_type": "code",
   "execution_count": 12,
   "id": "71e98e27-2991-4594-8ddf-87873cecb505",
   "metadata": {},
   "outputs": [
    {
     "name": "stdout",
     "output_type": "stream",
     "text": [
      "97d7456b-baef-4d88-bfb1-afd4975eaff2\n"
     ]
    }
   ],
   "source": [
    "primary_workgroup_uid = session.current_user.primary_workgroup.uid\n",
    "print(primary_workgroup_uid)"
   ]
  },
  {
   "cell_type": "code",
   "execution_count": 10,
   "id": "d649448c-9fbc-4fdc-9e91-e73333d48759",
   "metadata": {},
   "outputs": [],
   "source": [
    "# Input args for creating a new project with default permissions\n",
    "new_project = ProjectCreateInput(\n",
    "    session=session,\n",
    "    name=\"Federated Datasets and Predictive Modeling (Setup Project + Collab) - drew@\",\n",
    "    description=\"Example Project for end-to-end Federated Modeling (project creation, \\\n",
    "                 add collaborator (invite + accept), Data Ext/Eng, Stat Analysis, training, and evaluation\",\n",
    "    type=\"Validation\",\n",
    "    primary_workgroup_uid=primary_workgroup_uid,\n",
    ")\n",
    "\n",
    "# Adds a new project owned by the currently logged in user.\n",
    "project = session.project.add_project(new_project)"
   ]
  },
  {
   "cell_type": "code",
   "execution_count": 25,
   "id": "e698cce9-2a0c-4e4f-9da6-26032f17f866",
   "metadata": {},
   "outputs": [
    {
     "name": "stdout",
     "output_type": "stream",
     "text": [
      "Federated Datasets and Predictive Modeling (Setup Project + Collab) - drew@ \n",
      "\n",
      "Project session=<rhino_health.lib.rhino_session.RhinoSession object at 0x10568fd60> creator_uid='e50f2461-3d7a-4fe0-b457-b2fe45d05532' created_at='2024-02-29T16:32:14.440680Z' name='Federated Datasets and Predictive Modeling (Setup Project + Collab) - drew@' description='Example Project for end-to-end Federated Modeling (project creation,                  add collaborator (invite + accept), Data Ext/Eng, Stat Analysis, training, and evaluation' type='Validation' primary_workgroup_uid='97d7456b-baef-4d88-bfb1-afd4975eaff2' permissions=None uid='1752fb63-c36c-4221-85a4-f979c5e921bb' slack_channel='' collaborating_workgroup_uids=['97d7456b-baef-4d88-bfb1-afd4975eaff2'] \n",
      "\n"
     ]
    }
   ],
   "source": [
    "# Confirm project creation by listing all projects for the user\n",
    "for project in session.project.get_projects():\n",
    "    if project.name == new_project.name:\n",
    "        print(project.name,\"\\n\")\n",
    "        print(project,\"\\n\")\n",
    "        project_uid = project.uid"
   ]
  },
  {
   "cell_type": "markdown",
   "id": "74daf19a-ec94-49c4-8b3e-dc4084816355",
   "metadata": {},
   "source": [
    "> Once the project has been created, navigate to the UI and the following should be displayed in the projects dashboard page and when clicking on the project we've just created"
   ]
  },
  {
   "cell_type": "markdown",
   "id": "d485d125-5071-4ad1-8be4-f562c3213853",
   "metadata": {},
   "source": [
    "![Project Dashboard](./img/project_dashboard.png)"
   ]
  },
  {
   "cell_type": "markdown",
   "id": "1df8b45a-ab6d-462a-b95b-2023df261ebf",
   "metadata": {},
   "source": [
    "![Project Details](./img/project_details.png)"
   ]
  },
  {
   "cell_type": "markdown",
   "id": "cbbe55c0-be68-412c-8362-5e968648d377",
   "metadata": {},
   "source": [
    "# Add a Collaborator"
   ]
  },
  {
   "cell_type": "markdown",
   "id": "d30dcc5d-02dc-416f-a241-da34ad948451",
   "metadata": {},
   "source": [
    "- Add New Collaborator\n",
    "- Add _Rhino Sandbox Health System_\n",
    "- Approve invitating selected collaborators to this project\n",
    "- Add Collaborator to initiate the collaboration invitation process.\n",
    "\n",
    "- You will receive approval within a few minutes. \n",
    "\n",
    "- You are now able to use datasets from the Rhino Sandbox Health System in addition to the datasets available in your Rhino Client.\n",
    "\n",
    "- **Sandbox Meta Note**: We simulate having multiple datasets from two different organizations, also called the “cross-silo” setting in FL, by splitting the original MIMIC-IV dataset into multiple partitions. Each partition will represent the data from each organization. This is done purely for experimentation purposes. In real-world situations, there’s no need to partition data because each organization already has its own data, so the data is naturally partitioned."
   ]
  },
  {
   "cell_type": "code",
   "execution_count": 55,
   "id": "df2a1a44-aa7a-429a-8b74-729d00bce0df",
   "metadata": {},
   "outputs": [],
   "source": [
    "def get_workgroup(name: str):\n",
    "    \"\"\"Get the workgroup metadata by name after listing all workgroups for collaboration\"\"\"\n",
    "\n",
    "    result = None\n",
    "    collaborating_workgroups = session.get(url=f\"/projects/{project_uid}/workgroups_for_collaboration/\")\n",
    "    workgroups_metadata = collaborating_workgroups.raw_response.json()\n",
    "\n",
    "    for workgroup_metadata in workgroups_metadata:\n",
    "        if workgroup_metadata['name'] == name:\n",
    "            result = workgroup_metadata\n",
    "    \n",
    "    if not result: return \"Workgroup Name does not exist\"\n",
    "    else: return result"
   ]
  },
  {
   "cell_type": "code",
   "execution_count": 57,
   "id": "abf20b21-bae3-44fe-8b8a-855c0104f69c",
   "metadata": {},
   "outputs": [
    {
     "data": {
      "text/plain": [
       "{'uid': '48cb366f-b05f-4ca2-8e1d-6dfc336cd344',\n",
       " 'name': 'rhino-sandbox-hco',\n",
       " 'organization': {'uid': 'e46a4068-a222-460f-9772-809d76415a43',\n",
       "  'name': 'Rhino Sandbox'}}"
      ]
     },
     "execution_count": 57,
     "metadata": {},
     "output_type": "execute_result"
    }
   ],
   "source": [
    "hco = get_workgroup(name=\"rhino-sandbox-hco\")\n",
    "hco"
   ]
  },
  {
   "cell_type": "code",
   "execution_count": 58,
   "id": "fecbc8ed-af61-4efc-addf-3ed8ea42f683",
   "metadata": {},
   "outputs": [
    {
     "data": {
      "text/plain": [
       "{'uid': '33cf1db0-de14-472a-8dcb-8d83de22d946',\n",
       " 'name': 'rhino-sandbox-aidev',\n",
       " 'organization': {'uid': 'e46a4068-a222-460f-9772-809d76415a43',\n",
       "  'name': 'Rhino Sandbox'}}"
      ]
     },
     "execution_count": 58,
     "metadata": {},
     "output_type": "execute_result"
    }
   ],
   "source": [
    "aidev = get_workgroup(name=\"rhino-sandbox-aidev\")\n",
    "aidev"
   ]
  },
  {
   "cell_type": "code",
   "execution_count": null,
   "id": "6b781b5d-fa5e-4ac4-9dfe-7711e1a910c5",
   "metadata": {
    "scrolled": true
   },
   "outputs": [
    {
     "data": {
      "text/plain": [
       "[{'uid': '54ed8ca7-9ac7-45b0-94fe-6ab081f57870',\n",
       "  'name': 'MGH Radiology Dev',\n",
       "  'organization': {'uid': '4325c725-a333-4c1b-9f97-1e5a24a56701',\n",
       "   'name': 'Mass General Hospital'}},\n",
       " {'uid': 'caea1847-df51-4192-967f-06893399cd5c',\n",
       "  'name': 'Cambridge Radiology',\n",
       "  'organization': {'uid': '78a23702-ec4a-4c1d-913e-ba2be91df855',\n",
       "   'name': 'Cambridge University Hospitals'}},\n",
       " {'uid': '5a2eee3b-dbf2-492d-93fa-1175ae2ad7a6',\n",
       "  'name': 'MGH Radiology',\n",
       "  'organization': {'uid': '1d6e4314-5fe3-43d2-966c-9c11bb2662b8',\n",
       "   'name': 'Massachusetts General Hospital'}},\n",
       " {'uid': '6661e36f-00f3-4e69-9f3d-4e6ea4f43be6',\n",
       "  'name': 'Lahey Radiology',\n",
       "  'organization': {'uid': '71c70b1e-bc03-4a57-aa70-6f5bd603a13a',\n",
       "   'name': 'Lahey Hospital & Medical Center'}},\n",
       " {'uid': '2466f9a0-fd16-44fd-8451-06a01ec6ed9a',\n",
       "  'name': 'DASA Radiology',\n",
       "  'organization': {'uid': 'f9a33fc2-beb3-4a79-b75c-9dfa8097a3d5',\n",
       "   'name': 'DASA'}},\n",
       " {'uid': 'fbb8d2e0-e513-429e-ba76-514302e20685',\n",
       "  'name': 'SNUH Radiology',\n",
       "  'organization': {'uid': '8dcd969c-5d27-4e4e-b63f-f041e39f2918',\n",
       "   'name': 'Seoul National University Hospital'}},\n",
       " {'uid': 'c4a2491c-806d-49a4-a37d-23bc2ca3aef2',\n",
       "  'name': 'Assuta Radiology',\n",
       "  'organization': {'uid': '7e6a6cad-ec36-4d09-b253-8aa68e7acfed',\n",
       "   'name': 'Assuta Medical Centers'}},\n",
       " {'uid': '6fbb859a-68d3-478f-96b2-5cb340ef8cd4',\n",
       "  'name': 'MeDA Lab',\n",
       "  'organization': {'uid': '11549d3a-1bb3-483e-a6b4-4d50bdaa6f8e',\n",
       "   'name': 'National Taiwan University'}},\n",
       " {'uid': '45fa4eaf-e6a7-4e74-8b3e-7fc4d0eee6d3',\n",
       "  'name': 'MDACC Radiation Oncology',\n",
       "  'organization': {'uid': 'ee395a6c-809f-483a-9277-ffd8aabac6c5',\n",
       "   'name': 'MD Anderson Cancer Center'}},\n",
       " {'uid': 'bbbee329-61ff-4106-9f0a-44ad4e8122a7',\n",
       "  'name': 'DFCI Radiology',\n",
       "  'organization': {'uid': '6c193264-53aa-4ae1-a708-2154289fd676',\n",
       "   'name': 'Dana Farber Cancer Institute'}},\n",
       " {'uid': '048c913c-3e58-49df-a9a8-96aca4ffe3ca',\n",
       "  'name': 'JHM Radiology',\n",
       "  'organization': {'uid': 'ece2511c-f100-408c-9394-8f8eba41efd0',\n",
       "   'name': 'Johns Hopkins Medicine'}},\n",
       " {'uid': '1e81fd39-f75f-4e54-8e06-0470a4fdf68d',\n",
       "  'name': 'JH Radiology Dev',\n",
       "  'organization': {'uid': '42ae88c3-0da2-4257-ba3d-9c14bc70d4e6',\n",
       "   'name': 'Johns Hopkins Hospital'}},\n",
       " {'uid': '393bdef4-789f-4146-b6d0-a2b89db91e97',\n",
       "  'name': 'StartupBooster',\n",
       "  'organization': {'uid': 'b489ee77-62ca-42fb-8807-c7a9bb54daf4',\n",
       "   'name': 'StartupBooster'}},\n",
       " {'uid': 'ba3a343a-6429-46c8-be2a-b5edfd25466d',\n",
       "  'name': 'Radiology Department',\n",
       "  'organization': {'uid': 'be121481-883a-405a-92eb-9fd916219cbc',\n",
       "   'name': 'Academic Medical Center A'}},\n",
       " {'uid': '48f48956-535b-4eca-8eff-93ba39703c4f',\n",
       "  'name': 'Innovation Center',\n",
       "  'organization': {'uid': 'f8bd26ed-4409-4bef-8a6b-fd28150a90ac',\n",
       "   'name': 'Radiology Network B'}},\n",
       " {'uid': 'e82bc580-48ad-4729-8a5d-f7bbdf990fbc',\n",
       "  'name': 'Aoxiao2',\n",
       "  'organization': {'uid': 'd2d8d56b-5f5c-4cbb-83e7-a4665b07a034',\n",
       "   'name': 'Aoxiao2'}},\n",
       " {'uid': '13885d1e-0d82-4a9e-9e3a-deedc7a1ca86',\n",
       "  'name': 'Aoxiao3',\n",
       "  'organization': {'uid': '21eeaa19-a751-4e47-b343-0ff00baaa881',\n",
       "   'name': 'Aoxiao3'}},\n",
       " {'uid': '55e0ef8e-f268-46a6-9219-93cfe57f9e42',\n",
       "  'name': 'ICHOM1',\n",
       "  'organization': {'uid': '187e5b53-a698-4a4d-b314-191798651ab5',\n",
       "   'name': 'ICHOM1'}},\n",
       " {'uid': '78328017-02e2-4fea-a574-115de25ecbec',\n",
       "  'name': 'ICHOM2',\n",
       "  'organization': {'uid': '78ee4a3b-2114-4bb4-8596-0f209b90f5e1',\n",
       "   'name': 'ICHOM2'}},\n",
       " {'uid': '73f7c3b6-4322-41d7-b69a-70dc7ae221df',\n",
       "  'name': 'ICHOM3',\n",
       "  'organization': {'uid': '2d1c4807-b4ab-4633-951b-6341205eb3db',\n",
       "   'name': 'ICHOM3'}},\n",
       " {'uid': '285752c2-cb18-4f2a-811e-b100878d01cf',\n",
       "  'name': 'oci-pilot-1',\n",
       "  'organization': {'uid': '0e40962c-366f-464e-8940-40c53552fc59',\n",
       "   'name': 'oci-pilot-1'}},\n",
       " {'uid': '4d254009-d3e1-4e67-acfd-049b13e4f046',\n",
       "  'name': 'oci-pilot-2',\n",
       "  'organization': {'uid': 'f445f469-51ba-4251-8991-31f64bb8257d',\n",
       "   'name': 'oci-pilot-2'}},\n",
       " {'uid': '33cf1db0-de14-472a-8dcb-8d83de22d946',\n",
       "  'name': 'rhino-sandbox-aidev',\n",
       "  'organization': {'uid': 'e46a4068-a222-460f-9772-809d76415a43',\n",
       "   'name': 'Rhino Sandbox'}},\n",
       " {'uid': '48cb366f-b05f-4ca2-8e1d-6dfc336cd344',\n",
       "  'name': 'rhino-sandbox-hco',\n",
       "  'organization': {'uid': 'e46a4068-a222-460f-9772-809d76415a43',\n",
       "   'name': 'Rhino Sandbox'}},\n",
       " {'uid': 'abc03bd6-fe7a-4e98-8568-3204535c7c95',\n",
       "  'name': 'mgh-collaborator',\n",
       "  'organization': {'uid': 'b39812e6-8e1d-4b4e-9c48-78884bb70093',\n",
       "   'name': 'mgh-collaborator'}}]"
      ]
     },
     "execution_count": 52,
     "metadata": {},
     "output_type": "execute_result"
    }
   ],
   "source": [
    "workgroups_metadata = collaborating_workgroups.raw_response.json()\n",
    "workgroups_metadata"
   ]
  },
  {
   "cell_type": "code",
   "execution_count": null,
   "id": "f17e11f3-2865-45ec-b776-67ee60beaa12",
   "metadata": {
    "scrolled": true
   },
   "outputs": [],
   "source": [
    "add_aidev_collaborator = session.project.add_collaborator(\n",
    "    project_uid=project_uid,\n",
    "    collaborating_workgroup_uid = aidev.get('uid')\n",
    ")"
   ]
  },
  {
   "cell_type": "code",
   "execution_count": null,
   "id": "ab9064eb-2822-4799-b785-4c7d5e246188",
   "metadata": {},
   "outputs": [],
   "source": [
    "add_hco_collaborator = session.project.add_collaborator(\n",
    "    project_uid=project_uid,\n",
    "    collaborating_workgroup_uid = hco.get('uid')\n",
    ")"
   ]
  },
  {
   "cell_type": "code",
   "execution_count": 65,
   "id": "168b1336-fc98-4f68-a202-5ed25c4f338d",
   "metadata": {},
   "outputs": [
    {
     "data": {
      "text/plain": [
       "[Workgroup(session=<rhino_health.lib.rhino_session.RhinoSession object at 0x10568fd60>, uid='97d7456b-baef-4d88-bfb1-afd4975eaff2', name='Rhino Health Test', org_name='Rhino Health Test'),\n",
       " Workgroup(session=<rhino_health.lib.rhino_session.RhinoSession object at 0x10568fd60>, uid='33cf1db0-de14-472a-8dcb-8d83de22d946', name='rhino-sandbox-aidev', org_name='Rhino Sandbox'),\n",
       " Workgroup(session=<rhino_health.lib.rhino_session.RhinoSession object at 0x10568fd60>, uid='48cb366f-b05f-4ca2-8e1d-6dfc336cd344', name='rhino-sandbox-hco', org_name='Rhino Sandbox')]"
      ]
     },
     "execution_count": 65,
     "metadata": {},
     "output_type": "execute_result"
    }
   ],
   "source": [
    "# List collaborating work groups for the current project\n",
    "session.project.get_collaborating_workgroups(project_uid)"
   ]
  },
  {
   "cell_type": "code",
   "execution_count": 80,
   "id": "9247b3c0-23b6-4881-b882-03360f0bf914",
   "metadata": {},
   "outputs": [
    {
     "data": {
      "text/plain": [
       "{'status': 'success', 'is_policy_approved': False}"
      ]
     },
     "execution_count": 80,
     "metadata": {},
     "output_type": "execute_result"
    }
   ],
   "source": [
    "aidev_workgroup_uid = aidev.get('uid')\n",
    "\n",
    "is_aidev_collaborator_approved = session.get(\n",
    "    url=f\"/projects/{project_uid}/collaborator/{aidev_workgroup_uid}/is_collaborator_approved/\"\n",
    ").raw_response.json()\n",
    "\n",
    "is_aidev_collaborator_approved"
   ]
  },
  {
   "cell_type": "code",
   "execution_count": 81,
   "id": "09db6c1c-181d-4c16-b8e7-ee7d61062e4c",
   "metadata": {},
   "outputs": [
    {
     "data": {
      "text/plain": [
       "{'status': 'success', 'is_policy_approved': True}"
      ]
     },
     "execution_count": 81,
     "metadata": {},
     "output_type": "execute_result"
    }
   ],
   "source": [
    "hco_workgroup_uid = hco.get('uid')\n",
    "\n",
    "is_hco_collaborator_approved = session.get(\n",
    "    url=f\"/projects/{project_uid}/collaborator/{hco_workgroup_uid}/is_collaborator_approved/\"\n",
    ").raw_response.json()\n",
    "\n",
    "is_hco_collaborator_approved  # is_policy_approved: True --> after a collaborator has approved the permissions policy"
   ]
  },
  {
   "cell_type": "code",
   "execution_count": 79,
   "id": "4afb4cb2-b3a4-48de-b79b-cb04aa0e9d68",
   "metadata": {},
   "outputs": [
    {
     "data": {
      "text/plain": [
       "[{'uid': '97d7456b-baef-4d88-bfb1-afd4975eaff2',\n",
       "  'name': 'Rhino Health Test',\n",
       "  'organization': {'uid': '6a1efb12-0636-4c11-8979-3844d9c09f70',\n",
       "   'name': 'Rhino Health Test'}},\n",
       " {'uid': '33cf1db0-de14-472a-8dcb-8d83de22d946',\n",
       "  'name': 'rhino-sandbox-aidev',\n",
       "  'organization': {'uid': 'e46a4068-a222-460f-9772-809d76415a43',\n",
       "   'name': 'Rhino Sandbox'}},\n",
       " {'uid': '48cb366f-b05f-4ca2-8e1d-6dfc336cd344',\n",
       "  'name': 'rhino-sandbox-hco',\n",
       "  'organization': {'uid': 'e46a4068-a222-460f-9772-809d76415a43',\n",
       "   'name': 'Rhino Sandbox'}}]"
      ]
     },
     "execution_count": 79,
     "metadata": {},
     "output_type": "execute_result"
    }
   ],
   "source": [
    "all_project_collaborators = session.get(\n",
    "    url=f\"/projects/{project_uid}/collaborators/\"\n",
    ").raw_response.json()\n",
    "\n",
    "all_project_collaborators"
   ]
  },
  {
   "cell_type": "code",
   "execution_count": null,
   "id": "81a9a617-1c29-4883-9708-97d6181fe10d",
   "metadata": {},
   "outputs": [],
   "source": []
  },
  {
   "cell_type": "code",
   "execution_count": null,
   "id": "7b872c07-ee35-4a1b-9678-67c0b9ce7421",
   "metadata": {},
   "outputs": [],
   "source": []
  },
  {
   "cell_type": "code",
   "execution_count": null,
   "id": "732e396f-5eea-440a-a06a-221eb7f8921d",
   "metadata": {},
   "outputs": [],
   "source": []
  }
 ],
 "metadata": {
  "kernelspec": {
   "display_name": "Python 3 (ipykernel)",
   "language": "python",
   "name": "python3"
  },
  "language_info": {
   "codemirror_mode": {
    "name": "ipython",
    "version": 3
   },
   "file_extension": ".py",
   "mimetype": "text/x-python",
   "name": "python",
   "nbconvert_exporter": "python",
   "pygments_lexer": "ipython3",
   "version": "3.9.6"
  }
 },
 "nbformat": 4,
 "nbformat_minor": 5
}
