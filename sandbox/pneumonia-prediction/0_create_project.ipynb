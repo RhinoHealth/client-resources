{
 "cells": [
  {
   "cell_type": "markdown",
   "id": "c69d61a4",
   "metadata": {},
   "source": [
    "# Notebook #0: Create Project where you will collaborate"
   ]
  },
  {
   "cell_type": "code",
   "execution_count": 9,
   "id": "78fb9765-c937-4bcd-b970-311bae49e21a",
   "metadata": {},
   "outputs": [
    {
     "name": "stdout",
     "output_type": "stream",
     "text": [
      "Requirement already satisfied: pip in /Library/Frameworks/Python.framework/Versions/3.11/lib/python3.11/site-packages (24.0)\n",
      "Requirement already satisfied: rhino_health in /Library/Frameworks/Python.framework/Versions/3.11/lib/python3.11/site-packages (1.0.3)\n",
      "Requirement already satisfied: arrow<2,>=1.2.1 in /Library/Frameworks/Python.framework/Versions/3.11/lib/python3.11/site-packages (from rhino_health) (1.2.3)\n",
      "Requirement already satisfied: backoff<2.3,>=2.1.1 in /Library/Frameworks/Python.framework/Versions/3.11/lib/python3.11/site-packages (from rhino_health) (2.2.1)\n",
      "Requirement already satisfied: funcy<3,>=1.16 in /Library/Frameworks/Python.framework/Versions/3.11/lib/python3.11/site-packages (from rhino_health) (1.18)\n",
      "Requirement already satisfied: pydantic<2.6,>=2.5 in /Library/Frameworks/Python.framework/Versions/3.11/lib/python3.11/site-packages (from rhino_health) (2.5.3)\n",
      "Requirement already satisfied: ratelimit<2.3,>=2.2.1 in /Library/Frameworks/Python.framework/Versions/3.11/lib/python3.11/site-packages (from rhino_health) (2.2.1)\n",
      "Requirement already satisfied: requests<2.32,>=2.28.0 in /Library/Frameworks/Python.framework/Versions/3.11/lib/python3.11/site-packages (from rhino_health) (2.31.0)\n",
      "Requirement already satisfied: typing-extensions>=4.8.0 in /Library/Frameworks/Python.framework/Versions/3.11/lib/python3.11/site-packages (from rhino_health) (4.10.0)\n",
      "Requirement already satisfied: python-dateutil>=2.7.0 in /Library/Frameworks/Python.framework/Versions/3.11/lib/python3.11/site-packages (from arrow<2,>=1.2.1->rhino_health) (2.8.2)\n",
      "Requirement already satisfied: annotated-types>=0.4.0 in /Library/Frameworks/Python.framework/Versions/3.11/lib/python3.11/site-packages (from pydantic<2.6,>=2.5->rhino_health) (0.6.0)\n",
      "Requirement already satisfied: pydantic-core==2.14.6 in /Library/Frameworks/Python.framework/Versions/3.11/lib/python3.11/site-packages (from pydantic<2.6,>=2.5->rhino_health) (2.14.6)\n",
      "Requirement already satisfied: charset-normalizer<4,>=2 in /Library/Frameworks/Python.framework/Versions/3.11/lib/python3.11/site-packages (from requests<2.32,>=2.28.0->rhino_health) (3.2.0)\n",
      "Requirement already satisfied: idna<4,>=2.5 in /Library/Frameworks/Python.framework/Versions/3.11/lib/python3.11/site-packages (from requests<2.32,>=2.28.0->rhino_health) (3.4)\n",
      "Requirement already satisfied: urllib3<3,>=1.21.1 in /Library/Frameworks/Python.framework/Versions/3.11/lib/python3.11/site-packages (from requests<2.32,>=2.28.0->rhino_health) (1.26.16)\n",
      "Requirement already satisfied: certifi>=2017.4.17 in /Library/Frameworks/Python.framework/Versions/3.11/lib/python3.11/site-packages (from requests<2.32,>=2.28.0->rhino_health) (2023.7.22)\n",
      "Requirement already satisfied: six>=1.5 in /Library/Frameworks/Python.framework/Versions/3.11/lib/python3.11/site-packages (from python-dateutil>=2.7.0->arrow<2,>=1.2.1->rhino_health) (1.16.0)\n",
      "Note: you may need to restart the kernel to use updated packages.\n"
     ]
    }
   ],
   "source": [
    "pip install --upgrade pip rhino_health"
   ]
  },
  {
   "cell_type": "code",
   "execution_count": 1,
   "id": "1114292d",
   "metadata": {},
   "outputs": [],
   "source": [
    "import getpass\n",
    "import rhino_health as rh\n",
    "from rhino_health.lib.endpoints.code_object.code_object_dataclass import (\n",
    "    CodeObject,\n",
    "    CodeObjectCreateInput,\n",
    "    CodeTypes\n",
    ")\n",
    "from rhino_health.lib.endpoints.project.project_dataclass import ProjectCreateInput"
   ]
  },
  {
   "cell_type": "markdown",
   "id": "86000431-3fed-488e-b51e-efe2574fa617",
   "metadata": {},
   "source": [
    "Log in to the Rhino Health Platform\n",
    "Note: Replace \"my_username\" with your Rhino Health username."
   ]
  },
  {
   "cell_type": "code",
   "execution_count": 2,
   "id": "19491fd8-d145-41a9-96c1-d040409d29f0",
   "metadata": {},
   "outputs": [
    {
     "name": "stdin",
     "output_type": "stream",
     "text": [
      " ········\n"
     ]
    },
    {
     "name": "stdout",
     "output_type": "stream",
     "text": [
      "Logged In\n"
     ]
    }
   ],
   "source": [
    "my_username = \"adrish+1@rhinohealth.com\" # Replace this with the email you use to log into Rhino Health\n",
    "session = rh.login(username=my_username, password=getpass.getpass(), rhino_api_url='https://dev.rhinohealth.com/api/')  ## chnage the URL to match the Rhino instance\n",
    "print(\"Logged In\")"
   ]
  },
  {
   "cell_type": "code",
   "execution_count": 6,
   "id": "dca7b5a6-9d3f-46d8-8a28-81c87b88b320",
   "metadata": {},
   "outputs": [],
   "source": [
    "primary_workgroup_uid = session.current_user.primary_workgroup.uid\n",
    "\n",
    "new_project = ProjectCreateInput(\n",
    "    name=\"Federated Modeling\",\n",
    "    description=\"Example Project for Federated Modeling\",\n",
    "    type=\"Validation\",\n",
    "    primary_workgroup_uid=primary_workgroup_uid,\n",
    ")\n",
    "project = session.project.add_project(new_project)"
   ]
  },
  {
   "cell_type": "markdown",
   "id": "0c758090-49cd-4260-a38d-cf6e173bfad6",
   "metadata": {},
   "source": [
    "## Add Health System as a Collaborator"
   ]
  }
 ],
 "metadata": {
  "kernelspec": {
   "display_name": "Python 3 (ipykernel)",
   "language": "python",
   "name": "python3"
  },
  "language_info": {
   "codemirror_mode": {
    "name": "ipython",
    "version": 3
   },
   "file_extension": ".py",
   "mimetype": "text/x-python",
   "name": "python",
   "nbconvert_exporter": "python",
   "pygments_lexer": "ipython3",
   "version": "3.11.4"
  }
 },
 "nbformat": 4,
 "nbformat_minor": 5
}
