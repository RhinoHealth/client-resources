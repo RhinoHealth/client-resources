{
 "cells": [
  {
   "cell_type": "markdown",
   "id": "cb0d6d79",
   "metadata": {},
   "source": [
    "# Notebook #3: Exploratory Data Analyses, Statistical Testing, and Time Series Analysis\n",
    "The `rhino_health` Python library is a robust tool designed to support a wide array of statistical and epidemiological analyses over federated data sets, crucial in the realm of healthcare and medical research. In this notebook, we demonstrate the ability to perform analyses over multiple distributed datasets. More specifically, we'll perform an analysis of data related to pneumonia outcomes and perform both exploratory data analyses to support our machine learning project as well as hypothesis testing for a traditional biostatistics analysis.\n",
    "\n",
    "#### Import Rhino's Metrics Module\n",
    "\n",
    "The `rhino_health.lib.metrics` module in the Rhino Health library is a comprehensive suite designed for diverse statistical and epidemiological analyses of healthcare data. This module is divided into several submodules, each targeting specific types of metrics and analyses.\n",
    "\n",
    "In the following code block, we'll import some basic functions like Mean() and Count() and authenticate to the Rhino cloud using your specific credentials."
   ]
  },
  {
   "cell_type": "markdown",
   "id": "dcddb792-e7c4-4eba-9cbd-9a40c4f520db",
   "metadata": {},
   "source": [
    "### Install the Rhino Health Python SDK, Load All Necessary Libraries and Login to the Rhino FCP"
   ]
  },
  {
   "cell_type": "code",
   "execution_count": null,
   "id": "d8f71a19",
   "metadata": {},
   "outputs": [],
   "source": [
    "import getpass\n",
    "from pprint import pprint\n",
    "import rhino_health as rh\n",
    "\n",
    "from rhino_health.lib.metrics.basic import Sum, Count, Mean,StandardDeviation\n",
    "from rhino_health.lib.metrics.aggregate_metrics.aggregation_service import get_cloud_aggregated_metric_data"
   ]
  },
  {
   "cell_type": "code",
   "execution_count": null,
   "id": "08d793a0-a816-4648-9e38-e05aa0bfec8a",
   "metadata": {},
   "outputs": [],
   "source": [
    "my_username = \"FCP_LOGIN_EMAIL\" # Replace this with the email you use to log into Rhino Health\n",
    "session = rh.login(username=my_username, password=getpass.getpass())"
   ]
  },
  {
   "cell_type": "markdown",
   "id": "f11ba5c0",
   "metadata": {},
   "source": [
    "### Load the Cohorts\n",
    "We'll use our SDK to identify the relevant cohorts that we'd like to perform exploratory analyses on. It is **critical to understand that the cohorts must have the same data schema in order to generate statistics on multiple cohorts simultaneously.**\n",
    "\n",
    "<Include screenshot of the data schema>"
   ]
  },
  {
   "cell_type": "code",
   "execution_count": null,
   "id": "12c7a83c",
   "metadata": {},
   "outputs": [],
   "source": [
    "#Replace with your project and cohort names. Raw data and harmonized data\n",
    "project = session.project.get_project_by_name(\"YOUR_PROJECT_NAME\")\n",
    "\n",
    "cxr_cohorts = [\n",
    "    project.get_cohort_by_name(\"mimic_cxr_dev\"), # Replace Me\n",
    "    project.get_cohort_by_name(\"mimic_cxr_hco\"), # Replace Me\n",
    "] "
   ]
  },
  {
   "cell_type": "markdown",
   "id": "35a679bf",
   "metadata": {},
   "source": [
    "### An Introduction to Federated Metrics\n",
    "\n",
    "The Rhino Federated Computing Platform allows you to quickly and securely calculate metrics using federated computing across multiple sites. Each metric on the Rhino platform has two components:\n",
    "\n",
    "#### The Metric Object\n",
    "\n",
    "The metric configuration object is a crucial component, serving as a blueprint for metric retrieval. It allows you to specify the metric variables, grouping preferences, and data filters. For example, let's define two metrics:\n",
    "\n",
    "1. Count of total cases across both cohorts\n",
    "2. Count of positive pneumonia cases across both cohorts\n",
    "\n",
    "#### The Response Object\n",
    "\n",
    "When retrieving a metric, *all results are returned in a MetricResponse object*. The MetricResponse object is a Python class that includes the specific outcome values in the 'output' attribute, such as statistical measures, and details about the metric configuration ('metric_configuration_dict').\n",
    "\n",
    "The metric results will always be under the output attribute, under the metric name key (in this case, \"chi_square\"). The metric response values are then stored under the value name (e.g., \"p_value\" in the example above). The initial metric configuration used to generate this output can be found under the \"metric_configuration_dict\" attribute.\n",
    "\n",
    "\n",
    "### Exploratory Data Analysis\n",
    "\n",
    "In the rest of this notebook, we'll analyze the federated data that we've prepared in the preceding notebooks. The data will be aggregated across two sites.\n",
    "\n",
    "### Defining a simple metric without a filter:\n",
    "\n",
    "We'll define the simplest metric possible -  a simple count of the number of rows across both of our cohorts: "
   ]
  },
  {
   "cell_type": "code",
   "execution_count": null,
   "id": "bdcf4e68",
   "metadata": {},
   "outputs": [],
   "source": [
    "# Count the number of entries in the dataset\n",
    "pneumonia_count_response = session.project.aggregate_cohort_metric( \n",
    "    cohort_uids=[str(cohort.uid) for cohort in cxr_cohorts], # list containing relevant cohorts\n",
    "    metric_configuration=Count(variable=\"Pneumonia\") # Metric configuration\n",
    ") \n",
    "\n",
    "pneumonia_count = pneumonia_count_response.output\n",
    "print(f\"Entries in Dataset: {pneumonia_count}\")"
   ]
  },
  {
   "cell_type": "markdown",
   "id": "f76ff3d9",
   "metadata": {},
   "source": [
    "### Adding a filter to our metric\n",
    "The `data_filters` parameter enables you to refine your analysis by setting conditions and filter the output by certain criteria. We'll now filter our `Count()` variable by a value; in this case, pneumona cases are identified by the `pneumonia` value of 1, and thus we'll add `pneumonia` as a `filter_column` and `1` as a `filter_value`."
   ]
  },
  {
   "cell_type": "code",
   "execution_count": null,
   "id": "b0748fc7",
   "metadata": {},
   "outputs": [],
   "source": [
    "# Count the number of people with pneumonia and the number without pneumonia\n",
    "pneumonia_count_configuration = Count(variable={\"data_column\": \"Pneumonia\", \n",
    "                                         \"filter_column\": \"Pneumonia\",  \n",
    "                                         \"filter_value\": 1})\n",
    "\n",
    "pneumonia_count_response = session.project.aggregate_cohort_metric(\n",
    "    cohort_uids=[str(cohort.uid) for cohort in cxr_cohorts],\n",
    "    metric_configuration=pneumonia_count_configuration)\n",
    "                                         \n",
    "pneumonia_count = pneumonia_count_response.output\n",
    "\n",
    "print(f\"Pneumonia Cases in Dataset: {pneumonia_count}\")"
   ]
  }
 ],
 "metadata": {
  "kernelspec": {
   "display_name": "Python 3 (ipykernel)",
   "language": "python",
   "name": "python3"
  },
  "language_info": {
   "codemirror_mode": {
    "name": "ipython",
    "version": 3
   },
   "file_extension": ".py",
   "mimetype": "text/x-python",
   "name": "python",
   "nbconvert_exporter": "python",
   "pygments_lexer": "ipython3",
   "version": "3.9.18"
  }
 },
 "nbformat": 4,
 "nbformat_minor": 5
}
