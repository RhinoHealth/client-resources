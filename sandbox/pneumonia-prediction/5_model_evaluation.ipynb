{
 "cells": [
  {
   "cell_type": "markdown",
   "id": "041a98c7-316d-4a31-9641-14fff4aaf1de",
   "metadata": {},
   "source": [
    "# Notebook #5: Federated Evaluations"
   ]
  },
  {
   "cell_type": "markdown",
   "id": "e1711135-c0c6-47cd-9511-76ee8bdf35f2",
   "metadata": {},
   "source": [
    "### Install the Rhino Health Python SDK, Load All Necessary Libraries and Login to the Rhino FCP"
   ]
  },
  {
   "cell_type": "code",
   "execution_count": null,
   "id": "3d7fd74d-416e-41b1-8a08-2383beb05b34",
   "metadata": {},
   "outputs": [],
   "source": [
    "import pandas as pd\n",
    "import numpy as np\n",
    "import matplotlib.axes\n",
    "import matplotlib.figure\n",
    "import matplotlib.pyplot as plt\n",
    "from PIL import Image\n",
    "import os\n",
    "import sys\n",
    "import getpass\n",
    "import json\n",
    "import io\n",
    "import base64\n",
    "\n",
    "import rhino_health as rh\n",
    "from rhino_health.lib.metrics import RocAuc, RocAucWithCI"
   ]
  },
  {
   "cell_type": "code",
   "execution_count": null,
   "id": "0b015539-3224-40dc-9b22-2d7d8caa2fd2",
   "metadata": {},
   "outputs": [],
   "source": [
    "my_username = \"FCP_LOGIN_EMAIL\" # Replace this with the email you use to log into Rhino Health\n",
    "session = rh.login(username=my_username, password=getpass.getpass())"
   ]
  },
  {
   "cell_type": "markdown",
   "id": "f455e007-81e4-4421-ae3d-126d147fca75",
   "metadata": {},
   "source": [
    "### Load the Results Cohorts from the Pneumonia Training & Validation Process"
   ]
  },
  {
   "cell_type": "code",
   "execution_count": null,
   "id": "8cb6d9e7-a0a7-4935-9920-a6ad217b7c4b",
   "metadata": {},
   "outputs": [],
   "source": [
    "results_cohorts = project.search_for_cohorts_by_name('Pneumonia training results', name_filter_mode=NameFilterMode.CONTAINS)\n",
    "[cohort.name for cohort in results_cohorts]"
   ]
  },
  {
   "cell_type": "markdown",
   "id": "c9d92da8-5bec-4b4d-97bf-75596e71940e",
   "metadata": {},
   "source": [
    "### Calculate ROC (Underlying Results Data Stays On-prem)"
   ]
  },
  {
   "cell_type": "code",
   "execution_count": null,
   "id": "8446dd97-4cbc-480e-ac2c-ca4d79f09e22",
   "metadata": {},
   "outputs": [],
   "source": [
    "metric_configuration = RocAuc(y_true_variable=\"Pneumonia\", y_pred_variable=\"Model Score\")\n",
    "results = cohort.get_metric(metric_configuration)"
   ]
  },
  {
   "cell_type": "markdown",
   "id": "6eb888d2-0d90-4d98-84c7-6eb464ed74bc",
   "metadata": {},
   "source": [
    "### Plot the ROC with your Favorite Plotting Tool"
   ]
  },
  {
   "cell_type": "code",
   "execution_count": null,
   "id": "56cef59a-c1eb-4a14-b80f-d6488beb2896",
   "metadata": {},
   "outputs": [],
   "source": [
    "roc_metrics = results.output\n",
    "\n",
    "colors = plt.rcParams['axes.prop_cycle'].by_key()['color']\n",
    "linestyle_cycle = ['-', '--']\n",
    "fig, ax = plt.subplots(figsize=[6, 4], dpi=200)\n",
    "color = colors[0]\n",
    "linestyle = linestyle_cycle[0]\n",
    "ax.plot(roc_metrics['fpr'], roc_metrics['tpr'], color=color, linestyle=linestyle)\n",
    "ax.title.set_text('Overall ROC')\n",
    "ax.set_xlabel('1 - Specificity')\n",
    "ax.set_ylabel('Sensitivity')\n",
    "ax.grid(True)\n",
    "ax.set_xlim([0, 1])\n",
    "ax.set_ylim([0, 1])\n",
    "\n",
    "fig.canvas.draw()\n",
    "image_to_store = Image.frombytes('RGB', fig.canvas.get_width_height(), fig.canvas.tostring_rgb())\n",
    "image_to_store.save(\"Overall_ROC.png\", format='png', optimize=True, quality=100)"
   ]
  },
  {
   "cell_type": "markdown",
   "id": "e31b2e3e-6137-4310-ab31-1c5514f28def",
   "metadata": {},
   "source": [
    "### Calculate and plot ROC with a Confidence Interval"
   ]
  },
  {
   "cell_type": "code",
   "execution_count": null,
   "id": "b63c05d3-7c6e-4360-a3b6-162967b6fab5",
   "metadata": {},
   "outputs": [],
   "source": [
    "metric_configuration = RocAucWithCI(\n",
    "   timeout_seconds = 30.0,\n",
    "    y_true_variable=\"Pneumonia\",\n",
    "    y_pred_variable=\"Model Score\",\n",
    "    confidence_interval=95\n",
    ")\n",
    "results = cohort.get_metric(metric_configuration)"
   ]
  },
  {
   "cell_type": "code",
   "execution_count": null,
   "id": "f5e4f5f0-1bce-4e17-854b-0055e23c9bbe",
   "metadata": {},
   "outputs": [],
   "source": [
    "roc_metrics = results.output\n",
    "\n",
    "colors = plt.rcParams['axes.prop_cycle'].by_key()['color']\n",
    "linestyle_cycle = ['-', '--']\n",
    "fig, ax = plt.subplots(figsize=[6, 4], dpi=200)\n",
    "color = colors[0]\n",
    "linestyle = linestyle_cycle[0]\n",
    "tpr_ci = roc_metrics['tpr_ci']\n",
    "ax.fill_between(roc_metrics['fpr'], tpr_ci[0], tpr_ci[1], alpha=0.33, label='_nolegend_', color=color)\n",
    "ax.plot(roc_metrics['fpr'], roc_metrics['tpr'], color=color, linestyle=linestyle)\n",
    "ax.title.set_text('Overall ROC with Confidence Interval')\n",
    "ax.set_xlabel('1 - Specificity')\n",
    "ax.set_ylabel('Sensitivity')\n",
    "ax.grid(True)\n",
    "ax.set_xlim([0, 1])\n",
    "ax.set_ylim([0, 1])\n",
    "fig.canvas.draw()\n",
    "image_to_store = Image.frombytes('RGB', \n",
    "fig.canvas.get_width_height(),fig.canvas.tostring_rgb())\n",
    "image_to_store.save(\"Overall_ROC_CI.png\", format='png', optimize=True, quality=100)"
   ]
  },
  {
   "cell_type": "markdown",
   "id": "b45b0e2e-7e55-4c53-b471-8b9c16a9d5d7",
   "metadata": {},
   "source": [
    "### Upload the visualizations to the Rhino Health Platform"
   ]
  },
  {
   "cell_type": "code",
   "execution_count": null,
   "id": "7a6889e5-2c44-454d-9b43-7facb8508189",
   "metadata": {},
   "outputs": [],
   "source": [
    "model_result_uid = \"XXXXXXXXX-XXXX-XXXX-XXXX-XXXXXXXXXXXX\" # Paste the UID of the model results object for your NVF"
   ]
  },
  {
   "cell_type": "code",
   "execution_count": null,
   "id": "f13b1b6c-58bd-454a-8a3d-efcadbdfd309",
   "metadata": {},
   "outputs": [],
   "source": [
    "print(\"Sending visualizations to the Cloud\")\n",
    "\n",
    "def add_images_to_report(report_data, image_files):\n",
    "    for image_file in image_files:\n",
    "        with open(image_file, \"rb\") as temp_image:\n",
    "            base_64_image = base64.b64encode(temp_image.read()).decode(\"utf-8\")\n",
    "            report_data.append(\n",
    "              {\n",
    "                 \"type\": \"Image\",\n",
    "                 \"data\": {\n",
    "                     \"image_filename\": image_file,\n",
    "                     \"image_base64\": base_64_image,\n",
    "                 },\n",
    "                 \"width\": 100 / len(image_files)\n",
    "              }\n",
    "           )\n",
    "\n",
    "roc_image_files = ('Overall_ROC.png', 'Overall_ROC_CI.png')\n",
    "\n",
    "\n",
    "report_data = []\n",
    "report_data.append({\"type\": \"Title\", \"data\": \"Overall ROC\"})\n",
    "add_images_to_report(report_data, roc_image_files)\n",
    "\n",
    "    \n",
    "\n",
    "result = session.post(f\"federatedmodelactions/{model_result_uid}/set_report/\", \n",
    "                      data={\"report_data\": json.dumps(report_data)})\n",
    "print('Done')"
   ]
  }
 ],
 "metadata": {
  "kernelspec": {
   "display_name": "Python 3 (ipykernel)",
   "language": "python",
   "name": "python3"
  },
  "language_info": {
   "codemirror_mode": {
    "name": "ipython",
    "version": 3
   },
   "file_extension": ".py",
   "mimetype": "text/x-python",
   "name": "python",
   "nbconvert_exporter": "python",
   "pygments_lexer": "ipython3",
   "version": "3.9.18"
  }
 },
 "nbformat": 4,
 "nbformat_minor": 5
}
