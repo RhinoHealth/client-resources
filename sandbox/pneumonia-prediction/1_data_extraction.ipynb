{
 "cells": [
  {
   "cell_type": "markdown",
   "id": "8cec8749",
   "metadata": {},
   "source": [
    "# Notebook #1: Data Extraction\n",
    "## Importing tabular data onto Rhino with SQL queries\n",
    "In this notebook, you'll use SQL to query from an external database (such as a health system's clinical data warehouse) and import the results of those queries onto the Rhino Federated Computing Platform.\n",
    "\n",
    "### Import the Rhino Health Python library\n",
    "The code below imports various classes and functions from the `rhino_health` library, which is a custom library designed to interact with the Rhino Federated Computing Platform. More information about the SDK can be found on our [Official SDK Documentation](https://rhinohealth.github.io/rhino_sdk_docs/html/autoapi/index.html) and on our [PyPI Repository Page](https://pypi.org/project/rhino-health/) "
   ]
  },
  {
   "cell_type": "code",
   "execution_count": 1,
   "id": "bb085bd3-3cb2-49d6-b628-7f357fe1a1c7",
   "metadata": {},
   "outputs": [],
   "source": [
    "# pip install --upgrade rhino_health"
   ]
  },
  {
   "cell_type": "code",
   "execution_count": 2,
   "id": "f9e3e349",
   "metadata": {},
   "outputs": [
    {
     "name": "stderr",
     "output_type": "stream",
     "text": [
      "/Users/drewafromsky/Library/Python/3.9/lib/python/site-packages/urllib3/__init__.py:35: NotOpenSSLWarning: urllib3 v2 only supports OpenSSL 1.1.1+, currently the 'ssl' module is compiled with 'LibreSSL 2.8.3'. See: https://github.com/urllib3/urllib3/issues/3020\n",
      "  warnings.warn(\n"
     ]
    }
   ],
   "source": [
    "import getpass\n",
    "from pprint import pprint\n",
    "import rhino_health as rh\n",
    "from rhino_health.lib.endpoints.dataset.dataset_dataclass import DatasetCreateInput\n",
    "from rhino_health.lib.endpoints.data_schema.data_schema_dataclass import DataSchemaCreateInput\n",
    "from rhino_health.lib.endpoints.project.project_dataclass import ProjectCreateInput\n",
    "from rhino_health.lib.endpoints.sql_query.sql_query_dataclass import (SQLQueryImportInput,SQLQueryInput,SQLServerTypes,ConnectionDetails)\n",
    "from rhino_health.lib.endpoints.code_object.code_object_dataclass import (CodeObject,CodeObjectCreateInput,CodeObjectRunInput,CodeTypes)"
   ]
  },
  {
   "cell_type": "markdown",
   "id": "3e04b454",
   "metadata": {},
   "source": [
    "### Authenticate to the Rhino FCP\n",
    "The `RhinoSession` class in the `rhino_health` library is a comprehensive interface for interacting with various endpoints in the Rhino Health ecosystem. It offers direct access to multiple specialized endpoints, including AI models, cohorts, data schemas, model results, projects, and workgroups, facilitating a wide range of operations in healthcare data management and analysis. The class also supports features like two-factor authentication and user switching, enhancing security and flexibility in handling different user sessions and workflows within the Rhino Health platform."
   ]
  },
  {
   "cell_type": "code",
   "execution_count": 3,
   "id": "3600a62c-8df7-4f1a-aa28-bf7528caa3a4",
   "metadata": {},
   "outputs": [
    {
     "name": "stdout",
     "output_type": "stream",
     "text": [
      "Logging In\n"
     ]
    },
    {
     "name": "stdin",
     "output_type": "stream",
     "text": [
      " ········\n"
     ]
    },
    {
     "name": "stdout",
     "output_type": "stream",
     "text": [
      "Logged In\n"
     ]
    }
   ],
   "source": [
    "my_username = \"drew@rhinohealth.com\"\n",
    "\n",
    "print(\"Logging In\")\n",
    "session = rh.login(\n",
    "    username=my_username, \n",
    "    password=getpass.getpass(), \n",
    "    show_traceback=True,\n",
    "    rhino_api_url='https://dev.rhinohealth.com/api/'\n",
    ")\n",
    "print(\"Logged In\")"
   ]
  },
  {
   "cell_type": "markdown",
   "id": "101d31d9-b79f-4fa9-a9dd-1c8fe31a4cff",
   "metadata": {},
   "source": [
    "### Identify the desired project in the Rhino UI.\n",
    "Before completing this step using the Python SDK, create a project on the Rhino web platform. Once the project has been created, copy the UID from the project you just created in the UI by navigating to the homepage, pressing on the three-vertical dot button in your project's square, and then selecting the button Copy UID.\n",
    "\n",
    "\n",
    "![image info](https://drive.google.com/uc?export=view&id=1QjVkMmHTCdCpQF3qysScJr8tiSXtecOz)"
   ]
  },
  {
   "cell_type": "code",
   "execution_count": 4,
   "id": "17addc43-6029-459d-987a-7abad733614f",
   "metadata": {},
   "outputs": [
    {
     "name": "stdout",
     "output_type": "stream",
     "text": [
      "Federated Datasets and Predictive Modeling (Setup Project + Collab) - drew@ \n",
      "\n",
      "Project session=<rhino_health.lib.rhino_session.RhinoSession object at 0x10aa3e040> creator_uid='e50f2461-3d7a-4fe0-b457-b2fe45d05532' created_at='2024-02-29T16:32:14.440680Z' name='Federated Datasets and Predictive Modeling (Setup Project + Collab) - drew@' description='Example Project for end-to-end Federated Modeling (project creation,                  add collaborator (invite + accept), Data Ext/Eng, Stat Analysis, training, and evaluation' type='Validation' primary_workgroup_uid='97d7456b-baef-4d88-bfb1-afd4975eaff2' permissions=None uid='1752fb63-c36c-4221-85a4-f979c5e921bb' slack_channel='' collaborating_workgroup_uids=['97d7456b-baef-4d88-bfb1-afd4975eaff2', '33cf1db0-de14-472a-8dcb-8d83de22d946', '48cb366f-b05f-4ca2-8e1d-6dfc336cd344'] \n",
      "\n"
     ]
    }
   ],
   "source": [
    "project_name = \"Federated Datasets and Predictive Modeling (Setup Project + Collab) - drew@\"\n",
    "\n",
    "for project in session.project.get_projects():\n",
    "    if project.name == project_name:\n",
    "        print(project.name,\"\\n\")\n",
    "        print(project,\"\\n\")\n",
    "        project_uid = project.uid"
   ]
  },
  {
   "cell_type": "code",
   "execution_count": 6,
   "id": "7df4968f-ac40-41c7-b105-ca81892c58a4",
   "metadata": {},
   "outputs": [
    {
     "data": {
      "text/plain": [
       "'1752fb63-c36c-4221-85a4-f979c5e921bb'"
      ]
     },
     "execution_count": 6,
     "metadata": {},
     "output_type": "execute_result"
    }
   ],
   "source": [
    "project_uid"
   ]
  },
  {
   "cell_type": "code",
   "execution_count": 5,
   "id": "57294a63-94ce-41c2-9887-973fa7cf1fbb",
   "metadata": {},
   "outputs": [
    {
     "name": "stdout",
     "output_type": "stream",
     "text": [
      "97d7456b-baef-4d88-bfb1-afd4975eaff2\n"
     ]
    }
   ],
   "source": [
    "primary_workgroup_uid = session.current_user.primary_workgroup.uid\n",
    "print(primary_workgroup_uid)"
   ]
  },
  {
   "cell_type": "code",
   "execution_count": 8,
   "id": "b71a2b46-f7b8-44ba-b373-80a7ec7751c2",
   "metadata": {},
   "outputs": [
    {
     "data": {
      "text/plain": [
       "[Workgroup(session=<rhino_health.lib.rhino_session.RhinoSession object at 0x10aa3e040>, uid='97d7456b-baef-4d88-bfb1-afd4975eaff2', name='Rhino Health Test', org_name='Rhino Health Test'),\n",
       " Workgroup(session=<rhino_health.lib.rhino_session.RhinoSession object at 0x10aa3e040>, uid='33cf1db0-de14-472a-8dcb-8d83de22d946', name='rhino-sandbox-aidev', org_name='Rhino Sandbox'),\n",
       " Workgroup(session=<rhino_health.lib.rhino_session.RhinoSession object at 0x10aa3e040>, uid='48cb366f-b05f-4ca2-8e1d-6dfc336cd344', name='rhino-sandbox-hco', org_name='Rhino Sandbox')]"
      ]
     },
     "execution_count": 8,
     "metadata": {},
     "output_type": "execute_result"
    }
   ],
   "source": [
    "session.project.get_collaborating_workgroups(project_uid)"
   ]
  },
  {
   "cell_type": "code",
   "execution_count": 10,
   "id": "0b7ef581-face-4c1f-bea8-d4b1d8922f82",
   "metadata": {},
   "outputs": [
    {
     "data": {
      "text/plain": [
       "'97d7456b-baef-4d88-bfb1-afd4975eaff2'"
      ]
     },
     "execution_count": 10,
     "metadata": {},
     "output_type": "execute_result"
    }
   ],
   "source": [
    "session.project.get_collaborating_workgroups(project_uid)[0].uid"
   ]
  },
  {
   "cell_type": "code",
   "execution_count": 15,
   "id": "dbe6f94f-3d8c-46c3-92b2-44120d13bcad",
   "metadata": {},
   "outputs": [
    {
     "name": "stdout",
     "output_type": "stream",
     "text": [
      "97d7456b-baef-4d88-bfb1-afd4975eaff2\n"
     ]
    }
   ],
   "source": [
    "workgroup_uid = session.project.get_collaborating_workgroups(project_uid)[0].uid\n",
    "print(workgroup_uid)"
   ]
  },
  {
   "cell_type": "code",
   "execution_count": 11,
   "id": "544d7b8b-d5ac-44eb-a767-02297eaf0114",
   "metadata": {},
   "outputs": [
    {
     "name": "stdout",
     "output_type": "stream",
     "text": [
      "Project session=<rhino_health.lib.rhino_session.RhinoSession object at 0x10aa3e040> creator_uid='e50f2461-3d7a-4fe0-b457-b2fe45d05532' created_at='2024-02-29T16:32:14.440680Z' name='Federated Datasets and Predictive Modeling (Setup Project + Collab) - drew@' description='Example Project for end-to-end Federated Modeling (project creation,                  add collaborator (invite + accept), Data Ext/Eng, Stat Analysis, training, and evaluation' type='Validation' primary_workgroup_uid='97d7456b-baef-4d88-bfb1-afd4975eaff2' permissions=None uid='1752fb63-c36c-4221-85a4-f979c5e921bb' slack_channel='' collaborating_workgroup_uids=['97d7456b-baef-4d88-bfb1-afd4975eaff2', '33cf1db0-de14-472a-8dcb-8d83de22d946', '48cb366f-b05f-4ca2-8e1d-6dfc336cd344'] \n",
      "\n",
      "Project session=<rhino_health.lib.rhino_session.RhinoSession object at 0x10aa3e040> creator_uid='e50f2461-3d7a-4fe0-b457-b2fe45d05532' created_at='2024-02-22T18:51:38.729265Z' name='Federated Datasets and Predictive\\xa0Modeling (Sandbox) - drew@' description='Federated Datasets and Predictive\\xa0Modeling (Sandbox)' type='Validation' primary_workgroup_uid='97d7456b-baef-4d88-bfb1-afd4975eaff2' permissions=None uid='0a47b00a-33b3-476b-935c-9e8627408321' slack_channel='' collaborating_workgroup_uids=['97d7456b-baef-4d88-bfb1-afd4975eaff2', '33cf1db0-de14-472a-8dcb-8d83de22d946', '48cb366f-b05f-4ca2-8e1d-6dfc336cd344'] \n",
      "\n",
      "Project session=<rhino_health.lib.rhino_session.RhinoSession object at 0x10aa3e040> creator_uid='e50f2461-3d7a-4fe0-b457-b2fe45d05532' created_at='2024-02-22T15:59:28.505047Z' name='Tutorial 2 - drew@' description='user-resources tutorial 2' type='Validation' primary_workgroup_uid='97d7456b-baef-4d88-bfb1-afd4975eaff2' permissions=None uid='fbdce1e0-91b0-49ae-9f68-9b937bcd5a7f' slack_channel='' collaborating_workgroup_uids=['97d7456b-baef-4d88-bfb1-afd4975eaff2'] \n",
      "\n",
      "Project session=<rhino_health.lib.rhino_session.RhinoSession object at 0x10aa3e040> creator_uid='e50f2461-3d7a-4fe0-b457-b2fe45d05532' created_at='2024-02-21T16:20:25.485259Z' name='Tutorial 1 - drew@' description='Testing user-resources tutorial 1 (Rhino FCP \"Hello World\")' type='Validation' primary_workgroup_uid='97d7456b-baef-4d88-bfb1-afd4975eaff2' permissions=None uid='2b4560c7-fb12-4d97-88ae-ec4464afb46e' slack_channel='' collaborating_workgroup_uids=['97d7456b-baef-4d88-bfb1-afd4975eaff2'] \n",
      "\n",
      "Project session=<rhino_health.lib.rhino_session.RhinoSession object at 0x10aa3e040> creator_uid='e2006057-b1bf-46b6-92a1-5f29689f5b64' created_at='2024-02-16T16:32:32.761552Z' name='Project Toni & Rafa' description='' type='Validation' primary_workgroup_uid='97d7456b-baef-4d88-bfb1-afd4975eaff2' permissions=None uid='f9dd3112-e13f-434b-b391-7fb7d9940e96' slack_channel='' collaborating_workgroup_uids=['97d7456b-baef-4d88-bfb1-afd4975eaff2', '54ed8ca7-9ac7-45b0-94fe-6ab081f57870'] \n",
      "\n",
      "Project session=<rhino_health.lib.rhino_session.RhinoSession object at 0x10aa3e040> creator_uid='e2006057-b1bf-46b6-92a1-5f29689f5b64' created_at='2024-02-02T18:55:06.547282Z' name='Toni Demo' description='' type='Validation' primary_workgroup_uid='97d7456b-baef-4d88-bfb1-afd4975eaff2' permissions=None uid='559c7f0f-a243-463b-8f4d-de4babd888e1' slack_channel='' collaborating_workgroup_uids=['97d7456b-baef-4d88-bfb1-afd4975eaff2', '54ed8ca7-9ac7-45b0-94fe-6ab081f57870'] \n",
      "\n",
      "Project session=<rhino_health.lib.rhino_session.RhinoSession object at 0x10aa3e040> creator_uid='116d5144-31f6-4eff-b5a0-5c81ff710d19' created_at='2023-12-26T10:57:16.500995Z' name='test' description='' type='Validation' primary_workgroup_uid='97d7456b-baef-4d88-bfb1-afd4975eaff2' permissions=None uid='fadd5474-3c1c-4b84-9d53-80c78e0ebc6c' slack_channel='' collaborating_workgroup_uids=['97d7456b-baef-4d88-bfb1-afd4975eaff2'] \n",
      "\n"
     ]
    }
   ],
   "source": [
    "for project in session.project.get_projects():\n",
    "    print(project,\"\\n\")"
   ]
  },
  {
   "cell_type": "markdown",
   "id": "7324ef97",
   "metadata": {},
   "source": [
    "### Connection Setup\n",
    "\n",
    "- The `rhino_health.lib.endpoints.sql_query.sql_query_dataclass` module in the Rhino Health library provides classes to handle SQL queries against external databases and import data into the Rhino Federated Computing Platform. \n",
    "- `SQLQueryInput` for specifying parameters of a SQL query\n",
    "- `SQLQueryImportInput` for importing a cohort from an external SQL database query\n",
    "- `SQLQuery`: a class representing an executed SQL query\n",
    "- `QueryResultStatus` define the status of query results\n",
    "- `SQLServerTypes` define supported SQL server types\n",
    "- `ConnectionDetails` class specifies connection details for an external SQL database.\n",
    "\n",
    "- Rhino's SQL classes [here](https://rhinohealth.github.io/rhino_sdk_docs/html/autoapi/rhino_health/lib/endpoints/sql_query/index.html).\n",
    "- When specifying the connection details, ensure that you provide the server_type using the approved SQLServerTypes enum. This step ensures that your server is supported and compatible with the querying process."
   ]
  },
  {
   "cell_type": "code",
   "execution_count": 18,
   "id": "0da2aa6e",
   "metadata": {},
   "outputs": [
    {
     "name": "stdin",
     "output_type": "stream",
     "text": [
      " ········\n"
     ]
    }
   ],
   "source": [
    "sql_db_user = \"rhino\" # Replace this with your DB username (make sure the user has read-only permissions to the DB).\n",
    "external_server_url = \"ext-hospital-data.covi47dnmpiy.us-east-1.rds.amazonaws.com:5432\" # Replace this with url + port of the SQL DB you want to query (ie \"{url}:{port}\").\n",
    "db_name = \"hospital_data\" # Replace this with your DB name.\n",
    "\n",
    "connection_details = ConnectionDetails(\n",
    "    server_user=sql_db_user,\n",
    "    password=getpass.getpass(),    \n",
    "    server_type=SQLServerTypes.POSTGRESQL, # Replace POSTGRESQL with the relevant type of your sql server (See docs for all supported types).\n",
    "    server_url=external_server_url,\n",
    "    db_name=db_name\n",
    ")"
   ]
  },
  {
   "cell_type": "code",
   "execution_count": null,
   "id": "9c935be8-29a5-4ebf-a955-74e1e53a36d6",
   "metadata": {},
   "outputs": [],
   "source": [
    "connection_details"
   ]
  },
  {
   "cell_type": "markdown",
   "id": "1136895c",
   "metadata": {},
   "source": [
    "### Writing SQL queries against the DB\n",
    "Using the `SQLQueryImportInput` function will allow us to query an external relational database and import the results of the query as a cohort. A Cohort is a central concept on the Rhino platform; to learn more, please navigate to this [link](https://docs.rhinohealth.com/hc/en-us/articles/12384748397213-What-is-a-Cohort-)\n",
    "\n",
    "Executing the `SQLQueryImportInput` function requires a few arguments:\n",
    "- `cohort_name` (str): Name for the cohort you are creating.\n",
    "- `is_data_deidentified (bool)`: Indicates if the data in the query is deidentified for privacy reasons.\n",
    "- `connection_details (ConnectionDetails)`: Details like URL, user, and password to connect to the SQL server.\n",
    "- `data_schema_uid (Optional[str])`: The unique identifier for the data schema in the context of the query.\n",
    "- `timeout_seconds (int)`: Time limit in seconds for the query execution.\n",
    "- `project_uid (str)`: Unique identifier for the project context of the query.\n",
    "- `workgroup_uid (str)`: Unique identifier for the workgroup context of the query.\n",
    "- `sql_query (str)`: The actual SQL query to be run.\n",
    "\n",
    "#### Table 1: Patient Admission Data\n",
    "Our first query will retrieve patient demographics and associated clinical codes from inpatient admissions for patients with chest x-rays (see the WHERE clause, where we identify a selection of chest x-rays in the MIMIC v4 database)."
   ]
  },
  {
   "cell_type": "code",
   "execution_count": 20,
   "id": "66339119-56f3-41ba-b022-2e4380076f61",
   "metadata": {},
   "outputs": [
    {
     "name": "stdout",
     "output_type": "stream",
     "text": [
      "Waiting for SQL query to complete (0 hours 0 minutes and a second)\n",
      "Waiting for SQL query to complete (0 hours 0 minutes and 12 seconds)\n",
      "Run finished successfully\n"
     ]
    }
   ],
   "source": [
    "query_demo=\"\"\"\n",
    "SELECT distinct\n",
    "      pat.subject_id\n",
    "    , adm.hadm_id\n",
    "    , pat.anchor_age + (EXTRACT(YEAR FROM adm.admittime) - pat.anchor_year) AS age\n",
    "    , pat.gender\n",
    "    , adm.insurance\n",
    "    , adm.admission_type\n",
    "    ,adm.admission_location\n",
    "    ,adm.discharge_location\n",
    "    ,adm.language\n",
    "    ,adm.marital_status\n",
    "    , adm.race\n",
    "    , icd.icd_code as diagnosis_code\n",
    "    ,proc.icd_code as procedure_code\n",
    "FROM mimiciv_hosp.admissions adm\n",
    "LEFT JOIN mimiciv_hosp.patients pat\n",
    "ON pat.subject_id = adm.subject_id\n",
    "LEFT JOIN mimiciv_hosp.diagnoses_icd icd\n",
    "ON adm.subject_id = icd.subject_id\n",
    "AND adm.hadm_id = icd.hadm_id\n",
    "LEFT JOIN mimiciv_hosp.procedures_icd proc\n",
    "ON adm.subject_id = proc.subject_id\n",
    "AND adm.hadm_id = proc.hadm_id\n",
    "LEFT JOIN mimiciv_cxr.study_list study\n",
    "ON adm.subject_id =study.subject_id\n",
    "WHERE study.study_id in(57375967,50771383,54205396,53186264,54684191,50531538,59965534,51029426,50336039,51967845,53970869,54898709,57084339,58117097,58509443,\n",
    "58555910,58733084,59289932,51449744,55590752,56617354,57652741,50230446,50252971,50702026,50789010,51737583,54855307,56421164,58996402,59565087,52358194,\n",
    "51732447,53447201,54136122,58882809,54076811,53022275,58261299,57661212,52821744,53831730,56167317,57754443,50548939,55758528,58974095,51613820,58898689,55328702,\n",
    "52654671,53468612,55928380,53461983,58400857,57874958,58971884,59558528,51497652,53161617,54277770,59484629,51212589,58414548,53818182,58812027,59585309,53534710,\n",
    "58748017,53445324,58890389,53977911,57107380,58184428,53522120,55014265)\n",
    "\"\"\"\n",
    "import_run_params = SQLQueryImportInput(\n",
    "    session = session,\n",
    "    project = project_uid, # The project/workgroup will be used to validate permissions (including and k_anonymization value)\n",
    "    workgroup = workgroup_uid,\n",
    "    connection_details = connection_details,\n",
    "    timeout_seconds = 1200,\n",
    "    is_data_deidentified = True,\n",
    "    dataset_name='mimic_ehr_demo_dev',\n",
    "    data_schema=None, # Auto-Generating the Output Data Schema for the Cohort\n",
    "    sql_query = query_demo\n",
    ")\n",
    "\n",
    "response = session.sql_query.import_dataset_from_sql_query(import_run_params)"
   ]
  },
  {
   "cell_type": "code",
   "execution_count": 21,
   "id": "51ea7828-119f-481c-bd17-7cd16030c582",
   "metadata": {},
   "outputs": [
    {
     "data": {
      "text/plain": [
       "SQLQuery(session=<rhino_health.lib.rhino_session.RhinoSession object at 0x10aa3e040>, creator_uid='e50f2461-3d7a-4fe0-b457-b2fe45d05532', created_at='Mar 04, 2024 07:56:16PM', project_uid='1752fb63-c36c-4221-85a4-f979c5e921bb', workgroup_uid='97d7456b-baef-4d88-bfb1-afd4975eaff2', sql_query='SELECT distinct\\n      pat.subject_id\\n    , adm.hadm_id\\n    , pat.anchor_age + (EXTRACT(YEAR FROM adm.admittime) - pat.anchor_year) AS age\\n    , pat.gender\\n    , adm.insurance\\n    , adm.admission_type\\n    ,adm.admission_location\\n    ,adm.discharge_location\\n    ,adm.language\\n    ,adm.marital_status\\n    , adm.race\\n    , icd.icd_code as diagnosis_code\\n    ,proc.icd_code as procedure_code\\nFROM mimiciv_hosp.admissions adm\\nLEFT JOIN mimiciv_hosp.patients pat\\nON pat.subject_id = adm.subject_id\\nLEFT JOIN mimiciv_hosp.diagnoses_icd icd\\nON adm.subject_id = icd.subject_id\\nAND adm.hadm_id = icd.hadm_id\\nLEFT JOIN mimiciv_hosp.procedures_icd proc\\nON adm.subject_id = proc.subject_id\\nAND adm.hadm_id = proc.hadm_id\\nLEFT JOIN mimiciv_cxr.study_list study\\nON adm.subject_id =study.subject_id\\nWHERE study.study_id in(57375967,50771383,54205396,53186264,54684191,50531538,59965534,51029426,50336039,51967845,53970869,54898709,57084339,58117097,58509443,\\n58555910,58733084,59289932,51449744,55590752,56617354,57652741,50230446,50252971,50702026,50789010,51737583,54855307,56421164,58996402,59565087,52358194,\\n51732447,53447201,54136122,58882809,54076811,53022275,58261299,57661212,52821744,53831730,56167317,57754443,50548939,55758528,58974095,51613820,58898689,55328702,\\n52654671,53468612,55928380,53461983,58400857,57874958,58971884,59558528,51497652,53161617,54277770,59484629,51212589,58414548,53818182,58812027,59585309,53534710,\\n58748017,53445324,58890389,53977911,57107380,58184428,53522120,55014265)', uid='3590f059-808a-4cb9-8631-9e1e9b6a3502', status='Completed', ended_at='Mar 04, 2024 07:56:39PM', results={'dataset_uid': '854a8cc9-afe6-4363-95d2-5bfee7c531af', 'total_cases': 1679, 'aggregate_info': {'age': {'count': 1679.0, 'stats': {'25%': 53.0, '50%': 69.0, '75%': 72.0, 'std': 15.223030283296227, 'mean': 63.57296009529482, 'count': 1679.0}, 'distribution': {'39.0': 0.048243001786777845, '54.2': 0.26384752829064917, '61.8': 0.0631328171530673, '69.4': 0.395473496128648, '77.0': 0.022632519356759976, '84.6': 0.049434187016081, '92.2': 0.061941631923764146, '17.67534289149847': 0, '99.14738015267598': 0, '23.761499999999998': 0.006551518761167362, '31.400000000000002': 0.05122096486003574, '46.599999999999994': 0.03752233472304944}}, 'race': {'count': 1679, 'value_counts': {'OTHER': 15, 'WHITE': 1504, 'WHITE - RUSSIAN': 16, 'BLACK/CAPE VERDEAN': 53, 'BLACK/AFRICAN AMERICAN': 50, 'WHITE - OTHER EUROPEAN': 33}}, 'gender': {'count': 1679, 'value_counts': {'F': 914, 'M': 765}}, 'hadm_id': {'count': 1679.0, 'stats': {'25%': 22146369.0, '50%': 26352991.0, '75%': 27399890.0, 'std': 2846862.554830227, 'mean': 25312866.969624776, 'count': 1679.0}, 'distribution': {'21450560.75': 0.18582489577129244, '22386921.25': 0.043478260869565216, '23323281.75': 0.0357355568790947, '24259642.25': 0.053007742703990474, '25196002.75': 0.07444907683144729, '26132363.25': 0.06908874329958309, '27068723.75': 0.24478856462179868, '28005084.25': 0.18463371054198927, '28941444.75': 0.05658129839189994, '20509518.447': 0.052412150089338895, '19378684.42647454': 0, '30200382.02380235': 0}}, 'language': {'count': 1679, 'value_counts': {'?': 35, 'ENGLISH': 1644}}, 'insurance': {'count': 1679, 'value_counts': {'Other': 796, 'Medicaid': 22, 'Medicare': 861}}, 'Unnamed: 0': {'count': 1679.0, 'stats': {'25%': 419.5, '50%': 839.0, '75%': 1258.5, 'std': 484.8298670667887, 'mean': 839.0, 'count': 1679.0}, 'distribution': {'419.5': 0.10005955926146516, '587.3': 0.10005955926146516, '755.1': 0.10005955926146516, '922.9': 0.09946396664681358, '1258.5': 0.10005955926146516, '1594.1': 0.10005955926146516, '83.0605': 0.10005955926146516, '1788.437957014201': 0, '1090.6999999999998': 0.10005955926146516, '1426.3000000000002': 0.10005955926146516, '251.70000000000002': 0.10005955926146516, '-121.82908305059952': 0}}, 'subject_id': {'count': 1679.0, 'stats': {'25%': 11000566.0, '50%': 17001438.0, '75%': 17055460.0, 'std': 3052219.414294907, 'mean': 14911328.688505063, 'count': 1679.0}, 'distribution': {'16755966.0': 0.4752829064919595, '18557353.2': 0.07802263251935676, '10446607.3315': 0.03335318642048839, '19778283.03511234': 0, '9089279.230625551': 0, '11351804.399999999': 0.323406789755807, '15855272.399999999': 0.08993448481238833}}, 'admission_type': {'count': 1679, 'value_counts': {'URGENT': 207, 'ELECTIVE': 40, 'EW EMER.': 886, 'DIRECT EMER.': 120, 'EU OBSERVATION': 86, 'OBSERVATION ADMIT': 209, 'DIRECT OBSERVATION': 8, 'SURGICAL SAME DAY ADMISSION': 123}}, 'diagnosis_code': {'count': 1679, 'value_counts': {'05319  ': 6, '07070  ': 6, '20500  ': 11, '25000  ': 7, '2724   ': 20, '2767   ': 7, '27800  ': 11, '28419  ': 6, '2853   ': 6, '2859   ': 18, '2875   ': 8, '28800  ': 6, '28989  ': 6, '2930   ': 10, '29640  ': 6, '29680  ': 6, '30000  ': 7, '30001  ': 6, '3051   ': 19, '33818  ': 6, '3569   ': 7, '3899   ': 9, '4019   ': 18, '40311  ': 6, '40391  ': 6, '41071  ': 7, '41400  ': 7, '41401  ': 10, '42731  ': 10, '4280   ': 6, '45376  ': 6, '45384  ': 6, '4580   ': 7, '4592   ': 6, '4619   ': 6, '49390  ': 8, '53081  ': 9, '5781   ': 6, '5856   ': 12, '5990   ': 6, '6201   ': 6, '6238   ': 6, '6930   ': 7, '70219  ': 6, '7051   ': 6, '70583  ': 6, '7213   ': 12, '7245   ': 5, '7295   ': 6, '75612  ': 5, '78009  ': 6, '78052  ': 7, '78061  ': 10, '7823   ': 7, '7840   ': 8, '7850   ': 5, '78659  ': 5, '78720  ': 8, '7904   ': 8, '99673  ': 6, '9972   ': 6, '99989  ': 6, 'D631   ': 17, 'D649   ': 5, 'D72829 ': 16, 'E785   ': 5, 'E8798  ': 19, 'E9301  ': 6, 'E9320  ': 7, 'E9344  ': 6, 'E9398  ': 6, 'E9478  ': 6, 'F17210 ': 5, 'F329   ': 23, 'G40909 ': 5, 'G92    ': 6, 'G9340  ': 20, 'I10    ': 17, 'I120   ': 22, 'I82290 ': 16, 'I82B11 ': 16, 'I82C11 ': 16, 'I871   ': 5, 'I878   ': 16, 'K219   ': 27, 'K429   ': 5, 'K440   ': 5, 'K5900  ': 5, 'L03113 ': 21, 'L98491 ': 5, 'M170   ': 5, 'M810   ': 6, 'N186   ': 22, 'T82858A': 5, 'T82868A': 20, 'V1582  ': 15, 'V160   ': 5, 'V173   ': 7, 'V270   ': 9, 'V4511  ': 12, 'V4589  ': 6, 'V5866  ': 10, 'V707   ': 13, 'V8534  ': 8, 'V8741  ': 6, 'Y718   ': 5, 'Y832   ': 5, 'Y841   ': 16, 'Y848   ': 6, 'Y92230 ': 6, 'Y9289  ': 16, 'Y929   ': 6, 'Z7982  ': 17, 'Z8673  ': 6, 'Z87891 ': 29, 'Z9115  ': 5, 'Z992   ': 22}}, 'marital_status': {'count': 1679, 'value_counts': {'SINGLE': 142, 'MARRIED': 1322, 'WIDOWED': 174, 'DIVORCED': 41}}, 'procedure_code': {'count': 1419, 'value_counts': {'734': 23, '741': 19, '863': 8, '966': 11, '0040': 23, '0042': 8, '0045': 31, '0066': 8, '0092': 27, '0159': 19, '0390': 8, '1735': 9, '3239': 8, '3425': 10, '3606': 8, '3893': 46, '3897': 50, '3899': 9, '3950': 23, '3990': 23, '3995': 23, '4105': 27, '4131': 51, '4516': 8, '4523': 8, '4594': 9, '5349': 9, '5491': 16, '7309': 11, '7534': 8, '7569': 12, '7770': 8, '8051': 8, '8107': 8, '8162': 8, '8191': 26, '8451': 8, '8741': 10, '8744': 9, '8849': 23, '8857': 8, '8919': 7, '8938': 9, '8952': 9, '9205': 9, '9359': 19, '9911': 8, '9914': 51, '9920': 8, '9925': 51, '009U3ZX': 9, '01N10ZZ': 7, '02HV33Z': 40, '03180KD': 18, '03733ZZ': 18, '03V70CZ': 16, '05753ZZ': 16, '05793ZZ': 18, '057D3ZZ': 34, '05C53ZZ': 18, '05C93ZZ': 18, '05CD3ZZ': 18, '05L90ZZ': 18, '05LD0ZZ': 18, '05VD0CZ': 16, '06HM33Z': 18, '0BQR0ZZ': 6, '0BQS0ZZ': 6, '0DH60UZ': 6, '0DH67UZ': 22, '0DJ08ZZ': 9, '0KBF3ZX': 18, '0TJB8ZZ': 10, '0UDB7ZX': 10, '0WQF0ZZ': 6, '3E04305': 22, '3E0G76Z': 28, '5A1D00Z': 11, '5A1D60Z': 34, 'B516YZZ': 18, 'B518YZZ': 18, 'B51MYZZ': 18, 'B51WYZZ': 18}}, 'admission_location': {'count': 1679, 'value_counts': {'EMERGENCY ROOM': 1102, 'CLINIC REFERRAL': 8, 'PHYSICIAN REFERRAL': 405, 'WALK-IN/SELF REFERRAL': 11, 'TRANSFER FROM HOSPITAL': 153}}, 'discharge_location': {'count': 1585, 'value_counts': {'DIED': 88, 'HOME': 503, 'OTHER FACILITY': 11, 'HOME HEALTH CARE': 488, 'SKILLED NURSING FACILITY': 443, 'CHRONIC/LONG TERM ACUTE CARE': 52}}}}, errors=None, connection_details={'url': 'ext-hospital-data.covi47dnmpiy.us-east-1.rds.amazonaws.com:5432', 'user': 'rhino', 'db_name': 'hospital_data', 'server_type': 'postgresql'})"
      ]
     },
     "execution_count": 21,
     "metadata": {},
     "output_type": "execute_result"
    }
   ],
   "source": [
    "response"
   ]
  },
  {
   "cell_type": "markdown",
   "id": "d80ae68c",
   "metadata": {},
   "source": [
    "#### Table 2: EHR Observations\n",
    "Our second query will retrieve observations from our clinical information system, including patient BMI, height, weight, and diastolic and systolic blood pressure."
   ]
  },
  {
   "cell_type": "code",
   "execution_count": 22,
   "id": "21d3f4eb-3ef9-4302-8bf3-34c5f7ece97a",
   "metadata": {},
   "outputs": [
    {
     "name": "stdout",
     "output_type": "stream",
     "text": [
      "Waiting for SQL query to complete (0 hours 0 minutes and a second)\n",
      "Waiting for SQL query to complete (0 hours 0 minutes and 12 seconds)\n",
      "Run finished successfully\n"
     ]
    }
   ],
   "source": [
    "query_obs = \"\"\"\n",
    "SELECT\n",
    "   omr.subject_id,\n",
    "   omr.chartdate,\n",
    "   omr.result_name,\n",
    "   max(omr.result_value) as result\n",
    "FROM mimiciv_hosp.omr omr\n",
    "LEFT JOIN mimiciv_cxr.study_list study\n",
    "ON omr.subject_id =study.subject_id\n",
    "WHERE study.study_id in (57375967,50771383,54205396,53186264,54684191,50531538,59965534,51029426,50336039,51967845,53970869,54898709,57084339,58117097,58509443,58555910,58733084,59289932,51449744,55590752,56617354,57652741,50230446,50252971,50702026,50789010,51737583,54855307,56421164,58996402,59565087,52358194,51732447,53447201,54136122,58882809,54076811,53022275,58261299,57661212,52821744,53831730,56167317,57754443,50548939,55758528,58974095,51613820,58898689,55328702,52654671,53468612,55928380,53461983,58400857,57874958,58971884,59558528,51497652,53161617,54277770,59484629,51212589,58414548,53818182,58812027,59585309,53534710,58748017,53445324,58890389,53977911,57107380,58184428,53522120,55014265)\n",
    "GROUP BY omr.subject_id, omr.chartdate, omr.result_name\n",
    "\"\"\"\n",
    "\n",
    "import_run_params = SQLQueryImportInput(\n",
    "    session = session,\n",
    "    project = project_uid, # The project/workgroup will be used to validate permissions (including and k_anonymization value)\n",
    "    workgroup = workgroup_uid,\n",
    "    connection_details = connection_details,\n",
    "    timeout_seconds = 1200,\n",
    "    is_data_deidentified = True,\n",
    "    dataset_name='mimic_ehr_obs_dev',\n",
    "    data_schema=None, # Auto-Generating the Output Data Schema for the Cohort\n",
    "    sql_query = query_obs\n",
    ")\n",
    "\n",
    "response = session.sql_query.import_dataset_from_sql_query(import_run_params)"
   ]
  },
  {
   "cell_type": "code",
   "execution_count": 23,
   "id": "f383386b-b4ed-46d3-a758-dc5ad097b054",
   "metadata": {},
   "outputs": [
    {
     "data": {
      "text/plain": [
       "SQLQuery(session=<rhino_health.lib.rhino_session.RhinoSession object at 0x10aa3e040>, creator_uid='e50f2461-3d7a-4fe0-b457-b2fe45d05532', created_at='Mar 04, 2024 07:57:40PM', project_uid='1752fb63-c36c-4221-85a4-f979c5e921bb', workgroup_uid='97d7456b-baef-4d88-bfb1-afd4975eaff2', sql_query='SELECT\\n   omr.subject_id,\\n   omr.chartdate,\\n   omr.result_name,\\n   max(omr.result_value) as result\\nFROM mimiciv_hosp.omr omr\\nLEFT JOIN mimiciv_cxr.study_list study\\nON omr.subject_id =study.subject_id\\nWHERE study.study_id in (57375967,50771383,54205396,53186264,54684191,50531538,59965534,51029426,50336039,51967845,53970869,54898709,57084339,58117097,58509443,58555910,58733084,59289932,51449744,55590752,56617354,57652741,50230446,50252971,50702026,50789010,51737583,54855307,56421164,58996402,59565087,52358194,51732447,53447201,54136122,58882809,54076811,53022275,58261299,57661212,52821744,53831730,56167317,57754443,50548939,55758528,58974095,51613820,58898689,55328702,52654671,53468612,55928380,53461983,58400857,57874958,58971884,59558528,51497652,53161617,54277770,59484629,51212589,58414548,53818182,58812027,59585309,53534710,58748017,53445324,58890389,53977911,57107380,58184428,53522120,55014265)\\nGROUP BY omr.subject_id, omr.chartdate, omr.result_name', uid='11c9a462-42d3-4b84-8728-3a1c20fe4baf', status='Completed', ended_at='Mar 04, 2024 07:57:55PM', results={'dataset_uid': 'd1a796e7-f73a-4d70-9450-84224ab37685', 'total_cases': 1679, 'aggregate_info': {'result': {'count': 1679, 'value_counts': {'60': 10, '61': 5, '66': 46, '67': 11, '73': 35, '75': 7, '142': 7, '146': 5, '150': 20, '151': 5, '156': 6, '159': 6, '160': 5, '168': 5, '170': 5, '172': 7, '174': 6, '175': 9, '180': 5, '21.9': 7, '23.7': 5, '24.2': 5, '25.0': 6, '25.2': 6, '25.4': 5, '27.1': 8, '27.4': 5, '27.5': 9, '27.6': 6, '27.8': 8, '27.9': 7, '28.1': 6, '28.2': 10, '28.3': 9, '28.7': 8, '29.3': 5, '30.1': 5, '30.6': 7, '36.3': 5, '36.5': 5, '37.1': 5, '37.6': 6, '66.2': 7, '66.5': 19, '67.5': 5, '66.25': 20, '67.25': 5, '110/70': 5, '112/70': 5, '112/80': 5, '114/70': 5, '118/60': 5, '120/70': 6, '120/80': 6, '122/80': 5, '130/80': 5}}, 'chartdate': {'count': 1679, 'value_counts': {'2139-03-15': 5, '2139-06-29': 7, '2176-03-23': 8}}, 'Unnamed: 0': {'count': 1679.0, 'stats': {'25%': 419.5, '50%': 839.0, '75%': 1258.5, 'std': 484.8298670667887, 'mean': 839.0, 'count': 1679.0}, 'distribution': {'419.5': 0.10005955926146516, '587.3': 0.10005955926146516, '755.1': 0.10005955926146516, '922.9': 0.09946396664681358, '1258.5': 0.10005955926146516, '1594.1': 0.10005955926146516, '83.0605': 0.10005955926146516, '-133.8583578181897': 0, '1090.6999999999998': 0.10005955926146516, '1426.3000000000002': 0.10005955926146516, '1768.1215871546722': 0, '251.70000000000002': 0.10005955926146516}}, 'subject_id': {'count': 1679.0, 'stats': {'25%': 11000566.0, '50%': 16000035.0, '75%': 17003536.0, 'std': 3200989.229767493, 'mean': 14138021.820726624, 'count': 1679.0}, 'distribution': {'16755966.0': 0.3930911256700417, '18557353.2': 0.07623585467540203, '10446607.3315': 0.030970815961882073, '9150054.759387217': 0, '11351804.399999999': 0.46039309112567006, '15855272.399999999': 0.039309112567004166, '19730784.396534137': 0}}, 'result_name': {'count': 1679, 'value_counts': {'BMI (kg/m2)': 450, 'Weight (Lbs)': 455, 'Blood Pressure': 522, 'Height (Inches)': 247}}}}, errors=None, connection_details={'url': 'ext-hospital-data.covi47dnmpiy.us-east-1.rds.amazonaws.com:5432', 'user': 'rhino', 'db_name': 'hospital_data', 'server_type': 'postgresql'})"
      ]
     },
     "execution_count": 23,
     "metadata": {},
     "output_type": "execute_result"
    }
   ],
   "source": [
    "response"
   ]
  },
  {
   "cell_type": "markdown",
   "id": "98e754e6",
   "metadata": {},
   "source": [
    "### Importing chest x-rays from a PACS system into my Rhino client\n",
    "Next, we'll import chest x-rays onto my Rhino client so that we can conduct a computer vision experiment in the following steps:.\n",
    "\n",
    "**To enable a friction-less guided sandbox experience, Rhino staff have uploaded DICOM data into the project for you.** If you are interested in learning more about how data can be imported from your local computing environment into the Rhino Federated Computing Platform, please refer to this section of our documentation [here](https://docs.rhinohealth.com/hc/en-us/articles/12385912890653-Adding-Data-to-your-Rhino-Federated-Computing-Platform-Client).\n",
    "\n",
    "The data has been loaded in the `/rhino_data/image/dicom` path in the Rhino client. In addition, a file that provides metadata to associate the DICOM studies with the EHR data has been imported ('/rhino_data/image/metadata/aidev_cohort.csv')."
   ]
  },
  {
   "cell_type": "code",
   "execution_count": 24,
   "id": "b1ec5aa7-4098-4916-a53f-f678f097382b",
   "metadata": {},
   "outputs": [
    {
     "name": "stdout",
     "output_type": "stream",
     "text": [
      "Created new cohort 'mimic_cxr_dev' with uid 'a45aabb1-bc58-4233-a2f1-65dc1a151178'\n"
     ]
    }
   ],
   "source": [
    "dicom_path='/rhino_data/aidev/dicom'\n",
    "metadata_file = '/rhino_data/aidev/aidev_cohort.csv'\n",
    "\n",
    "cohort_creation_params = DatasetCreateInput(\n",
    "    session=session,\n",
    "    name=\"mimic_cxr_dev\",\n",
    "    description=\"mimic_cxr_dev\",\n",
    "    project=project_uid,\n",
    "    workgroup=workgroup_uid,\n",
    "    data_schema=None,\n",
    "    image_filesystem_location=dicom_path,\n",
    "    csv_filesystem_location = metadata_file,\n",
    "    is_data_deidentified=True,\n",
    "    method=\"filesystem\",\n",
    ")\n",
    "\n",
    "ai_developer_image_cohort = session.dataset.add_dataset(cohort_creation_params)\n",
    "print(f\"Created new cohort '{ai_developer_image_cohort.name}' with uid '{ai_developer_image_cohort.uid}'\")"
   ]
  },
  {
   "cell_type": "markdown",
   "id": "45d6c497-b850-4467-b405-f03ccc99dfc4",
   "metadata": {
    "jupyter": {
     "source_hidden": true
    }
   },
   "source": [
    "<!-- ```python\n",
    "dicom_path = \"/rhino_data/image/dicom\"\n",
    "metadata_file = \"/rhino_data/image/metadata/aidev_cohort.csv\"\n",
    "\n",
    "cohort_creation_params = CohortCreateInput(\n",
    "    name=\"mimic_cxr_dev\",\n",
    "    description=\"mimic_cxr_dev\",\n",
    "    project_uid=project_uid, \n",
    "    workgroup_uid=workgroup_uid,\n",
    "    image_filesystem_location=dicom_path,\n",
    "    csv_filesystem_location = metadata_file,\n",
    "    is_data_deidentified=True,\n",
    "    method=\"filesystem\",\n",
    ")\n",
    "\n",
    "ai_developer_image_cohort = session.cohort.add_cohort(cohort_creation_params)\n",
    "print(f\"Created new cohort '{ai_developer_image_cohort.name}' with uid '{ai_developer_image_cohort.uid}'\")\n",
    "``` -->"
   ]
  },
  {
   "cell_type": "markdown",
   "id": "1a47f554",
   "metadata": {},
   "source": [
    "### What you'll see in the Rhino UI:\n",
    "Once all three queries have been executed, you should see three cohorts in the user interface:\n",
    "![Mimic Cohorts in the FCP](https://drive.google.com/uc?export=view&id=1f6BaoyG3-4kmw4vUSr_WGNPq5_ZD3awC)"
   ]
  },
  {
   "cell_type": "markdown",
   "id": "ce69a362",
   "metadata": {},
   "source": [
    "### Where is my data in the Rhino client?  \n",
    "Once data is uploaded, it'll reside in your designated Rhino client. While the Rhino Federated Computing Platform eliminates the need for the user to know the path of the data (enabling users just to refer to 'cohorts' it'll reside in the `/rhino_data/image/dicom` folder. \n",
    "![image info](https://drive.google.com/uc?export=view&id=1oHvJhcU_My3cNWg8-amjStj8sA2t_iwQ)\n",
    "\n",
    "To learn more about working with DICOM data on the Rhino Federated Computing Platform, please refer to our documentation [here](https://docs.rhinohealth.com/hc/en-us/articles/13136536913693-Example-1-Defining-a-Cohort-with-DICOM-Data)."
   ]
  }
 ],
 "metadata": {
  "kernelspec": {
   "display_name": "Python 3 (ipykernel)",
   "language": "python",
   "name": "python3"
  },
  "language_info": {
   "codemirror_mode": {
    "name": "ipython",
    "version": 3
   },
   "file_extension": ".py",
   "mimetype": "text/x-python",
   "name": "python",
   "nbconvert_exporter": "python",
   "pygments_lexer": "ipython3",
   "version": "3.9.6"
  }
 },
 "nbformat": 4,
 "nbformat_minor": 5
}
