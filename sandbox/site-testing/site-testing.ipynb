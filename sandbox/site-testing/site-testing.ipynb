{
 "cells": [
  {
   "metadata": {},
   "cell_type": "markdown",
   "source": [
    "# Test the initial installation of a Rhino client\n",
    "\n",
    "#### Prerequisites\n",
    "1. Have an active SSO login\n",
    "2. Have an active Rhino Cloud user with the appropriate access\n",
    "3. Have the path to the external data store (e.g. S3, GCS)\n",
    "4. Copy the accompanying dataset.csv file over to the external data store"
   ],
   "id": "13f9cee1ad3ab2f0"
  },
  {
   "metadata": {},
   "cell_type": "markdown",
   "source": "### 1. Initialization and Login",
   "id": "553f454c2647fdc7"
  },
  {
   "metadata": {
    "ExecuteTime": {
     "end_time": "2024-12-26T20:56:52.460207Z",
     "start_time": "2024-12-26T20:56:52.455532Z"
    }
   },
   "cell_type": "code",
   "source": [
    "from getpass import getpass\n",
    "\n",
    "import rhino_health as rh\n",
    "from rhino_health.lib.endpoints.code_object import CodeObjectCreateInput\n"
   ],
   "id": "d79b86ab0494f9a3",
   "outputs": [],
   "execution_count": 2
  },
  {
   "metadata": {},
   "cell_type": "markdown",
   "source": "### 2. Initialize the input values",
   "id": "34fc1fcc06983474"
  },
  {
   "metadata": {
    "ExecuteTime": {
     "end_time": "2024-12-26T21:14:55.248825Z",
     "start_time": "2024-12-26T21:14:55.243670Z"
    }
   },
   "cell_type": "code",
   "source": [
    "USERNAME = \"dan@rhinohealth.com\"\n",
    "# DATASTORE_PATH = \"/rhino_data/external/s3/hc/encounters.csv\"\n",
    "DATASTORE_PATH = \"/rhino_data/validation/dataset.csv\"\n",
    "CURRENT_WORKING_DIR = \"/Users/danielrunt/PycharmProjects/user-resources/sandbox/site-testing\"\n",
    "DEV_URL = \"https://dev.rhinohealth.com/api\""
   ],
   "id": "2eaa229ffda4caba",
   "outputs": [],
   "execution_count": 19
  },
  {
   "metadata": {},
   "cell_type": "markdown",
   "source": "### 3 Log in",
   "id": "5a69dbc463919399"
  },
  {
   "metadata": {
    "ExecuteTime": {
     "end_time": "2024-12-26T20:59:19.109462Z",
     "start_time": "2024-12-26T20:59:11.619256Z"
    }
   },
   "cell_type": "code",
   "source": [
    "print(\"Logging In\")\n",
    "session = rh.login(username=USERNAME, password=getpass(), rhino_api_url=DEV_URL)\n",
    "#session = rh.login(authentication_details={\"sso_access_token\": TOKEN, \"sso_provider\": \"google\"}, rhino_api_url=DEV3_URL)\n",
    "print(\"Logged In\")"
   ],
   "id": "3bf491d29c92724b",
   "outputs": [
    {
     "name": "stdout",
     "output_type": "stream",
     "text": [
      "Logging In\n",
      "Logged In\n"
     ]
    }
   ],
   "execution_count": 11
  },
  {
   "metadata": {},
   "cell_type": "markdown",
   "source": "### 4 Create a project",
   "id": "cdbec95927168879"
  },
  {
   "metadata": {
    "ExecuteTime": {
     "end_time": "2024-12-26T20:59:23.102835Z",
     "start_time": "2024-12-26T20:59:22.040716Z"
    }
   },
   "cell_type": "code",
   "source": [
    "from rhino_health.lib.endpoints.project.project_dataclass import ProjectCreateInput\n",
    "user = session.current_user\n",
    "\n",
    "project = session.project.get_project_by_name(\"Validation Project\")\n",
    "if project is None:\n",
    "    new_project = ProjectCreateInput(\n",
    "        name=\"Validation Project\",\n",
    "        description=\"Project for Site Installation Validation\",\n",
    "        type=\"Validation\",\n",
    "        primary_workgroup_uid=user.primary_workgroup_uid\n",
    "    )\n",
    "    project = session.project.add_project(new_project)"
   ],
   "id": "de25f74bc405c64d",
   "outputs": [],
   "execution_count": 12
  },
  {
   "metadata": {},
   "cell_type": "markdown",
   "source": "### 5 Create a dataset and schema using external datasource access",
   "id": "c74ca50ad9b472c2"
  },
  {
   "metadata": {
    "ExecuteTime": {
     "end_time": "2024-12-26T21:05:42.827023Z",
     "start_time": "2024-12-26T21:05:37.613947Z"
    }
   },
   "cell_type": "code",
   "source": [
    "from rhino_health.lib.endpoints.dataset.dataset_dataclass import DatasetCreateInput\n",
    "\n",
    "dataset = session.dataset.get_dataset_by_name(\"Validation Dataset\")\n",
    "if dataset is None:\n",
    "    dataset_input = DatasetCreateInput(\n",
    "                name=\"Validation Dataset\",\n",
    "                description=\"\",\n",
    "                project_uid=project.uid,\n",
    "                workgroup_uid=project.primary_workgroup_uid,\n",
    "                data_schema_uid = None,\n",
    "                csv_filesystem_location=DATASTORE_PATH,\n",
    "                method=\"filesystem\",\n",
    "                is_data_deidentified=True,\n",
    "            )\n",
    "    dataset = session.dataset.add_dataset(dataset_input)"
   ],
   "id": "c72c6d4da5e59297",
   "outputs": [],
   "execution_count": 15
  },
  {
   "metadata": {},
   "cell_type": "markdown",
   "source": "edit the schema",
   "id": "bbe8bf383eb11860"
  },
  {
   "metadata": {
    "ExecuteTime": {
     "end_time": "2024-12-26T15:43:05.633510Z",
     "start_time": "2024-12-26T15:43:05.629203Z"
    }
   },
   "cell_type": "code",
   "source": [
    "def convert_schema_fields_to_csv_list(schema_fields):\n",
    "    field_names = schema_fields.root[0].model_dump().keys()\n",
    "    columns = []\n",
    "\n",
    "    for schema_field in schema_fields.root:\n",
    "        columns.append([schema_field.model_dump()[field] for field in field_names])\n",
    "\n",
    "    transposed_rows = zip(*columns)\n",
    "    result = []\n",
    "\n",
    "    for row in transposed_rows:\n",
    "        result.append(','.join(map(str, row)))\n",
    "\n",
    "    return result"
   ],
   "id": "d1ec94571553d43",
   "outputs": [],
   "execution_count": 42
  },
  {
   "metadata": {
    "ExecuteTime": {
     "end_time": "2024-12-26T15:44:19.826487Z",
     "start_time": "2024-12-26T15:44:17.759888Z"
    }
   },
   "cell_type": "code",
   "source": [
    "# from rhino_health.lib.endpoints.data_schema.data_schema_dataclass import SchemaField,SchemaFields,DataSchemaCreateInput\n",
    "# import csv\n",
    "# import io\n",
    "#\n",
    "# bmi_schema = session.data_schema.get_data_schema_by_name(\"Validation Dataset schema\")\n",
    "#\n",
    "# schema_fields = bmi_schema.schema_fields\n",
    "# bmi_field = SchemaField(\n",
    "#     name=\"BMI\",\n",
    "#     description='',\n",
    "#     identifier='',\n",
    "#     role=\"Input\",\n",
    "#     type=\"Float\",\n",
    "#     type_params=None,\n",
    "#     units='',\n",
    "#     may_contain_phi=False,\n",
    "#     permissions='default'\n",
    "# )\n",
    "# schema_fields.root.append(bmi_field)\n",
    "# csv_list = convert_schema_fields_to_csv_list(schema_fields)\n",
    "#\n",
    "# data_schema_input = DataSchemaCreateInput(\n",
    "#     name=\"Validation Dataset schema\",\n",
    "#     description=\"\",\n",
    "#     primary_workgroup_uid=project.primary_workgroup_uid,\n",
    "#     project=project.uid,\n",
    "#     base_version_uid=bmi_schema.uid,\n",
    "#     add_version_if_exists=True,\n",
    "#     schema_fields=csv_list\n",
    "# )\n",
    "# print(data_schema_input)\n",
    "# bmi_schema = session.data_schema.create_data_schema(data_schema_input,return_existing=False,add_version_if_exists=True)"
   ],
   "id": "590b5ff68f6174a1",
   "outputs": [
    {
     "name": "stdout",
     "output_type": "stream",
     "text": [
      "DataSchemaCreateInput session=None name='Validation Dataset schema' description='' base_version_uid='23523498-4ffe-4251-bd1e-648bfb8c023a' version=1 schema_fields=['SeriesUID,Gender,Height,Weight,Pneumonia,__Notes__,BMI', ',,,,,,', ',,,,,System generated column for user notes,', 'Input,Input,Input,Input,Input,Input,Input', 'String,String,Float,Float,Boolean,String,Float', 'None,None,None,None,None,None,None', ',,,,,,', 'False,False,False,False,False,False,False', 'default,default,default,default,default,default,default'] file_path=None primary_workgroup_uid='97d7456b-baef-4d88-bfb1-afd4975eaff2' project_uid='9c83187f-a6a8-4c53-8ed0-6088ea24adb2' project_uids=None\n",
      "Exception: Failed to make request\n",
      "Status is 400, Error: , Content is b'{\"status\":\"error\",\"payload_type\":\"validation_error\",\"message\":[\"Error performing schema validation: Error importing Data Schema: invalid row label in row 0: SeriesUID\"],\"error\":[\"Error performing schema validation: Error importing Data Schema: invalid row label in row 0: SeriesUID\"]}'\n",
      "\n"
     ]
    }
   ],
   "execution_count": 45
  },
  {
   "metadata": {},
   "cell_type": "markdown",
   "source": "### 6 Run Generalized Compute Code",
   "id": "3591d2bf7ec92c30"
  },
  {
   "metadata": {
    "ExecuteTime": {
     "end_time": "2024-12-26T21:06:18.504774Z",
     "start_time": "2024-12-26T21:06:02.747064Z"
    }
   },
   "cell_type": "code",
   "source": [
    "bmi_calculation = \"df['BMI'] = df['Weight'] / df['Height']**2\"\n",
    "output_schema_uid = session.data_schema.get_data_schema_by_name(\"Validation Dataset schema\").uid\n",
    "\n",
    "output_dataset, run_results = dataset.run_code(bmi_calculation, output_data_schema_uid = output_schema_uid, output_dataset_names_suffix = \" with BMI\")\n",
    "run_results.dict()"
   ],
   "id": "457ed818fc4cfd40",
   "outputs": [
    {
     "name": "stdout",
     "output_type": "stream",
     "text": [
      "Waiting for code run to complete (0 hours 0 minutes and a second)\n",
      "Done.\n"
     ]
    },
    {
     "data": {
      "text/plain": [
       "{'creator_uid': '771a2617-8134-4a56-854a-b94407bb561a',\n",
       " 'created_at': 'Dec 26, 2024 09:06:05PM',\n",
       " 'uid': '51bb810f-cf04-4aa2-b4fd-2df4173689d2',\n",
       " 'action_type': 'Run',\n",
       " 'status': <CodeRunStatus.COMPLETED: 'Completed'>,\n",
       " 'start_time': 'Dec 26, 2024 09:06:05PM',\n",
       " 'end_time': 'Dec 26, 2024 09:06:12PM',\n",
       " 'input_dataset_uids': [[['b8a2d6e5-cb70-42c0-a3b4-72251c8280d2']]],\n",
       " 'output_dataset_uids': [[['3d30708e-3622-42d6-aecf-95c39641b8d8']]],\n",
       " 'code_object_uid': '81ff709b-73b1-4d3c-bcaa-d0f62901ce1a',\n",
       " 'results_info': {'tasks_errors_and_warnings': [{'errors': [],\n",
       "    'warnings': []}],\n",
       "  'num_dataset_import_failures': [0]},\n",
       " 'results_report': None,\n",
       " 'report_images': [],\n",
       " 'paths_to_model_params': None}"
      ]
     },
     "execution_count": 16,
     "metadata": {},
     "output_type": "execute_result"
    }
   ],
   "execution_count": 16
  },
  {
   "metadata": {},
   "cell_type": "markdown",
   "source": "### 7 Use NVFlare to Infer a Model With a Code Object",
   "id": "8d573544fc7764ef"
  },
  {
   "metadata": {
    "ExecuteTime": {
     "end_time": "2024-12-26T21:29:29.198692Z",
     "start_time": "2024-12-26T21:28:20.102921Z"
    }
   },
   "cell_type": "code",
   "source": [
    "from rhino_health.lib.endpoints.code_object.code_object_dataclass import (\n",
    "    CodeObject,\n",
    "    CodeObjectRunInput,\n",
    "    CodeTypes,\n",
    "    CodeLocation,\n",
    "    CodeExecutionMode,\n",
    "    RequirementMode,\n",
    ")\n",
    "import os\n",
    "\n",
    "data_schema = session.data_schema.get_data_schema_by_name(\"Validation Dataset schema\")\n",
    "code_object = session.code_object.get_code_object_by_name(\"NVFlare Validation Code\")\n",
    "if code_object is None:\n",
    "    requirements = [\n",
    "        \"nvflare==2.0.5\",\n",
    "        \"pandas==1.4.1\",\n",
    "        \"torch>=1.10,<1.11\",\n",
    "        \"torchvision>=0.11.1,<0.12\",\n",
    "        \"protobuf<3.21\"\n",
    "    ]\n",
    "    zip_path = \"'/Users/danielrunt/PycharmProjects/user-resources/tutorials/tutorial_1/prediction-model\"\n",
    "    code_object_input = CodeObjectCreateInput(\n",
    "        name=\"NVFlare Validation Code\",\n",
    "        description=\"\",\n",
    "        input_data_schema_uids=[data_schema.uid],\n",
    "        output_data_schema_uids=[],\n",
    "        project_uid=project.uid,\n",
    "        code_type=CodeTypes.NVIDIA_FLARE_V2_0,\n",
    "        config={\n",
    "            \"code_execution_mode\": CodeExecutionMode.AUTO_CONTAINER_NVFLARE,\n",
    "            \"python_version\": \"3.8\",\n",
    "            \"requirements\": requirements,\n",
    "            \"requirements_mode\": RequirementMode.PYTHON_PIP,\n",
    "            \"folder_path\": zip_path,\n",
    "            \"code_location\": CodeLocation.S3_MULTIPART_ZIP\n",
    "        }\n",
    "    )\n",
    "    code_object = session.code_object.create_code_object(\n",
    "        code_object_input, return_existing=False, add_version_if_exists=True\n",
    "    )\n",
    "    code_object.wait_for_build(1200)\n",
    "    print(f\"Finished Uploading New Code\")\n",
    "\n",
    "input_dataset_uids = [output_dataset[0].uid]\n",
    "code_run_input = CodeObjectRunInput(\n",
    "    code_object_uid = code_object.uid,\n",
    "    input_dataset_uids = [input_dataset_uids],\n",
    "    output_dataset_naming_templates = [\"_infer\"],\n",
    "    timeout_seconds = 1200\n",
    ")\n",
    "\n",
    "session.code_object.run_code_object(code_run_input)"
   ],
   "id": "b47f4d8e872c673d",
   "outputs": [
    {
     "name": "stdout",
     "output_type": "stream",
     "text": [
      "Waiting for code object build to complete (0 hours 0 minutes and a second)\n",
      "Waiting for code object build to complete (0 hours 0 minutes and 31 seconds)\n",
      "Done.\n",
      "Finished Uploading New Code\n",
      "Exception: Failed to make request\n",
      "Status is 400, Error: , Content is b'{\"status\":\"error\",\"payload_type\":\"validation_error\",\"message\":[\"Cannot perform this action on an CodeObject that is not built yet\"],\"error\":[\"Cannot perform this action on an CodeObject that is not built yet\"]}'\n",
      "\n"
     ]
    }
   ],
   "execution_count": 24
  },
  {
   "metadata": {},
   "cell_type": "code",
   "outputs": [],
   "execution_count": null,
   "source": "",
   "id": "c52cf14e05311c6a"
  }
 ],
 "metadata": {
  "kernelspec": {
   "display_name": "Python 3",
   "language": "python",
   "name": "python3"
  },
  "language_info": {
   "codemirror_mode": {
    "name": "ipython",
    "version": 2
   },
   "file_extension": ".py",
   "mimetype": "text/x-python",
   "name": "python",
   "nbconvert_exporter": "python",
   "pygments_lexer": "ipython2",
   "version": "2.7.6"
  }
 },
 "nbformat": 4,
 "nbformat_minor": 5
}
