{
 "cells": [
  {
   "metadata": {},
   "cell_type": "markdown",
   "source": [
    "# Test the initial installation of a Rhino client\n",
    "\n",
    "#### Prerequisites\n",
    "1. Have an active SSO login\n",
    "2. Have an active Rhino Cloud user with the appropriate access\n",
    "3. Have the path to the external data store (e.g. S3, GCS)\n",
    "4. Copy the accompanying data directory file over to the external data store"
   ],
   "id": "13f9cee1ad3ab2f0"
  },
  {
   "metadata": {},
   "cell_type": "markdown",
   "source": "### 1. Initialization and Login",
   "id": "553f454c2647fdc7"
  },
  {
   "metadata": {
    "ExecuteTime": {
     "end_time": "2024-12-27T19:10:52.934542Z",
     "start_time": "2024-12-27T19:10:52.926610Z"
    }
   },
   "cell_type": "code",
   "source": [
    "from getpass import getpass\n",
    "import rhino_health as rh\n",
    "from rhino_health.lib.endpoints.code_object import CodeExecutionMode"
   ],
   "id": "d79b86ab0494f9a3",
   "outputs": [],
   "execution_count": 19
  },
  {
   "metadata": {},
   "cell_type": "markdown",
   "source": "### 2. Initialize the input values",
   "id": "34fc1fcc06983474"
  },
  {
   "metadata": {
    "ExecuteTime": {
     "end_time": "2024-12-27T19:10:54.214656Z",
     "start_time": "2024-12-27T19:10:54.212453Z"
    }
   },
   "cell_type": "code",
   "source": [
    "USERNAME = \"dan@rhinohealth.com\"\n",
    "# DATASTORE_PATH = \"/rhino_data/external/s3/hc/encounters.csv\"\n",
    "DATASTORE_PATH = \"/rhino_data/validation/\"\n",
    "CURRENT_WORKING_DIR = \"/Users/danielrunt/PycharmProjects/user-resources/sandbox/site-testing\"\n",
    "DEV_URL = \"https://dev.rhinohealth.com/api\""
   ],
   "id": "2eaa229ffda4caba",
   "outputs": [],
   "execution_count": 20
  },
  {
   "metadata": {},
   "cell_type": "markdown",
   "source": "### 3 Log in",
   "id": "5a69dbc463919399"
  },
  {
   "metadata": {
    "ExecuteTime": {
     "end_time": "2024-12-27T19:11:02.527248Z",
     "start_time": "2024-12-27T19:10:55.523588Z"
    }
   },
   "cell_type": "code",
   "source": [
    "print(\"Logging In\")\n",
    "session = rh.login(username=USERNAME, password=getpass(), rhino_api_url=DEV_URL)\n",
    "#session = rh.login(authentication_details={\"sso_access_token\": TOKEN, \"sso_provider\": \"google\"}, rhino_api_url=DEV3_URL)\n",
    "print(\"Logged In\")"
   ],
   "id": "3bf491d29c92724b",
   "outputs": [
    {
     "name": "stdout",
     "output_type": "stream",
     "text": [
      "Logging In\n",
      "Logged In\n"
     ]
    }
   ],
   "execution_count": 21
  },
  {
   "metadata": {},
   "cell_type": "markdown",
   "source": "### 4 Create a project",
   "id": "cdbec95927168879"
  },
  {
   "metadata": {
    "ExecuteTime": {
     "end_time": "2024-12-27T19:29:13.862572Z",
     "start_time": "2024-12-27T19:29:13.127632Z"
    }
   },
   "cell_type": "code",
   "source": [
    "from rhino_health.lib.endpoints.project.project_dataclass import ProjectCreateInput\n",
    "user = session.current_user\n",
    "\n",
    "project = session.project.get_project_by_name(\"Validation Project\")\n",
    "if project is None:\n",
    "    new_project = ProjectCreateInput(\n",
    "        name=\"Validation Project\",\n",
    "        description=\"Project for Site Installation Validation\",\n",
    "        type=\"Validation\",\n",
    "        primary_workgroup_uid=user.primary_workgroup_uid\n",
    "    )\n",
    "    project = session.project.add_project(new_project)"
   ],
   "id": "de25f74bc405c64d",
   "outputs": [],
   "execution_count": 30
  },
  {
   "metadata": {},
   "cell_type": "markdown",
   "source": "### 5 Create a dataset and schema using external datasource access",
   "id": "c74ca50ad9b472c2"
  },
  {
   "metadata": {
    "ExecuteTime": {
     "end_time": "2024-12-27T19:50:29.574436Z",
     "start_time": "2024-12-27T19:50:21.571992Z"
    }
   },
   "cell_type": "code",
   "source": [
    "from rhino_health.lib.endpoints.dataset.dataset_dataclass import DatasetCreateInput\n",
    "from rhino_health.lib.endpoints.data_schema.data_schema_dataclass import DataSchemaCreateInput\n",
    "\n",
    "data_schema = session.data_schema.get_data_schema_by_name(\"Validation Dataset schema\")\n",
    "if data_schema is None:\n",
    "    data_schema_input = DataSchemaCreateInput(\n",
    "        name=\"Validation Dataset schema\",\n",
    "        description=\"\",\n",
    "        project_uid=project.uid,\n",
    "        primary_workgroup=project.primary_workgroup_uid,\n",
    "        file_path=f\"{CURRENT_WORKING_DIR}/validation_schema.csv\",\n",
    "    )\n",
    "    data_schema = session.data_schema.create_data_schema(data_schema_input)\n",
    "    print(f\"Finished Creating Data Schema\")\n",
    "\n",
    "dataset = session.dataset.get_dataset_by_name(\"Validation Dataset\")\n",
    "if dataset is None:\n",
    "    dataset_input = DatasetCreateInput(\n",
    "        name=\"Validation Dataset\",\n",
    "        description=\"\",\n",
    "        project_uid=project.uid,\n",
    "        workgroup_uid=project.primary_workgroup_uid,\n",
    "        data_schema_uid=data_schema.uid,\n",
    "        csv_filesystem_location=DATASTORE_PATH+\"dataset.csv\",\n",
    "        file_base_path=DATASTORE_PATH+\"file_data/\",\n",
    "        method=\"filesystem\",\n",
    "        is_data_deidentified=True,\n",
    "    )\n",
    "    dataset = session.dataset.add_dataset(dataset_input)\n",
    "    print(f\"Finished Creating Dataset\")"
   ],
   "id": "c72c6d4da5e59297",
   "outputs": [],
   "execution_count": 34
  },
  {
   "metadata": {},
   "cell_type": "markdown",
   "source": "### 6 Run Generalized Compute Code",
   "id": "3591d2bf7ec92c30"
  },
  {
   "metadata": {
    "ExecuteTime": {
     "end_time": "2024-12-27T19:50:49.721678Z",
     "start_time": "2024-12-27T19:50:33.945259Z"
    }
   },
   "cell_type": "code",
   "source": [
    "bmi_calculation = \"df['BMI'] = df['Weight'] / df['Height']**2\"\n",
    "output_schema_uid = session.data_schema.get_data_schema_by_name(\"Validation Dataset schema\").uid\n",
    "\n",
    "output_dataset, run_results = dataset.run_code(bmi_calculation, output_data_schema_uid = output_schema_uid, output_dataset_names_suffix = \" with BMI\")\n",
    "run_results.dict()\n",
    "print(f\"Finished Creating Code Object\")"
   ],
   "id": "457ed818fc4cfd40",
   "outputs": [
    {
     "name": "stdout",
     "output_type": "stream",
     "text": [
      "Waiting for code run to complete (0 hours 0 minutes and a second)\n",
      "Done.\n",
      "Finished Creating Code Object\n"
     ]
    }
   ],
   "execution_count": 35
  },
  {
   "metadata": {},
   "cell_type": "markdown",
   "source": "### 7 Build nvflare container",
   "id": "33ffb48d5c4d5393"
  },
  {
   "metadata": {
    "ExecuteTime": {
     "end_time": "2024-12-27T19:56:13.331527Z",
     "start_time": "2024-12-27T19:50:51.675537Z"
    }
   },
   "cell_type": "code",
   "source": [
    "from rhino_health.lib.endpoints.code_object.code_object_dataclass import (\n",
    "    CodeObjectCreateInput,\n",
    "    CodeTypes,\n",
    "    CodeExecutionMode,\n",
    "    RequirementMode,\n",
    "    CodeLocation,\n",
    "    ModelTrainInput\n",
    ")\n",
    "\n",
    "autocontainer = session.code_object.get_code_object_by_name(\"NVFlare Autocontainer\")\n",
    "if autocontainer is None:\n",
    "    autocontainer_input = CodeObjectCreateInput(\n",
    "        name=\"NVFlare Autocontainer\",\n",
    "        description=\"\",\n",
    "        input_data_schema_uids=[data_schema.uid],\n",
    "        output_data_schema_uids=[data_schema.uid],\n",
    "        project_uid=project.uid,\n",
    "        code_type=CodeTypes.NVIDIA_FLARE_V2_4,\n",
    "        config={\n",
    "            \"code_execution_mode\": CodeExecutionMode.AUTO_CONTAINER_NVFLARE,\n",
    "            \"requirements\": [\n",
    "                \"nvflare == 2.4.0\",\n",
    "                \"pandas ~= 1.4.1\",\n",
    "                \"tensorboardX ~= 2.6.2\",\n",
    "                \"torch >= 1.11, < 1.12\",\n",
    "                \"torchvision >= 0.12, < 0.13\",\n",
    "                \"scikit-learn ~= 1.3.0\"\n",
    "            ],\n",
    "            \"python_version\": \"3.8\",\n",
    "            \"requirements_mode\": RequirementMode.PYTHON_PIP,\n",
    "            \"code_location\": CodeLocation.S3_MULTIPART_ZIP,\n",
    "            \"folder_path\": \"./model/\"\n",
    "        }\n",
    "    )\n",
    "    autocontainer = session.code_object.create_code_object(autocontainer_input)\n",
    "    autocontainer.wait_for_build(1200)\n",
    "    print(f\"Finished Creating Autocontainer\")\n",
    "\n",
    "input_dataset_uids = [dataset.uid]\n",
    "run_params = ModelTrainInput(\n",
    "    code_object_uid = autocontainer.uid,\n",
    "    input_dataset_uids = input_dataset_uids,\n",
    "    one_fl_client_per_dataset = False,\n",
    "    validation_dataset_uids = [],\n",
    "    validation_datasets_inference_suffix = \"_validation\",\n",
    "    timeout_seconds = 600,\n",
    "    config_fed_client = \"\",\n",
    "    config_fed_server = \"\",\n",
    "    secrets_fed_client = \"\",\n",
    "    secrets_fed_server = \"\",\n",
    "    sync = False\n",
    ")\n",
    "print(f\"Starting to run federated training of {autocontainer.name}\")\n",
    "model_train = session.code_object.train_model(run_params)\n",
    "train_result = model_train.wait_for_completion()\n",
    "print(f\"Finished training of {autocontainer.name}\")"
   ],
   "id": "87c26043285e50c",
   "outputs": [
    {
     "name": "stdout",
     "output_type": "stream",
     "text": [
      "Waiting for code object build to complete (0 hours 0 minutes and a second)\n",
      "Waiting for code object build to complete (0 hours 0 minutes and 31 seconds)\n",
      "Waiting for code object build to complete (0 hours a minute and 2 seconds)\n",
      "Waiting for code object build to complete (0 hours a minute and 33 seconds)\n",
      "Waiting for code object build to complete (0 hours 2 minutes and 4 seconds)\n",
      "Waiting for code object build to complete (0 hours 2 minutes and 34 seconds)\n",
      "Done.\n",
      "Finished Creating Autocontainer\n",
      "Starting to run federated training of NVFlare Autocontainer\n",
      "Waiting for code run to complete (0 hours 0 minutes and a second)\n",
      "Waiting for code run to complete (0 hours 0 minutes and 11 seconds)\n",
      "Waiting for code run to complete (0 hours 0 minutes and 22 seconds)\n",
      "Waiting for code run to complete (0 hours 0 minutes and 33 seconds)\n",
      "Waiting for code run to complete (0 hours 0 minutes and 43 seconds)\n",
      "Waiting for code run to complete (0 hours 0 minutes and 54 seconds)\n",
      "Waiting for code run to complete (0 hours a minute and 5 seconds)\n",
      "Waiting for code run to complete (0 hours a minute and 16 seconds)\n",
      "Waiting for code run to complete (0 hours a minute and 26 seconds)\n",
      "Waiting for code run to complete (0 hours a minute and 37 seconds)\n",
      "Waiting for code run to complete (0 hours a minute and 48 seconds)\n",
      "Waiting for code run to complete (0 hours a minute and 58 seconds)\n",
      "Done.\n",
      "Finished training of NVFlare Autocontainer\n"
     ]
    }
   ],
   "execution_count": 36
  },
  {
   "metadata": {},
   "cell_type": "code",
   "outputs": [],
   "execution_count": null,
   "source": "",
   "id": "2955192160f5826f"
  }
 ],
 "metadata": {
  "kernelspec": {
   "display_name": "Python 3",
   "language": "python",
   "name": "python3"
  },
  "language_info": {
   "codemirror_mode": {
    "name": "ipython",
    "version": 2
   },
   "file_extension": ".py",
   "mimetype": "text/x-python",
   "name": "python",
   "nbconvert_exporter": "python",
   "pygments_lexer": "ipython2",
   "version": "2.7.6"
  }
 },
 "nbformat": 4,
 "nbformat_minor": 5
}
