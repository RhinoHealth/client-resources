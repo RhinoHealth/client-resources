{
 "cells": [
  {
   "metadata": {},
   "cell_type": "markdown",
   "source": [
    "# Test the initial installation of a Rhino client\n",
    "\n",
    "#### Prerequisites\n",
    "1. Have an active SSO login\n",
    "2. Have an active Rhino Cloud user with the appropriate access\n",
    "3. Have the path to the external data store (e.g. S3, GCS)\n",
    "4. Copy the accompanying dataset.csv file over to the external data store"
   ],
   "id": "13f9cee1ad3ab2f0"
  },
  {
   "metadata": {},
   "cell_type": "markdown",
   "source": "### 1. Initialization and Login",
   "id": "553f454c2647fdc7"
  },
  {
   "metadata": {
    "ExecuteTime": {
     "end_time": "2024-12-26T20:56:52.460207Z",
     "start_time": "2024-12-26T20:56:52.455532Z"
    }
   },
   "cell_type": "code",
   "source": [
    "from getpass import getpass\n",
    "import rhino_health as rh"
   ],
   "id": "d79b86ab0494f9a3",
   "outputs": [],
   "execution_count": 2
  },
  {
   "metadata": {},
   "cell_type": "markdown",
   "source": "### 2. Initialize the input values",
   "id": "34fc1fcc06983474"
  },
  {
   "metadata": {
    "ExecuteTime": {
     "end_time": "2024-12-27T16:58:40.344702Z",
     "start_time": "2024-12-27T16:58:40.342480Z"
    }
   },
   "cell_type": "code",
   "source": [
    "USERNAME = \"dan@rhinohealth.com\"\n",
    "# DATASTORE_PATH = \"/rhino_data/external/s3/hc/encounters.csv\"\n",
    "DATASTORE_PATH = \"/rhino_data/validation/\"\n",
    "CURRENT_WORKING_DIR = \"/Users/danielrunt/PycharmProjects/user-resources/sandbox/site-testing\"\n",
    "DEV_URL = \"https://dev.rhinohealth.com/api\"\n",
    "ECR_REPO_NAME = \"rhino-gc-workgroup-rhino-health-dev\"\n",
    "ECR_ACCESs_KEY_ID = \"<get from Rhino Cloud UI>\"\n",
    "ECR_ACCESS_SECRET_KEY = \"<get from Rhino Cloud UI>\"\n",
    "DEV3_URL = (\"https://dev3.rhinohealth.com/api\"\n",
    "            \"\")"
   ],
   "id": "2eaa229ffda4caba",
   "outputs": [],
   "execution_count": 62
  },
  {
   "metadata": {},
   "cell_type": "markdown",
   "source": "### 3 Log in",
   "id": "5a69dbc463919399"
  },
  {
   "metadata": {
    "ExecuteTime": {
     "end_time": "2024-12-27T13:56:51.325437Z",
     "start_time": "2024-12-27T13:56:00.658913Z"
    }
   },
   "cell_type": "code",
   "source": [
    "print(\"Logging In\")\n",
    "session = rh.login(username=USERNAME, password=getpass(), rhino_api_url=DEV_URL)\n",
    "#session = rh.login(authentication_details={\"sso_access_token\": TOKEN, \"sso_provider\": \"google\"}, rhino_api_url=DEV3_URL)\n",
    "print(\"Logged In\")"
   ],
   "id": "3bf491d29c92724b",
   "outputs": [
    {
     "name": "stdout",
     "output_type": "stream",
     "text": [
      "Logging In\n",
      "Logged In\n"
     ]
    }
   ],
   "execution_count": 27
  },
  {
   "metadata": {},
   "cell_type": "markdown",
   "source": "### 4 Create a project",
   "id": "cdbec95927168879"
  },
  {
   "metadata": {
    "ExecuteTime": {
     "end_time": "2024-12-26T20:59:23.102835Z",
     "start_time": "2024-12-26T20:59:22.040716Z"
    }
   },
   "cell_type": "code",
   "source": [
    "from rhino_health.lib.endpoints.project.project_dataclass import ProjectCreateInput\n",
    "user = session.current_user\n",
    "\n",
    "project = session.project.get_project_by_name(\"Validation Project\")\n",
    "if project is None:\n",
    "    new_project = ProjectCreateInput(\n",
    "        name=\"Validation Project\",\n",
    "        description=\"Project for Site Installation Validation\",\n",
    "        type=\"Validation\",\n",
    "        primary_workgroup_uid=user.primary_workgroup_uid\n",
    "    )\n",
    "    project = session.project.add_project(new_project)"
   ],
   "id": "de25f74bc405c64d",
   "outputs": [],
   "execution_count": 12
  },
  {
   "metadata": {},
   "cell_type": "markdown",
   "source": "### 5 Create a dataset and schema using external datasource access",
   "id": "c74ca50ad9b472c2"
  },
  {
   "metadata": {
    "ExecuteTime": {
     "end_time": "2024-12-27T17:24:29.787729Z",
     "start_time": "2024-12-27T17:24:21.991285Z"
    }
   },
   "cell_type": "code",
   "source": [
    "from rhino_health.lib.endpoints.dataset.dataset_dataclass import DatasetCreateInput\n",
    "from rhino_health.lib.endpoints.data_schema.data_schema_dataclass import DataSchemaCreateInput\n",
    "\n",
    "data_schema = session.data_schema.get_data_schema_by_name(\"Validation Dataset schema\")\n",
    "if data_schema is None:\n",
    "    data_schema_input = DataSchemaCreateInput(\n",
    "        name=\"Validation Dataset schema\",\n",
    "        description=\"\",\n",
    "        project_uid=project.uid,\n",
    "        primary_workgroup=project.primary_workgroup_uid,\n",
    "        file_path=f\"{CURRENT_WORKING_DIR}/validation_schema.csv\",\n",
    "    )\n",
    "    data_schema = session.data_schema.create_data_schema(data_schema_input)\n",
    "\n",
    "dataset = session.dataset.get_dataset_by_name(\"Validation Dataset\")\n",
    "if dataset is None:\n",
    "    dataset_input = DatasetCreateInput(\n",
    "        name=\"Validation Dataset\",\n",
    "        description=\"\",\n",
    "        project_uid=project.uid,\n",
    "        workgroup_uid=project.primary_workgroup_uid,\n",
    "        data_schema_uid=data_schema.uid,\n",
    "        csv_filesystem_location=DATASTORE_PATH+\"dataset.csv\",\n",
    "        file_base_path=DATASTORE_PATH+\"file_data/\",\n",
    "        method=\"filesystem\",\n",
    "        is_data_deidentified=True,\n",
    "    )\n",
    "    dataset = session.dataset.add_dataset(dataset_input)"
   ],
   "id": "c72c6d4da5e59297",
   "outputs": [],
   "execution_count": 74
  },
  {
   "metadata": {},
   "cell_type": "markdown",
   "source": "### 6 Run Generalized Compute Code",
   "id": "3591d2bf7ec92c30"
  },
  {
   "metadata": {
    "ExecuteTime": {
     "end_time": "2024-12-27T17:25:00.029107Z",
     "start_time": "2024-12-27T17:24:44.254886Z"
    }
   },
   "cell_type": "code",
   "source": [
    "bmi_calculation = \"df['BMI'] = df['Weight'] / df['Height']**2\"\n",
    "output_schema_uid = session.data_schema.get_data_schema_by_name(\"Validation Dataset schema\").uid\n",
    "\n",
    "output_dataset, run_results = dataset.run_code(bmi_calculation, output_data_schema_uid = output_schema_uid, output_dataset_names_suffix = \" with BMI\")\n",
    "run_results.dict()\n",
    "print(f\"Finished Creating Code Object\")"
   ],
   "id": "457ed818fc4cfd40",
   "outputs": [
    {
     "name": "stdout",
     "output_type": "stream",
     "text": [
      "Waiting for code run to complete (0 hours 0 minutes and a second)\n",
      "Done.\n",
      "Finished Creating Code Object\n"
     ]
    }
   ],
   "execution_count": 75
  },
  {
   "metadata": {},
   "cell_type": "markdown",
   "source": "### 7 Use NVFlare to Infer a Model With a Code Object",
   "id": "8d573544fc7764ef"
  },
  {
   "metadata": {
    "ExecuteTime": {
     "end_time": "2024-12-27T18:04:39.866221Z",
     "start_time": "2024-12-27T18:04:02.849304Z"
    }
   },
   "cell_type": "code",
   "source": [
    "from rhino_health.lib.endpoints.code_object.code_object_dataclass import (\n",
    "    CodeObject,\n",
    "    CodeObjectCreateInput,\n",
    "    CodeObjectRunInput,\n",
    "    ModelTrainInput,\n",
    "    CodeTypes,\n",
    "    CodeLocation,\n",
    "    CodeExecutionMode,\n",
    "    RequirementMode,\n",
    ")\n",
    "\n",
    "data_schema = session.data_schema.get_data_schema_by_name(\"Validation Dataset schema\")\n",
    "code_object = session.code_object.get_code_object_by_name(\"NVFlare Validation Code\")\n",
    "if code_object is None:\n",
    "    code_object_input = CodeObjectCreateInput(\n",
    "        name=\"NVFlare Validation Code\",\n",
    "        description=\"\",\n",
    "        input_data_schema_uids=[data_schema.uid],\n",
    "        output_data_schema_uids=[data_schema.uid],\n",
    "        project_uid=project.uid,\n",
    "        code_type=CodeTypes.NVIDIA_FLARE_V2_4,\n",
    "        config={\"container_image_uri\": \"testing-model-v2.4.2\"}\n",
    "    )\n",
    "    code_object = session.code_object.create_code_object(\n",
    "        code_object_input, return_existing=False, add_version_if_exists=True\n",
    "    )\n",
    "    code_object.wait_for_build(1200)\n",
    "    print(f\"Finished Creating Code Object\")\n",
    "\n",
    "input_dataset_uids = [dataset.uid]\n",
    "# code_run_input = CodeObjectRunInput(\n",
    "#     code_object_uid = code_object.uid,\n",
    "#     input_dataset_uids = [input_dataset_uids],\n",
    "#     output_dataset_naming_templates = [\"_infer\"],\n",
    "#     timeout_seconds = 1200\n",
    "# )\n",
    "run_params = ModelTrainInput(\n",
    "    code_object_uid = code_object.uid,\n",
    "    input_dataset_uids = input_dataset_uids,\n",
    "    one_fl_client_per_dataset = False,\n",
    "    validation_dataset_uids = [],\n",
    "    validation_datasets_inference_suffix = \"_validation\",\n",
    "    timeout_seconds = 600,\n",
    "    config_fed_client = \"\",\n",
    "    config_fed_server = \"\",\n",
    "    secrets_fed_client = \"\",\n",
    "    secrets_fed_server = \"\",\n",
    "    sync = False\n",
    ")\n",
    "print(f\"Starting to run federated training of {code_object.name}\")\n",
    "model_train = session.code_object.train_model(run_params)\n",
    "train_result = model_train.wait_for_completion()\n",
    "print(f\"Finished training of {code_object.name}\")"
   ],
   "id": "b47f4d8e872c673d",
   "outputs": [
    {
     "name": "stdout",
     "output_type": "stream",
     "text": [
      "Finished Creating Code Object\n",
      "Starting to run federated training of NVFlare Validation Code\n",
      "Waiting for code run to complete (0 hours 0 minutes and a second)\n",
      "Waiting for code run to complete (0 hours 0 minutes and 11 seconds)\n",
      "Waiting for code run to complete (0 hours 0 minutes and 22 seconds)\n",
      "Done.\n",
      "Finished training of NVFlare Validation Code\n"
     ]
    }
   ],
   "execution_count": 80
  },
  {
   "metadata": {},
   "cell_type": "code",
   "outputs": [],
   "execution_count": null,
   "source": "",
   "id": "8c845dd15303dc34"
  }
 ],
 "metadata": {
  "kernelspec": {
   "display_name": "Python 3",
   "language": "python",
   "name": "python3"
  },
  "language_info": {
   "codemirror_mode": {
    "name": "ipython",
    "version": 2
   },
   "file_extension": ".py",
   "mimetype": "text/x-python",
   "name": "python",
   "nbconvert_exporter": "python",
   "pygments_lexer": "ipython2",
   "version": "2.7.6"
  }
 },
 "nbformat": 4,
 "nbformat_minor": 5
}
