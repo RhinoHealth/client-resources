{
 "cells": [
  {
   "metadata": {},
   "cell_type": "markdown",
   "source": [
    "# Test the initial installation of a Rhino client\n",
    "\n",
    "#### Prerequisites\n",
    "1. Have an active SSO login\n",
    "2. Have an active Rhino Cloud user with the appropriate access\n",
    "3. Have the path to the external data store (e.g. S3, GCS)"
   ],
   "id": "13f9cee1ad3ab2f0"
  },
  {
   "metadata": {},
   "cell_type": "markdown",
   "source": "### 1. Initialization and Login",
   "id": "553f454c2647fdc7"
  },
  {
   "metadata": {
    "ExecuteTime": {
     "end_time": "2024-12-23T19:26:46.198896Z",
     "start_time": "2024-12-23T19:26:46.131857Z"
    }
   },
   "cell_type": "code",
   "source": [
    "from getpass import getpass\n",
    "from pprint import pprint\n",
    "\n",
    "from google.oauth2.credentials import Credentials\n",
    "from google_auth_oauthlib.flow import InstalledAppFlow\n",
    "from google.auth.transport.requests import Request\n",
    "\n",
    "import rhino_health as rh\n",
    "from rhino_health import AuthenticationDetailType\n",
    "from rhino_health.lib.endpoints.sql_query.sql_query_dataclass import (\n",
    "    SQLQueryImportInput,\n",
    "    SQLQueryInput,\n",
    "    SQLServerTypes,\n",
    "    ConnectionDetails,\n",
    ")\n",
    "from rhino_health.lib.metrics import Count, FilterType, Mean, StandardDeviation\n"
   ],
   "id": "d79b86ab0494f9a3",
   "outputs": [],
   "execution_count": 11
  },
  {
   "metadata": {},
   "cell_type": "markdown",
   "source": "### 2. Initialize the input values",
   "id": "34fc1fcc06983474"
  },
  {
   "metadata": {
    "ExecuteTime": {
     "end_time": "2024-12-24T13:47:26.604644Z",
     "start_time": "2024-12-24T13:47:26.599864Z"
    }
   },
   "cell_type": "code",
   "source": [
    "USERNAME = \"dan@rhinohealth.com\"\n",
    "# DATASTORE_PATH = \"/rhino_data/external/s3/hc/encounters.csv\"\n",
    "DATASTORE_PATH = \"/rhino_data/tutorial_1/dataset.csv\"\n",
    "DEV_URL = \"https://dev.rhinohealth.com/api\"\n",
    "DEV3_URL = \"https://dev3.rhinohealth.com/api\""
   ],
   "id": "2eaa229ffda4caba",
   "outputs": [],
   "execution_count": 70
  },
  {
   "metadata": {},
   "cell_type": "markdown",
   "source": "### 3 Log in",
   "id": "5a69dbc463919399"
  },
  {
   "metadata": {
    "ExecuteTime": {
     "end_time": "2024-12-24T13:32:38.973064Z",
     "start_time": "2024-12-24T13:32:03.413399Z"
    }
   },
   "cell_type": "code",
   "source": [
    "print(\"Logging In\")\n",
    "session = rh.login(username=USERNAME, password=getpass(), rhino_api_url=DEV_URL, )\n",
    "# session = rh.login(authentication_details={\"sso_access_token\": token, \"sso_provider\": \"google\", \"sso_client\": \"rhino-agent-dev3\"})\n",
    "print(\"Logged In\")"
   ],
   "id": "3bf491d29c92724b",
   "outputs": [
    {
     "name": "stdout",
     "output_type": "stream",
     "text": [
      "Logging In\n",
      "Logged In\n"
     ]
    }
   ],
   "execution_count": 61
  },
  {
   "metadata": {
    "ExecuteTime": {
     "end_time": "2024-12-24T13:34:27.700046Z",
     "start_time": "2024-12-24T13:34:27.030450Z"
    }
   },
   "cell_type": "code",
   "source": [
    "print(session.project.get_projects()[0].primary_workgroup_uid)\n",
    "print(session.current_user.primary_workgroup_uid)\n",
    "user = session.current_user"
   ],
   "id": "e826ffbb7aab1f98",
   "outputs": [
    {
     "name": "stdout",
     "output_type": "stream",
     "text": [
      "97d7456b-baef-4d88-bfb1-afd4975eaff2\n",
      "97d7456b-baef-4d88-bfb1-afd4975eaff2\n"
     ]
    }
   ],
   "execution_count": 68
  },
  {
   "metadata": {},
   "cell_type": "markdown",
   "source": "### 4 Create a project",
   "id": "cdbec95927168879"
  },
  {
   "metadata": {
    "ExecuteTime": {
     "end_time": "2024-12-23T21:33:50.913154Z",
     "start_time": "2024-12-23T21:33:50.176046Z"
    }
   },
   "cell_type": "code",
   "source": [
    "from rhino_health.lib.endpoints.project.project_dataclass import ProjectCreateInput\n",
    "\n",
    "new_project = ProjectCreateInput(\n",
    "    name=\"Validation Project 2\",\n",
    "    description=\"Project for Site Installation Validation\",\n",
    "    type=\"Validation\",\n",
    "    primary_workgroup_uid=user.primary_workgroup_uid\n",
    ")\n",
    "project = session.project.add_project(new_project)"
   ],
   "id": "de25f74bc405c64d",
   "outputs": [],
   "execution_count": 57
  },
  {
   "metadata": {},
   "cell_type": "markdown",
   "source": "### 5 Create a dataset using external datasource access",
   "id": "c74ca50ad9b472c2"
  },
  {
   "metadata": {
    "ExecuteTime": {
     "end_time": "2024-12-24T13:47:30.092568Z",
     "start_time": "2024-12-24T13:47:30.071244Z"
    }
   },
   "cell_type": "code",
   "source": [
    "from rhino_health.lib.endpoints.data_schema.data_schema_dataclass import DataSchemaCreateInput\n",
    "\n",
    "dataschema_input = DataSchemaCreateInput(\n",
    "    name=\"Validation Schema\",\n",
    "    description=\"\",\n",
    "    primary_workgroup_uid=user.primary_workgroup_uid,\n",
    "    project=project.uid,\n",
    "    file_path=DATASTORE_PATH\n",
    ")\n",
    "dataschema = session.data_schema.create_data_schema(dataschema_input)\n"
   ],
   "id": "c72c6d4da5e59297",
   "outputs": [
    {
     "ename": "FileNotFoundError",
     "evalue": "[Errno 2] No such file or directory: '/rhino_data/tutorial_1/dataset.csv'",
     "output_type": "error",
     "traceback": [
      "\u001B[0;31m---------------------------------------------------------------------------\u001B[0m",
      "\u001B[0;31mFileNotFoundError\u001B[0m                         Traceback (most recent call last)",
      "Cell \u001B[0;32mIn[71], line 3\u001B[0m\n\u001B[1;32m      1\u001B[0m \u001B[38;5;28;01mfrom\u001B[39;00m \u001B[38;5;21;01mrhino_health\u001B[39;00m\u001B[38;5;21;01m.\u001B[39;00m\u001B[38;5;21;01mlib\u001B[39;00m\u001B[38;5;21;01m.\u001B[39;00m\u001B[38;5;21;01mendpoints\u001B[39;00m\u001B[38;5;21;01m.\u001B[39;00m\u001B[38;5;21;01mdata_schema\u001B[39;00m\u001B[38;5;21;01m.\u001B[39;00m\u001B[38;5;21;01mdata_schema_dataclass\u001B[39;00m \u001B[38;5;28;01mimport\u001B[39;00m DataSchemaCreateInput\n\u001B[0;32m----> 3\u001B[0m dataschema_input \u001B[38;5;241m=\u001B[39m \u001B[43mDataSchemaCreateInput\u001B[49m\u001B[43m(\u001B[49m\n\u001B[1;32m      4\u001B[0m \u001B[43m    \u001B[49m\u001B[43mname\u001B[49m\u001B[38;5;241;43m=\u001B[39;49m\u001B[38;5;124;43m\"\u001B[39;49m\u001B[38;5;124;43mValidation Schema\u001B[39;49m\u001B[38;5;124;43m\"\u001B[39;49m\u001B[43m,\u001B[49m\n\u001B[1;32m      5\u001B[0m \u001B[43m    \u001B[49m\u001B[43mdescription\u001B[49m\u001B[38;5;241;43m=\u001B[39;49m\u001B[38;5;124;43m\"\u001B[39;49m\u001B[38;5;124;43m\"\u001B[39;49m\u001B[43m,\u001B[49m\n\u001B[1;32m      6\u001B[0m \u001B[43m    \u001B[49m\u001B[43mprimary_workgroup_uid\u001B[49m\u001B[38;5;241;43m=\u001B[39;49m\u001B[43muser\u001B[49m\u001B[38;5;241;43m.\u001B[39;49m\u001B[43mprimary_workgroup_uid\u001B[49m\u001B[43m,\u001B[49m\n\u001B[1;32m      7\u001B[0m \u001B[43m    \u001B[49m\u001B[43mproject\u001B[49m\u001B[38;5;241;43m=\u001B[39;49m\u001B[43mproject\u001B[49m\u001B[38;5;241;43m.\u001B[39;49m\u001B[43muid\u001B[49m\u001B[43m,\u001B[49m\n\u001B[1;32m      8\u001B[0m \u001B[43m    \u001B[49m\u001B[43mfile_path\u001B[49m\u001B[38;5;241;43m=\u001B[39;49m\u001B[43mDATASTORE_PATH\u001B[49m\n\u001B[1;32m      9\u001B[0m \u001B[43m)\u001B[49m\n\u001B[1;32m     10\u001B[0m dataschema \u001B[38;5;241m=\u001B[39m session\u001B[38;5;241m.\u001B[39mdata_schema\u001B[38;5;241m.\u001B[39mcreate_data_schema(dataschema_input)\n",
      "File \u001B[0;32m~/.pyenv/versions/3.11.11/lib/python3.11/site-packages/rhino_health/lib/endpoints/data_schema/data_schema_dataclass.py:123\u001B[0m, in \u001B[0;36mDataSchemaCreateInput.__init__\u001B[0;34m(self, **data)\u001B[0m\n\u001B[1;32m    117\u001B[0m \u001B[38;5;28;01mif\u001B[39;00m \u001B[38;5;124m\"\u001B[39m\u001B[38;5;124mprojects\u001B[39m\u001B[38;5;124m\"\u001B[39m \u001B[38;5;129;01min\u001B[39;00m data:\n\u001B[1;32m    118\u001B[0m     warn(\n\u001B[1;32m    119\u001B[0m         \u001B[38;5;124m\"\u001B[39m\u001B[38;5;124mThe projects field is deprecated. Please use project instead.\u001B[39m\u001B[38;5;124m\"\u001B[39m,\n\u001B[1;32m    120\u001B[0m         \u001B[38;5;167;01mDeprecationWarning\u001B[39;00m,\n\u001B[1;32m    121\u001B[0m     )\n\u001B[0;32m--> 123\u001B[0m \u001B[38;5;28;43mself\u001B[39;49m\u001B[38;5;241;43m.\u001B[39;49m\u001B[43m_load_csv_file\u001B[49m\u001B[43m(\u001B[49m\u001B[43mdata\u001B[49m\u001B[43m)\u001B[49m\n\u001B[1;32m    124\u001B[0m \u001B[38;5;28msuper\u001B[39m(BaseDataSchema, \u001B[38;5;28mself\u001B[39m)\u001B[38;5;241m.\u001B[39m\u001B[38;5;21m__init__\u001B[39m(\u001B[38;5;241m*\u001B[39m\u001B[38;5;241m*\u001B[39mdata)\n\u001B[1;32m    125\u001B[0m \u001B[38;5;28;01mif\u001B[39;00m \u001B[38;5;28mself\u001B[39m\u001B[38;5;241m.\u001B[39mproject_uid \u001B[38;5;129;01mand\u001B[39;00m \u001B[38;5;28mself\u001B[39m\u001B[38;5;241m.\u001B[39mproject_uids:\n",
      "File \u001B[0;32m~/.pyenv/versions/3.11.11/lib/python3.11/site-packages/rhino_health/lib/endpoints/data_schema/data_schema_dataclass.py:132\u001B[0m, in \u001B[0;36mDataSchemaCreateInput._load_csv_file\u001B[0;34m(self, data)\u001B[0m\n\u001B[1;32m    129\u001B[0m file_path \u001B[38;5;241m=\u001B[39m data\u001B[38;5;241m.\u001B[39mget(\u001B[38;5;124m\"\u001B[39m\u001B[38;5;124mfile_path\u001B[39m\u001B[38;5;124m\"\u001B[39m, \u001B[38;5;28;01mNone\u001B[39;00m)\n\u001B[1;32m    130\u001B[0m \u001B[38;5;28;01mif\u001B[39;00m file_path:\n\u001B[1;32m    131\u001B[0m     data[\u001B[38;5;124m\"\u001B[39m\u001B[38;5;124mschema_fields\u001B[39m\u001B[38;5;124m\"\u001B[39m] \u001B[38;5;241m=\u001B[39m [\n\u001B[0;32m--> 132\u001B[0m         x \u001B[38;5;28;01mfor\u001B[39;00m x \u001B[38;5;129;01min\u001B[39;00m \u001B[38;5;28;43mopen\u001B[39;49m\u001B[43m(\u001B[49m\u001B[43mfile_path\u001B[49m\u001B[43m,\u001B[49m\u001B[43m \u001B[49m\u001B[38;5;124;43m\"\u001B[39;49m\u001B[38;5;124;43mr\u001B[39;49m\u001B[38;5;124;43m\"\u001B[39;49m\u001B[43m,\u001B[49m\u001B[43m \u001B[49m\u001B[43mencoding\u001B[49m\u001B[38;5;241;43m=\u001B[39;49m\u001B[38;5;124;43m\"\u001B[39;49m\u001B[38;5;124;43mutf-8\u001B[39;49m\u001B[38;5;124;43m\"\u001B[39;49m\u001B[43m,\u001B[49m\u001B[43m \u001B[49m\u001B[43mnewline\u001B[49m\u001B[38;5;241;43m=\u001B[39;49m\u001B[38;5;28;43;01mNone\u001B[39;49;00m\u001B[43m)\u001B[49m\u001B[38;5;241m.\u001B[39mreadlines()\n\u001B[1;32m    133\u001B[0m     ]\n\u001B[1;32m    134\u001B[0m     \u001B[38;5;66;03m# TODO: Verify the schema file is correct\u001B[39;00m\n\u001B[1;32m    135\u001B[0m     \u001B[38;5;28;01mdel\u001B[39;00m data[\u001B[38;5;124m\"\u001B[39m\u001B[38;5;124mfile_path\u001B[39m\u001B[38;5;124m\"\u001B[39m]\n",
      "\u001B[0;31mFileNotFoundError\u001B[0m: [Errno 2] No such file or directory: '/rhino_data/tutorial_1/dataset.csv'"
     ]
    }
   ],
   "execution_count": 71
  },
  {
   "metadata": {},
   "cell_type": "code",
   "outputs": [],
   "execution_count": null,
   "source": "",
   "id": "3801fe9b2f4f9cae"
  }
 ],
 "metadata": {
  "kernelspec": {
   "display_name": "Python 3",
   "language": "python",
   "name": "python3"
  },
  "language_info": {
   "codemirror_mode": {
    "name": "ipython",
    "version": 2
   },
   "file_extension": ".py",
   "mimetype": "text/x-python",
   "name": "python",
   "nbconvert_exporter": "python",
   "pygments_lexer": "ipython2",
   "version": "2.7.6"
  }
 },
 "nbformat": 4,
 "nbformat_minor": 5
}
