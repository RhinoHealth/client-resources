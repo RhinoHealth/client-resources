{
 "cells": [
  {
   "metadata": {},
   "cell_type": "markdown",
   "source": [
    "# Test the initial installation of a Rhino client\n",
    "\n",
    "#### Prerequisites\n",
    "1. Have an active SSO login\n",
    "2. Have an active Rhino Cloud user with the appropriate access\n",
    "3. Have the path to the external data store (e.g. S3, GCS)"
   ],
   "id": "13f9cee1ad3ab2f0"
  },
  {
   "metadata": {},
   "cell_type": "markdown",
   "source": "### 1. Initialization and Login",
   "id": "553f454c2647fdc7"
  },
  {
   "metadata": {
    "ExecuteTime": {
     "end_time": "2024-12-20T20:08:57.003969Z",
     "start_time": "2024-12-20T20:08:55.646725Z"
    }
   },
   "cell_type": "code",
   "source": [
    "from rhino_health import ApiEnvironment\n",
    "\n",
    "pip install --upgrade rhino_health"
   ],
   "id": "dcf2f1b236bcd961",
   "outputs": [
    {
     "name": "stdout",
     "output_type": "stream",
     "text": [
      "Requirement already satisfied: rhino_health in /Users/danielrunt/.pyenv/versions/3.11.11/lib/python3.11/site-packages (1.3.3)\r\n",
      "Requirement already satisfied: arrow<2,>=1.2.1 in /Users/danielrunt/.pyenv/versions/3.11.11/lib/python3.11/site-packages (from rhino_health) (1.3.0)\r\n",
      "Requirement already satisfied: backoff<2.3,>=2.1.1 in /Users/danielrunt/.pyenv/versions/3.11.11/lib/python3.11/site-packages (from rhino_health) (2.2.1)\r\n",
      "Requirement already satisfied: funcy<3,>=1.16 in /Users/danielrunt/.pyenv/versions/3.11.11/lib/python3.11/site-packages (from rhino_health) (2.0)\r\n",
      "Requirement already satisfied: pydantic<2.6,>=2.5 in /Users/danielrunt/.pyenv/versions/3.11.11/lib/python3.11/site-packages (from rhino_health) (2.5.3)\r\n",
      "Requirement already satisfied: ratelimit<2.3,>=2.2.1 in /Users/danielrunt/.pyenv/versions/3.11.11/lib/python3.11/site-packages (from rhino_health) (2.2.1)\r\n",
      "Requirement already satisfied: requests<2.33,>=2.28 in /Users/danielrunt/.pyenv/versions/3.11.11/lib/python3.11/site-packages (from rhino_health) (2.32.3)\r\n",
      "Requirement already satisfied: typing-extensions>=4.8.0 in /Users/danielrunt/.pyenv/versions/3.11.11/lib/python3.11/site-packages (from rhino_health) (4.12.2)\r\n",
      "Requirement already satisfied: python-dateutil>=2.7.0 in /Users/danielrunt/.pyenv/versions/3.11.11/lib/python3.11/site-packages (from arrow<2,>=1.2.1->rhino_health) (2.9.0.post0)\r\n",
      "Requirement already satisfied: types-python-dateutil>=2.8.10 in /Users/danielrunt/.pyenv/versions/3.11.11/lib/python3.11/site-packages (from arrow<2,>=1.2.1->rhino_health) (2.9.0.20241206)\r\n",
      "Requirement already satisfied: annotated-types>=0.4.0 in /Users/danielrunt/.pyenv/versions/3.11.11/lib/python3.11/site-packages (from pydantic<2.6,>=2.5->rhino_health) (0.7.0)\r\n",
      "Requirement already satisfied: pydantic-core==2.14.6 in /Users/danielrunt/.pyenv/versions/3.11.11/lib/python3.11/site-packages (from pydantic<2.6,>=2.5->rhino_health) (2.14.6)\r\n",
      "Requirement already satisfied: charset-normalizer<4,>=2 in /Users/danielrunt/.pyenv/versions/3.11.11/lib/python3.11/site-packages (from requests<2.33,>=2.28->rhino_health) (3.4.0)\r\n",
      "Requirement already satisfied: idna<4,>=2.5 in /Users/danielrunt/.pyenv/versions/3.11.11/lib/python3.11/site-packages (from requests<2.33,>=2.28->rhino_health) (3.10)\r\n",
      "Requirement already satisfied: urllib3<3,>=1.21.1 in /Users/danielrunt/.pyenv/versions/3.11.11/lib/python3.11/site-packages (from requests<2.33,>=2.28->rhino_health) (2.2.3)\r\n",
      "Requirement already satisfied: certifi>=2017.4.17 in /Users/danielrunt/.pyenv/versions/3.11.11/lib/python3.11/site-packages (from requests<2.33,>=2.28->rhino_health) (2024.12.14)\r\n",
      "Requirement already satisfied: six>=1.5 in /Users/danielrunt/.pyenv/versions/3.11.11/lib/python3.11/site-packages (from python-dateutil>=2.7.0->arrow<2,>=1.2.1->rhino_health) (1.17.0)\r\n",
      "Note: you may need to restart the kernel to use updated packages.\n"
     ]
    }
   ],
   "execution_count": 6
  },
  {
   "metadata": {
    "ExecuteTime": {
     "end_time": "2024-12-20T20:09:47.449485Z",
     "start_time": "2024-12-20T20:09:47.445990Z"
    }
   },
   "cell_type": "code",
   "source": [
    "from getpass import getpass\n",
    "from pprint import pprint\n",
    "\n",
    "import rhino_health as rh\n",
    "from rhino_health.lib.endpoints.sql_query.sql_query_dataclass import (\n",
    "    SQLQueryImportInput,\n",
    "    SQLQueryInput,\n",
    "    SQLServerTypes,\n",
    "    ConnectionDetails,\n",
    ")\n",
    "from rhino_health.lib.metrics import Count, FilterType, Mean, StandardDeviation\n"
   ],
   "id": "d79b86ab0494f9a3",
   "outputs": [],
   "execution_count": 12
  },
  {
   "metadata": {},
   "cell_type": "markdown",
   "source": "### 2. Initialize the input values",
   "id": "34fc1fcc06983474"
  },
  {
   "metadata": {
    "ExecuteTime": {
     "end_time": "2024-12-23T15:33:04.126852Z",
     "start_time": "2024-12-23T15:33:04.081651Z"
    }
   },
   "cell_type": "code",
   "source": [
    "username = \"dan@rhinohealth.com\"\n",
    "datastore_path = \"/rhino_data/exernal/s3\""
   ],
   "id": "2eaa229ffda4caba",
   "outputs": [],
   "execution_count": 19
  },
  {
   "metadata": {},
   "cell_type": "markdown",
   "source": "### 3 Log in",
   "id": "5a69dbc463919399"
  },
  {
   "metadata": {
    "ExecuteTime": {
     "end_time": "2024-12-23T15:33:12.714600Z",
     "start_time": "2024-12-23T15:33:05.136419Z"
    }
   },
   "cell_type": "code",
   "source": [
    "print(\"Logging In\")\n",
    "session = rh.login(username=username, password=getpass(), rhino_api_url=\"https://dev.rhinohealth.com/api/\")\n",
    "print(\"Logged In\")"
   ],
   "id": "3bf491d29c92724b",
   "outputs": [
    {
     "name": "stdout",
     "output_type": "stream",
     "text": [
      "Logging In\n",
      "RuntimeError: Must provide either username and password or SSO Credentials\n"
     ]
    }
   ],
   "execution_count": 20
  },
  {
   "metadata": {},
   "cell_type": "markdown",
   "source": "### 4 Create a project",
   "id": "cdbec95927168879"
  },
  {
   "metadata": {},
   "cell_type": "code",
   "outputs": [],
   "execution_count": null,
   "source": "",
   "id": "de25f74bc405c64d"
  }
 ],
 "metadata": {
  "kernelspec": {
   "display_name": "Python 3",
   "language": "python",
   "name": "python3"
  },
  "language_info": {
   "codemirror_mode": {
    "name": "ipython",
    "version": 2
   },
   "file_extension": ".py",
   "mimetype": "text/x-python",
   "name": "python",
   "nbconvert_exporter": "python",
   "pygments_lexer": "ipython2",
   "version": "2.7.6"
  }
 },
 "nbformat": 4,
 "nbformat_minor": 5
}
