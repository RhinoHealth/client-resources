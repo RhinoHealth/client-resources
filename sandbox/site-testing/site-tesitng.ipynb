{
 "cells": [
  {
   "metadata": {},
   "cell_type": "markdown",
   "source": [
    "# Test the initial installation of a Rhino client\n",
    "\n",
    "#### Prerequisites\n",
    "1. Have an active SSO login\n",
    "2. Have an active Rhino Cloud user with the appropriate access\n",
    "3. Have the path to the external data store (e.g. S3, GCS)"
   ],
   "id": "13f9cee1ad3ab2f0"
  },
  {
   "metadata": {},
   "cell_type": "markdown",
   "source": "### 1. Initialization and Login",
   "id": "553f454c2647fdc7"
  },
  {
   "metadata": {
    "ExecuteTime": {
     "end_time": "2024-12-23T19:26:46.198896Z",
     "start_time": "2024-12-23T19:26:46.131857Z"
    }
   },
   "cell_type": "code",
   "source": [
    "from getpass import getpass\n",
    "from pprint import pprint\n",
    "\n",
    "from google.oauth2.credentials import Credentials\n",
    "from google_auth_oauthlib.flow import InstalledAppFlow\n",
    "from google.auth.transport.requests import Request\n",
    "\n",
    "import rhino_health as rh\n",
    "from rhino_health.lib.endpoints.sql_query.sql_query_dataclass import (\n",
    "    SQLQueryImportInput,\n",
    "    SQLQueryInput,\n",
    "    SQLServerTypes,\n",
    "    ConnectionDetails,\n",
    ")\n",
    "from rhino_health.lib.metrics import Count, FilterType, Mean, StandardDeviation\n"
   ],
   "id": "d79b86ab0494f9a3",
   "outputs": [],
   "execution_count": 11
  },
  {
   "metadata": {},
   "cell_type": "markdown",
   "source": "### 2. Initialize the input values",
   "id": "34fc1fcc06983474"
  },
  {
   "metadata": {
    "ExecuteTime": {
     "end_time": "2024-12-23T19:09:32.577878Z",
     "start_time": "2024-12-23T19:09:32.575637Z"
    }
   },
   "cell_type": "code",
   "source": [
    "username = \"dan@rhinohealth.com\"\n",
    "datastore_path = \"/rhino_data/exernal/s3\"\n",
    "url = \"https://dev3.rhinohealth.com/api\""
   ],
   "id": "2eaa229ffda4caba",
   "outputs": [],
   "execution_count": 4
  },
  {
   "metadata": {},
   "cell_type": "markdown",
   "source": "### 3 Log in",
   "id": "5a69dbc463919399"
  },
  {
   "metadata": {
    "ExecuteTime": {
     "end_time": "2024-12-23T19:45:23.076180Z",
     "start_time": "2024-12-23T19:45:20.465517Z"
    }
   },
   "cell_type": "code",
   "source": [
    "print(\"Logging In\")\n",
    "session = rh.login(username=username, password=getpass(), rhino_api_url=url, )\n",
    "print(\"Logged In\")"
   ],
   "id": "3bf491d29c92724b",
   "outputs": [
    {
     "name": "stdout",
     "output_type": "stream",
     "text": [
      "Logging In\n",
      "Logged In\n"
     ]
    }
   ],
   "execution_count": 12
  },
  {
   "metadata": {},
   "cell_type": "markdown",
   "source": "### 4 Create a project",
   "id": "cdbec95927168879"
  },
  {
   "metadata": {},
   "cell_type": "code",
   "outputs": [],
   "execution_count": null,
   "source": "",
   "id": "de25f74bc405c64d"
  }
 ],
 "metadata": {
  "kernelspec": {
   "display_name": "Python 3",
   "language": "python",
   "name": "python3"
  },
  "language_info": {
   "codemirror_mode": {
    "name": "ipython",
    "version": 2
   },
   "file_extension": ".py",
   "mimetype": "text/x-python",
   "name": "python",
   "nbconvert_exporter": "python",
   "pygments_lexer": "ipython2",
   "version": "2.7.6"
  }
 },
 "nbformat": 4,
 "nbformat_minor": 5
}
