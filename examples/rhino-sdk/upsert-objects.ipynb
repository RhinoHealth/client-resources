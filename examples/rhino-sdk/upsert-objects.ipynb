{
 "cells": [
  {
   "cell_type": "markdown",
   "id": "87bb988a",
   "metadata": {},
   "source": [
    "# Inserting and Updating Objects\n",
    "Demonstrate creation and updating of different objects with the Rhino Health Python SDK\n",
    "\n",
    "#### Prerequisites \n",
    "1. Have projects called \"Test\" and \"Test2\" that you have created\n",
    "2. Have a data schema that you can use for importing a cohort\n",
    "3. Have files on your Rhino Client that can be used to import a cohort with the data schema\n",
    "4. Have a container image pushed to your ECR repo with any code (just used for creating an object, not for running the code)"
   ]
  },
  {
   "cell_type": "markdown",
   "id": "e9ccd930",
   "metadata": {},
   "source": [
    "### Initialization and Login"
   ]
  },
  {
   "cell_type": "code",
   "execution_count": null,
   "id": "6e08bf2b",
   "metadata": {},
   "outputs": [],
   "source": [
    "import getpass\n",
    "import rhino_health as rh\n",
    "from rhino_health.lib.endpoints.endpoint import NameFilterMode, VersionMode\n",
    "from rhino_health.lib.endpoints.aimodel.aimodel_dataclass import AIModelCreateInput\n",
    "from rhino_health.lib.endpoints.cohort.cohort_dataclass import CohortCreateInput"
   ]
  },
  {
   "cell_type": "code",
   "execution_count": null,
   "id": "386712b7",
   "metadata": {},
   "outputs": [],
   "source": [
    "print(\"Logging In\")\n",
    "my_username = \"my_email@example.com\" # Replace this with the email you use to log into Rhino Health\n",
    "my_workgroup_ecr_repo = \"rhino-gc-workgroup-XXXXXXXXXXXXXX\"  # Replace this with your workgroup's ECR repo\n",
    "my_image_name = \"upserting-objects\"  # The name (tag) of the container image you pushed to your ECR repo\n",
    "ecr_base_uri = rh.lib.constants.ECRService.PROD_URL\n",
    "session = rh.login(username=my_username, password=getpass.getpass())\n",
    "print(\"Logged In\")"
   ]
  },
  {
   "cell_type": "markdown",
   "id": "82aa451c",
   "metadata": {},
   "source": [
    "# Get Project By Name"
   ]
  },
  {
   "cell_type": "code",
   "execution_count": null,
   "id": "98f78a0c",
   "metadata": {},
   "outputs": [],
   "source": [
    "projects = session.project.search_for_projects_by_name(\"Test\")\n",
    "print(\"projects\")\n",
    "print([(x.name, x.uid) for x in projects][:10])"
   ]
  },
  {
   "cell_type": "code",
   "execution_count": null,
   "id": "9d233bef",
   "metadata": {},
   "outputs": [],
   "source": [
    "project = session.project.get_project_by_name(\"Test2\")\n",
    "print(project)"
   ]
  },
  {
   "cell_type": "code",
   "execution_count": null,
   "id": "46ac4714",
   "metadata": {},
   "outputs": [],
   "source": [
    "print(project.dict(include={'uid', 'name', 'description'}))"
   ]
  },
  {
   "cell_type": "markdown",
   "id": "a0be162d",
   "metadata": {},
   "source": [
    "# Create Cohort"
   ]
  },
  {
   "cell_type": "code",
   "execution_count": null,
   "id": "8467cbd2",
   "metadata": {},
   "outputs": [],
   "source": [
    "data_schema_uid = \"XXXXXXXX-XXXX-XXXX-XXXX-XXXXXXXXXXXX\"  # Replace data schema UID\n",
    "cohort_csv_location = \"/rhino_data/test/cohort_data.csv\"  # Replace cohort CSV location"
   ]
  },
  {
   "cell_type": "code",
   "execution_count": null,
   "id": "945cef92",
   "metadata": {},
   "outputs": [],
   "source": [
    "cohort_input = CohortCreateInput(\n",
    "            name=\"Upsert Cohort\",\n",
    "            description=\"Test Upsert Cohort\",\n",
    "            project_uid=project.uid,\n",
    "            workgroup_uid=project.primary_workgroup_uid,\n",
    "            data_schema_uid=data_schema_uid,\n",
    "            csv_filesystem_location=cohort_csv_location,\n",
    "            method=\"filesystem\",\n",
    "            is_data_deidentified=True,\n",
    "        )\n",
    "cohort = session.cohort.add_cohort(cohort_input)\n",
    "print(cohort.uid)"
   ]
  },
  {
   "cell_type": "code",
   "execution_count": null,
   "id": "865436ce",
   "metadata": {},
   "outputs": [],
   "source": [
    "duplicate_cohort_input = session.cohort.add_cohort(cohort_input)\n",
    "print(duplicate_cohort_input.uid)"
   ]
  },
  {
   "cell_type": "code",
   "execution_count": null,
   "id": "ae8b7cfc",
   "metadata": {},
   "outputs": [],
   "source": [
    "new_version_of_cohort = session.cohort.add_cohort(cohort_input, return_existing=False, add_version_if_exists=True)\n",
    "print(new_version_of_cohort.uid, new_version_of_cohort.version)"
   ]
  },
  {
   "cell_type": "markdown",
   "id": "a6d98fb3",
   "metadata": {},
   "source": [
    "# Get Cohort"
   ]
  },
  {
   "cell_type": "code",
   "execution_count": null,
   "id": "039c3d23",
   "metadata": {},
   "outputs": [],
   "source": [
    "found_cohort = project.get_cohort_by_name(\"Upsert Cohort\")\n",
    "print(found_cohort.dict(include={'name', 'uid', 'version'}))"
   ]
  },
  {
   "cell_type": "code",
   "execution_count": null,
   "id": "4f4cf3e4",
   "metadata": {},
   "outputs": [],
   "source": [
    "older_cohort = project.get_cohort_by_name(\"Upsert Cohort\", version=1)\n",
    "print(older_cohort.dict(include={'name', 'uid', 'version'}))"
   ]
  },
  {
   "cell_type": "code",
   "execution_count": null,
   "id": "ceac24ca",
   "metadata": {},
   "outputs": [],
   "source": [
    "all_cohort_versions = project.search_for_cohorts_by_name(\"upsert\", version=VersionMode.ALL, name_filter_mode=NameFilterMode.CONTAINS)\n",
    "print([cohort.dict(include={'name', 'uid', 'version'}) for cohort in all_cohort_versions])"
   ]
  },
  {
   "cell_type": "code",
   "execution_count": null,
   "id": "1c7509b8",
   "metadata": {},
   "outputs": [],
   "source": [
    "non_existent_cohort = project.get_cohort_by_name(\"I do not exist\")\n",
    "print (non_existent_cohort)"
   ]
  },
  {
   "cell_type": "markdown",
   "id": "08db9754",
   "metadata": {},
   "source": [
    "# Create AIModel"
   ]
  },
  {
   "cell_type": "code",
   "execution_count": null,
   "id": "720c7217",
   "metadata": {},
   "outputs": [],
   "source": [
    "image_uri = f\"{ecr_base_uri}/{my_workgroup_ecr_repo}:{my_image_name}\"\n",
    "\n",
    "test_model_object = AIModelCreateInput(\n",
    "    name=\"Upsert Model\",\n",
    "    description=\"Test\",\n",
    "    input_data_schema_uids=[cohort.uid],\n",
    "    output_data_schema_uids=[cohort.uid],\n",
    "    project_uid=project.uid,\n",
    "    model_type=\"Generalized Compute\",\n",
    "    config={\"container_image_uri\": image_uri},\n",
    ")\n",
    "\n",
    "aimodel = session.aimodel.create_aimodel(\n",
    "    test_model_object\n",
    ")\n",
    "\n",
    "print(aimodel.uid)"
   ]
  },
  {
   "cell_type": "code",
   "execution_count": null,
   "id": "4f1a7de5",
   "metadata": {},
   "outputs": [],
   "source": [
    "duplicate_aimodel_input = session.aimodel.create_aimodel(test_model_object)\n",
    "print(duplicate_aimodel_input.uid)"
   ]
  },
  {
   "cell_type": "code",
   "execution_count": null,
   "id": "ceb3b586",
   "metadata": {},
   "outputs": [],
   "source": [
    "new_version_of_aimodel = session.aimodel.create_aimodel(test_model_object, return_existing=False, add_version_if_exists=True)\n",
    "print(new_version_of_aimodel.dict(include={'name', 'uid', 'version'}))"
   ]
  },
  {
   "cell_type": "markdown",
   "id": "3c653c2e",
   "metadata": {},
   "source": [
    "# Get AIModel"
   ]
  },
  {
   "cell_type": "code",
   "execution_count": null,
   "id": "b3c0ac41",
   "metadata": {},
   "outputs": [],
   "source": [
    "found_aimodel = project.get_aimodel_by_name(aimodel.name)\n",
    "print(found_aimodel.dict(include={'name', 'uid', 'version'}))"
   ]
  },
  {
   "cell_type": "code",
   "execution_count": null,
   "id": "4867ce1f",
   "metadata": {},
   "outputs": [],
   "source": [
    "older_aimodel = project.get_aimodel_by_name(aimodel.name, version=0)\n",
    "print(older_aimodel.dict(include={'name', 'uid', 'version'}))"
   ]
  },
  {
   "cell_type": "code",
   "execution_count": null,
   "id": "d29fb2ae",
   "metadata": {},
   "outputs": [],
   "source": [
    "all_aimodel_versions = project.search_for_aimodels_by_name(\"upsert\", version=VersionMode.ALL, name_filter_mode=NameFilterMode.CONTAINS)\n",
    "print([aimodel.dict(include={'name', 'uid', 'version'}) for aimodel in all_aimodel_versions])"
   ]
  },
  {
   "cell_type": "code",
   "execution_count": null,
   "id": "c24d0487",
   "metadata": {},
   "outputs": [],
   "source": [
    "non_existent_aimodel = project.get_aimodel_by_name(\"I do not exist\")\n",
    "print (non_existent_aimodel)"
   ]
  },
  {
   "cell_type": "markdown",
   "id": "cc0a92b5",
   "metadata": {},
   "source": [
    "# Global Search"
   ]
  },
  {
   "cell_type": "code",
   "execution_count": null,
   "id": "3633ca60",
   "metadata": {},
   "outputs": [],
   "source": [
    "partial_search = session.aimodel.search_for_aimodels_by_name(\n",
    "    \"Test\", version=1, name_filter_mode=NameFilterMode.CONTAINS\n",
    ")\n",
    "print(\"search 1\")\n",
    "print([(x.name, x.version) for x in partial_search][:10])"
   ]
  },
  {
   "cell_type": "code",
   "execution_count": null,
   "id": "18c30f2c",
   "metadata": {},
   "outputs": [],
   "source": [
    "partial_search = session.aimodel.search_for_aimodels_by_name(\n",
    "    \"Upsert\",\n",
    "    version=VersionMode.LATEST,\n",
    "    name_filter_mode=NameFilterMode.CONTAINS,\n",
    ")\n",
    "print(\"search latest\")\n",
    "print([(x.name, x.version) for x in partial_search])"
   ]
  },
  {
   "cell_type": "code",
   "execution_count": null,
   "id": "67cbfb88",
   "metadata": {},
   "outputs": [],
   "source": [
    "partial_search = session.aimodel.search_for_aimodels_by_name(\n",
    "    \"Upsert\",\n",
    "    version=VersionMode.ALL,\n",
    "    name_filter_mode=NameFilterMode.CONTAINS,\n",
    ")\n",
    "print(\"search latest\")\n",
    "print([(x.name, x.version) for x in partial_search])"
   ]
  }
 ],
 "metadata": {
  "kernelspec": {
   "display_name": "Python 3 (ipykernel)",
   "language": "python",
   "name": "python3"
  },
  "language_info": {
   "codemirror_mode": {
    "name": "ipython",
    "version": 3
   },
   "file_extension": ".py",
   "mimetype": "text/x-python",
   "name": "python",
   "nbconvert_exporter": "python",
   "pygments_lexer": "ipython3"
  }
 },
 "nbformat": 4,
 "nbformat_minor": 5
}
