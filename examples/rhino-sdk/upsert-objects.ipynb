{
 "cells": [
  {
   "cell_type": "markdown",
   "id": "87bb988a",
   "metadata": {},
   "source": [
    "# Inserting and Updating Objects\n",
    "Demonstrate creation and updating of different objects with the Rhino Health Python SDK\n",
    "\n",
    "#### Prerequisites \n",
    "1. Have projects called \"Test\" and \"Test2\" that you have created\n",
    "2. Have a data schema that you can use for importing a dataset or use inferred data schema\n",
    "3. Have files on your Rhino Client that can be used to import a dataset with the data schema\n",
    "4. Have a container image pushed to your ECR repo with any code (just used for creating an object, not for running the code)"
   ]
  },
  {
   "cell_type": "markdown",
   "id": "e9ccd930",
   "metadata": {},
   "source": [
    "### Initialization and Login"
   ]
  },
  {
   "cell_type": "code",
   "execution_count": null,
   "id": "6e08bf2b",
   "metadata": {},
   "outputs": [],
   "source": [
    "from getpass import getpass\n",
    "import rhino_health as rh\n",
    "from rhino_health.lib.endpoints.endpoint import NameFilterMode, VersionMode\n",
    "from rhino_health.lib.endpoints.code_object.code_object_dataclass import CodeObjectCreateInput\n",
    "from rhino_health.lib.endpoints.dataset.dataset_dataclass import DatasetCreateInput"
   ]
  },
  {
   "cell_type": "code",
   "execution_count": null,
   "id": "386712b7",
   "metadata": {},
   "outputs": [],
   "source": [
    "print(\"Logging In\")\n",
    "my_username = \"my_email@example.com\" # Replace this with the email you use to log into Rhino Health\n",
    "my_workgroup_ecr_repo = \"rhino-gc-workgroup-XXXXXXXXXXXXXX\"  # Replace this with your workgroup's ECR repo\n",
    "my_image_name = \"upserting-objects\"  # The name (tag) of the container image you pushed to your ECR repo\n",
    "ecr_base_uri = rh.lib.constants.ECRService.PROD_URL\n",
    "session = rh.login(username=my_username, password=getpass())\n",
    "print(\"Logged In\")"
   ]
  },
  {
   "cell_type": "markdown",
   "id": "82aa451c",
   "metadata": {},
   "source": [
    "# Get Project By Name"
   ]
  },
  {
   "cell_type": "code",
   "execution_count": null,
   "id": "98f78a0c",
   "metadata": {},
   "outputs": [],
   "source": [
    "projects = session.project.search_for_projects_by_name(\"Test\")\n",
    "print(\"projects\")\n",
    "print([(x.name, x.uid) for x in projects][:10])"
   ]
  },
  {
   "cell_type": "code",
   "execution_count": null,
   "id": "9d233bef",
   "metadata": {},
   "outputs": [],
   "source": [
    "project = session.project.get_project_by_name(\"Test2\")\n",
    "print(project)"
   ]
  },
  {
   "cell_type": "code",
   "execution_count": null,
   "id": "46ac4714",
   "metadata": {},
   "outputs": [],
   "source": [
    "print(project.dict(include={'uid', 'name', 'description'}))"
   ]
  },
  {
   "cell_type": "markdown",
   "id": "a0be162d",
   "metadata": {},
   "source": [
    "# Create Dataset"
   ]
  },
  {
   "cell_type": "code",
   "execution_count": null,
   "id": "8467cbd2",
   "metadata": {},
   "outputs": [],
   "source": [
    "data_schema_uid = \"XXXXXXXX-XXXX-XXXX-XXXX-XXXXXXXXXXXX\"  # Replace data schema UID, use empty string for inferred data schema\n",
    "dataset_csv_location = \"/rhino_data/test/dataset_data.csv\"  # Replace dataset CSV location"
   ]
  },
  {
   "cell_type": "code",
   "execution_count": null,
   "id": "945cef92",
   "metadata": {},
   "outputs": [],
   "source": [
    "dataset_input = DatasetCreateInput(\n",
    "            name=\"Upsert Dataset\",\n",
    "            description=\"Test Upsert Dataset\",\n",
    "            project_uid=project.uid,\n",
    "            workgroup_uid=project.primary_workgroup_uid,\n",
    "            data_schema_uid = data_schema_uid,\n",
    "            csv_filesystem_location=dataset_csv_location,\n",
    "            method=\"filesystem\",\n",
    "            is_data_deidentified=True,\n",
    "        )\n",
    "dataset = session.dataset.add_dataset(dataset_input)\n",
    "print(dataset.uid)"
   ]
  },
  {
   "cell_type": "code",
   "execution_count": null,
   "id": "865436ce",
   "metadata": {},
   "outputs": [],
   "source": [
    "duplicate_dataset_input = session.dataset.add_dataset(dataset_input)\n",
    "print(duplicate_dataset_input.uid)"
   ]
  },
  {
   "cell_type": "code",
   "execution_count": null,
   "id": "ae8b7cfc",
   "metadata": {},
   "outputs": [],
   "source": [
    "new_version_of_dataset = session.dataset.add_dataset(dataset_input, return_existing=False, add_version_if_exists=True)\n",
    "print(new_version_of_dataset.uid, new_version_of_dataset.version)"
   ]
  },
  {
   "cell_type": "markdown",
   "id": "a6d98fb3",
   "metadata": {},
   "source": [
    "# Get Dataset"
   ]
  },
  {
   "cell_type": "code",
   "execution_count": null,
   "id": "039c3d23",
   "metadata": {},
   "outputs": [],
   "source": [
    "found_dataset = project.get_dataset_by_name(\"Upsert Dataset\")\n",
    "print(found_dataset.dict(include={'name', 'uid', 'version'}))"
   ]
  },
  {
   "cell_type": "code",
   "execution_count": null,
   "id": "4f4cf3e4",
   "metadata": {},
   "outputs": [],
   "source": [
    "older_dataset = project.get_dataset_by_name(\"Upsert Dataset\", version=1)\n",
    "print(older_dataset.dict(include={'name', 'uid', 'version'}))"
   ]
  },
  {
   "cell_type": "code",
   "execution_count": null,
   "id": "ceac24ca",
   "metadata": {},
   "outputs": [],
   "source": [
    "all_dataset_versions = project.search_for_datasets_by_name(\"upsert\", version=VersionMode.ALL, name_filter_mode=NameFilterMode.CONTAINS)\n",
    "print([dataset.dict(include={'name', 'uid', 'version'}) for dataset in all_dataset_versions])"
   ]
  },
  {
   "cell_type": "code",
   "execution_count": null,
   "id": "1c7509b8",
   "metadata": {},
   "outputs": [],
   "source": [
    "non_existent_dataset = project.get_dataset_by_name(\"I do not exist\")\n",
    "print (non_existent_dataset)"
   ]
  },
  {
   "cell_type": "markdown",
   "id": "08db9754",
   "metadata": {},
   "source": [
    "# Create CodeObject"
   ]
  },
  {
   "cell_type": "code",
   "execution_count": null,
   "id": "720c7217",
   "metadata": {},
   "outputs": [],
   "source": [
    "image_uri = f\"{ecr_base_uri}/{my_workgroup_ecr_repo}:{my_image_name}\"\n",
    "\n",
    "test_code_object = CodeObjectCreateInput(\n",
    "    name=\"Upsert Code Object\",\n",
    "    description=\"Test\",\n",
    "    input_data_schema_uids=[data_schema_uid],\n",
    "    output_data_schema_uids=[data_schema_uid],\n",
    "    project_uid=project.uid,\n",
    "    code_type=\"Generalized Compute\",\n",
    "    config={\"container_image_uri\": image_uri},\n",
    ")\n",
    "\n",
    "code_object = session.code_object.create_code_object(\n",
    "    test_code_object\n",
    ")\n",
    "\n",
    "print(code_object.uid)"
   ]
  },
  {
   "cell_type": "code",
   "execution_count": null,
   "id": "4f1a7de5",
   "metadata": {},
   "outputs": [],
   "source": [
    "duplicate_code_object_input = session.code_object.create_code_object(test_code_object)\n",
    "print(duplicate_code_object_input.uid)"
   ]
  },
  {
   "cell_type": "code",
   "execution_count": null,
   "id": "ceb3b586",
   "metadata": {},
   "outputs": [],
   "source": [
    "new_version_of_code_object = session.code_object.create_code_object(test_code_object, return_existing=False, add_version_if_exists=True)\n",
    "print(new_version_of_code_object.dict(include={'name', 'uid', 'version'}))"
   ]
  },
  {
   "cell_type": "markdown",
   "id": "3c653c2e",
   "metadata": {},
   "source": [
    "# Get CodeObject"
   ]
  },
  {
   "cell_type": "code",
   "execution_count": null,
   "id": "b3c0ac41",
   "metadata": {},
   "outputs": [],
   "source": [
    "found_code_object = project.get_code_object_by_name(code_object.name)\n",
    "print(found_code_object.dict(include={'name', 'uid', 'version'}))"
   ]
  },
  {
   "cell_type": "code",
   "execution_count": null,
   "id": "4867ce1f",
   "metadata": {},
   "outputs": [],
   "source": [
    "older_code_object = project.get_code_object_by_name(code_object.name, version=0)\n",
    "print(older_code_object.dict(include={'name', 'uid', 'version'}))"
   ]
  },
  {
   "cell_type": "code",
   "execution_count": null,
   "id": "d29fb2ae",
   "metadata": {},
   "outputs": [],
   "source": [
    "all_code_object_versions = project.search_for_code_objects_by_name(\"upsert\", version=VersionMode.ALL, name_filter_mode=NameFilterMode.CONTAINS)\n",
    "print([code_object.dict(include={'name', 'uid', 'version'}) for code_object in all_code_object_versions])"
   ]
  },
  {
   "cell_type": "code",
   "execution_count": null,
   "id": "c24d0487",
   "metadata": {},
   "outputs": [],
   "source": [
    "non_existent_code_object = project.get_code_object_by_name(\"I do not exist\")\n",
    "print (non_existent_code_object)"
   ]
  },
  {
   "cell_type": "markdown",
   "id": "cc0a92b5",
   "metadata": {},
   "source": [
    "# Global Search"
   ]
  },
  {
   "cell_type": "code",
   "execution_count": null,
   "id": "3633ca60",
   "metadata": {},
   "outputs": [],
   "source": [
    "partial_search = session.code_object.search_for_code_objects_by_name(\n",
    "    \"Test\", version=1, name_filter_mode=NameFilterMode.CONTAINS\n",
    ")\n",
    "print(\"search 1\")\n",
    "print([(x.name, x.version) for x in partial_search][:10])"
   ]
  },
  {
   "cell_type": "code",
   "execution_count": null,
   "id": "18c30f2c",
   "metadata": {},
   "outputs": [],
   "source": [
    "partial_search = session.code_object.search_for_code_objects_by_name(\n",
    "    \"Upsert\",\n",
    "    version=VersionMode.LATEST,\n",
    "    name_filter_mode=NameFilterMode.CONTAINS,\n",
    ")\n",
    "print(\"search latest\")\n",
    "print([(x.name, x.version) for x in partial_search])"
   ]
  },
  {
   "cell_type": "code",
   "execution_count": null,
   "id": "67cbfb88",
   "metadata": {},
   "outputs": [],
   "source": [
    "partial_search = session.code_object.search_for_code_objects_by_name(\n",
    "    \"Upsert\",\n",
    "    version=VersionMode.ALL,\n",
    "    name_filter_mode=NameFilterMode.CONTAINS,\n",
    ")\n",
    "print(\"search latest\")\n",
    "print([(x.name, x.version) for x in partial_search])"
   ]
  }
 ],
 "metadata": {
  "kernelspec": {
   "display_name": "Python 3 (ipykernel)",
   "language": "python",
   "name": "python3"
  },
  "language_info": {
   "codemirror_mode": {
    "name": "ipython",
    "version": 3
   },
   "file_extension": ".py",
   "mimetype": "text/x-python",
   "name": "python",
   "nbconvert_exporter": "python",
   "pygments_lexer": "ipython3",
   "version": "3.9.4"
  }
 },
 "nbformat": 4,
 "nbformat_minor": 5
}