{
 "cells": [
  {
   "cell_type": "markdown",
   "id": "6eb8e5ca",
   "metadata": {},
   "source": [
    "# Example: Metrics calculations using the rhino_health SDK\n",
    "\n",
    "### Load all necessary libraries, including 'rhino_health'"
   ]
  },
  {
   "cell_type": "code",
   "execution_count": 4,
   "id": "ca8789ad-2371-4614-ace0-01a6d4343b48",
   "metadata": {
    "ExecuteTime": {
     "end_time": "2024-02-13T14:17:30.476402Z",
     "start_time": "2024-02-13T14:17:27.891606Z"
    }
   },
   "outputs": [
    {
     "ename": "ModuleNotFoundError",
     "evalue": "No module named 'rhino_health.lib.metrics.epidemiology'",
     "output_type": "error",
     "traceback": [
      "\u001B[0;31m---------------------------------------------------------------------------\u001B[0m",
      "\u001B[0;31mModuleNotFoundError\u001B[0m                       Traceback (most recent call last)",
      "Cell \u001B[0;32mIn[4], line 5\u001B[0m\n\u001B[1;32m      3\u001B[0m \u001B[38;5;28;01mimport\u001B[39;00m \u001B[38;5;21;01mpandas\u001B[39;00m \u001B[38;5;28;01mas\u001B[39;00m \u001B[38;5;21;01mpd\u001B[39;00m\n\u001B[1;32m      4\u001B[0m \u001B[38;5;28;01mfrom\u001B[39;00m \u001B[38;5;21;01mrhino_health\u001B[39;00m\u001B[38;5;21;01m.\u001B[39;00m\u001B[38;5;21;01mlib\u001B[39;00m\u001B[38;5;21;01m.\u001B[39;00m\u001B[38;5;21;01mmetrics\u001B[39;00m \u001B[38;5;28;01mimport\u001B[39;00m \u001B[38;5;241m*\u001B[39m\n\u001B[0;32m----> 5\u001B[0m \u001B[38;5;28;01mfrom\u001B[39;00m \u001B[38;5;21;01mrhino_health\u001B[39;00m\u001B[38;5;21;01m.\u001B[39;00m\u001B[38;5;21;01mlib\u001B[39;00m\u001B[38;5;21;01m.\u001B[39;00m\u001B[38;5;21;01mmetrics\u001B[39;00m\u001B[38;5;21;01m.\u001B[39;00m\u001B[38;5;21;01mepidemiology\u001B[39;00m\u001B[38;5;21;01m.\u001B[39;00m\u001B[38;5;21;01mtwo_by_two_table_based_metrics\u001B[39;00m \u001B[38;5;28;01mimport\u001B[39;00m \u001B[38;5;241m*\u001B[39m\n\u001B[1;32m      6\u001B[0m \u001B[38;5;28;01mfrom\u001B[39;00m \u001B[38;5;21;01mrhino_health\u001B[39;00m\u001B[38;5;21;01m.\u001B[39;00m\u001B[38;5;21;01mlib\u001B[39;00m\u001B[38;5;21;01m.\u001B[39;00m\u001B[38;5;21;01mmetrics\u001B[39;00m\u001B[38;5;21;01m.\u001B[39;00m\u001B[38;5;21;01mstatistics_tests\u001B[39;00m \u001B[38;5;28;01mimport\u001B[39;00m ChiSquare, TTest, OneWayANOVA\n",
      "\u001B[0;31mModuleNotFoundError\u001B[0m: No module named 'rhino_health.lib.metrics.epidemiology'"
     ]
    }
   ],
   "source": [
    "from getpass import getpass\n",
    "import rhino_health\n",
    "import pandas as pd\n",
    "from rhino_health.lib.metrics import *\n",
    "from rhino_health.lib.metrics.epidemiology.two_by_two_table_based_metrics import *\n",
    "from rhino_health.lib.metrics.statistics_tests import ChiSquare, TTest, OneWayANOVA"
   ]
  },
  {
   "cell_type": "markdown",
   "id": "7f06db3e",
   "metadata": {},
   "source": [
    "### Log in to the Rhino Health Platform\n",
    "\n",
    "**Note: Replace \"USERNAME\" with your Rhino Health username.**\n"
   ]
  },
  {
   "cell_type": "code",
   "execution_count": null,
   "id": "2f5e9e37-084b-489f-a1c0-92d4974897c2",
   "metadata": {},
   "outputs": [],
   "source": [
    "my_username = \"my_email@example.com\" # Replace this with the email you use to log into Rhino Health\n",
    "\n",
    "print(\"Logging In\")\n",
    "session = rhino_health.login(username=my_username, password=getpass())\n",
    "print(\"Logged In\")"
   ]
  },
  {
   "cell_type": "markdown",
   "id": "ef9cf810",
   "metadata": {},
   "source": [
    "### Load the Project you would like to calculate metrics for by placing the Project's name below\n",
    "Replace `PROJECT_NAME` with the name of your project"
   ]
  },
  {
   "cell_type": "code",
   "execution_count": null,
   "id": "92dc2634-f9ff-4789-80b3-f2abdb1342a9",
   "metadata": {},
   "outputs": [],
   "source": [
    "project = session.project.get_project_by_name(\"PROJECT_NAME\")"
   ]
  },
  {
   "cell_type": "markdown",
   "id": "f3d20b5f",
   "metadata": {},
   "source": [
    "Load the datasets you would like to calculate metrics for by placing the datasets names below,\n",
    "Replace `DATASET_1` & `DATASET_2` with the name of your datasets"
   ]
  },
  {
   "cell_type": "code",
   "execution_count": 1,
   "id": "efe242a3-1b33-4a68-ab23-7304cb472618",
   "metadata": {
    "ExecuteTime": {
     "end_time": "2024-02-13T14:15:49.462924Z",
     "start_time": "2024-02-13T14:15:49.262188Z"
    }
   },
   "outputs": [
    {
     "ename": "NameError",
     "evalue": "name 'project' is not defined",
     "output_type": "error",
     "traceback": [
      "\u001B[0;31m---------------------------------------------------------------------------\u001B[0m",
      "\u001B[0;31mNameError\u001B[0m                                 Traceback (most recent call last)",
      "Cell \u001B[0;32mIn[1], line 2\u001B[0m\n\u001B[1;32m      1\u001B[0m dataset_uids \u001B[38;5;241m=\u001B[39m [\n\u001B[0;32m----> 2\u001B[0m     \u001B[43mproject\u001B[49m\u001B[38;5;241m.\u001B[39mget_dataset_by_name(\u001B[38;5;124m\"\u001B[39m\u001B[38;5;124mDATASET_1\u001B[39m\u001B[38;5;124m\"\u001B[39m),\n\u001B[1;32m      3\u001B[0m     project\u001B[38;5;241m.\u001B[39mget_dataset_by_name(\u001B[38;5;124m\"\u001B[39m\u001B[38;5;124mDATASET_2\u001B[39m\u001B[38;5;124m\"\u001B[39m),\n\u001B[1;32m      4\u001B[0m ]\n",
      "\u001B[0;31mNameError\u001B[0m: name 'project' is not defined"
     ]
    }
   ],
   "source": [
    "dataset_uids = [\n",
    "    project.get_dataset_by_name(\"DATASET_1\"),\n",
    "    project.get_dataset_by_name(\"DATASET_2\"),\n",
    "]"
   ]
  },
  {
   "cell_type": "markdown",
   "source": [
    "The datasets should be in the following format:"
   ],
   "metadata": {
    "collapsed": false
   },
   "id": "cc98ac48ef0e4a94"
  },
  {
   "cell_type": "code",
   "outputs": [
    {
     "data": {
      "text/plain": "   Weight  Pneumonia  Smoking Inflammation Level  Spo2 Level\n0    84.0       True    False                Low       0.300\n1    97.0       True     True             Medium       0.510\n2    91.0       True    False             Medium       0.120\n3    90.0       True    False               High       0.030\n4   124.0      False     True               High       0.413\n5    97.0       True     True               High       0.300",
      "text/html": "<div>\n<style scoped>\n    .dataframe tbody tr th:only-of-type {\n        vertical-align: middle;\n    }\n\n    .dataframe tbody tr th {\n        vertical-align: top;\n    }\n\n    .dataframe thead th {\n        text-align: right;\n    }\n</style>\n<table border=\"1\" class=\"dataframe\">\n  <thead>\n    <tr style=\"text-align: right;\">\n      <th></th>\n      <th>Weight</th>\n      <th>Pneumonia</th>\n      <th>Smoking</th>\n      <th>Inflammation Level</th>\n      <th>Spo2 Level</th>\n    </tr>\n  </thead>\n  <tbody>\n    <tr>\n      <th>0</th>\n      <td>84.0</td>\n      <td>True</td>\n      <td>False</td>\n      <td>Low</td>\n      <td>0.300</td>\n    </tr>\n    <tr>\n      <th>1</th>\n      <td>97.0</td>\n      <td>True</td>\n      <td>True</td>\n      <td>Medium</td>\n      <td>0.510</td>\n    </tr>\n    <tr>\n      <th>2</th>\n      <td>91.0</td>\n      <td>True</td>\n      <td>False</td>\n      <td>Medium</td>\n      <td>0.120</td>\n    </tr>\n    <tr>\n      <th>3</th>\n      <td>90.0</td>\n      <td>True</td>\n      <td>False</td>\n      <td>High</td>\n      <td>0.030</td>\n    </tr>\n    <tr>\n      <th>4</th>\n      <td>124.0</td>\n      <td>False</td>\n      <td>True</td>\n      <td>High</td>\n      <td>0.413</td>\n    </tr>\n    <tr>\n      <th>5</th>\n      <td>97.0</td>\n      <td>True</td>\n      <td>True</td>\n      <td>High</td>\n      <td>0.300</td>\n    </tr>\n  </tbody>\n</table>\n</div>"
     },
     "execution_count": 8,
     "metadata": {},
     "output_type": "execute_result"
    }
   ],
   "source": [
    "pd.DataFrame({\n",
    "    'Weight': [84.0, 97.0, 91.0, 90.0, 124.0, 97.0],\n",
    "    'Pneumonia': [True, True, True, True, False, True],\n",
    "    'Smoking': [False, True, False, False, True, True],\n",
    "    'Inflammation Level': ['Low', 'Medium', 'Medium', 'High', 'High', 'High'],\n",
    "    'Spo2 Level': [0.3, 0.51, 0.12, 0.03, 0.413, 0.3]\n",
    "})"
   ],
   "metadata": {
    "collapsed": false,
    "ExecuteTime": {
     "end_time": "2024-02-13T14:19:51.881089Z",
     "start_time": "2024-02-13T14:19:51.860030Z"
    }
   },
   "id": "ddd585974ace2353",
   "execution_count": 8
  },
  {
   "cell_type": "markdown",
   "id": "d600a353",
   "metadata": {},
   "source": [
    "### Calculate the Mean weight for the two Datasets."
   ]
  },
  {
   "cell_type": "code",
   "execution_count": null,
   "id": "dc62405c-beeb-4345-88e0-43499639a765",
   "metadata": {},
   "outputs": [],
   "source": [
    "mean_config = Mean(variable=\"Weight\")\n",
    "session.project.aggregate_dataset_metric(dataset_uids, mean_config)"
   ]
  },
  {
   "cell_type": "markdown",
   "id": "101c1fa1",
   "metadata": {},
   "source": [
    "### Get the two by two table for detected and exposed values."
   ]
  },
  {
   "cell_type": "code",
   "execution_count": null,
   "outputs": [],
   "source": [
    "tbtt = TwoByTwoTable(\n",
    "                    variable=\"id\",\n",
    "                    detected_column_name=\"Pneumonia\",\n",
    "                    exposed_column_name=\"Smoking\",\n",
    ")\n",
    "table = session.project.aggregate_dataset_metric(dataset_uids, tbtt)\n",
    "pd.DataFrame(table.as_table())"
   ],
   "metadata": {
    "collapsed": false
   },
   "id": "3d690758fe486f7f"
  },
  {
   "cell_type": "markdown",
   "source": [
    "### Calculate the Odds Ratio between the \"Pneumonia\" feature and the \"Smoking\" feature for the two Datasets."
   ],
   "metadata": {
    "collapsed": false
   },
   "id": "f85b3c3d86630cef"
  },
  {
   "cell_type": "code",
   "execution_count": null,
   "outputs": [],
   "source": [
    "odds_ratio = OddsRatio(\n",
    "                variable=\"id\",\n",
    "                detected_column_name=\"Pneumonia\",\n",
    "                exposed_column_name=\"Smoking\",\n",
    ")\n",
    "\n",
    "session.project.aggregate_dataset_metric(dataset_uids, odds_ratio)"
   ],
   "metadata": {
    "collapsed": false,
    "pycharm": {
     "is_executing": true
    }
   },
   "id": "be83fb91e2690da6"
  },
  {
   "cell_type": "markdown",
   "source": [
    "### Calculate Chi Square test statistic between the \"Pneumonia\" feature and the \"Smoking\" feature for the two Datasets."
   ],
   "metadata": {
    "collapsed": false
   },
   "id": "a402498a23ebc560"
  },
  {
   "cell_type": "code",
   "execution_count": null,
   "outputs": [],
   "source": [
    "chi_square = ChiSquare(\n",
    "            variable=\"id\",\n",
    "            variable_1=\"Pneumonia\",\n",
    "            variable_2=\"Smoking\"\n",
    ")\n",
    "session.project.aggregate_dataset_metric(dataset_uids, chi_square)"
   ],
   "metadata": {
    "collapsed": false
   },
   "id": "600b5b1ea11b36b6"
  },
  {
   "cell_type": "markdown",
   "source": [
    "### Calculate T-Test between the \"Pneumonia\" feature and the \"Spo2 Level\" feature for the two Datasets."
   ],
   "metadata": {
    "collapsed": false
   },
   "id": "8621f288c7e0852c"
  },
  {
   "cell_type": "code",
   "execution_count": null,
   "outputs": [],
   "source": [
    "t_test = TTest(numeric_variable=\"Spo2 Level\", categorical_variable=\"Pneumonia\")\n",
    "session.project.aggregate_dataset_metric(dataset_uids, t_test)"
   ],
   "metadata": {
    "collapsed": false
   },
   "id": "c2f72ac513957cd7"
  },
  {
   "cell_type": "markdown",
   "source": [
    "### Calculate One Way ANOVA between the \"Inflammation Level\" feature and the \"Spo2 Level\" feature for the two Datasets."
   ],
   "metadata": {
    "collapsed": false
   },
   "id": "687f9d603fea0bf0"
  },
  {
   "cell_type": "code",
   "execution_count": null,
   "outputs": [],
   "source": [
    "anova_config = OneWayANOVA(\n",
    "            variable=\"id\",\n",
    "            numeric_variable=\"Spo2 Level\",\n",
    "            categorical_variable=\"Inflammation Level\",\n",
    "        )\n",
    "\n",
    "result = project.aggregate_dataset_metric(dataset_uids, anova_config)"
   ],
   "metadata": {
    "collapsed": false
   },
   "id": "471560f693dab33b"
  },
  {
   "cell_type": "code",
   "outputs": [],
   "source": [],
   "metadata": {
    "collapsed": false
   },
   "id": "887f7776061a4011"
  }
 ],
 "metadata": {
  "kernelspec": {
   "display_name": "Python 3 (ipykernel)",
   "language": "python",
   "name": "python3"
  },
  "language_info": {
   "codemirror_mode": {
    "name": "ipython",
    "version": 3
   },
   "file_extension": ".py",
   "mimetype": "text/x-python",
   "name": "python",
   "nbconvert_exporter": "python",
   "pygments_lexer": "ipython3",
   "version": "3.9.13"
  }
 },
 "nbformat": 4,
 "nbformat_minor": 5
}
