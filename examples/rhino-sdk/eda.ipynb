{
 "cells": [
  {
   "cell_type": "markdown",
   "id": "6af60b41",
   "metadata": {},
   "source": [
    "# Performing Exploratory Data Analysis (EDA) with FCP\n",
    "Demonstrate usage of the Rhino Health Python SDK for performing EDA using federated analytics\n",
    "\n",
    "#### Prerequisites \n",
    "1. Have two datasets imported in FCP with Height, Weight, and Gender fields (e.g. from Tutorial 1)"
   ]
  },
  {
   "cell_type": "markdown",
   "id": "a89e5973",
   "metadata": {},
   "source": [
    "### Initialization and Login"
   ]
  },
  {
   "cell_type": "code",
   "execution_count": null,
   "id": "fda5b9b2",
   "metadata": {},
   "outputs": [],
   "source": [
    "from getpass import getpass\n",
    "import rhino_health"
   ]
  },
  {
   "cell_type": "code",
   "execution_count": null,
   "id": "3b107de9",
   "metadata": {},
   "outputs": [],
   "source": [
    "print(\"Logging In\")\n",
    "my_username = \"my_email@example.com\" # Replace this with the email you use to log into Rhino Health\n",
    "session = rhino_health.login(username=my_username, password=getpass())\n",
    "print(\"Logged In\")"
   ]
  },
  {
   "cell_type": "code",
   "execution_count": null,
   "id": "c809e88c",
   "metadata": {},
   "outputs": [],
   "source": [
    "FIRST_TEST_DATASET_ID = \"XXXXXXXX-XXXX-XXXX-XXXX-XXXXXXXXXXXX\"  # Replace this\n",
    "SECOND_TEST_DATASET_ID = \"XXXXXXXX-XXXX-XXXX-XXXX-XXXXXXXXXXXX\"  # Replace this\n",
    "first_dataset = session.dataset.get_dataset(FIRST_TEST_DATASET_ID)\n",
    "second_dataset = session.dataset.get_dataset(SECOND_TEST_DATASET_ID)\n",
    "all_datasets = [first_dataset.uid, second_dataset.uid]"
   ]
  },
  {
   "cell_type": "markdown",
   "id": "0417132b",
   "metadata": {},
   "source": [
    "### Calculate Metrics Per Site\n",
    "All calculations are performed on-prem - only aggregate data returned to the notebook"
   ]
  },
  {
   "cell_type": "code",
   "execution_count": null,
   "id": "ae4fe67d",
   "metadata": {},
   "outputs": [],
   "source": [
    "from rhino_health.lib.metrics import Count, FilterType, Mean, StandardDeviation"
   ]
  },
  {
   "cell_type": "code",
   "execution_count": null,
   "id": "0da2aa6e",
   "metadata": {},
   "outputs": [],
   "source": [
    "print(\"Simple counts per site\")\n",
    "\n",
    "count_verification = Count(variable=\"Height\")\n",
    "individual_results = {\n",
    "    \"site1\": session.dataset.get_dataset_metric(first_dataset.uid, count_verification).output,\n",
    "    \"site2\": session.dataset.get_dataset_metric(second_dataset.uid, count_verification).output,\n",
    "}\n",
    "\n",
    "print(f\"{individual_results}\")"
   ]
  },
  {
   "cell_type": "code",
   "execution_count": null,
   "id": "8e4c0e87",
   "metadata": {},
   "outputs": [],
   "source": [
    "print(\"Simple mean per site\")\n",
    "\n",
    "mean_verification = Mean(\n",
    "    variable=\"Height\"\n",
    ")\n",
    "individual_results = {\n",
    "    \"site1\": session.dataset.get_dataset_metric(first_dataset.uid, mean_verification).output,\n",
    "    \"site2\": session.dataset.get_dataset_metric(second_dataset.uid, mean_verification).output,\n",
    "}\n",
    "\n",
    "print(f\"{individual_results}\")"
   ]
  },
  {
   "cell_type": "code",
   "execution_count": null,
   "id": "42203be0",
   "metadata": {},
   "outputs": [],
   "source": [
    "print(\"Filtered Height mean per site\")\n",
    "\n",
    "mean_verification = Mean(\n",
    "    variable={\n",
    "        \"data_column\": \"Height\",\n",
    "        \"filter_column\": \"Gender\",\n",
    "        \"filter_value\": \"M\"\n",
    "    }\n",
    ")\n",
    "individual_results = {\n",
    "    \"site1\": session.dataset.get_dataset_metric(first_dataset.uid, mean_verification).output,\n",
    "    \"site2\": session.dataset.get_dataset_metric(second_dataset.uid, mean_verification).output,\n",
    "}\n",
    "\n",
    "print(f\"{individual_results}\")"
   ]
  },
  {
   "cell_type": "code",
   "execution_count": null,
   "id": "5a5a1784",
   "metadata": {},
   "outputs": [],
   "source": [
    "print(\"Grouped Height mean per site\")\n",
    "\n",
    "mean_verification = Mean(\n",
    "    variable=\"Height\",\n",
    "    group_by={\"groupings\": [\"Gender\"]},\n",
    ")\n",
    "individual_results = {\n",
    "    \"site1\": session.dataset.get_dataset_metric(first_dataset.uid, mean_verification).output,\n",
    "    \"site2\": session.dataset.get_dataset_metric(second_dataset.uid, mean_verification).output,\n",
    "}\n",
    "\n",
    "print(f\"{individual_results}\")\n"
   ]
  },
  {
   "cell_type": "markdown",
   "id": "998199d4",
   "metadata": {},
   "source": [
    "### Calculate Aggregated Metrics Across Multiple Sites\n",
    "Similarly - all calculations are performed on-prem - only aggregate data returned to the notebook"
   ]
  },
  {
   "cell_type": "code",
   "execution_count": null,
   "id": "3b3a7446",
   "metadata": {},
   "outputs": [],
   "source": [
    "print(\"Aggregate Grouped Height mean\")\n",
    "grouped_results = session.project.aggregate_dataset_metric(all_datasets, mean_verification)\n",
    "\n",
    "print(f\"{grouped_results.output}\")"
   ]
  },
  {
   "cell_type": "code",
   "execution_count": null,
   "id": "0ff603ac",
   "metadata": {},
   "outputs": [],
   "source": [
    "print(\"Complex Aggregation\")\n",
    "\n",
    "configuration = Mean(\n",
    "    variable={\n",
    "        \"data_column\": \"Height\",\n",
    "        \"filter_column\": \"Weight\",\n",
    "        \"filter_value\": 70,\n",
    "        \"filter_type\": FilterType.GREATER_THAN_EQUAL,\n",
    "    },\n",
    "    group_by={\"groupings\": [\"Gender\"]}\n",
    ")\n",
    "\n",
    "grouped_results = session.project.aggregate_dataset_metric(all_datasets, configuration)\n",
    "print(f\"{grouped_results.output}\")\n"
   ]
  },
  {
   "cell_type": "code",
   "execution_count": null,
   "id": "4178271b",
   "metadata": {},
   "outputs": [],
   "source": [
    "print(\"Complex Aggregation with Complex Filtering\")\n",
    "\n",
    "configuration = Mean(\n",
    "    variable={\n",
    "        \"data_column\": \"Height\",\n",
    "        \"filter_column\": \"Weight\",\n",
    "        \"filter_value\": {\n",
    "            \"lower\": {\"filter_value\": 70, \"filter_type\": FilterType.GREATER_THAN_EQUAL},\n",
    "            \"upper\": {\"filter_value\": 100, \"filter_type\": FilterType.LESS_THAN_EQUAL},\n",
    "        },\n",
    "        \"filter_type\": FilterType.BETWEEN,\n",
    "    },\n",
    "    group_by={\"groupings\": [\"Gender\"]}\n",
    ")\n",
    "\n",
    "grouped_results = session.project.aggregate_dataset_metric(all_datasets, configuration)\n",
    "print(f\"{grouped_results.output}\")"
   ]
  },
  {
   "cell_type": "code",
   "execution_count": null,
   "id": "f0b5387e",
   "metadata": {},
   "outputs": [],
   "source": [
    "print(\"Standard Deviation of Height\")\n",
    "\n",
    "configuration = StandardDeviation(\n",
    "    variable=\"Height\"\n",
    ")\n",
    "individual_results = {\n",
    "    \"site1\": session.dataset.get_dataset_metric(first_dataset.uid, configuration).output,\n",
    "    \"site2\": session.dataset.get_dataset_metric(second_dataset.uid, configuration).output,\n",
    "}\n",
    "print(f\"{individual_results}\")"
   ]
  }
 ],
 "metadata": {
  "kernelspec": {
   "display_name": "Python 3 (ipykernel)",
   "language": "python",
   "name": "python3"
  },
  "language_info": {
   "codemirror_mode": {
    "name": "ipython",
    "version": 3
   },
   "file_extension": ".py",
   "mimetype": "text/x-python",
   "name": "python",
   "nbconvert_exporter": "python",
   "pygments_lexer": "ipython3",
   "version": "3.9.4"
  }
 },
 "nbformat": 4,
 "nbformat_minor": 5
}
