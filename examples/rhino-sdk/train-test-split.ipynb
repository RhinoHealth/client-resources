{
 "cells": [
  {
   "cell_type": "markdown",
   "id": "ff601119",
   "metadata": {},
   "source": [
    "# Train Test Split with FCP\n",
    "Demonstrate running multi-dataset Generalized Compute with the Rhino Health Python SDK\n",
    "\n",
    "#### Prerequisites \n",
    "1. Have an input dataset in FCP\n",
    "2. Have a container image pushed to your ECR repo with the train test split code (the code is available in the examples under generalized-compute/train-test-split)"
   ]
  },
  {
   "cell_type": "markdown",
   "id": "3fe62ec1",
   "metadata": {},
   "source": [
    "### Initialization and Login"
   ]
  },
  {
   "cell_type": "code",
   "execution_count": null,
   "id": "72456829",
   "metadata": {},
   "outputs": [],
   "source": [
    "from getpass import getpass\n",
    "import rhino_health as rh\n",
    "from rhino_health.lib.endpoints.code_object.code_object_dataclass import (\n",
    "    CodeObjectCreateInput,\n",
    "    CodeTypes,\n",
    "    CodeObjectRunInput,\n",
    ")"
   ]
  },
  {
   "cell_type": "code",
   "execution_count": null,
   "id": "868bb484",
   "metadata": {},
   "outputs": [],
   "source": [
    "print(\"Logging In\")\n",
    "my_username = \"my_email@example.com\" # Replace this with the email you use to log into Rhino Health\n",
    "my_workgroup_ecr_repo = \"rhino-gc-workgroup-XXXXXXXXXXXXXX\"  # Replace this with your workgroup's ECR repo\n",
    "my_image_name = \"train-test-split\"  # The name (tag) of the container image you pushed to your ECR repo\n",
    "ecr_base_uri = rh.lib.constants.ECRService.PROD_URL\n",
    "session = rh.login(username=my_username, password=getpass.getpass())\n",
    "print(\"Logged In\")"
   ]
  },
  {
   "cell_type": "markdown",
   "id": "fbc49abb",
   "metadata": {},
   "source": [
    "### Create the Code object"
   ]
  },
  {
   "cell_type": "code",
   "execution_count": null,
   "id": "29c22802",
   "metadata": {},
   "outputs": [],
   "source": [
    "project_uid = \"XXXXXXXX-XXXX-XXXX-XXXX-XXXXXXXXXXXX\"  # Replace with project UID\n",
    "data_schema_uid = \"XXXXXXXX-XXXX-XXXX-XXXX-XXXXXXXXXXXX\"  # Replace with data schema UID\n",
    "\n",
    "creation_params = CodeObjectCreateInput(\n",
    "    name=\"Train Test Split\",\n",
    "    description=\"Train Test Split\",\n",
    "    code_type=CodeTypes.GENERALIZED_COMPUTE,\n",
    "    config={\"container_image_uri\": f\"{ecr_base_uri}/{my_workgroup_ecr_repo}:{my_image_name}\"},\n",
    "    project_uid=project_uid,\n",
    "    input_data_schema_uids=[data_schema_uid],\n",
    "    output_data_schema_uids=[data_schema_uid, data_schema_uid],\n",
    ")\n",
    "code = session.code_object.create_code_object(creation_params)\n",
    "code"
   ]
  },
  {
   "cell_type": "markdown",
   "id": "dec87462",
   "metadata": {},
   "source": [
    "### Run the code on the input dataset and print the results"
   ]
  },
  {
   "cell_type": "code",
   "execution_count": null,
   "id": "8100b5c4",
   "metadata": {},
   "outputs": [],
   "source": [
    "input_dataset_uid = \"XXXXXXXX-XXXX-XXXX-XXXX-XXXXXXXXXXXX\"  # Replace with dataset UID\n",
    "run_params = CodeObjectRunInput(\n",
    "    code_object_uid= code.uid,\n",
    "    input_dataset_uids=[[input_dataset_uid]],\n",
    "    output_dataset_naming_templates=['{{ input_dataset_names.0 }} - Train', '{{ input_dataset_names.0 }} - Test'],\n",
    "    timeout_seconds=300,\n",
    ")\n",
    "print(\"Starting to run train_test_split\")\n",
    "code_run = session.code_object.run_code_object(run_params)\n",
    "run_result = code_run.wait_for_completion()\n",
    "print(\"Finished running train_test_split\")\n",
    "print(f\"Result status is '{run_result.status.value}', errors={run_result.results_info.get('errors') if run_result.results_info else None}\")\n"
   ]
  }
 ],
 "metadata": {
  "kernelspec": {
   "display_name": "Python 3 (ipykernel)",
   "language": "python",
   "name": "python3"
  },
  "language_info": {
   "codemirror_mode": {
    "name": "ipython",
    "version": 3
   },
   "file_extension": ".py",
   "mimetype": "text/x-python",
   "name": "python",
   "nbconvert_exporter": "python",
   "pygments_lexer": "ipython3",
   "version": "3.9.4"
  }
 },
 "nbformat": 4,
 "nbformat_minor": 5
}
