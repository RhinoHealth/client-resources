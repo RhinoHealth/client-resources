{
 "cells": [
  {
   "cell_type": "markdown",
   "id": "6eb8e5ca",
   "metadata": {},
   "source": [
    "# Example: Cox proportional hazard calculations using the rhino_health SDK\n",
    "\n",
    "### Load all necessary libraries, including 'rhino_health'"
   ]
  },
  {
   "cell_type": "code",
   "execution_count": null,
   "id": "ca8789ad-2371-4614-ace0-01a6d4343b48",
   "metadata": {},
   "outputs": [],
   "source": [
    "from getpass import getpass\n",
    "import rhino_health\n",
    "import pandas as pd\n",
    "from rhino_health.lib.metrics import *"
   ]
  },
  {
   "cell_type": "markdown",
   "id": "7f06db3e",
   "metadata": {},
   "source": [
    "### Log in to the Rhino Health Platform\n",
    "\n",
    "**Note: Replace \"USERNAME\" with your Rhino Health username.**\n"
   ]
  },
  {
   "cell_type": "code",
   "execution_count": null,
   "id": "2f5e9e37-084b-489f-a1c0-92d4974897c2",
   "metadata": {},
   "outputs": [],
   "source": [
    "my_username = \"my_email@example.com\" # Replace this with the email you use to log into Rhino Health\n",
    "\n",
    "print(\"Logging In\")\n",
    "session = rhino_health.login(username=my_username, password=getpass())\n",
    "print(\"Logged In\")"
   ]
  },
  {
   "cell_type": "markdown",
   "id": "ef9cf810",
   "metadata": {},
   "source": [
    "### Load the Project you would like to calculate the metric for by placing the Project's name below\n",
    "Replace `PROJECT_NAME` with the name of your project"
   ]
  },
  {
   "cell_type": "code",
   "execution_count": null,
   "id": "92dc2634-f9ff-4789-80b3-f2abdb1342a9",
   "metadata": {},
   "outputs": [],
   "source": [
    "project = session.project.get_project_by_name(\"PROJECT_NAME\")"
   ]
  },
  {
   "cell_type": "markdown",
   "id": "f3d20b5f",
   "metadata": {},
   "source": [
    "Load the datasets you would like to calculate metrics for by placing the datasets names below,\n",
    "Replace `DATASET_1` & `DATASET_2` with the name of your datasets"
   ]
  },
  {
   "cell_type": "code",
   "execution_count": null,
   "id": "efe242a3-1b33-4a68-ab23-7304cb472618",
   "metadata": {},
   "outputs": [],
   "source": [
    "dataset_uids = [\n",
    "    project.get_dataset_by_name(\"DATASET_1\"),\n",
    "    project.get_dataset_by_name(\"DATASET_2\"),\n",
    "]"
   ]
  },
  {
   "cell_type": "markdown",
   "id": "cc98ac48ef0e4a94",
   "metadata": {},
   "source": [
    "The datasets should be in the following format:"
   ]
  },
  {
   "cell_type": "code",
   "execution_count": null,
   "id": "ddd585974ace2353",
   "metadata": {},
   "outputs": [],
   "source": [
    "pd.DataFrame({\n",
    "    'Time': [84.0, 97.0, 91.0, 90.0, 124.0, 97.0],\n",
    "    'Event': [1, 0, 0, 1, 1, 1],\n",
    "    'COV1': [0.3, 0.51, 0.12, 0.03, 0.413, 0.3],\n",
    "    'COV2': [5.3, 1.51, 1.8, 0.03, 13, 0.3]\n",
    "})"
   ]
  },
  {
   "cell_type": "code",
   "execution_count": null,
   "id": "dc62405c-beeb-4345-88e0-43499639a765",
   "metadata": {},
   "outputs": [],
   "source": [
    "# Set the time and event variables\n",
    "time_variable = \"Time\"\n",
    "event_variable = \"Event\"\n",
    "covariates = [\"COV1\", \"COV2\"]\n",
    "\n",
    "# Create a Cox instance, use the mean of the local betas of the two sites as the initial beta\n",
    "metric_configuration = Cox(time_variable=time_variable, event_variable=event_variable, covariates=covariates, initial_beta=\"mean\", max_iterations=50)\n",
    "\n",
    "# Retrieve results for your project and datasets\n",
    "results = project.aggregate_dataset_metric(dataset_uids=[str(dataset.uid) for dataset in dataset_uids], metric_configuration=metric_configuration)"
   ]
  }
 ],
 "metadata": {
  "kernelspec": {
   "display_name": "Python 3 (ipykernel)",
   "language": "python",
   "name": "python3"
  },
  "language_info": {
   "codemirror_mode": {
    "name": "ipython",
    "version": 3
   },
   "file_extension": ".py",
   "mimetype": "text/x-python",
   "name": "python",
   "nbconvert_exporter": "python",
   "pygments_lexer": "ipython3"
  }
 },
 "nbformat": 4,
 "nbformat_minor": 5
}
