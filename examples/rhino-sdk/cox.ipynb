{
 "cells": [
  {
   "cell_type": "markdown",
   "id": "6eb8e5ca",
   "metadata": {},
   "source": [
    "# Example: Cox proportional hazard calculations using the rhino_health SDK\n",
    "\n",
    "### Load all necessary libraries, including 'rhino_health'"
   ]
  },
  {
   "cell_type": "code",
   "execution_count": 1,
   "id": "ca8789ad-2371-4614-ace0-01a6d4343b48",
   "metadata": {
    "ExecuteTime": {
     "end_time": "2024-02-13T15:48:16.706666Z",
     "start_time": "2024-02-13T15:48:16.210735Z"
    }
   },
   "outputs": [
    {
     "ename": "ImportError",
     "evalue": "cannot import name 'Cox' from 'rhino_health.lib.metrics' (/Library/Frameworks/Python.framework/Versions/3.10/lib/python3.10/site-packages/rhino_health/lib/metrics/__init__.py)",
     "output_type": "error",
     "traceback": [
      "\u001B[0;31m---------------------------------------------------------------------------\u001B[0m",
      "\u001B[0;31mImportError\u001B[0m                               Traceback (most recent call last)",
      "Cell \u001B[0;32mIn[1], line 5\u001B[0m\n\u001B[1;32m      3\u001B[0m \u001B[38;5;28;01mimport\u001B[39;00m \u001B[38;5;21;01mpandas\u001B[39;00m \u001B[38;5;28;01mas\u001B[39;00m \u001B[38;5;21;01mpd\u001B[39;00m\n\u001B[1;32m      4\u001B[0m \u001B[38;5;28;01mfrom\u001B[39;00m \u001B[38;5;21;01mrhino_health\u001B[39;00m\u001B[38;5;21;01m.\u001B[39;00m\u001B[38;5;21;01mlib\u001B[39;00m\u001B[38;5;21;01m.\u001B[39;00m\u001B[38;5;21;01mmetrics\u001B[39;00m \u001B[38;5;28;01mimport\u001B[39;00m \u001B[38;5;241m*\u001B[39m\n\u001B[0;32m----> 5\u001B[0m \u001B[38;5;28;01mfrom\u001B[39;00m \u001B[38;5;21;01mrhino_health\u001B[39;00m\u001B[38;5;21;01m.\u001B[39;00m\u001B[38;5;21;01mlib\u001B[39;00m\u001B[38;5;21;01m.\u001B[39;00m\u001B[38;5;21;01mmetrics\u001B[39;00m \u001B[38;5;28;01mimport\u001B[39;00m Cox\n",
      "\u001B[0;31mImportError\u001B[0m: cannot import name 'Cox' from 'rhino_health.lib.metrics' (/Library/Frameworks/Python.framework/Versions/3.10/lib/python3.10/site-packages/rhino_health/lib/metrics/__init__.py)"
     ]
    }
   ],
   "source": [
    "from getpass import getpass\n",
    "import rhino_health\n",
    "import pandas as pd\n",
    "from rhino_health.lib.metrics import *"
   ]
  },
  {
   "cell_type": "markdown",
   "id": "7f06db3e",
   "metadata": {},
   "source": [
    "### Log in to the Rhino Health Platform\n",
    "\n",
    "**Note: Replace \"USERNAME\" with your Rhino Health username.**\n"
   ]
  },
  {
   "cell_type": "code",
   "execution_count": null,
   "id": "2f5e9e37-084b-489f-a1c0-92d4974897c2",
   "metadata": {},
   "outputs": [],
   "source": [
    "my_username = \"my_email@example.com\" # Replace this with the email you use to log into Rhino Health\n",
    "\n",
    "print(\"Logging In\")\n",
    "session = rhino_health.login(username=my_username, password=getpass())\n",
    "print(\"Logged In\")"
   ]
  },
  {
   "cell_type": "markdown",
   "id": "ef9cf810",
   "metadata": {},
   "source": [
    "### Load the Project you would like to calculate the metric for by placing the Project's name below\n",
    "Replace `PROJECT_NAME` with the name of your project"
   ]
  },
  {
   "cell_type": "code",
   "execution_count": null,
   "id": "92dc2634-f9ff-4789-80b3-f2abdb1342a9",
   "metadata": {},
   "outputs": [],
   "source": [
    "project = session.project.get_project_by_name(\"PROJECT_NAME\")"
   ]
  },
  {
   "cell_type": "markdown",
   "id": "f3d20b5f",
   "metadata": {},
   "source": [
    "Load the datasets you would like to calculate metrics for by placing the datasets names below,\n",
    "Replace `DATASET_1` & `DATASET_2` with the name of your datasets"
   ]
  },
  {
   "cell_type": "code",
   "execution_count": 1,
   "id": "efe242a3-1b33-4a68-ab23-7304cb472618",
   "metadata": {
    "ExecuteTime": {
     "end_time": "2024-02-13T14:15:49.462924Z",
     "start_time": "2024-02-13T14:15:49.262188Z"
    }
   },
   "outputs": [
    {
     "ename": "NameError",
     "evalue": "name 'project' is not defined",
     "output_type": "error",
     "traceback": [
      "\u001B[0;31m---------------------------------------------------------------------------\u001B[0m",
      "\u001B[0;31mNameError\u001B[0m                                 Traceback (most recent call last)",
      "Cell \u001B[0;32mIn[1], line 2\u001B[0m\n\u001B[1;32m      1\u001B[0m dataset_uids \u001B[38;5;241m=\u001B[39m [\n\u001B[0;32m----> 2\u001B[0m     \u001B[43mproject\u001B[49m\u001B[38;5;241m.\u001B[39mget_dataset_by_name(\u001B[38;5;124m\"\u001B[39m\u001B[38;5;124mDATASET_1\u001B[39m\u001B[38;5;124m\"\u001B[39m),\n\u001B[1;32m      3\u001B[0m     project\u001B[38;5;241m.\u001B[39mget_dataset_by_name(\u001B[38;5;124m\"\u001B[39m\u001B[38;5;124mDATASET_2\u001B[39m\u001B[38;5;124m\"\u001B[39m),\n\u001B[1;32m      4\u001B[0m ]\n",
      "\u001B[0;31mNameError\u001B[0m: name 'project' is not defined"
     ]
    }
   ],
   "source": [
    "dataset_uids = [\n",
    "    project.get_dataset_by_name(\"DATASET_1\"),\n",
    "    project.get_dataset_by_name(\"DATASET_2\"),\n",
    "]"
   ]
  },
  {
   "cell_type": "markdown",
   "source": [
    "The datasets should be in the following format:"
   ],
   "metadata": {
    "collapsed": false
   },
   "id": "cc98ac48ef0e4a94"
  },
  {
   "cell_type": "code",
   "outputs": [
    {
     "data": {
      "text/plain": "    Time  Event   COV1   COV2\n0   84.0      1  0.300   5.30\n1   97.0      0  0.510   1.51\n2   91.0      0  0.120   1.80\n3   90.0      1  0.030   0.03\n4  124.0      1  0.413  13.00\n5   97.0      1  0.300   0.30",
      "text/html": "<div>\n<style scoped>\n    .dataframe tbody tr th:only-of-type {\n        vertical-align: middle;\n    }\n\n    .dataframe tbody tr th {\n        vertical-align: top;\n    }\n\n    .dataframe thead th {\n        text-align: right;\n    }\n</style>\n<table border=\"1\" class=\"dataframe\">\n  <thead>\n    <tr style=\"text-align: right;\">\n      <th></th>\n      <th>Time</th>\n      <th>Event</th>\n      <th>COV1</th>\n      <th>COV2</th>\n    </tr>\n  </thead>\n  <tbody>\n    <tr>\n      <th>0</th>\n      <td>84.0</td>\n      <td>1</td>\n      <td>0.300</td>\n      <td>5.30</td>\n    </tr>\n    <tr>\n      <th>1</th>\n      <td>97.0</td>\n      <td>0</td>\n      <td>0.510</td>\n      <td>1.51</td>\n    </tr>\n    <tr>\n      <th>2</th>\n      <td>91.0</td>\n      <td>0</td>\n      <td>0.120</td>\n      <td>1.80</td>\n    </tr>\n    <tr>\n      <th>3</th>\n      <td>90.0</td>\n      <td>1</td>\n      <td>0.030</td>\n      <td>0.03</td>\n    </tr>\n    <tr>\n      <th>4</th>\n      <td>124.0</td>\n      <td>1</td>\n      <td>0.413</td>\n      <td>13.00</td>\n    </tr>\n    <tr>\n      <th>5</th>\n      <td>97.0</td>\n      <td>1</td>\n      <td>0.300</td>\n      <td>0.30</td>\n    </tr>\n  </tbody>\n</table>\n</div>"
     },
     "execution_count": 3,
     "metadata": {},
     "output_type": "execute_result"
    }
   ],
   "source": [
    "pd.DataFrame({\n",
    "    'Time': [84.0, 97.0, 91.0, 90.0, 124.0, 97.0],\n",
    "    'Event': [1, 0, 0, 1, 1, 1],\n",
    "    'COV1': [0.3, 0.51, 0.12, 0.03, 0.413, 0.3],\n",
    "    'COV2': [5.3, 1.51, 1.8, 0.03, 13, 0.3]\n",
    "})"
   ],
   "metadata": {
    "collapsed": false,
    "ExecuteTime": {
     "end_time": "2024-02-13T15:50:02.808507Z",
     "start_time": "2024-02-13T15:50:02.794725Z"
    }
   },
   "id": "ddd585974ace2353",
   "execution_count": 3
  },
  {
   "cell_type": "markdown",
   "id": "d600a353",
   "metadata": {},
   "source": []
  },
  {
   "cell_type": "code",
   "execution_count": null,
   "id": "dc62405c-beeb-4345-88e0-43499639a765",
   "metadata": {},
   "outputs": [],
   "source": [
    "# Set the time and event variables\n",
    "time_variable = \"Time\"\n",
    "event_variable = \"Event\"\n",
    "covariates = [\"COV1\", \"COV2\"]\n",
    "\n",
    "# Create a Cox instance, use the mean of the local betas of the two sites as the initial beta\n",
    "metric_configuration = Cox(time_variable=time_variable, event_variable=event_variable, covariates=covariates, initial_beta=\"mean\", max_iterations=50)\n",
    "\n",
    "# Retrieve results for your project and datasets\n",
    "results = project.aggregate_dataset_metric(dataset_uids=[str(dataset.uid) for dataset in dataset_uids], metric_configuration=metric_configuration)"
   ]
  }
 ],
 "metadata": {
  "kernelspec": {
   "display_name": "Python 3 (ipykernel)",
   "language": "python",
   "name": "python3"
  },
  "language_info": {
   "codemirror_mode": {
    "name": "ipython",
    "version": 3
   },
   "file_extension": ".py",
   "mimetype": "text/x-python",
   "name": "python",
   "nbconvert_exporter": "python",
   "pygments_lexer": "ipython3",
   "version": "3.9.13"
  }
 },
 "nbformat": 4,
 "nbformat_minor": 5
}
