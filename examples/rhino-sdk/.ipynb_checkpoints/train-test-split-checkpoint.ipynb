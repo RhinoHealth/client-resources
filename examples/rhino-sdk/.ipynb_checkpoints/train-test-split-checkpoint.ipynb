{
 "cells": [
  {
   "cell_type": "markdown",
   "id": "46571383",
   "metadata": {},
   "source": [
    "# Train Test Split with FCP\n",
    "Demonstrate running multi-cohort Generalized Compute with the Rhino Health Python SDK\n",
    "\n",
    "#### Prerequisites \n",
    "1. Have an input cohort in FCP\n",
    "2. Have a container image pushed to your ECR repo with the train test split code (the code is available in the examples under generalized-compute/train-test-split)"
   ]
  },
  {
   "cell_type": "markdown",
   "id": "6bb5c385",
   "metadata": {},
   "source": [
    "### Initialization and Login"
   ]
  },
  {
   "cell_type": "code",
   "execution_count": null,
   "id": "72456829",
   "metadata": {},
   "outputs": [],
   "source": [
    "import getpass\n",
    "import rhino_health as rh\n",
    "from rhino_health.lib.endpoints.aimodel.aimodel_dataclass import (\n",
    "    AIModelCreateInput,\n",
    "    ModelTypes,\n",
    "    AIModelMultiCohortInput,\n",
    ")\n"
   ]
  },
  {
   "cell_type": "code",
   "execution_count": null,
   "id": "868bb484",
   "metadata": {},
   "outputs": [],
   "source": [
    "print(\"Logging In\")\n",
    "my_username = \"my_email@example.com\" # Replace this with the email you use to log into Rhino Health\n",
    "my_password = getpass.getpass()\n",
    "my_workgroup_ecr_repo = \"rhino-gc-workgroup-mhy-workgroup\"  # Replace this with your workgroup's ECR repo\n",
    "my_image_name = \"train-test-split\"  # The name (tag) of the container image you pushed to your ECR repo\n",
    "ecr_base_uri = rh.lib.constants.ECRService.PROD_URL\n",
    "session = rh.login(username=my_username, password=my_password)\n",
    "print(\"Logged In\")"
   ]
  },
  {
   "cell_type": "markdown",
   "id": "54c27654",
   "metadata": {},
   "source": [
    "### Create the Model object"
   ]
  },
  {
   "cell_type": "code",
   "execution_count": null,
   "id": "29c22802",
   "metadata": {},
   "outputs": [],
   "source": [
    "project_uid = \"39ddbbb4-2144-44c5-add7-b1da898cc72a\"  # Replace with project UID\n",
    "data_schema_uid = \"897ff69d-8ca9-43b7-b017-f71d5bb076dd\"  # Replace with data schema UID\n",
    "\n",
    "creation_params = AIModelCreateInput(\n",
    "    name=\"Train Test Split\",\n",
    "    description=\"Train Test Split\",\n",
    "    model_type=ModelTypes.GENERALIZED_COMPUTE,\n",
    "    config={\"container_image_uri\": f\"{ecr_base_uri}/{my_workgroup_ecr_repo}:{my_image_name}\"},\n",
    "    project_uid=project_uid,\n",
    "    input_data_schema_uids=[data_schema_uid],\n",
    "    output_data_schema_uids=[data_schema_uid, data_schema_uid],\n",
    ")\n",
    "model = session.aimodel.create_aimodel(creation_params)\n",
    "model"
   ]
  },
  {
   "cell_type": "markdown",
   "id": "6b79a909",
   "metadata": {},
   "source": [
    "### Run the model on the input cohort and print the results"
   ]
  },
  {
   "cell_type": "code",
   "execution_count": null,
   "id": "8100b5c4",
   "metadata": {},
   "outputs": [],
   "source": [
    "input_cohort_uid = \"d2e73263-b6a2-4bbc-ad00-3bcc7225bdd0\"  # Replace with cohort UID\n",
    "run_params = AIModelMultiCohortInput(\n",
    "    aimodel_uid= model.uid,\n",
    "    input_cohort_uids=[[input_cohort_uid]],\n",
    "    output_cohort_naming_templates=['{{ input_cohort_names.0 }} - Train', '{{ input_cohort_names.0 }} - Test'],\n",
    "    timeout_seconds=300,\n",
    ")\n",
    "print(\"Starting to run train_test_split\")\n",
    "model_run = session.aimodel.run_aimodel(run_params)\n",
    "run_result = model_run.wait_for_completion()\n",
    "print(\"Finished running train_test_split\")\n",
    "print(f\"Result status is '{run_result.status.value}', errors={run_result.result_info.get('errors') if run_result.result_info else None}\")"
   ]
  },
  {
   "cell_type": "code",
   "execution_count": null,
   "id": "b6975dfe",
   "metadata": {},
   "outputs": [],
   "source": []
  }
 ],
 "metadata": {
  "kernelspec": {
   "display_name": "Python 3 (ipykernel)",
   "language": "python",
   "name": "python3"
  },
  "language_info": {
   "codemirror_mode": {
    "name": "ipython",
    "version": 3
   },
   "file_extension": ".py",
   "mimetype": "text/x-python",
   "name": "python",
   "nbconvert_exporter": "python",
   "pygments_lexer": "ipython3",
   "version": "3.9.7"
  }
 },
 "nbformat": 4,
 "nbformat_minor": 5
}
