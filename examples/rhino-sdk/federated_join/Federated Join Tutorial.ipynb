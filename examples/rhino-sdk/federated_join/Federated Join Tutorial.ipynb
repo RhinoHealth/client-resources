{
 "cells": [
  {
   "cell_type": "markdown",
   "id": "752abb11",
   "metadata": {},
   "source": [
    "# Example: Federated Join\n",
    "Federated Join is a feature which allows SQL JOIN-like queries on data as if you had access to the data locally.\n",
    "\n",
    "The **Centralized Result** is the result we would have gotten if we had the data in one location.  \n",
    "The **Federated Result** is the result we get when we calculate the same metric in Federated fashion.\n",
    "\n",
    "Federated Join can be performed in two modes:  \n",
    "**Intersection Mode** Similar to a SQL LEFT INNER JOIN query  \n",
    "**Union Mode**  Similar to a SQL FULL OUTER JOIN query  \n",
    "\n",
    "\n",
    "### Load all necessary libraries, including 'rhino_health'"
   ]
  },
  {
   "cell_type": "code",
   "execution_count": 106,
   "id": "3b107de9",
   "metadata": {
    "pycharm": {
     "name": "#%%\n"
    },
    "scrolled": true
   },
   "outputs": [],
   "source": [
    "import os\n",
    "import sys \n",
    "from getpass import getpass, getuser\n",
    "\n",
    "import rhino_health"
   ]
  },
  {
   "cell_type": "markdown",
   "id": "4148b094",
   "metadata": {},
   "source": [
    "### Log in to the Rhino Health Platform\n",
    "\n",
    "**Note: Replace \"my_username\" with your Rhino Health username.**"
   ]
  },
  {
   "cell_type": "code",
   "execution_count": null,
   "id": "a339785e",
   "metadata": {},
   "outputs": [],
   "source": [
    "print(\"Logging In\")\n",
    "my_username = \"my_email@example.com\" # Replace this with the email you use to log into Rhino Health\n",
    "\n",
    "my_password = getpass()\n",
    "session = rhino_health.login(username=my_username, password=my_password, show_traceback=True)\n",
    "\n",
    "print(\"Logged In\")"
   ]
  },
  {
   "cell_type": "markdown",
   "id": "59adf095",
   "metadata": {},
   "source": [
    "# Intersection Mode\n",
    "\n",
    "The data we are interested in lives at two different sites.  \n",
    "Site 1 has Patient Identifier, Age, and Blood type. You can view the data in `./FederatedJoinFilterCohort.csv`  \n",
    "Site 2 has Patient Identifer, Gender, SpO2, and Age values. You can view the data in `./FederatedJoinDataCohort.csv`  \n",
    "\n",
    "*Note: Patient Age between Site 1 and Site 2 do not match to simulate data discrepancies.*\n",
    "\n",
    "Intersection Mode allows us to perform a LEFT INNER JOIN between the two datasets. This join returns results for entries which intersect both datasets, as shown below.\n",
    "\n",
    "<img src=\"left_join.png\" width=\"200\">"
   ]
  },
  {
   "cell_type": "markdown",
   "id": "e6b35c0c",
   "metadata": {},
   "source": [
    "### Setup Sample Project\n",
    "Create the project our example will go under\n",
    "\n",
    "**Note: Replace \"WORKGROUP_UID\" with your Rhino Health Workgroup UID.**"
   ]
  },
  {
   "cell_type": "code",
   "execution_count": null,
   "id": "3fbfe389",
   "metadata": {
    "pycharm": {
     "name": "#%%\n"
    }
   },
   "outputs": [],
   "source": [
    "WORKGROUP_UID = \"XXXXXXXX-XXXX-XXXX-XXXX-XXXXXXXXXXXX\"  # Replace this with your workgroup UID\n",
    "\n",
    "from rhino_health.lib.endpoints.project.project_dataclass import ProjectCreateInput\n",
    "\n",
    "new_project = ProjectCreateInput(\n",
    "    name=\"Federated Join Metrics\",\n",
    "    description=\"Example Project for Federated Join\",\n",
    "    type=\"Validation\",\n",
    "    primary_workgroup_uid=WORKGROUP_UID,\n",
    ")\n",
    "project = session.project.add_project(new_project)"
   ]
  },
  {
   "cell_type": "markdown",
   "id": "3bf18eff",
   "metadata": {},
   "source": [
    "### Setup Sample Dataschema\n",
    "Create the dataschema for our data\n",
    "\n",
    "*Note: You can also use inferred data schemas if you do not have one provided*"
   ]
  },
  {
   "cell_type": "code",
   "execution_count": null,
   "id": "c809e88c",
   "metadata": {
    "pycharm": {
     "name": "#%%\n"
    },
    "scrolled": true
   },
   "outputs": [],
   "source": [
    "from rhino_health.lib.endpoints.data_schema.data_schema_dataclass import DataschemaCreateInput\n",
    "\n",
    "dataschema_input = DataschemaCreateInput(\n",
    "    name=\"Federated Join Input Schema\",\n",
    "    description=\"Federated Join Input Schema\",\n",
    "    primary_workgroup_uid=WORKGROUP_UID,\n",
    "    projects=[project.uid],\n",
    "    file_path=\"./FederatedDataSchema.csv\",\n",
    ")\n",
    "dataschema = session.data_schema.create_data_schema(dataschema_input)\n",
    "data_schema_uid = dataschema.uid"
   ]
  },
  {
   "cell_type": "markdown",
   "id": "53f6a93a",
   "metadata": {},
   "source": [
    "### Import Cohorts\n",
    "Import the cohorts to be used. You will need to upload the sample CSVs included in this tutorial to your on-prem agent.\n",
    "\n",
    "**Note: Replace \"DATA_LOCATION\" with the location you uploaded the example cohort data.**\n",
    "\n",
    "#### Import Filter Cohort\n",
    "\n",
    "The **Filter Cohort** is represented by the right side B in the Join Diagram below. It is where our **Unique Identifiers** live. **Unique Identifiers** are deidentified identifiers that exist in both datasets. We perform filter operations on this cohort to be used later when fetching the data.\n",
    "\n",
    "<img src=\"left_join.png\" width=\"200\">"
   ]
  },
  {
   "cell_type": "code",
   "execution_count": null,
   "id": "fd92c643",
   "metadata": {},
   "outputs": [],
   "source": [
    "DATA_LOCATION = \"/rhino_data\"  # Replace me with the folder path to where you uploaded the sample data\n",
    "\n",
    "from rhino_health.lib.endpoints.cohort.cohort_dataclass import CohortCreateInput\n",
    "\n",
    "filter_cohort_input = CohortCreateInput(\n",
    "    name=\"Blood Test Results\",\n",
    "    description=\"Identifiers with Blood Type, No SPO2 or Gender\",\n",
    "    project_uid=project.uid,\n",
    "    workgroup_uid=WORKGROUP_UID,\n",
    "    data_schema_uid=data_schema_uid,\n",
    "    csv_filesystem_location=f\"{DATA_LOCATION}/FederatedJoinFilterCohort.csv\",\n",
    "    image_filesystem_location=\"\",\n",
    "    method=\"filesystem\",\n",
    "    is_data_deidentified=True,\n",
    "    file_base_path=\"\",\n",
    ")\n",
    "filter_cohort_at_site_1 = session.cohort.add_cohort(filter_cohort_input)\n",
    "\n",
    "print(filter_cohort_at_site1.dict(include={'uid', 'import_status'}))"
   ]
  },
  {
   "cell_type": "markdown",
   "id": "0814d654",
   "metadata": {},
   "source": [
    "#### Import Data Cohort\n",
    "\n",
    "The **Data Cohort** is represented by the left side A in the Join Diagram below. It is where the data we are interested in lives. Using the **Unique Identifiers** we found in the earlier Filter Cohort, we get results which match the metric specification.\n",
    "\n",
    "<img src=\"left_join.png\" width=\"200\">\n",
    "\n",
    "*Note: For this tutorial we are only using one on-prem agent. If you have multiple agents, replace WORKGROUP_UID with your second agent's Workgroup UID.*"
   ]
  },
  {
   "cell_type": "code",
   "execution_count": null,
   "id": "7e4f269c",
   "metadata": {},
   "outputs": [],
   "source": [
    "first_data_cohort_input = CohortCreateInput(\n",
    "    name=\"SpO2 Values on 1/1\",\n",
    "    description=\"Identifiers with SPO2 and Gender no Blood Type\",\n",
    "    project_uid=project.uid,\n",
    "    workgroup_uid=WORKGROUP_UID,\n",
    "    data_schema_uid=data_schema_uid,\n",
    "    csv_filesystem_location=f\"{DATA_LOCATION}/FederatedJoinDataCohort.csv\",\n",
    "    image_filesystem_location=\"\",\n",
    "    method=\"filesystem\",\n",
    "    is_data_deidentified=True,\n",
    "    file_base_path=\"\",\n",
    ")\n",
    "first_data_cohort_at_site2 = session.cohort.add_cohort(first_data_cohort_input)\n",
    "\n",
    "print(first_data_cohort_at_site2.dict(include={'uid', 'import_status'}))"
   ]
  },
  {
   "cell_type": "markdown",
   "id": "015b036f",
   "metadata": {},
   "source": [
    "The followin"
   ]
  },
  {
   "cell_type": "code",
   "execution_count": null,
   "id": "ae4fe67d",
   "metadata": {
    "pycharm": {
     "name": "#%%\n"
    }
   },
   "outputs": [],
   "source": [
    "from rhino_health.lib.metrics import Count, Mean, StandardDeviation"
   ]
  },
  {
   "cell_type": "markdown",
   "id": "efddb542",
   "metadata": {},
   "source": [
    "### Federated Mean\n",
    "\n",
    "Let's start with a simple example. We will get mean SpO2 data for patients greater than 35 years old. In our initial query, we will trust Site 1's Age data over what is in Site 2."
   ]
  },
  {
   "cell_type": "code",
   "execution_count": null,
   "id": "0da2aa6e",
   "metadata": {
    "pycharm": {
     "name": "#%%\n"
    }
   },
   "outputs": [],
   "source": [
    "print(\"SpO2 values in data cohort for patients > 35 years old\")\n",
    "configuration = Mean(\n",
    "    variable=\"SpO2\",\n",
    "    join_field={\"data_column\": \"UID\", \"filter_column\": \"Age\", \"filter_value\": 35, \"filter_type\": \">\"},\n",
    ")\n",
    "\n",
    "federated_results = session.project.joined_cohort_metric(\n",
    "    filter_cohorts=[filter_cohort_at_site1.uid],\n",
    "    data_cohorts=[first_data_cohort_at_site2.uid],\n",
    "    configuration=configuration\n",
    ")\n",
    "\n",
    "print(f\"Federated Mean {federated_results.output}\")"
   ]
  },
  {
   "cell_type": "markdown",
   "id": "7e4ca71c",
   "metadata": {},
   "source": [
    "We can compare **Federated Results** to the **Centralized Results** and verify that we get the same response."
   ]
  },
  {
   "cell_type": "code",
   "execution_count": null,
   "id": "4720426f",
   "metadata": {},
   "outputs": [],
   "source": [
    "import pandas as pd\n",
    "import numpy as np\n",
    "filter_df = pd.read_csv(\"./FederatedJoinFilterCohort.csv\")\n",
    "first_data_df = pd.read_csv(\"./FederatedJoinDataCohort.csv\")\n",
    "\n",
    "centralized_result = np.mean(first_data_df.SpO2[filter_df[\"Age\"] > 35])\n",
    "print(f\"Centralized Mean: {centralized_result}\")\n",
    "federated_result = federated_results.output['mean']\n",
    "print(f\"Results Match: {centralized_result == federated_result}\")"
   ]
  },
  {
   "cell_type": "markdown",
   "id": "362a4f33",
   "metadata": {},
   "source": [
    "We can also perform filters on the results. Here we can calculate the mean for male patients (data stored in Site 2)"
   ]
  },
  {
   "cell_type": "code",
   "execution_count": null,
   "id": "5a5a1784",
   "metadata": {
    "pycharm": {
     "name": "#%%\n"
    }
   },
   "outputs": [],
   "source": [
    "print(\"SpO2 values in data cohort for male patents > 35 years old\")\n",
    "\n",
    "configuration = Mean(\n",
    "    variable={\"data_column\": \"SpO2\", \"filter_column\": \"Gender\", \"filter_value\": \"m\", \"filter_type\": \"=\"},\n",
    "    join_field={\"data_column\": \"UID\", \"filter_column\": \"Age\", \"filter_value\": 35, \"filter_type\": \">\"},\n",
    ")\n",
    "\n",
    "federated_results = session.project.joined_cohort_metric(\n",
    "    filter_cohorts=[filter_cohort_at_site1.uid],\n",
    "    data_cohorts=[first_data_cohort_at_site2.uid],\n",
    "    configuration=configuration\n",
    ")\n",
    "\n",
    "federated_result = federated_results.output['mean']\n",
    "print(f\"Federated Mean: {federated_result}\")\n",
    "\n",
    "a = filter_df[\"Age\"] > 35\n",
    "b = first_data_df[\"Gender\"] == \"m\"\n",
    "centralized_result = np.mean(first_data_df.SpO2[a&b])\n",
    "print(f\"Centralized Mean: {centralized_result}\")\n",
    "print(f\"Results Match: {centralized_result == federated_result}\")"
   ]
  },
  {
   "cell_type": "markdown",
   "id": "8a6dbc25",
   "metadata": {},
   "source": [
    "Data can also be grouped by fields found in the Data Cohort (Site 2).  \n",
    "For example we can get results for both genders without specifying a specific gender.\n",
    "\n",
    "*Note: The field to group by must exist in the Data Cohort*"
   ]
  },
  {
   "cell_type": "code",
   "execution_count": null,
   "id": "dd9dac9c",
   "metadata": {},
   "outputs": [],
   "source": [
    "print(\"Works with grouping. SpO2 values for both genders >35 years old\")\n",
    "\n",
    "configuration = Mean(\n",
    "    variable=\"SpO2\",\n",
    "    join_field={\"data_column\": \"UID\", \"filter_column\": \"Age\", \"filter_value\": 35, \"filter_type\": \">\"},\n",
    "    group_by={\"groupings\": [\"Gender\"]},\n",
    ")\n",
    "\n",
    "federated_results = session.project.joined_cohort_metric(\n",
    "    filter_cohorts=[filter_cohort_at_site1.uid],\n",
    "    data_cohorts=[first_data_cohort_at_site2.uid],\n",
    "    configuration=configuration\n",
    ")\n",
    "\n",
    "print(f\"Federated Results by Gender: {federated_results.output}\")\n",
    "\n",
    "c = first_data_df[\"Gender\"] == \"f\"\n",
    "female_centralized_result = np.mean(first_data_df.SpO2[a&c])\n",
    "print(f\"New Results Match: {female_centralized_result == federated_results.output['f']['mean']}\")"
   ]
  },
  {
   "cell_type": "markdown",
   "id": "1193ad01",
   "metadata": {},
   "source": [
    "We can add additional filters as desired. For example, we can filter on Age in both datasets instead of only one. We can also add in filtering on Blood Type."
   ]
  },
  {
   "cell_type": "code",
   "execution_count": null,
   "id": "ede912ee",
   "metadata": {},
   "outputs": [],
   "source": [
    "print(\"Filtering on multiple data columns\")\n",
    "\n",
    "configuration = Mean(\n",
    "    variable=\"SpO2\",\n",
    "    join_field=\"UID\",\n",
    "    data_filters=[\n",
    "        {\n",
    "            \"filter_column\": \"Age\",\n",
    "            \"filter_value\": 35,\n",
    "            \"filter_type\": \">\",\n",
    "            # For intersection mode, if unspecified apples to both cohorts. \n",
    "        },\n",
    "        {\n",
    "            \"filter_column\": \"BloodType\",\n",
    "            \"filter_value\": \"a\",\n",
    "            \"filter_type\": \"=\",\n",
    "            \"filter_cohort\": filter_cohort_at_site1.uid,\n",
    "        },\n",
    "        {\n",
    "            \"filter_column\": \"Gender\",\n",
    "            \"filter_value\": \"m\",\n",
    "            \"filter_type\": \"=\",\n",
    "            \"filter_cohort\": first_data_cohort_at_site2.uid,\n",
    "        }\n",
    "    ],\n",
    ")\n",
    "\n",
    "federated_results = session.project.joined_cohort_metric(\n",
    "    filter_cohorts=[filter_cohort_at_site1.uid],\n",
    "    data_cohorts=[first_data_cohort_at_site2.uid],\n",
    "    configuration=configuration\n",
    ")\n",
    "print(f\"Federated Multi-Filter Mean: {federated_results.output}\")\n",
    "federated_result = federated_results.output['mean']\n",
    "\n",
    "a = filter_df[\"Age\"] > 35\n",
    "b = filter_df[\"BloodType\"] == \"a\"\n",
    "valid_uids = first_data_df.UID.isin(filter_df[a&b].UID)\n",
    "c = first_data_df[\"Age\"] > 35\n",
    "d = first_data_df[\"Gender\"] == \"m\"\n",
    "centralized_result = np.mean(first_data_df.SpO2[valid_uids&c&d])\n",
    "print(f\"Centralized Multi-Filter Mean: {centralized_result}\")\n",
    "print(f\"Results Match: {centralized_result == federated_result}\")"
   ]
  },
  {
   "cell_type": "markdown",
   "id": "aa2bd257",
   "metadata": {},
   "source": [
    "# Union Mode\n",
    "\n",
    "In this example use case, we have three datasets for the same metric.\n",
    "\n",
    "> - Current Latest SpO2 from Site 2 (From Intersection Example)\n",
    "> - Backup dataset with old SpO2 values. See `FederatedJoinUnionCohort1.csv`\n",
    "> - Separate initial diagnostics labratory where patients might have transferred from. See `FederatedJoinUnionCohort2.csv`\n",
    "\n",
    "Union Mode allows us to perform a FULL OUTER JOIN between the multiple datasets above. We can prefer data from our own dataset first as the most reliable to query for patient data first. If the patient is not found we fall back to the backup copy and finally the separate diagnostic lab. The results will be deduplicated which prevents double counting patients who may have seen multiple providers.\n",
    "\n",
    "<img src=\"full_outer_join.png\" width=\"200\">\n",
    "\n",
    "### Import Cohorts\n",
    "You will need to upload the sample CSVs included in this tutorial to your on-prem agent just like before.\n",
    "\n",
    "*Note: In Union Mode, all cohorts are data cohorts.*"
   ]
  },
  {
   "cell_type": "code",
   "execution_count": null,
   "id": "8d0db548",
   "metadata": {},
   "outputs": [],
   "source": [
    "second_data_cohort_input = CohortCreateInput(\n",
    "    name=\"SpO2 Values (Old)\",\n",
    "    description=\"Identifiers with SPO2 and Gender no Blood Type\",\n",
    "    project_uid=project.uid,\n",
    "    workgroup_uid=WORKGROUP_UID,\n",
    "    data_schema_uid=data_schema_uid,\n",
    "    csv_filesystem_location=f\"{DATA_LOCATION}/FederatedJoinUnionCohort1.csv\",\n",
    "    image_filesystem_location=\"\",\n",
    "    method=\"filesystem\",\n",
    "    is_data_deidentified=True,\n",
    "    file_base_path=\"\",\n",
    ")\n",
    "second_data_cohort_old_values = session.cohort.add_cohort(second_data_cohort_input)\n",
    "\n",
    "third_data_cohort_input = CohortCreateInput(\n",
    "    name=\"SpO2 Values at Diagnostics Lab\",\n",
    "    description=\"Identifiers with SPO2 and Gender no Blood Type\",\n",
    "    project_uid=project.uid,\n",
    "    workgroup_uid=WORKGROUP_UID,\n",
    "    data_schema_uid=data_schema_uid,\n",
    "    csv_filesystem_location=f\"{DATA_LOCATION}/FederatedJoinUnionCohort2.csv\",\n",
    "    image_filesystem_location=\"\",\n",
    "    method=\"filesystem\",\n",
    "    is_data_deidentified=True,\n",
    "    file_base_path=\"\",\n",
    ")\n",
    "third_data_cohort_at_lab = session.cohort.add_cohort(third_data_cohort_input)\n",
    "\n",
    "\n",
    "union_cohort_uids = [first_data_cohort_at_site2.uid, second_data_cohort_old_values.uid, third_data_cohort_at_lab.uid]\n",
    "\n",
    "print(union_cohort_uids)"
   ]
  },
  {
   "cell_type": "markdown",
   "id": "4f4a81da",
   "metadata": {},
   "source": [
    "Load the new cohorts for comparison between **Federated Results** and **Centralized Results**"
   ]
  },
  {
   "cell_type": "code",
   "execution_count": null,
   "id": "e6a93438",
   "metadata": {},
   "outputs": [],
   "source": [
    "second_data_df = pd.read_csv(\"./FederatedJoinUnionCohort1.csv\")\n",
    "third_data_df = pd.read_csv(\"./FederatedJoinUnionCohort2.csv\")"
   ]
  },
  {
   "cell_type": "markdown",
   "id": "8bb38e41",
   "metadata": {},
   "source": [
    "### Query Metric\n",
    "Once our data is ready, we can perform queries on it, using data_filters in any combination that is desired.\n",
    "\n",
    "*Note: In Union Mode, all cohorts are data cohorts.*"
   ]
  },
  {
   "cell_type": "code",
   "execution_count": null,
   "id": "06dcbcb8",
   "metadata": {
    "scrolled": true
   },
   "outputs": [],
   "source": [
    "print(\"Union mean using data filters\")\n",
    "\n",
    "configuration = Mean(\n",
    "    variable=\"SpO2\",\n",
    "    join_field=\"UID\",\n",
    "    join_mode=\"union\",\n",
    "    data_filters=[\n",
    "        {\n",
    "            \"filter_column\": \"Age\",\n",
    "            \"filter_value\": 35,\n",
    "            \"filter_type\": \">\",\n",
    "            # Applied to every Union cohort\n",
    "        },\n",
    "        {\n",
    "            \"filter_column\": \"Gender\",\n",
    "            \"filter_value\": \"m\",\n",
    "            \"filter_type\": \"=\",\n",
    "            \"filter_cohort\": second_data_cohort_old_values.uid,\n",
    "        },\n",
    "        {\n",
    "            \"filter_column\": \"Gender\",\n",
    "            \"filter_value\": \"f\",\n",
    "            \"filter_type\": \"=\",\n",
    "            \"filter_cohort\": third_data_cohort_at_lab.uid,\n",
    "        },\n",
    "    ],\n",
    ")\n",
    "\n",
    "federated_results = session.project.joined_cohort_metric(\n",
    "    data_cohorts=union_cohort_uids,\n",
    "    configuration=configuration\n",
    ")\n",
    "\n",
    "print(f\"Federated Union Mean: {federated_results.output}\")\n",
    "\n",
    "federated_result = federated_results.output['mean']\n",
    "\n",
    "one = first_data_df[(first_data_df.Age > 35)]\n",
    "two = second_data_df[(second_data_df.Age > 35) & (second_data_df.Gender == \"m\") & (~second_data_df.UID.isin(one.UID))]\n",
    "three = third_data_df[(third_data_df.Age > 35) & (third_data_df.Gender == \"f\") & (~third_data_df.UID.isin(two.UID)) & (~third_data_df.UID.isin(one.UID))]\n",
    "\n",
    "centralized_result = np.mean(pd.concat([one.SpO2, two.SpO2, three.SpO2]))\n",
    "\n",
    "print(f\"Centralized Union Mean: {centralized_result}\")\n",
    "print(f\"Results Match: {centralized_result == federated_result}\")\n",
    "            "
   ]
  },
  {
   "cell_type": "markdown",
   "id": "e7f96e93",
   "metadata": {},
   "source": [
    "We can also use shorthand FilterVariables instead of data_filters."
   ]
  },
  {
   "cell_type": "code",
   "execution_count": null,
   "id": "3b3a7446",
   "metadata": {
    "pycharm": {
     "name": "#%%\n"
    }
   },
   "outputs": [],
   "source": [
    "print(\"Union mean using FilterVariable Shorthand\")\n",
    "\n",
    "from rhino_health.lib.metrics.base_metric import JoinMode\n",
    "\n",
    "configuration = Mean(\n",
    "    variable={\"data_column\": \"SpO2\", \"filter_column\": \"Gender\", \"filter_value\": \"m\", \"filter_type\": \"=\"},\n",
    "    join_field={\"data_column\": \"UID\", \"filter_column\": \"Age\", \"filter_value\": 35, \"filter_type\": \">\"},\n",
    "    join_mode=JoinMode.UNION\n",
    ")\n",
    "\n",
    "federated_results = session.project.joined_cohort_metric(\n",
    "    data_cohorts=union_cohort_uids,\n",
    "    configuration=configuration\n",
    ")\n",
    "\n",
    "print(f\"Federated Union Mean: {federated_results.output}\")\n",
    "\n",
    "federated_result = federated_results.output['mean']\n",
    "\n",
    "one = first_data_df[(first_data_df.Age > 35) & (first_data_df.Gender == \"m\")]\n",
    "two = second_data_df[(second_data_df.Age > 35) & (second_data_df.Gender == \"m\") & (~second_data_df.UID.isin(one.UID))]\n",
    "three = third_data_df[(third_data_df.Age > 35) & (third_data_df.Gender == \"m\") & (~third_data_df.UID.isin(two.UID)) & (~third_data_df.UID.isin(one.UID))]\n",
    "\n",
    "centralized_result = np.mean(pd.concat([one.SpO2, two.SpO2, three.SpO2]))\n",
    "print(f\"Centralized Union Mean: {centralized_result}\")\n",
    "\n",
    "print(f\"Results Match: {centralized_result == federated_result}\")\n"
   ]
  },
  {
   "cell_type": "code",
   "execution_count": null,
   "id": "7cf20c00",
   "metadata": {},
   "outputs": [],
   "source": []
  }
 ],
 "metadata": {
  "kernelspec": {
   "display_name": "notebook",
   "language": "python",
   "name": "notebook"
  },
  "language_info": {
   "codemirror_mode": {
    "name": "ipython",
    "version": 3
   },
   "file_extension": ".py",
   "mimetype": "text/x-python",
   "name": "python",
   "nbconvert_exporter": "python",
   "pygments_lexer": "ipython3",
   "version": "3.10.13"
  }
 },
 "nbformat": 4,
 "nbformat_minor": 5
}
