{
 "cells": [
  {
   "cell_type": "code",
   "execution_count": 77,
   "id": "3b107de9",
   "metadata": {
    "pycharm": {
     "name": "#%%\n"
    },
    "scrolled": true
   },
   "outputs": [
    {
     "name": "stdout",
     "output_type": "stream",
     "text": [
      "Logging In\n",
      "········\n",
      "Logged In\n"
     ]
    }
   ],
   "source": [
    "import os\n",
    "import sys \n",
    "from getpass import getpass, getuser\n",
    "\n",
    "import rhino_health # Only need this in final version\n",
    "\n",
    "print(\"Logging In\")\n",
    "my_username = \"my_email@example.com\" # Replace this with the email you use to log into Rhino Health\n",
    "my_password = getpass()\n",
    "rhino_api_url= rhino_health.ApiEnvironment.PROD_API_URL\n",
    "session = rhino_health.login(username=my_username, password=my_password, rhino_api_url=rhino_api_url, show_traceback=True)\n",
    "\n",
    "print(\"Logged In\")"
   ]
  },
  {
   "cell_type": "markdown",
   "id": "59adf095",
   "metadata": {},
   "source": [
    "# Intersection Mode\n",
    "\n",
    "The data we are interested in lives at two different sites.\n",
    "Lahey has information about the patient, age and blood type\n",
    "MGH has the gender SpO2 values."
   ]
  },
  {
   "cell_type": "code",
   "execution_count": 94,
   "id": "c809e88c",
   "metadata": {
    "pycharm": {
     "name": "#%%\n"
    },
    "scrolled": true
   },
   "outputs": [
    {
     "name": "stdout",
     "output_type": "stream",
     "text": [
      "{'uid': 'cb0d29d8-4a86-4421-b6c9-8692ccffa063', 'import_status': 'Complete'}\n",
      "{'uid': '9c182ef9-1c4c-4591-935d-5ed8c6c2ec30', 'import_status': 'Complete'}\n"
     ]
    }
   ],
   "source": [
    "WORKGROUP_UID = \"e590e0fa-ae37-48b3-b50e-c232536cefab\"  # Replace this with your workgroup\n",
    "\n",
    "from rhino_health.lib.endpoints.cohort.cohort_dataclass import CohortCreateInput\n",
    "from rhino_health.lib.endpoints.data_schema.data_schema_dataclass import DataschemaCreateInput\n",
    "from rhino_health.lib.endpoints.project.project_dataclass import ProjectCreateInput\n",
    "from rhino_health.lib.metrics.basic import Mean, StandardDeviation\n",
    "\n",
    "new_project = ProjectCreateInput(\n",
    "    name=\"Federated Join Metrics\",\n",
    "    description=\"Example Project for Federated Join\",\n",
    "    type=\"Validation\",\n",
    "    primary_workgroup_uid=WORKGROUP_UID,\n",
    ")\n",
    "project = session.project.add_project(new_project)\n",
    "\n",
    "dataschema_input = DataschemaCreateInput(\n",
    "    name=\"Federated Join Input Schema\",\n",
    "    description=\"Federated Join Input Schema\",\n",
    "    primary_workgroup_uid=WORKGROUP_UID,\n",
    "    projects=[project.uid],\n",
    "    file_path=\"./FederatedDataSchema.csv\",\n",
    ")\n",
    "dataschema = session.data_schema.create_data_schema(dataschema_input)\n",
    "data_schema_uid = dataschema.uid\n",
    "\n",
    "filter_cohort_input = CohortCreateInput(\n",
    "    name=\"Blood Test Results\",\n",
    "    description=\"Identifiers with Blood Type, No SPO2 or Gender\",\n",
    "    project_uid=project.uid,\n",
    "    workgroup_uid=WORKGROUP_UID,\n",
    "    data_schema_uid=data_schema_uid,\n",
    "    csv_filesystem_location=\"./rhinoOnPrem/rhinoAgent/tests/test_data/FederatedJoinFilterCohort.csv\",\n",
    "    image_filesystem_location=\"\",\n",
    "    method=\"filesystem\",\n",
    "    is_data_deidentified=True,\n",
    "    file_base_path=\"\",\n",
    ")\n",
    "filter_cohort_at_lahey = session.cohort.add_cohort(filter_cohort_input)\n",
    "\n",
    "first_data_cohort_input = CohortCreateInput(\n",
    "    name=\"SpO2 Values on 1/1\",\n",
    "    description=\"Identifiers with SPO2 and Gender no Blood Type\",\n",
    "    project_uid=project.uid,\n",
    "    workgroup_uid=WORKGROUP_UID,\n",
    "    data_schema_uid=data_schema_uid,\n",
    "    csv_filesystem_location=\"./rhinoOnPrem/rhinoAgent/tests/test_data/FederatedJoinDataCohort.csv\",\n",
    "    image_filesystem_location=\"\",\n",
    "    method=\"filesystem\",\n",
    "    is_data_deidentified=True,\n",
    "    file_base_path=\"\",\n",
    ")\n",
    "first_data_cohort_at_mgh = session.cohort.add_cohort(first_data_cohort_input)\n",
    "\n",
    "print(filter_cohort_at_lahey.dict(include={'uid', 'import_status'}))\n",
    "print(first_data_cohort_at_mgh.dict(include={'uid', 'import_status'}))"
   ]
  },
  {
   "cell_type": "code",
   "execution_count": 95,
   "id": "ae4fe67d",
   "metadata": {
    "pycharm": {
     "name": "#%%\n"
    }
   },
   "outputs": [],
   "source": [
    "from rhino_health.lib.metrics import Count, Mean, StandardDeviation"
   ]
  },
  {
   "cell_type": "code",
   "execution_count": 96,
   "id": "0da2aa6e",
   "metadata": {
    "pycharm": {
     "name": "#%%\n"
    }
   },
   "outputs": [
    {
     "name": "stdout",
     "output_type": "stream",
     "text": [
      "SpO2 values in data cohort for patents > 35 years old\n",
      "{'mean': 1.0231055900621118}\n"
     ]
    }
   ],
   "source": [
    "print(\"SpO2 values in data cohort for patents > 35 years old\")\n",
    "configuration = Mean(\n",
    "    variable=\"SpO2\",\n",
    "    join_field={\"data_column\": \"UID\", \"filter_column\": \"Age\", \"filter_value\": 35, \"filter_type\": \">\"},\n",
    ")\n",
    "\n",
    "joined_results = session.project.joined_cohort_metric(\n",
    "    filter_cohorts=[filter_cohort_at_lahey.uid],\n",
    "    data_cohorts=[first_data_cohort_at_mgh.uid],\n",
    "    configuration=configuration\n",
    ")\n",
    "\n",
    "print(joined_results.output)"
   ]
  },
  {
   "cell_type": "markdown",
   "id": "7e4ca71c",
   "metadata": {},
   "source": [
    "We can compare the federated result to what we would have gotten if we ran this unfederated and see that we get the same response."
   ]
  },
  {
   "cell_type": "code",
   "execution_count": 97,
   "id": "4720426f",
   "metadata": {},
   "outputs": [
    {
     "name": "stdout",
     "output_type": "stream",
     "text": [
      "1.0231055900621118\n",
      "True\n"
     ]
    }
   ],
   "source": [
    "import pandas as pd\n",
    "import numpy as np\n",
    "filter_df = pd.read_csv(\"./FederatedJoinFilterCohort.csv\")\n",
    "first_data_df = pd.read_csv(\"./FederatedJoinDataCohort.csv\")\n",
    "\n",
    "centralized_result = np.mean(first_data_df.SpO2[filter_df[\"Age\"] > 35])\n",
    "print(centralized_result)\n",
    "federated_result = joined_results.output['mean']\n",
    "print(centralized_result == federated_result)"
   ]
  },
  {
   "cell_type": "code",
   "execution_count": 98,
   "id": "5a5a1784",
   "metadata": {
    "pycharm": {
     "name": "#%%\n"
    }
   },
   "outputs": [
    {
     "name": "stdout",
     "output_type": "stream",
     "text": [
      "SpO2 values in data cohort for male patents > 35 years old\n",
      "Federeated Mean: 1.0224691358024691\n",
      "Centralized Mean: 1.0224691358024691\n",
      "True\n"
     ]
    }
   ],
   "source": [
    "print(\"SpO2 values in data cohort for male patents > 35 years old\")\n",
    "\n",
    "configuration = Mean(\n",
    "    variable={\"data_column\": \"SpO2\", \"filter_column\": \"Gender\", \"filter_value\": \"m\", \"filter_type\": \"=\"},\n",
    "    join_field={\"data_column\": \"UID\", \"filter_column\": \"Age\", \"filter_value\": 35, \"filter_type\": \">\"},\n",
    ")\n",
    "\n",
    "joined_results = session.project.joined_cohort_metric(\n",
    "    filter_cohorts=[filter_cohort_at_lahey.uid],\n",
    "    data_cohorts=[first_data_cohort_at_mgh.uid],\n",
    "    configuration=configuration\n",
    ")\n",
    "\n",
    "federated_result = joined_results.output['mean']\n",
    "print(f\"Federeated Mean: {federated_result}\")\n",
    "\n",
    "a = filter_df[\"Age\"] > 35\n",
    "b = first_data_df[\"Gender\"] == \"m\"\n",
    "centralized_result = np.mean(first_data_df.SpO2[a&b])\n",
    "print(f\"Centralized Mean: {centralized_result}\")\n",
    "print(centralized_result == federated_result)"
   ]
  },
  {
   "cell_type": "code",
   "execution_count": 99,
   "id": "dd9dac9c",
   "metadata": {},
   "outputs": [
    {
     "name": "stdout",
     "output_type": "stream",
     "text": [
      "Works with grouping. SpO2 values for both genders >35 years old\n",
      "{'m': {'mean': 1.0224691358024691}, 'f': {'mean': 1.02375}}\n",
      "True\n"
     ]
    }
   ],
   "source": [
    "print(\"Works with grouping. SpO2 values for both genders >35 years old\")\n",
    "\n",
    "configuration = Mean(\n",
    "    variable=\"SpO2\",\n",
    "    join_field={\"data_column\": \"UID\", \"filter_column\": \"Age\", \"filter_value\": 35, \"filter_type\": \">\"},\n",
    "    group_by={\"groupings\": [\"Gender\"]},\n",
    ")\n",
    "\n",
    "joined_results = session.project.joined_cohort_metric(\n",
    "    filter_cohorts=[filter_cohort_at_lahey.uid],\n",
    "    data_cohorts=[first_data_cohort_at_mgh.uid],\n",
    "    configuration=configuration\n",
    ")\n",
    "\n",
    "print(joined_results.output)\n",
    "\n",
    "c = first_data_df[\"Gender\"] == \"f\"\n",
    "female_centralized_result = np.mean(first_data_df.SpO2[a&c])\n",
    "print(female_centralized_result == joined_results.output['f']['mean'])"
   ]
  },
  {
   "cell_type": "code",
   "execution_count": 100,
   "id": "ede912ee",
   "metadata": {},
   "outputs": [
    {
     "name": "stdout",
     "output_type": "stream",
     "text": [
      "Filtering on multiple data columns\n",
      "{'mean': 1.0492307692307692}\n",
      "1.0492307692307692\n",
      "True\n"
     ]
    }
   ],
   "source": [
    "print(\"Filtering on multiple data columns\")\n",
    "\n",
    "configuration = Mean(\n",
    "    variable=\"SpO2\",\n",
    "    join_field=\"UID\",\n",
    "    data_filters=[\n",
    "        {\n",
    "            \"filter_column\": \"Age\",\n",
    "            \"filter_value\": 35,\n",
    "            \"filter_type\": \">\",\n",
    "            # For intersection mode, if unspecified apples to both cohorts. \n",
    "        },\n",
    "        {\n",
    "            \"filter_column\": \"BloodType\",\n",
    "            \"filter_value\": \"a\",\n",
    "            \"filter_type\": \"=\",\n",
    "            \"filter_cohort\": filter_cohort_at_lahey.uid,\n",
    "        },\n",
    "        {\n",
    "            \"filter_column\": \"Gender\",\n",
    "            \"filter_value\": \"m\",\n",
    "            \"filter_type\": \"=\",\n",
    "            \"filter_cohort\": first_data_cohort_at_mgh.uid,\n",
    "        }\n",
    "    ],\n",
    ")\n",
    "\n",
    "joined_results = session.project.joined_cohort_metric(\n",
    "    filter_cohorts=[filter_cohort_at_lahey.uid],\n",
    "    data_cohorts=[first_data_cohort_at_mgh.uid],\n",
    "    configuration=configuration\n",
    ")\n",
    "print(joined_results.output)\n",
    "federated_result = joined_results.output['mean']\n",
    "\n",
    "a = filter_df[\"Age\"] > 35\n",
    "b = filter_df[\"BloodType\"] == \"a\"\n",
    "valid_uids = first_data_df.UID.isin(filter_df[a&b].UID)\n",
    "c = first_data_df[\"Age\"] > 35\n",
    "d = first_data_df[\"Gender\"] == \"m\"\n",
    "centralized_result = np.mean(first_data_df.SpO2[valid_uids&c&d])\n",
    "print(centralized_result)\n",
    "print(centralized_result == federated_result)"
   ]
  },
  {
   "cell_type": "markdown",
   "id": "aa2bd257",
   "metadata": {},
   "source": [
    "# Union Mode\n",
    "\n",
    "We have three datasets for the same metric.\n",
    "\n",
    "> - Current Latest SpO2 \n",
    "> - Backup dataset with old SpO2 values\n",
    "> - Separate initial diagnostics labratory where patients might have transferred from\n",
    "\n",
    "We want a deduplicated view of the data where we prefer using our own data first, and if the patient is not found we fall back to the other data sources"
   ]
  },
  {
   "cell_type": "code",
   "execution_count": 101,
   "id": "8d0db548",
   "metadata": {},
   "outputs": [
    {
     "name": "stdout",
     "output_type": "stream",
     "text": [
      "['9c182ef9-1c4c-4591-935d-5ed8c6c2ec30', 'c0c388cc-3673-4a9b-ad34-cf4044e73eec', '1ec801ed-a2bc-415e-9e08-46a436df95d3']\n"
     ]
    }
   ],
   "source": [
    "second_data_cohort_input = CohortCreateInput(\n",
    "    name=\"SpO2 Values (Old)\",\n",
    "    description=\"Identifiers with SPO2 and Gender no Blood Type\",\n",
    "    project_uid=project.uid,\n",
    "    workgroup_uid=WORKGROUP_UID,\n",
    "    data_schema_uid=data_schema_uid,\n",
    "    csv_filesystem_location=\"./rhinoOnPrem/rhinoAgent/tests/test_data/FederatedJoinUnionCohort1.csv\",\n",
    "    image_filesystem_location=\"\",\n",
    "    method=\"filesystem\",\n",
    "    is_data_deidentified=True,\n",
    "    file_base_path=\"\",\n",
    ")\n",
    "second_data_cohort_old_values = session.cohort.add_cohort(second_data_cohort_input)\n",
    "\n",
    "third_data_cohort_input = CohortCreateInput(\n",
    "    name=\"SpO2 Values at Diagnostics Lab\",\n",
    "    description=\"Identifiers with SPO2 and Gender no Blood Type\",\n",
    "    project_uid=project.uid,\n",
    "    workgroup_uid=WORKGROUP_UID,\n",
    "    data_schema_uid=data_schema_uid,\n",
    "    csv_filesystem_location=\"./rhinoOnPrem/rhinoAgent/tests/test_data/FederatedJoinUnionCohort2.csv\",\n",
    "    image_filesystem_location=\"\",\n",
    "    method=\"filesystem\",\n",
    "    is_data_deidentified=True,\n",
    "    file_base_path=\"\",\n",
    ")\n",
    "third_data_cohort_at_lab = session.cohort.add_cohort(third_data_cohort_input)\n",
    "\n",
    "\n",
    "union_cohort_uids = [first_data_cohort_at_mgh.uid, second_data_cohort_old_values.uid, third_data_cohort_at_lab.uid]\n",
    "\n",
    "print(union_cohort_uids)"
   ]
  },
  {
   "cell_type": "code",
   "execution_count": 102,
   "id": "e6a93438",
   "metadata": {},
   "outputs": [],
   "source": [
    "second_data_df = pd.read_csv(\"./FederatedJoinUnionCohort1.csv\")\n",
    "third_data_df = pd.read_csv(\"./FederatedJoinUnionCohort2.csv\")"
   ]
  },
  {
   "cell_type": "code",
   "execution_count": 103,
   "id": "06dcbcb8",
   "metadata": {
    "scrolled": true
   },
   "outputs": [
    {
     "name": "stdout",
     "output_type": "stream",
     "text": [
      "Union mean using data filters\n",
      "{'mean': 1.0182239382239384}\n",
      "1.0182239382239384\n",
      "True\n"
     ]
    }
   ],
   "source": [
    "print(\"Union mean using data filters\")\n",
    "\n",
    "configuration = Mean(\n",
    "    variable=\"SpO2\",\n",
    "    join_field=\"UID\",\n",
    "    join_mode=\"union\",\n",
    "    data_filters=[  # Data Filters are applied before any other operations\n",
    "        {\n",
    "            \"filter_column\": \"Age\",\n",
    "            \"filter_value\": 35,\n",
    "            \"filter_type\": \">\",\n",
    "            # Applied to every Union cohort\n",
    "        },\n",
    "        {\n",
    "            \"filter_column\": \"Gender\",\n",
    "            \"filter_value\": \"m\",\n",
    "            \"filter_type\": \"=\",\n",
    "            \"filter_cohort\": second_data_cohort_old_values.uid,\n",
    "        },\n",
    "        {\n",
    "            \"filter_column\": \"Gender\",\n",
    "            \"filter_value\": \"f\",\n",
    "            \"filter_type\": \"=\",\n",
    "            \"filter_cohort\": third_data_cohort_at_lab.uid,\n",
    "        },\n",
    "    ],\n",
    ")\n",
    "\n",
    "joined_results = session.project.joined_cohort_metric(\n",
    "    data_cohorts=union_cohort_uids,\n",
    "    configuration=configuration\n",
    ")\n",
    "\n",
    "print(joined_results.output)\n",
    "\n",
    "federated_result = joined_results.output['mean']\n",
    "\n",
    "one = first_data_df[(first_data_df.Age > 35)]\n",
    "two = second_data_df[(second_data_df.Age > 35) & (second_data_df.Gender == \"m\") & (~second_data_df.UID.isin(one.UID))]\n",
    "three = third_data_df[(third_data_df.Age > 35) & (third_data_df.Gender == \"f\") & (~third_data_df.UID.isin(two.UID)) & (~third_data_df.UID.isin(one.UID))]\n",
    "\n",
    "centralized_result = np.mean(pd.concat([one.SpO2, two.SpO2, three.SpO2]))\n",
    "\n",
    "print(centralized_result)\n",
    "print(centralized_result == federated_result)\n",
    "            "
   ]
  },
  {
   "cell_type": "code",
   "execution_count": 104,
   "id": "3b3a7446",
   "metadata": {
    "pycharm": {
     "name": "#%%\n"
    }
   },
   "outputs": [
    {
     "name": "stdout",
     "output_type": "stream",
     "text": [
      "Union mean using FilterVariable Shorthand\n",
      "{'mean': 1.0301869158878503}\n",
      "1.0301869158878503\n",
      "True\n"
     ]
    }
   ],
   "source": [
    "print(\"Union mean using FilterVariable Shorthand\")\n",
    "\n",
    "from rhino_health.lib.metrics.base_metric import JoinMode\n",
    "\n",
    "configuration = Mean(\n",
    "    variable={\"data_column\": \"SpO2\", \"filter_column\": \"Gender\", \"filter_value\": \"m\", \"filter_type\": \"=\"},\n",
    "    join_field={\"data_column\": \"UID\", \"filter_column\": \"Age\", \"filter_value\": 35, \"filter_type\": \">\"},\n",
    "    join_mode=JoinMode.UNION\n",
    ")\n",
    "\n",
    "joined_results = session.project.joined_cohort_metric(\n",
    "    data_cohorts=union_cohort_uids,\n",
    "    configuration=configuration\n",
    ")\n",
    "\n",
    "print(joined_results.output)\n",
    "\n",
    "federated_result = joined_results.output['mean']\n",
    "\n",
    "one = first_data_df[(first_data_df.Age > 35) & (first_data_df.Gender == \"m\")]\n",
    "two = second_data_df[(second_data_df.Age > 35) & (second_data_df.Gender == \"m\") & (~second_data_df.UID.isin(one.UID))]\n",
    "three = third_data_df[(third_data_df.Age > 35) & (third_data_df.Gender == \"m\") & (~third_data_df.UID.isin(two.UID)) & (~third_data_df.UID.isin(one.UID))]\n",
    "\n",
    "centralized_result = np.mean(pd.concat([one.SpO2, two.SpO2, three.SpO2]))\n",
    "print(centralized_result)\n",
    "\n",
    "print(centralized_result == federated_result)\n"
   ]
  },
  {
   "cell_type": "code",
   "execution_count": null,
   "id": "7cf20c00",
   "metadata": {},
   "outputs": [],
   "source": []
  }
 ],
 "metadata": {
  "kernelspec": {
   "display_name": "notebook",
   "language": "python",
   "name": "notebook"
  },
  "language_info": {
   "codemirror_mode": {
    "name": "ipython",
    "version": 3
   },
   "file_extension": ".py",
   "mimetype": "text/x-python",
   "name": "python",
   "nbconvert_exporter": "python",
   "pygments_lexer": "ipython3",
   "version": "3.10.13"
  }
 },
 "nbformat": 4,
 "nbformat_minor": 5
}
