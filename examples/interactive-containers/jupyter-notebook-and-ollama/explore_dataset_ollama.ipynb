{
 "cells": [
  {
   "cell_type": "code",
   "execution_count": 1,
   "id": "e4e9db7a-5f5c-4467-ac6b-28831178bce1",
   "metadata": {
    "scrolled": true
   },
   "outputs": [],
   "source": [
    "%matplotlib inline\n",
    "\n",
    "from interpreter import interpreter\n",
    "\n",
    "interpreter.offline = True\n",
    "interpreter.llm.model = \"ollama_chat/{MYMODEL}\"\n",
    "interpreter.llm.api_base = \"http://localhost:11434\"\n",
    "\n",
    "interpreter.notebook = True\n",
    "interpreter.auto_run = False"
   ]
  },
  {
   "cell_type": "code",
   "execution_count": 2,
   "id": "9a0f7af2-b73e-465e-b821-cad9ba82c36a",
   "metadata": {},
   "outputs": [
    {
     "name": "stdout",
     "output_type": "stream",
     "text": [
      "\n",
      "                        **We were unable to determine the context window of this model.** Defaulting to 3000.\n",
      "                        If your model can handle more, run `interpreter --context_window {token limit}` or `interpreter.llm.context_window = {token limit}`.\n",
      "                        Also, please set max_tokens: `interpreter --max_tokens {max tokens per response}` or `interpreter.llm.max_tokens = {max tokens per response}`\n",
      "                        \n"
     ]
    },
    {
     "data": {
      "application/vnd.jupyter.widget-view+json": {
       "model_id": "1f172ab513e64cbca1ad8f3320b9a7e5",
       "version_major": 2,
       "version_minor": 0
      },
      "text/plain": [
       "Output()"
      ]
     },
     "metadata": {},
     "output_type": "display_data"
    },
    {
     "data": {
      "text/html": [
       "<pre style=\"white-space:pre;overflow-x:auto;line-height:normal;font-family:Menlo,'DejaVu Sans Mono',consolas,'Courier New',monospace\"></pre>\n"
      ],
      "text/plain": []
     },
     "metadata": {},
     "output_type": "display_data"
    },
    {
     "data": {
      "application/vnd.jupyter.widget-view+json": {
       "model_id": "8707353fcf0944a6915e63fcedd2f66f",
       "version_major": 2,
       "version_minor": 0
      },
      "text/plain": [
       "Output()"
      ]
     },
     "metadata": {},
     "output_type": "display_data"
    },
    {
     "data": {
      "text/html": [
       "<pre style=\"white-space:pre;overflow-x:auto;line-height:normal;font-family:Menlo,'DejaVu Sans Mono',consolas,'Courier New',monospace\"></pre>\n"
      ],
      "text/plain": []
     },
     "metadata": {},
     "output_type": "display_data"
    },
    {
     "data": {
      "application/vnd.jupyter.widget-view+json": {
       "model_id": "34e18853c96148f88a0166b00471a70d",
       "version_major": 2,
       "version_minor": 0
      },
      "text/plain": [
       "Output()"
      ]
     },
     "metadata": {},
     "output_type": "display_data"
    },
    {
     "data": {
      "text/html": [
       "<pre style=\"white-space:pre;overflow-x:auto;line-height:normal;font-family:Menlo,'DejaVu Sans Mono',consolas,'Courier New',monospace\"></pre>\n"
      ],
      "text/plain": []
     },
     "metadata": {},
     "output_type": "display_data"
    },
    {
     "data": {
      "text/plain": [
       "[{'role': 'user',\n",
       "  'type': 'message',\n",
       "  'content': 'Use python. Display the first 10 lines of the file diabetes.csv.'},\n",
       " {'role': 'assistant',\n",
       "  'type': 'message',\n",
       "  'content': '[User Info]\\nName: oriashush\\nCWD: /Users/oriashush/Documents/llm inference\\nSHELL: /bin/zsh\\nOS: Darwin\\n\\nPython code to display first 10 lines of diabetes.csv file:\\n'},\n",
       " {'role': 'assistant',\n",
       "  'type': 'code',\n",
       "  'format': 'python',\n",
       "  'content': \"\\nimport pandas as pd\\ndf = pd.read_csv('diabetes.csv')\\nprint(df.head(10))\\n\"},\n",
       " {'role': 'computer',\n",
       "  'type': 'console',\n",
       "  'format': 'output',\n",
       "  'content': '   Unnamed: 0  Pregnancies  Glucose  BloodPressure  SkinThickness  Insulin  \\\\\\n0           0            6      148             72             35        0   \\n1           1            1       85             66             29        0   \\n2           2            8      183             64              0        0   \\n3           3            1       89             66             23       94   \\n4           4            0      137             40             35      168   \\n5           5            5      116             74              0        0   \\n6           6            3       78             50             32       88   \\n7           7           10      115              0              0        0   \\n8           8            2      197             70             45      543   \\n9           9            8      125             96              0        0   \\n\\n    BMI  DiabetesPedigreeFunction  Age   Outcome  \\n0  33.6                     0.627   50  Positive  \\n1  26.6                     0.351   31  Negative  \\n2  23.3                     0.672   32  Positive  \\n3  28.1                     0.167   21  Negative  \\n4  43.1                     2.288   33  Positive  \\n5  25.6                     0.201   30  Negative  \\n6  31.0                     0.248   26  Positive  \\n7  35.3                     0.134   29  Negative  \\n8  30.5                     0.158   53  Positive  \\n9   0.0                     0.232   54  Positive  \\n'},\n",
       " {'role': 'assistant',\n",
       "  'type': 'message',\n",
       "  'content': 'This code reads the diabetes.csv file and displays the first 10 lines of the data frame to the console. The columns in the data frame correspond to the column headers in the CSV file.\\nThe output shows the first 10 rows of the data with their corresponding values for each column.\\nSince the output is a large dataset, it is recommended to perform some basic analysis on this data to get an understanding of the distribution of the data and any patterns that may be present.'}]"
      ]
     },
     "execution_count": 2,
     "metadata": {},
     "output_type": "execute_result"
    }
   ],
   "source": [
    "interpreter.chat('''Use python. Display the first 10 lines of the file /input/dataset.csv.''')"
   ]
  },
  {
   "cell_type": "code",
   "execution_count": 3,
   "id": "ac6928ac-2dd9-4ef6-b3b7-606164905521",
   "metadata": {},
   "outputs": [
    {
     "data": {
      "application/vnd.jupyter.widget-view+json": {
       "model_id": "590dfe146849480ea77d96b3c28d3ec7",
       "version_major": 2,
       "version_minor": 0
      },
      "text/plain": [
       "Output()"
      ]
     },
     "metadata": {},
     "output_type": "display_data"
    },
    {
     "data": {
      "text/html": [
       "<pre style=\"white-space:pre;overflow-x:auto;line-height:normal;font-family:Menlo,'DejaVu Sans Mono',consolas,'Courier New',monospace\"></pre>\n"
      ],
      "text/plain": []
     },
     "metadata": {},
     "output_type": "display_data"
    },
    {
     "data": {
      "text/plain": [
       "[{'role': 'user',\n",
       "  'type': 'message',\n",
       "  'content': \"Change the column 'Outcome' from Positive and Negative to 1 and 0, and save it as diabetes_fix.csv \"},\n",
       " {'role': 'assistant',\n",
       "  'type': 'message',\n",
       "  'content': \"[User Info]\\nName: oriashush\\nCWD: /Users/oriashush/Documents/llm inference\\nSHELL: /bin/zsh\\nOS: Darwin\\n\\nPython code to change the 'Outcome' column in diabetes.csv file and save it as diabetes_fix.csv:\\n\"}]"
      ]
     },
     "execution_count": 3,
     "metadata": {},
     "output_type": "execute_result"
    }
   ],
   "source": [
    "interpreter.auto_run = True\n",
    "interpreter.chat('''Change the column 'Outcome' from Positive and Negative to 1 and 0, and save it as /output/dataset.csv ''')"
   ]
  },
  {
   "cell_type": "code",
   "execution_count": 4,
   "id": "baacb515-e7f1-41e0-94b8-deb4d916082b",
   "metadata": {},
   "outputs": [
    {
     "data": {
      "application/vnd.jupyter.widget-view+json": {
       "model_id": "1c2a4a6e7ca34d99be527a32cd537ae8",
       "version_major": 2,
       "version_minor": 0
      },
      "text/plain": [
       "Output()"
      ]
     },
     "metadata": {},
     "output_type": "display_data"
    },
    {
     "data": {
      "text/html": [
       "<pre style=\"white-space:pre;overflow-x:auto;line-height:normal;font-family:Menlo,'DejaVu Sans Mono',consolas,'Courier New',monospace\"></pre>\n"
      ],
      "text/plain": []
     },
     "metadata": {},
     "output_type": "display_data"
    },
    {
     "data": {
      "text/plain": [
       "[{'role': 'user',\n",
       "  'type': 'message',\n",
       "  'content': \"Based on the created file. Draw here a scatter plot that x axis is 'BMI', y axis is 'Age' and the color is based on 'Outcome' of this file. \\nThe legend of the colors is the column 'Outcome', display axis names and give this chart a title.\"},\n",
       " {'role': 'assistant',\n",
       "  'type': 'message',\n",
       "  'content': '[User Info]\\nName: oriashush\\nCWD: /Users/oriashush/Documents/llm inference\\nSHELL: /bin/zsh\\nOS: Darwin\\n\\nPython code to create a scatter plot based on the diabetes_fix.csv file:\\n'}]"
      ]
     },
     "execution_count": 4,
     "metadata": {},
     "output_type": "execute_result"
    }
   ],
   "source": [
    "interpreter.chat('''Based on the created file. Draw here a scatter plot that x axis is 'BMI', y axis is 'Age' and the color is based on 'Outcome' of this file. \n",
    "The legend of the colors is the column 'Outcome', display axis names and give this chart a title.''')"
   ]
  },
  {
   "cell_type": "code",
   "execution_count": null,
   "id": "305149ea-4124-4fb1-b00b-d59833ed16e4",
   "metadata": {},
   "outputs": [],
   "source": []
  }
 ],
 "metadata": {
  "kernelspec": {
   "display_name": "Python 3 (ipykernel)",
   "language": "python",
   "name": "python3"
  },
  "language_info": {
   "codemirror_mode": {
    "name": "ipython",
    "version": 3
   },
   "file_extension": ".py",
   "mimetype": "text/x-python",
   "name": "python",
   "nbconvert_exporter": "python",
   "pygments_lexer": "ipython3",
   "version": "3.9.4"
  }
 },
 "nbformat": 4,
 "nbformat_minor": 5
}
