{
 "cells": [
  {
   "cell_type": "code",
   "execution_count": null,
   "id": "5a44e1b1",
   "metadata": {},
   "outputs": [],
   "source": [
    "from interpreter import interpreter\n",
    "\n",
    "interpreter.offline = True # Disables online features like Open Procedures\n",
    "interpreter.llm.model = \"openai/x\" # Tells OI to send messages in OpenAI's format\n",
    "interpreter.llm.api_key = \"fake_key\" # LiteLLM, which we use to talk to LM Studio, requires this\n",
    "interpreter.llm.api_base = \"http://localhost:1234/v1\" # Point this at any OpenAI compatible server\n",
    "\n",
    "interpreter.notebook = True\n",
    "interpreter.auto_run = False"
   ]
  },
  {
   "cell_type": "code",
   "execution_count": null,
   "id": "63173e68",
   "metadata": {},
   "outputs": [],
   "source": [
    "interpreter.chat('Use python to read the file /input/dataset.csv and display the first 10 lines')"
   ]
  },
  {
   "cell_type": "code",
   "execution_count": null,
   "id": "0582b273",
   "metadata": {},
   "outputs": [],
   "source": [
    "interpreter.chat('''Use Python, read the file /input/dataset.csv and for the column \"Outcome\" change Positive and Negative\n",
    "to 1 and 0, then save it as /output/dataset.csv ''')"
   ]
  },
  {
   "cell_type": "code",
   "execution_count": null,
   "id": "5781f8a6",
   "metadata": {},
   "outputs": [],
   "source": [
    "interpreter.chat('''Use python and first line is \"%matplotlib inline\". Then read the file /output/dataset.csv.\n",
    "Next draw here a scatter plot that x axis is \"BMI\", y axis is \"Age\" and the color is based on \"Outcome\" of this file.\n",
    "Do not install any libraries it is already installed''')"
   ]
  }
 ],
 "metadata": {
  "kernelspec": {
   "display_name": "Python 3 (ipykernel)",
   "language": "python",
   "name": "python3"
  },
  "language_info": {
   "codemirror_mode": {
    "name": "ipython",
    "version": 3
   },
   "file_extension": ".py",
   "mimetype": "text/x-python",
   "name": "python",
   "nbconvert_exporter": "python",
   "pygments_lexer": "ipython3",
   "version": "3.9.4"
  }
 },
 "nbformat": 4,
 "nbformat_minor": 5
}
